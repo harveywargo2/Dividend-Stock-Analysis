{
 "cells": [
  {
   "cell_type": "markdown",
   "source": [
    "# Analysis of Purchase Lots"
   ],
   "metadata": {
    "collapsed": false,
    "pycharm": {
     "name": "#%% md\n"
    }
   }
  },
  {
   "cell_type": "code",
   "execution_count": 1,
   "outputs": [],
   "source": [
    "import pandas as pd\n",
    "import datetime\n",
    "\n",
    "Lot_Data = 'Data_Lots-.csv'\n",
    "Dividend_Data_Cy = 'Data_Div_Yield_Cy-.csv'\n",
    "DivPay_Data_Cy = 'Data_Dividends_Pay_Fy-.csv'\n",
    "today = datetime.date.today()\n",
    "dividend = 5.44\n",
    "price = 202.07\n",
    "lot_year = 2017\n",
    "div_paid = [] # Enter Total Dividends\n"
   ],
   "metadata": {
    "collapsed": false,
    "pycharm": {
     "name": "#%%\n"
    }
   }
  },
  {
   "cell_type": "code",
   "execution_count": 2,
   "outputs": [
    {
     "data": {
      "text/plain": "            Dividend  RecordDate     PayDate DividendType Currency\nExDate                                                            \n2024-10-31      1.36  2024-10-31  2024-11-12    Cash Div.      USD\n2024-07-31      1.30  2024-07-31  2024-08-13    Cash Div.      USD\n2024-05-07      1.30  2024-05-08  2024-05-21    Cash Div.      USD\n2024-01-30      1.30  2024-01-31  2024-02-13    Cash Div.      USD\n2023-10-30      1.30  2023-10-31  2023-11-14    Cash Div.      USD\n2023-07-28      1.24  2023-07-31  2023-08-15    Cash Div.      USD\n2023-05-05      1.24  2023-05-08  2023-05-16    Cash Div.      USD\n2023-01-30      1.24  2023-01-31  2023-02-14    Cash Div.      USD\n2022-10-28      1.24  2022-10-31  2022-11-15    Cash Div.      USD\n2022-07-29      1.15  2022-08-01  2022-08-16    Cash Div.      USD\n2022-05-06      1.15  2022-05-09  2022-05-17    Cash Div.      USD\n2022-01-28      1.15  2022-01-31  2022-02-07    Cash Div.      USD\n2021-10-29      1.15  2021-11-01  2021-11-15    Cash Div.      USD\n2021-07-23      1.02  2021-07-26  2021-08-09    Cash Div.      USD\n2021-04-30      1.02  2021-05-03  2021-05-17    Cash Div.      USD\n2021-01-29      1.02  2021-02-01  2021-02-08    Cash Div.      USD\n2020-10-29      1.02  2020-10-30  2020-11-16    Cash Div.      USD\n2020-07-30      0.90  2020-07-31  2020-08-17    Cash Div.      USD\n2020-05-01      0.90  2020-05-04  2020-05-18    Cash Div.      USD\n2020-01-30      0.90  2020-01-31  2020-02-10    Cash Div.      USD\n2019-10-30      0.90  2019-10-31  2019-11-18    Cash Div.      USD\n2019-07-30      0.77  2019-07-31  2019-08-12    Cash Div.      USD\n2019-05-03      0.77  2019-05-06  2019-05-20    Cash Div.      USD\n2019-01-30      0.77  2019-01-31  2019-02-11    Cash Div.      USD\n2018-10-30      0.77  2018-10-31  2018-11-19    Cash Div.      USD\n2018-07-30      0.62  2018-07-31  2018-08-13    Cash Div.      USD\n2018-05-04      0.62  2018-05-07  2018-05-21    Cash Div.      USD\n2018-01-30      0.62  2018-01-31  2018-02-12    Cash Div.      USD",
      "text/html": "<div>\n<style scoped>\n    .dataframe tbody tr th:only-of-type {\n        vertical-align: middle;\n    }\n\n    .dataframe tbody tr th {\n        vertical-align: top;\n    }\n\n    .dataframe thead th {\n        text-align: right;\n    }\n</style>\n<table border=\"1\" class=\"dataframe\">\n  <thead>\n    <tr style=\"text-align: right;\">\n      <th></th>\n      <th>Dividend</th>\n      <th>RecordDate</th>\n      <th>PayDate</th>\n      <th>DividendType</th>\n      <th>Currency</th>\n    </tr>\n    <tr>\n      <th>ExDate</th>\n      <th></th>\n      <th></th>\n      <th></th>\n      <th></th>\n      <th></th>\n    </tr>\n  </thead>\n  <tbody>\n    <tr>\n      <th>2024-10-31</th>\n      <td>1.36</td>\n      <td>2024-10-31</td>\n      <td>2024-11-12</td>\n      <td>Cash Div.</td>\n      <td>USD</td>\n    </tr>\n    <tr>\n      <th>2024-07-31</th>\n      <td>1.30</td>\n      <td>2024-07-31</td>\n      <td>2024-08-13</td>\n      <td>Cash Div.</td>\n      <td>USD</td>\n    </tr>\n    <tr>\n      <th>2024-05-07</th>\n      <td>1.30</td>\n      <td>2024-05-08</td>\n      <td>2024-05-21</td>\n      <td>Cash Div.</td>\n      <td>USD</td>\n    </tr>\n    <tr>\n      <th>2024-01-30</th>\n      <td>1.30</td>\n      <td>2024-01-31</td>\n      <td>2024-02-13</td>\n      <td>Cash Div.</td>\n      <td>USD</td>\n    </tr>\n    <tr>\n      <th>2023-10-30</th>\n      <td>1.30</td>\n      <td>2023-10-31</td>\n      <td>2023-11-14</td>\n      <td>Cash Div.</td>\n      <td>USD</td>\n    </tr>\n    <tr>\n      <th>2023-07-28</th>\n      <td>1.24</td>\n      <td>2023-07-31</td>\n      <td>2023-08-15</td>\n      <td>Cash Div.</td>\n      <td>USD</td>\n    </tr>\n    <tr>\n      <th>2023-05-05</th>\n      <td>1.24</td>\n      <td>2023-05-08</td>\n      <td>2023-05-16</td>\n      <td>Cash Div.</td>\n      <td>USD</td>\n    </tr>\n    <tr>\n      <th>2023-01-30</th>\n      <td>1.24</td>\n      <td>2023-01-31</td>\n      <td>2023-02-14</td>\n      <td>Cash Div.</td>\n      <td>USD</td>\n    </tr>\n    <tr>\n      <th>2022-10-28</th>\n      <td>1.24</td>\n      <td>2022-10-31</td>\n      <td>2022-11-15</td>\n      <td>Cash Div.</td>\n      <td>USD</td>\n    </tr>\n    <tr>\n      <th>2022-07-29</th>\n      <td>1.15</td>\n      <td>2022-08-01</td>\n      <td>2022-08-16</td>\n      <td>Cash Div.</td>\n      <td>USD</td>\n    </tr>\n    <tr>\n      <th>2022-05-06</th>\n      <td>1.15</td>\n      <td>2022-05-09</td>\n      <td>2022-05-17</td>\n      <td>Cash Div.</td>\n      <td>USD</td>\n    </tr>\n    <tr>\n      <th>2022-01-28</th>\n      <td>1.15</td>\n      <td>2022-01-31</td>\n      <td>2022-02-07</td>\n      <td>Cash Div.</td>\n      <td>USD</td>\n    </tr>\n    <tr>\n      <th>2021-10-29</th>\n      <td>1.15</td>\n      <td>2021-11-01</td>\n      <td>2021-11-15</td>\n      <td>Cash Div.</td>\n      <td>USD</td>\n    </tr>\n    <tr>\n      <th>2021-07-23</th>\n      <td>1.02</td>\n      <td>2021-07-26</td>\n      <td>2021-08-09</td>\n      <td>Cash Div.</td>\n      <td>USD</td>\n    </tr>\n    <tr>\n      <th>2021-04-30</th>\n      <td>1.02</td>\n      <td>2021-05-03</td>\n      <td>2021-05-17</td>\n      <td>Cash Div.</td>\n      <td>USD</td>\n    </tr>\n    <tr>\n      <th>2021-01-29</th>\n      <td>1.02</td>\n      <td>2021-02-01</td>\n      <td>2021-02-08</td>\n      <td>Cash Div.</td>\n      <td>USD</td>\n    </tr>\n    <tr>\n      <th>2020-10-29</th>\n      <td>1.02</td>\n      <td>2020-10-30</td>\n      <td>2020-11-16</td>\n      <td>Cash Div.</td>\n      <td>USD</td>\n    </tr>\n    <tr>\n      <th>2020-07-30</th>\n      <td>0.90</td>\n      <td>2020-07-31</td>\n      <td>2020-08-17</td>\n      <td>Cash Div.</td>\n      <td>USD</td>\n    </tr>\n    <tr>\n      <th>2020-05-01</th>\n      <td>0.90</td>\n      <td>2020-05-04</td>\n      <td>2020-05-18</td>\n      <td>Cash Div.</td>\n      <td>USD</td>\n    </tr>\n    <tr>\n      <th>2020-01-30</th>\n      <td>0.90</td>\n      <td>2020-01-31</td>\n      <td>2020-02-10</td>\n      <td>Cash Div.</td>\n      <td>USD</td>\n    </tr>\n    <tr>\n      <th>2019-10-30</th>\n      <td>0.90</td>\n      <td>2019-10-31</td>\n      <td>2019-11-18</td>\n      <td>Cash Div.</td>\n      <td>USD</td>\n    </tr>\n    <tr>\n      <th>2019-07-30</th>\n      <td>0.77</td>\n      <td>2019-07-31</td>\n      <td>2019-08-12</td>\n      <td>Cash Div.</td>\n      <td>USD</td>\n    </tr>\n    <tr>\n      <th>2019-05-03</th>\n      <td>0.77</td>\n      <td>2019-05-06</td>\n      <td>2019-05-20</td>\n      <td>Cash Div.</td>\n      <td>USD</td>\n    </tr>\n    <tr>\n      <th>2019-01-30</th>\n      <td>0.77</td>\n      <td>2019-01-31</td>\n      <td>2019-02-11</td>\n      <td>Cash Div.</td>\n      <td>USD</td>\n    </tr>\n    <tr>\n      <th>2018-10-30</th>\n      <td>0.77</td>\n      <td>2018-10-31</td>\n      <td>2018-11-19</td>\n      <td>Cash Div.</td>\n      <td>USD</td>\n    </tr>\n    <tr>\n      <th>2018-07-30</th>\n      <td>0.62</td>\n      <td>2018-07-31</td>\n      <td>2018-08-13</td>\n      <td>Cash Div.</td>\n      <td>USD</td>\n    </tr>\n    <tr>\n      <th>2018-05-04</th>\n      <td>0.62</td>\n      <td>2018-05-07</td>\n      <td>2018-05-21</td>\n      <td>Cash Div.</td>\n      <td>USD</td>\n    </tr>\n    <tr>\n      <th>2018-01-30</th>\n      <td>0.62</td>\n      <td>2018-01-31</td>\n      <td>2018-02-12</td>\n      <td>Cash Div.</td>\n      <td>USD</td>\n    </tr>\n  </tbody>\n</table>\n</div>"
     },
     "execution_count": 2,
     "metadata": {},
     "output_type": "execute_result"
    }
   ],
   "source": [
    "fwd_div_df = pd.read_csv(Dividend_Data_Cy, index_col='Date')\n",
    "lot_df = pd.read_csv(Lot_Data, index_col='Date')\n",
    "pay_df = pd.read_csv(DivPay_Data_Cy, index_col='ExDate')\n",
    "pay_df.index = pd.to_datetime(pay_df.index)\n",
    "pay_df = pay_df[pay_df.index.year > lot_year]\n",
    "\n",
    "fwd_div_df.index = pd.to_datetime(fwd_div_df.index)\n",
    "lot_df.index = pd.to_datetime(lot_df.index)\n",
    "\n",
    "pay_df\n",
    "\n"
   ],
   "metadata": {
    "collapsed": false,
    "pycharm": {
     "name": "#%%\n"
    }
   }
  },
  {
   "cell_type": "code",
   "execution_count": 3,
   "outputs": [],
   "source": [
    "join_df = lot_df.join(fwd_div_df)"
   ],
   "metadata": {
    "collapsed": false,
    "pycharm": {
     "name": "#%%\n"
    }
   }
  },
  {
   "cell_type": "code",
   "execution_count": 4,
   "outputs": [
    {
     "data": {
      "text/plain": "            Cost/Share  FwdDiv  FwdDivYield  CurrentDividend  BuyYear  \\\nDate                                                                    \n2023-11-13      145.84    5.20     0.035648             5.44     2023   \n2023-11-08      145.27    5.20     0.035808             5.44     2023   \n2023-02-23      169.43    4.96     0.028867             5.44     2023   \n2022-10-10      156.78    4.60     0.029339             5.44     2022   \n2022-07-11      153.36    4.60     0.029956             5.44     2022   \n2022-07-05      145.69    4.60     0.030852             5.44     2022   \n2020-03-10      105.97    3.60     0.032108             5.44     2020   \n2018-11-12       93.85    3.08     0.032952             5.44     2018   \n2018-10-30       91.97    3.08     0.033122             5.44     2018   \n2018-10-29       91.82    2.48     0.027501             5.44     2018   \n\n            CurrentYear  CurrentPrice  \nDate                                   \n2023-11-13         2024        202.07  \n2023-11-08         2024        202.07  \n2023-02-23         2024        202.07  \n2022-10-10         2024        202.07  \n2022-07-11         2024        202.07  \n2022-07-05         2024        202.07  \n2020-03-10         2024        202.07  \n2018-11-12         2024        202.07  \n2018-10-30         2024        202.07  \n2018-10-29         2024        202.07  ",
      "text/html": "<div>\n<style scoped>\n    .dataframe tbody tr th:only-of-type {\n        vertical-align: middle;\n    }\n\n    .dataframe tbody tr th {\n        vertical-align: top;\n    }\n\n    .dataframe thead th {\n        text-align: right;\n    }\n</style>\n<table border=\"1\" class=\"dataframe\">\n  <thead>\n    <tr style=\"text-align: right;\">\n      <th></th>\n      <th>Cost/Share</th>\n      <th>FwdDiv</th>\n      <th>FwdDivYield</th>\n      <th>CurrentDividend</th>\n      <th>BuyYear</th>\n      <th>CurrentYear</th>\n      <th>CurrentPrice</th>\n    </tr>\n    <tr>\n      <th>Date</th>\n      <th></th>\n      <th></th>\n      <th></th>\n      <th></th>\n      <th></th>\n      <th></th>\n      <th></th>\n    </tr>\n  </thead>\n  <tbody>\n    <tr>\n      <th>2023-11-13</th>\n      <td>145.84</td>\n      <td>5.20</td>\n      <td>0.035648</td>\n      <td>5.44</td>\n      <td>2023</td>\n      <td>2024</td>\n      <td>202.07</td>\n    </tr>\n    <tr>\n      <th>2023-11-08</th>\n      <td>145.27</td>\n      <td>5.20</td>\n      <td>0.035808</td>\n      <td>5.44</td>\n      <td>2023</td>\n      <td>2024</td>\n      <td>202.07</td>\n    </tr>\n    <tr>\n      <th>2023-02-23</th>\n      <td>169.43</td>\n      <td>4.96</td>\n      <td>0.028867</td>\n      <td>5.44</td>\n      <td>2023</td>\n      <td>2024</td>\n      <td>202.07</td>\n    </tr>\n    <tr>\n      <th>2022-10-10</th>\n      <td>156.78</td>\n      <td>4.60</td>\n      <td>0.029339</td>\n      <td>5.44</td>\n      <td>2022</td>\n      <td>2024</td>\n      <td>202.07</td>\n    </tr>\n    <tr>\n      <th>2022-07-11</th>\n      <td>153.36</td>\n      <td>4.60</td>\n      <td>0.029956</td>\n      <td>5.44</td>\n      <td>2022</td>\n      <td>2024</td>\n      <td>202.07</td>\n    </tr>\n    <tr>\n      <th>2022-07-05</th>\n      <td>145.69</td>\n      <td>4.60</td>\n      <td>0.030852</td>\n      <td>5.44</td>\n      <td>2022</td>\n      <td>2024</td>\n      <td>202.07</td>\n    </tr>\n    <tr>\n      <th>2020-03-10</th>\n      <td>105.97</td>\n      <td>3.60</td>\n      <td>0.032108</td>\n      <td>5.44</td>\n      <td>2020</td>\n      <td>2024</td>\n      <td>202.07</td>\n    </tr>\n    <tr>\n      <th>2018-11-12</th>\n      <td>93.85</td>\n      <td>3.08</td>\n      <td>0.032952</td>\n      <td>5.44</td>\n      <td>2018</td>\n      <td>2024</td>\n      <td>202.07</td>\n    </tr>\n    <tr>\n      <th>2018-10-30</th>\n      <td>91.97</td>\n      <td>3.08</td>\n      <td>0.033122</td>\n      <td>5.44</td>\n      <td>2018</td>\n      <td>2024</td>\n      <td>202.07</td>\n    </tr>\n    <tr>\n      <th>2018-10-29</th>\n      <td>91.82</td>\n      <td>2.48</td>\n      <td>0.027501</td>\n      <td>5.44</td>\n      <td>2018</td>\n      <td>2024</td>\n      <td>202.07</td>\n    </tr>\n  </tbody>\n</table>\n</div>"
     },
     "execution_count": 4,
     "metadata": {},
     "output_type": "execute_result"
    }
   ],
   "source": [
    "record_df = join_df.drop(['SharePrice','Dividend'], axis=1)\n",
    "record_df['CurrentDividend'] = dividend\n",
    "record_df['BuyYear'] = record_df.index.year\n",
    "record_df['CurrentYear'] = today.year\n",
    "record_df['CurrentPrice'] = price\n",
    "\n",
    "record_df"
   ],
   "metadata": {
    "collapsed": false,
    "pycharm": {
     "name": "#%%\n"
    }
   }
  },
  {
   "cell_type": "code",
   "execution_count": 9,
   "outputs": [
    {
     "data": {
      "text/plain": "            Cost/Share  FwdDiv  FwdDivYield  CurrentDividend  BuyYear  \\\nDate                                                                    \n2023-11-13      145.84    5.20     0.035648             5.44     2023   \n2023-11-08      145.27    5.20     0.035808             5.44     2023   \n2023-02-23      169.43    4.96     0.028867             5.44     2023   \n2022-10-10      156.78    4.60     0.029339             5.44     2022   \n2022-07-11      153.36    4.60     0.029956             5.44     2022   \n2022-07-05      145.69    4.60     0.030852             5.44     2022   \n2020-03-10      105.97    3.60     0.032108             5.44     2020   \n2018-11-12       93.85    3.08     0.032952             5.44     2018   \n2018-10-30       91.97    3.08     0.033122             5.44     2018   \n2018-10-29       91.82    2.48     0.027501             5.44     2018   \n\n            CurrentYear  CurrentPrice  TotDiv  EndValue  End/Begin    Period  \\\nDate                                                                           \n2023-11-13         2024        202.07    5.26    207.33   1.421626  1.000000   \n2023-11-08         2024        202.07    5.26    207.33   1.427205  1.000000   \n2023-02-23         2024        202.07    9.04    211.11   1.246001  1.000000   \n2022-10-10         2024        202.07   11.52    213.59   1.362355  0.500000   \n2022-07-11         2024        202.07   12.67    214.74   1.400235  0.500000   \n2022-07-05         2024        202.07   12.67    214.74   1.473952  0.500000   \n2020-03-10         2024        202.07   22.00    224.07   2.114466  0.250000   \n2018-11-12         2024        202.07   27.50    229.57   2.446137  0.166667   \n2018-10-30         2024        202.07   27.50    229.57   2.496140  0.166667   \n2018-10-29         2024        202.07   27.50    229.57   2.500218  0.166667   \n\n             CAGR  \nDate               \n2023-11-13  42.16  \n2023-11-08  42.72  \n2023-02-23  24.60  \n2022-10-10  16.72  \n2022-07-11  18.33  \n2022-07-05  21.41  \n2020-03-10  20.59  \n2018-11-12  16.08  \n2018-10-30  16.47  \n2018-10-29  16.50  ",
      "text/html": "<div>\n<style scoped>\n    .dataframe tbody tr th:only-of-type {\n        vertical-align: middle;\n    }\n\n    .dataframe tbody tr th {\n        vertical-align: top;\n    }\n\n    .dataframe thead th {\n        text-align: right;\n    }\n</style>\n<table border=\"1\" class=\"dataframe\">\n  <thead>\n    <tr style=\"text-align: right;\">\n      <th></th>\n      <th>Cost/Share</th>\n      <th>FwdDiv</th>\n      <th>FwdDivYield</th>\n      <th>CurrentDividend</th>\n      <th>BuyYear</th>\n      <th>CurrentYear</th>\n      <th>CurrentPrice</th>\n      <th>TotDiv</th>\n      <th>EndValue</th>\n      <th>End/Begin</th>\n      <th>Period</th>\n      <th>CAGR</th>\n    </tr>\n    <tr>\n      <th>Date</th>\n      <th></th>\n      <th></th>\n      <th></th>\n      <th></th>\n      <th></th>\n      <th></th>\n      <th></th>\n      <th></th>\n      <th></th>\n      <th></th>\n      <th></th>\n      <th></th>\n    </tr>\n  </thead>\n  <tbody>\n    <tr>\n      <th>2023-11-13</th>\n      <td>145.84</td>\n      <td>5.20</td>\n      <td>0.035648</td>\n      <td>5.44</td>\n      <td>2023</td>\n      <td>2024</td>\n      <td>202.07</td>\n      <td>5.26</td>\n      <td>207.33</td>\n      <td>1.421626</td>\n      <td>1.000000</td>\n      <td>42.16</td>\n    </tr>\n    <tr>\n      <th>2023-11-08</th>\n      <td>145.27</td>\n      <td>5.20</td>\n      <td>0.035808</td>\n      <td>5.44</td>\n      <td>2023</td>\n      <td>2024</td>\n      <td>202.07</td>\n      <td>5.26</td>\n      <td>207.33</td>\n      <td>1.427205</td>\n      <td>1.000000</td>\n      <td>42.72</td>\n    </tr>\n    <tr>\n      <th>2023-02-23</th>\n      <td>169.43</td>\n      <td>4.96</td>\n      <td>0.028867</td>\n      <td>5.44</td>\n      <td>2023</td>\n      <td>2024</td>\n      <td>202.07</td>\n      <td>9.04</td>\n      <td>211.11</td>\n      <td>1.246001</td>\n      <td>1.000000</td>\n      <td>24.60</td>\n    </tr>\n    <tr>\n      <th>2022-10-10</th>\n      <td>156.78</td>\n      <td>4.60</td>\n      <td>0.029339</td>\n      <td>5.44</td>\n      <td>2022</td>\n      <td>2024</td>\n      <td>202.07</td>\n      <td>11.52</td>\n      <td>213.59</td>\n      <td>1.362355</td>\n      <td>0.500000</td>\n      <td>16.72</td>\n    </tr>\n    <tr>\n      <th>2022-07-11</th>\n      <td>153.36</td>\n      <td>4.60</td>\n      <td>0.029956</td>\n      <td>5.44</td>\n      <td>2022</td>\n      <td>2024</td>\n      <td>202.07</td>\n      <td>12.67</td>\n      <td>214.74</td>\n      <td>1.400235</td>\n      <td>0.500000</td>\n      <td>18.33</td>\n    </tr>\n    <tr>\n      <th>2022-07-05</th>\n      <td>145.69</td>\n      <td>4.60</td>\n      <td>0.030852</td>\n      <td>5.44</td>\n      <td>2022</td>\n      <td>2024</td>\n      <td>202.07</td>\n      <td>12.67</td>\n      <td>214.74</td>\n      <td>1.473952</td>\n      <td>0.500000</td>\n      <td>21.41</td>\n    </tr>\n    <tr>\n      <th>2020-03-10</th>\n      <td>105.97</td>\n      <td>3.60</td>\n      <td>0.032108</td>\n      <td>5.44</td>\n      <td>2020</td>\n      <td>2024</td>\n      <td>202.07</td>\n      <td>22.00</td>\n      <td>224.07</td>\n      <td>2.114466</td>\n      <td>0.250000</td>\n      <td>20.59</td>\n    </tr>\n    <tr>\n      <th>2018-11-12</th>\n      <td>93.85</td>\n      <td>3.08</td>\n      <td>0.032952</td>\n      <td>5.44</td>\n      <td>2018</td>\n      <td>2024</td>\n      <td>202.07</td>\n      <td>27.50</td>\n      <td>229.57</td>\n      <td>2.446137</td>\n      <td>0.166667</td>\n      <td>16.08</td>\n    </tr>\n    <tr>\n      <th>2018-10-30</th>\n      <td>91.97</td>\n      <td>3.08</td>\n      <td>0.033122</td>\n      <td>5.44</td>\n      <td>2018</td>\n      <td>2024</td>\n      <td>202.07</td>\n      <td>27.50</td>\n      <td>229.57</td>\n      <td>2.496140</td>\n      <td>0.166667</td>\n      <td>16.47</td>\n    </tr>\n    <tr>\n      <th>2018-10-29</th>\n      <td>91.82</td>\n      <td>2.48</td>\n      <td>0.027501</td>\n      <td>5.44</td>\n      <td>2018</td>\n      <td>2024</td>\n      <td>202.07</td>\n      <td>27.50</td>\n      <td>229.57</td>\n      <td>2.500218</td>\n      <td>0.166667</td>\n      <td>16.50</td>\n    </tr>\n  </tbody>\n</table>\n</div>"
     },
     "execution_count": 9,
     "metadata": {},
     "output_type": "execute_result"
    }
   ],
   "source": [
    "record_df['TotDiv'] = div_paid\n",
    "record_df['EndValue'] = record_df['CurrentPrice'] + record_df['TotDiv']\n",
    "record_df['End/Begin'] = record_df['EndValue'] / record_df['Cost/Share']\n",
    "record_df['Period'] = 1 / (record_df['CurrentYear'] - record_df['BuyYear'])\n",
    "record_df['CAGR'] = round(((record_df['End/Begin'] ** record_df['Period']) - 1) * 100, 2)\n",
    "\n",
    "record_df"
   ],
   "metadata": {
    "collapsed": false,
    "pycharm": {
     "name": "#%%\n"
    }
   }
  },
  {
   "cell_type": "code",
   "execution_count": 12,
   "outputs": [
    {
     "name": "stderr",
     "output_type": "stream",
     "text": [
      "/var/folders/j5/3jkv197574n0l3hvczkvmbw00000gn/T/ipykernel_87336/1063397913.py:2: SettingWithCopyWarning: \n",
      "A value is trying to be set on a copy of a slice from a DataFrame.\n",
      "Try using .loc[row_indexer,col_indexer] = value instead\n",
      "\n",
      "See the caveats in the documentation: https://pandas.pydata.org/pandas-docs/stable/user_guide/indexing.html#returning-a-view-versus-a-copy\n",
      "  yoc_df['YOC'] = round(yoc_df['CurrentDividend'] / yoc_df['Cost/Share'] * 100, 2)\n"
     ]
    },
    {
     "data": {
      "text/plain": "            Cost/Share  CurrentDividend   YOC\nDate                                         \n2023-11-13      145.84             5.44  3.73\n2023-11-08      145.27             5.44  3.74\n2023-02-23      169.43             5.44  3.21\n2022-10-10      156.78             5.44  3.47\n2022-07-11      153.36             5.44  3.55\n2022-07-05      145.69             5.44  3.73\n2020-03-10      105.97             5.44  5.13\n2018-11-12       93.85             5.44  5.80\n2018-10-30       91.97             5.44  5.91\n2018-10-29       91.82             5.44  5.92",
      "text/html": "<div>\n<style scoped>\n    .dataframe tbody tr th:only-of-type {\n        vertical-align: middle;\n    }\n\n    .dataframe tbody tr th {\n        vertical-align: top;\n    }\n\n    .dataframe thead th {\n        text-align: right;\n    }\n</style>\n<table border=\"1\" class=\"dataframe\">\n  <thead>\n    <tr style=\"text-align: right;\">\n      <th></th>\n      <th>Cost/Share</th>\n      <th>CurrentDividend</th>\n      <th>YOC</th>\n    </tr>\n    <tr>\n      <th>Date</th>\n      <th></th>\n      <th></th>\n      <th></th>\n    </tr>\n  </thead>\n  <tbody>\n    <tr>\n      <th>2023-11-13</th>\n      <td>145.84</td>\n      <td>5.44</td>\n      <td>3.73</td>\n    </tr>\n    <tr>\n      <th>2023-11-08</th>\n      <td>145.27</td>\n      <td>5.44</td>\n      <td>3.74</td>\n    </tr>\n    <tr>\n      <th>2023-02-23</th>\n      <td>169.43</td>\n      <td>5.44</td>\n      <td>3.21</td>\n    </tr>\n    <tr>\n      <th>2022-10-10</th>\n      <td>156.78</td>\n      <td>5.44</td>\n      <td>3.47</td>\n    </tr>\n    <tr>\n      <th>2022-07-11</th>\n      <td>153.36</td>\n      <td>5.44</td>\n      <td>3.55</td>\n    </tr>\n    <tr>\n      <th>2022-07-05</th>\n      <td>145.69</td>\n      <td>5.44</td>\n      <td>3.73</td>\n    </tr>\n    <tr>\n      <th>2020-03-10</th>\n      <td>105.97</td>\n      <td>5.44</td>\n      <td>5.13</td>\n    </tr>\n    <tr>\n      <th>2018-11-12</th>\n      <td>93.85</td>\n      <td>5.44</td>\n      <td>5.80</td>\n    </tr>\n    <tr>\n      <th>2018-10-30</th>\n      <td>91.97</td>\n      <td>5.44</td>\n      <td>5.91</td>\n    </tr>\n    <tr>\n      <th>2018-10-29</th>\n      <td>91.82</td>\n      <td>5.44</td>\n      <td>5.92</td>\n    </tr>\n  </tbody>\n</table>\n</div>"
     },
     "execution_count": 12,
     "metadata": {},
     "output_type": "execute_result"
    }
   ],
   "source": [
    "yoc_df = record_df[['Cost/Share', 'CurrentDividend']]\n",
    "yoc_df['YOC'] = round(yoc_df['CurrentDividend'] / yoc_df['Cost/Share'] * 100, 2)\n",
    "\n",
    "yoc_df"
   ],
   "metadata": {
    "collapsed": false,
    "pycharm": {
     "name": "#%%\n"
    }
   }
  },
  {
   "cell_type": "code",
   "execution_count": null,
   "outputs": [],
   "source": [],
   "metadata": {
    "collapsed": false,
    "pycharm": {
     "name": "#%%\n"
    }
   }
  }
 ],
 "metadata": {
  "kernelspec": {
   "display_name": "Python 3",
   "language": "python",
   "name": "python3"
  },
  "language_info": {
   "codemirror_mode": {
    "name": "ipython",
    "version": 2
   },
   "file_extension": ".py",
   "mimetype": "text/x-python",
   "name": "python",
   "nbconvert_exporter": "python",
   "pygments_lexer": "ipython2",
   "version": "2.7.6"
  }
 },
 "nbformat": 4,
 "nbformat_minor": 0
}