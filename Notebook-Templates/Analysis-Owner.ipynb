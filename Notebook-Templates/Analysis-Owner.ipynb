{
 "cells": [
  {
   "cell_type": "markdown",
   "source": [
    "# Analysis of Owner Returns"
   ],
   "metadata": {
    "collapsed": false,
    "pycharm": {
     "name": "#%% md\n"
    }
   }
  },
  {
   "cell_type": "code",
   "execution_count": 1,
   "outputs": [],
   "source": [
    "import pandas as pd\n",
    "import datetime\n",
    "\n",
    "Owner_Data_Fy = 'Data_Owner_Fy-.csv'\n",
    "today = datetime.date.today()"
   ],
   "metadata": {
    "collapsed": false,
    "pycharm": {
     "name": "#%%\n"
    }
   }
  },
  {
   "cell_type": "markdown",
   "source": [
    "# WaterFall Analysis"
   ],
   "metadata": {
    "collapsed": false,
    "pycharm": {
     "name": "#%% md\n"
    }
   }
  },
  {
   "cell_type": "code",
   "execution_count": 2,
   "outputs": [
    {
     "data": {
      "text/plain": "            Revenue  FreeCashFlow  CashEquivalents  MarketSecurities  \\\nFiscalYear                                                             \n1984         5741.6           0.0            274.4               0.0   \n1985         4924.5           0.0            158.8               0.0   \n1986         4974.0           0.0            214.4               0.0   \n1987         5594.5           0.0            662.6               0.0   \n1988         6294.8           0.0            780.4               0.0   \n1989         6521.9         -64.0            418.2               0.0   \n1990         6567.0        -215.0            403.0               0.0   \n1991         6784.0         -87.0            452.0               0.0   \n1992         7440.0         372.0            356.0               0.0   \n1993         8523.0         204.0            404.0             484.0   \n1994         8608.0         512.0            760.0             530.0   \n1995        11409.0         316.0           1364.0             189.0   \n1996         9940.0       -1179.0            964.0              14.0   \n1997         9972.0         659.0           1015.0            2005.0   \n1998         8875.0         319.0            632.0            1709.0   \n1999         9759.0         959.0            781.0            2045.0   \n2000        11875.0        -577.0            745.0            3258.0   \n2001         8201.0          29.0            431.0            2513.0   \n2002         8383.0        1190.0            949.0            2063.0   \n2003         9834.0        1351.0           1818.0            2511.0   \n2004        11552.0        1886.0           2668.0            3690.0   \n2005        12335.0        2484.0           1214.0            4116.0   \n2006        14255.0        1188.0           1183.0            2534.0   \n2007        13835.0        3720.0           1328.0            1596.0   \n2008        12501.0        2567.0           1046.0            1494.0   \n2009        10427.0        1890.0           1182.0            1743.0   \n2010        13966.0        2621.0           1319.0            1753.0   \n2011        13735.0        2440.0            992.0            1943.0   \n2012        12825.0        2919.0           1416.0            2549.0   \n2013        12205.0        2972.0           1627.0            2202.0   \n2014        13045.0        3669.0           1199.0            2342.0   \n2015        13000.0        3846.0           1000.0            2218.0   \n2016        13370.0        4083.0           1154.0            2336.0   \n2017        14961.0        4668.0           1656.0            2813.0   \n2018        15784.0        6058.0           2438.0            1795.0   \n2019        14383.0        5802.0           2437.0            2950.0   \n2020        14461.0        5490.0           3107.0            3461.0   \n2021        18344.0        6294.0           4631.0            5108.0   \n2022        20028.0        5923.0           3050.0            6017.0   \n2023        17519.0        1349.0           2964.0            5611.0   \n\n            TreasuryStock  CashForDividends  StockIssuance  StockRepurchase  \nFiscalYear                                                                   \n1984                  0.0               0.0            0.0              0.0  \n1985                  0.0               0.0            0.0              0.0  \n1986                  0.0               0.0            0.0              0.0  \n1987                  0.0               0.0            0.0              0.0  \n1988                  0.0               0.0            0.0              0.0  \n1989                  0.0             -97.3           46.8              0.0  \n1990                  0.0             -94.0            8.0              0.0  \n1991                  0.0             -90.0          325.0           -225.0  \n1992                  0.0             -98.0           25.0           -146.0  \n1993                 -5.0             -86.0          100.0           -150.0  \n1994                 -6.0             -79.0          110.0              0.0  \n1995                -12.0            -111.0          111.0              0.0  \n1996                -12.0            -129.0           35.0              0.0  \n1997                -94.0            -131.0          151.0            -86.0  \n1998               -134.0            -133.0          154.0           -256.0  \n1999               -109.0            -134.0          225.0           -473.0  \n2000                -93.0            -141.0          242.0           -155.0  \n2001               -235.0            -147.0          183.0           -395.0  \n2002               -229.0            -147.0          167.0           -370.0  \n2003               -135.0            -147.0          157.0           -284.0  \n2004               -480.0            -154.0          192.0           -753.0  \n2005              -3856.0            -173.0          461.0          -4151.0  \n2006              -8430.0            -199.0          419.0          -5302.0  \n2007             -12160.0            -425.0          761.0          -4886.0  \n2008             -13814.0            -537.0          210.0          -2122.0  \n2009             -14549.0            -567.0          109.0           -954.0  \n2010             -16411.0            -592.0          407.0          -2454.0  \n2011             -17485.0            -644.0          690.0          -1973.0  \n2012             -18462.0            -819.0          523.0          -1800.0  \n2013             -19790.0           -1175.0         1314.0          -2868.0  \n2014             -21840.0           -1323.0          554.0          -2831.0  \n2015             -24068.0           -1444.0          396.0          -2741.0  \n2016             -25523.0           -1646.0          472.0          -2132.0  \n2017             -27458.0           -2104.0          483.0          -2556.0  \n2018             -32130.0           -2555.0          373.0          -5100.0  \n2019             -34495.0           -3008.0          539.0          -2960.0  \n2020             -36578.0           -3426.0          470.0          -2553.0  \n2021             -36800.0           -3886.0          377.0           -527.0  \n2022             -40214.0           -4297.0          241.0          -3615.0  \n2023             -40284.0           -4557.0          263.0           -293.0  ",
      "text/html": "<div>\n<style scoped>\n    .dataframe tbody tr th:only-of-type {\n        vertical-align: middle;\n    }\n\n    .dataframe tbody tr th {\n        vertical-align: top;\n    }\n\n    .dataframe thead th {\n        text-align: right;\n    }\n</style>\n<table border=\"1\" class=\"dataframe\">\n  <thead>\n    <tr style=\"text-align: right;\">\n      <th></th>\n      <th>Revenue</th>\n      <th>FreeCashFlow</th>\n      <th>CashEquivalents</th>\n      <th>MarketSecurities</th>\n      <th>TreasuryStock</th>\n      <th>CashForDividends</th>\n      <th>StockIssuance</th>\n      <th>StockRepurchase</th>\n    </tr>\n    <tr>\n      <th>FiscalYear</th>\n      <th></th>\n      <th></th>\n      <th></th>\n      <th></th>\n      <th></th>\n      <th></th>\n      <th></th>\n      <th></th>\n    </tr>\n  </thead>\n  <tbody>\n    <tr>\n      <th>1984</th>\n      <td>5741.6</td>\n      <td>0.0</td>\n      <td>274.4</td>\n      <td>0.0</td>\n      <td>0.0</td>\n      <td>0.0</td>\n      <td>0.0</td>\n      <td>0.0</td>\n    </tr>\n    <tr>\n      <th>1985</th>\n      <td>4924.5</td>\n      <td>0.0</td>\n      <td>158.8</td>\n      <td>0.0</td>\n      <td>0.0</td>\n      <td>0.0</td>\n      <td>0.0</td>\n      <td>0.0</td>\n    </tr>\n    <tr>\n      <th>1986</th>\n      <td>4974.0</td>\n      <td>0.0</td>\n      <td>214.4</td>\n      <td>0.0</td>\n      <td>0.0</td>\n      <td>0.0</td>\n      <td>0.0</td>\n      <td>0.0</td>\n    </tr>\n    <tr>\n      <th>1987</th>\n      <td>5594.5</td>\n      <td>0.0</td>\n      <td>662.6</td>\n      <td>0.0</td>\n      <td>0.0</td>\n      <td>0.0</td>\n      <td>0.0</td>\n      <td>0.0</td>\n    </tr>\n    <tr>\n      <th>1988</th>\n      <td>6294.8</td>\n      <td>0.0</td>\n      <td>780.4</td>\n      <td>0.0</td>\n      <td>0.0</td>\n      <td>0.0</td>\n      <td>0.0</td>\n      <td>0.0</td>\n    </tr>\n    <tr>\n      <th>1989</th>\n      <td>6521.9</td>\n      <td>-64.0</td>\n      <td>418.2</td>\n      <td>0.0</td>\n      <td>0.0</td>\n      <td>-97.3</td>\n      <td>46.8</td>\n      <td>0.0</td>\n    </tr>\n    <tr>\n      <th>1990</th>\n      <td>6567.0</td>\n      <td>-215.0</td>\n      <td>403.0</td>\n      <td>0.0</td>\n      <td>0.0</td>\n      <td>-94.0</td>\n      <td>8.0</td>\n      <td>0.0</td>\n    </tr>\n    <tr>\n      <th>1991</th>\n      <td>6784.0</td>\n      <td>-87.0</td>\n      <td>452.0</td>\n      <td>0.0</td>\n      <td>0.0</td>\n      <td>-90.0</td>\n      <td>325.0</td>\n      <td>-225.0</td>\n    </tr>\n    <tr>\n      <th>1992</th>\n      <td>7440.0</td>\n      <td>372.0</td>\n      <td>356.0</td>\n      <td>0.0</td>\n      <td>0.0</td>\n      <td>-98.0</td>\n      <td>25.0</td>\n      <td>-146.0</td>\n    </tr>\n    <tr>\n      <th>1993</th>\n      <td>8523.0</td>\n      <td>204.0</td>\n      <td>404.0</td>\n      <td>484.0</td>\n      <td>-5.0</td>\n      <td>-86.0</td>\n      <td>100.0</td>\n      <td>-150.0</td>\n    </tr>\n    <tr>\n      <th>1994</th>\n      <td>8608.0</td>\n      <td>512.0</td>\n      <td>760.0</td>\n      <td>530.0</td>\n      <td>-6.0</td>\n      <td>-79.0</td>\n      <td>110.0</td>\n      <td>0.0</td>\n    </tr>\n    <tr>\n      <th>1995</th>\n      <td>11409.0</td>\n      <td>316.0</td>\n      <td>1364.0</td>\n      <td>189.0</td>\n      <td>-12.0</td>\n      <td>-111.0</td>\n      <td>111.0</td>\n      <td>0.0</td>\n    </tr>\n    <tr>\n      <th>1996</th>\n      <td>9940.0</td>\n      <td>-1179.0</td>\n      <td>964.0</td>\n      <td>14.0</td>\n      <td>-12.0</td>\n      <td>-129.0</td>\n      <td>35.0</td>\n      <td>0.0</td>\n    </tr>\n    <tr>\n      <th>1997</th>\n      <td>9972.0</td>\n      <td>659.0</td>\n      <td>1015.0</td>\n      <td>2005.0</td>\n      <td>-94.0</td>\n      <td>-131.0</td>\n      <td>151.0</td>\n      <td>-86.0</td>\n    </tr>\n    <tr>\n      <th>1998</th>\n      <td>8875.0</td>\n      <td>319.0</td>\n      <td>632.0</td>\n      <td>1709.0</td>\n      <td>-134.0</td>\n      <td>-133.0</td>\n      <td>154.0</td>\n      <td>-256.0</td>\n    </tr>\n    <tr>\n      <th>1999</th>\n      <td>9759.0</td>\n      <td>959.0</td>\n      <td>781.0</td>\n      <td>2045.0</td>\n      <td>-109.0</td>\n      <td>-134.0</td>\n      <td>225.0</td>\n      <td>-473.0</td>\n    </tr>\n    <tr>\n      <th>2000</th>\n      <td>11875.0</td>\n      <td>-577.0</td>\n      <td>745.0</td>\n      <td>3258.0</td>\n      <td>-93.0</td>\n      <td>-141.0</td>\n      <td>242.0</td>\n      <td>-155.0</td>\n    </tr>\n    <tr>\n      <th>2001</th>\n      <td>8201.0</td>\n      <td>29.0</td>\n      <td>431.0</td>\n      <td>2513.0</td>\n      <td>-235.0</td>\n      <td>-147.0</td>\n      <td>183.0</td>\n      <td>-395.0</td>\n    </tr>\n    <tr>\n      <th>2002</th>\n      <td>8383.0</td>\n      <td>1190.0</td>\n      <td>949.0</td>\n      <td>2063.0</td>\n      <td>-229.0</td>\n      <td>-147.0</td>\n      <td>167.0</td>\n      <td>-370.0</td>\n    </tr>\n    <tr>\n      <th>2003</th>\n      <td>9834.0</td>\n      <td>1351.0</td>\n      <td>1818.0</td>\n      <td>2511.0</td>\n      <td>-135.0</td>\n      <td>-147.0</td>\n      <td>157.0</td>\n      <td>-284.0</td>\n    </tr>\n    <tr>\n      <th>2004</th>\n      <td>11552.0</td>\n      <td>1886.0</td>\n      <td>2668.0</td>\n      <td>3690.0</td>\n      <td>-480.0</td>\n      <td>-154.0</td>\n      <td>192.0</td>\n      <td>-753.0</td>\n    </tr>\n    <tr>\n      <th>2005</th>\n      <td>12335.0</td>\n      <td>2484.0</td>\n      <td>1214.0</td>\n      <td>4116.0</td>\n      <td>-3856.0</td>\n      <td>-173.0</td>\n      <td>461.0</td>\n      <td>-4151.0</td>\n    </tr>\n    <tr>\n      <th>2006</th>\n      <td>14255.0</td>\n      <td>1188.0</td>\n      <td>1183.0</td>\n      <td>2534.0</td>\n      <td>-8430.0</td>\n      <td>-199.0</td>\n      <td>419.0</td>\n      <td>-5302.0</td>\n    </tr>\n    <tr>\n      <th>2007</th>\n      <td>13835.0</td>\n      <td>3720.0</td>\n      <td>1328.0</td>\n      <td>1596.0</td>\n      <td>-12160.0</td>\n      <td>-425.0</td>\n      <td>761.0</td>\n      <td>-4886.0</td>\n    </tr>\n    <tr>\n      <th>2008</th>\n      <td>12501.0</td>\n      <td>2567.0</td>\n      <td>1046.0</td>\n      <td>1494.0</td>\n      <td>-13814.0</td>\n      <td>-537.0</td>\n      <td>210.0</td>\n      <td>-2122.0</td>\n    </tr>\n    <tr>\n      <th>2009</th>\n      <td>10427.0</td>\n      <td>1890.0</td>\n      <td>1182.0</td>\n      <td>1743.0</td>\n      <td>-14549.0</td>\n      <td>-567.0</td>\n      <td>109.0</td>\n      <td>-954.0</td>\n    </tr>\n    <tr>\n      <th>2010</th>\n      <td>13966.0</td>\n      <td>2621.0</td>\n      <td>1319.0</td>\n      <td>1753.0</td>\n      <td>-16411.0</td>\n      <td>-592.0</td>\n      <td>407.0</td>\n      <td>-2454.0</td>\n    </tr>\n    <tr>\n      <th>2011</th>\n      <td>13735.0</td>\n      <td>2440.0</td>\n      <td>992.0</td>\n      <td>1943.0</td>\n      <td>-17485.0</td>\n      <td>-644.0</td>\n      <td>690.0</td>\n      <td>-1973.0</td>\n    </tr>\n    <tr>\n      <th>2012</th>\n      <td>12825.0</td>\n      <td>2919.0</td>\n      <td>1416.0</td>\n      <td>2549.0</td>\n      <td>-18462.0</td>\n      <td>-819.0</td>\n      <td>523.0</td>\n      <td>-1800.0</td>\n    </tr>\n    <tr>\n      <th>2013</th>\n      <td>12205.0</td>\n      <td>2972.0</td>\n      <td>1627.0</td>\n      <td>2202.0</td>\n      <td>-19790.0</td>\n      <td>-1175.0</td>\n      <td>1314.0</td>\n      <td>-2868.0</td>\n    </tr>\n    <tr>\n      <th>2014</th>\n      <td>13045.0</td>\n      <td>3669.0</td>\n      <td>1199.0</td>\n      <td>2342.0</td>\n      <td>-21840.0</td>\n      <td>-1323.0</td>\n      <td>554.0</td>\n      <td>-2831.0</td>\n    </tr>\n    <tr>\n      <th>2015</th>\n      <td>13000.0</td>\n      <td>3846.0</td>\n      <td>1000.0</td>\n      <td>2218.0</td>\n      <td>-24068.0</td>\n      <td>-1444.0</td>\n      <td>396.0</td>\n      <td>-2741.0</td>\n    </tr>\n    <tr>\n      <th>2016</th>\n      <td>13370.0</td>\n      <td>4083.0</td>\n      <td>1154.0</td>\n      <td>2336.0</td>\n      <td>-25523.0</td>\n      <td>-1646.0</td>\n      <td>472.0</td>\n      <td>-2132.0</td>\n    </tr>\n    <tr>\n      <th>2017</th>\n      <td>14961.0</td>\n      <td>4668.0</td>\n      <td>1656.0</td>\n      <td>2813.0</td>\n      <td>-27458.0</td>\n      <td>-2104.0</td>\n      <td>483.0</td>\n      <td>-2556.0</td>\n    </tr>\n    <tr>\n      <th>2018</th>\n      <td>15784.0</td>\n      <td>6058.0</td>\n      <td>2438.0</td>\n      <td>1795.0</td>\n      <td>-32130.0</td>\n      <td>-2555.0</td>\n      <td>373.0</td>\n      <td>-5100.0</td>\n    </tr>\n    <tr>\n      <th>2019</th>\n      <td>14383.0</td>\n      <td>5802.0</td>\n      <td>2437.0</td>\n      <td>2950.0</td>\n      <td>-34495.0</td>\n      <td>-3008.0</td>\n      <td>539.0</td>\n      <td>-2960.0</td>\n    </tr>\n    <tr>\n      <th>2020</th>\n      <td>14461.0</td>\n      <td>5490.0</td>\n      <td>3107.0</td>\n      <td>3461.0</td>\n      <td>-36578.0</td>\n      <td>-3426.0</td>\n      <td>470.0</td>\n      <td>-2553.0</td>\n    </tr>\n    <tr>\n      <th>2021</th>\n      <td>18344.0</td>\n      <td>6294.0</td>\n      <td>4631.0</td>\n      <td>5108.0</td>\n      <td>-36800.0</td>\n      <td>-3886.0</td>\n      <td>377.0</td>\n      <td>-527.0</td>\n    </tr>\n    <tr>\n      <th>2022</th>\n      <td>20028.0</td>\n      <td>5923.0</td>\n      <td>3050.0</td>\n      <td>6017.0</td>\n      <td>-40214.0</td>\n      <td>-4297.0</td>\n      <td>241.0</td>\n      <td>-3615.0</td>\n    </tr>\n    <tr>\n      <th>2023</th>\n      <td>17519.0</td>\n      <td>1349.0</td>\n      <td>2964.0</td>\n      <td>5611.0</td>\n      <td>-40284.0</td>\n      <td>-4557.0</td>\n      <td>263.0</td>\n      <td>-293.0</td>\n    </tr>\n  </tbody>\n</table>\n</div>"
     },
     "execution_count": 2,
     "metadata": {},
     "output_type": "execute_result"
    }
   ],
   "source": [
    "owner_df = pd.read_csv(Owner_Data_Fy,index_col='FiscalYear')\n",
    "\n",
    "owner_df"
   ],
   "metadata": {
    "collapsed": false,
    "pycharm": {
     "name": "#%%\n"
    }
   }
  },
  {
   "cell_type": "markdown",
   "source": [
    "# Owner Returns"
   ],
   "metadata": {
    "collapsed": false,
    "pycharm": {
     "name": "#%% md\n"
    }
   }
  },
  {
   "cell_type": "code",
   "execution_count": 10,
   "outputs": [
    {
     "name": "stderr",
     "output_type": "stream",
     "text": [
      "/var/folders/j5/3jkv197574n0l3hvczkvmbw00000gn/T/ipykernel_84152/683626880.py:2: SettingWithCopyWarning: \n",
      "A value is trying to be set on a copy of a slice from a DataFrame.\n",
      "Try using .loc[row_indexer,col_indexer] = value instead\n",
      "\n",
      "See the caveats in the documentation: https://pandas.pydata.org/pandas-docs/stable/user_guide/indexing.html#returning-a-view-versus-a-copy\n",
      "  or_df['CashForDividends'] = or_df['CashForDividends'].abs()\n",
      "/var/folders/j5/3jkv197574n0l3hvczkvmbw00000gn/T/ipykernel_84152/683626880.py:3: SettingWithCopyWarning: \n",
      "A value is trying to be set on a copy of a slice from a DataFrame.\n",
      "Try using .loc[row_indexer,col_indexer] = value instead\n",
      "\n",
      "See the caveats in the documentation: https://pandas.pydata.org/pandas-docs/stable/user_guide/indexing.html#returning-a-view-versus-a-copy\n",
      "  or_df['StockNet'] = or_df['StockIssuance'] + or_df['StockRepurchase']\n",
      "/var/folders/j5/3jkv197574n0l3hvczkvmbw00000gn/T/ipykernel_84152/683626880.py:4: SettingWithCopyWarning: \n",
      "A value is trying to be set on a copy of a slice from a DataFrame.\n",
      "Try using .loc[row_indexer,col_indexer] = value instead\n",
      "\n",
      "See the caveats in the documentation: https://pandas.pydata.org/pandas-docs/stable/user_guide/indexing.html#returning-a-view-versus-a-copy\n",
      "  or_df['OwnerReturn'] = or_df['CashForDividends'] - or_df['StockNet']\n"
     ]
    },
    {
     "data": {
      "text/plain": "            Revenue  FreeCashFlow  CashForDividends  StockNet  OwnerReturn  \\\nFiscalYear                                                                   \n1984         5741.6           0.0               0.0       0.0          0.0   \n1985         4924.5           0.0               0.0       0.0          0.0   \n1986         4974.0           0.0               0.0       0.0          0.0   \n1987         5594.5           0.0               0.0       0.0          0.0   \n1988         6294.8           0.0               0.0       0.0          0.0   \n1989         6521.9         -64.0              97.3      46.8         50.5   \n1990         6567.0        -215.0              94.0       8.0         86.0   \n1991         6784.0         -87.0              90.0     100.0        -10.0   \n1992         7440.0         372.0              98.0    -121.0        219.0   \n1993         8523.0         204.0              86.0     -50.0        136.0   \n1994         8608.0         512.0              79.0     110.0        -31.0   \n1995        11409.0         316.0             111.0     111.0          0.0   \n1996         9940.0       -1179.0             129.0      35.0         94.0   \n1997         9972.0         659.0             131.0      65.0         66.0   \n1998         8875.0         319.0             133.0    -102.0        235.0   \n1999         9759.0         959.0             134.0    -248.0        382.0   \n2000        11875.0        -577.0             141.0      87.0         54.0   \n2001         8201.0          29.0             147.0    -212.0        359.0   \n2002         8383.0        1190.0             147.0    -203.0        350.0   \n2003         9834.0        1351.0             147.0    -127.0        274.0   \n2004        11552.0        1886.0             154.0    -561.0        715.0   \n2005        12335.0        2484.0             173.0   -3690.0       3863.0   \n2006        14255.0        1188.0             199.0   -4883.0       5082.0   \n2007        13835.0        3720.0             425.0   -4125.0       4550.0   \n2008        12501.0        2567.0             537.0   -1912.0       2449.0   \n2009        10427.0        1890.0             567.0    -845.0       1412.0   \n2010        13966.0        2621.0             592.0   -2047.0       2639.0   \n2011        13735.0        2440.0             644.0   -1283.0       1927.0   \n2012        12825.0        2919.0             819.0   -1277.0       2096.0   \n2013        12205.0        2972.0            1175.0   -1554.0       2729.0   \n2014        13045.0        3669.0            1323.0   -2277.0       3600.0   \n2015        13000.0        3846.0            1444.0   -2345.0       3789.0   \n2016        13370.0        4083.0            1646.0   -1660.0       3306.0   \n2017        14961.0        4668.0            2104.0   -2073.0       4177.0   \n2018        15784.0        6058.0            2555.0   -4727.0       7282.0   \n2019        14383.0        5802.0            3008.0   -2421.0       5429.0   \n2020        14461.0        5490.0            3426.0   -2083.0       5509.0   \n2021        18344.0        6294.0            3886.0    -150.0       4036.0   \n2022        20028.0        5923.0            4297.0   -3374.0       7671.0   \n2023        17519.0        1349.0            4557.0     -30.0       4587.0   \n\n            OwnerMargin  FcfCoverage  \nFiscalYear                            \n1984               0.00          NaN  \n1985               0.00          NaN  \n1986               0.00          NaN  \n1987               0.00          NaN  \n1988               0.00          NaN  \n1989               0.01        -0.79  \n1990               0.01        -0.40  \n1991              -0.00         0.11  \n1992               0.03         0.59  \n1993               0.02         0.67  \n1994              -0.00        -0.06  \n1995               0.00         0.00  \n1996               0.01        -0.08  \n1997               0.01         0.10  \n1998               0.03         0.74  \n1999               0.04         0.40  \n2000               0.00        -0.09  \n2001               0.04        12.38  \n2002               0.04         0.29  \n2003               0.03         0.20  \n2004               0.06         0.38  \n2005               0.31         1.56  \n2006               0.36         4.28  \n2007               0.33         1.22  \n2008               0.20         0.95  \n2009               0.14         0.75  \n2010               0.19         1.01  \n2011               0.14         0.79  \n2012               0.16         0.72  \n2013               0.22         0.92  \n2014               0.28         0.98  \n2015               0.29         0.99  \n2016               0.25         0.81  \n2017               0.28         0.89  \n2018               0.46         1.20  \n2019               0.38         0.94  \n2020               0.38         1.00  \n2021               0.22         0.64  \n2022               0.38         1.30  \n2023               0.26         3.40  ",
      "text/html": "<div>\n<style scoped>\n    .dataframe tbody tr th:only-of-type {\n        vertical-align: middle;\n    }\n\n    .dataframe tbody tr th {\n        vertical-align: top;\n    }\n\n    .dataframe thead th {\n        text-align: right;\n    }\n</style>\n<table border=\"1\" class=\"dataframe\">\n  <thead>\n    <tr style=\"text-align: right;\">\n      <th></th>\n      <th>Revenue</th>\n      <th>FreeCashFlow</th>\n      <th>CashForDividends</th>\n      <th>StockNet</th>\n      <th>OwnerReturn</th>\n      <th>OwnerMargin</th>\n      <th>FcfCoverage</th>\n    </tr>\n    <tr>\n      <th>FiscalYear</th>\n      <th></th>\n      <th></th>\n      <th></th>\n      <th></th>\n      <th></th>\n      <th></th>\n      <th></th>\n    </tr>\n  </thead>\n  <tbody>\n    <tr>\n      <th>1984</th>\n      <td>5741.6</td>\n      <td>0.0</td>\n      <td>0.0</td>\n      <td>0.0</td>\n      <td>0.0</td>\n      <td>0.00</td>\n      <td>NaN</td>\n    </tr>\n    <tr>\n      <th>1985</th>\n      <td>4924.5</td>\n      <td>0.0</td>\n      <td>0.0</td>\n      <td>0.0</td>\n      <td>0.0</td>\n      <td>0.00</td>\n      <td>NaN</td>\n    </tr>\n    <tr>\n      <th>1986</th>\n      <td>4974.0</td>\n      <td>0.0</td>\n      <td>0.0</td>\n      <td>0.0</td>\n      <td>0.0</td>\n      <td>0.00</td>\n      <td>NaN</td>\n    </tr>\n    <tr>\n      <th>1987</th>\n      <td>5594.5</td>\n      <td>0.0</td>\n      <td>0.0</td>\n      <td>0.0</td>\n      <td>0.0</td>\n      <td>0.00</td>\n      <td>NaN</td>\n    </tr>\n    <tr>\n      <th>1988</th>\n      <td>6294.8</td>\n      <td>0.0</td>\n      <td>0.0</td>\n      <td>0.0</td>\n      <td>0.0</td>\n      <td>0.00</td>\n      <td>NaN</td>\n    </tr>\n    <tr>\n      <th>1989</th>\n      <td>6521.9</td>\n      <td>-64.0</td>\n      <td>97.3</td>\n      <td>46.8</td>\n      <td>50.5</td>\n      <td>0.01</td>\n      <td>-0.79</td>\n    </tr>\n    <tr>\n      <th>1990</th>\n      <td>6567.0</td>\n      <td>-215.0</td>\n      <td>94.0</td>\n      <td>8.0</td>\n      <td>86.0</td>\n      <td>0.01</td>\n      <td>-0.40</td>\n    </tr>\n    <tr>\n      <th>1991</th>\n      <td>6784.0</td>\n      <td>-87.0</td>\n      <td>90.0</td>\n      <td>100.0</td>\n      <td>-10.0</td>\n      <td>-0.00</td>\n      <td>0.11</td>\n    </tr>\n    <tr>\n      <th>1992</th>\n      <td>7440.0</td>\n      <td>372.0</td>\n      <td>98.0</td>\n      <td>-121.0</td>\n      <td>219.0</td>\n      <td>0.03</td>\n      <td>0.59</td>\n    </tr>\n    <tr>\n      <th>1993</th>\n      <td>8523.0</td>\n      <td>204.0</td>\n      <td>86.0</td>\n      <td>-50.0</td>\n      <td>136.0</td>\n      <td>0.02</td>\n      <td>0.67</td>\n    </tr>\n    <tr>\n      <th>1994</th>\n      <td>8608.0</td>\n      <td>512.0</td>\n      <td>79.0</td>\n      <td>110.0</td>\n      <td>-31.0</td>\n      <td>-0.00</td>\n      <td>-0.06</td>\n    </tr>\n    <tr>\n      <th>1995</th>\n      <td>11409.0</td>\n      <td>316.0</td>\n      <td>111.0</td>\n      <td>111.0</td>\n      <td>0.0</td>\n      <td>0.00</td>\n      <td>0.00</td>\n    </tr>\n    <tr>\n      <th>1996</th>\n      <td>9940.0</td>\n      <td>-1179.0</td>\n      <td>129.0</td>\n      <td>35.0</td>\n      <td>94.0</td>\n      <td>0.01</td>\n      <td>-0.08</td>\n    </tr>\n    <tr>\n      <th>1997</th>\n      <td>9972.0</td>\n      <td>659.0</td>\n      <td>131.0</td>\n      <td>65.0</td>\n      <td>66.0</td>\n      <td>0.01</td>\n      <td>0.10</td>\n    </tr>\n    <tr>\n      <th>1998</th>\n      <td>8875.0</td>\n      <td>319.0</td>\n      <td>133.0</td>\n      <td>-102.0</td>\n      <td>235.0</td>\n      <td>0.03</td>\n      <td>0.74</td>\n    </tr>\n    <tr>\n      <th>1999</th>\n      <td>9759.0</td>\n      <td>959.0</td>\n      <td>134.0</td>\n      <td>-248.0</td>\n      <td>382.0</td>\n      <td>0.04</td>\n      <td>0.40</td>\n    </tr>\n    <tr>\n      <th>2000</th>\n      <td>11875.0</td>\n      <td>-577.0</td>\n      <td>141.0</td>\n      <td>87.0</td>\n      <td>54.0</td>\n      <td>0.00</td>\n      <td>-0.09</td>\n    </tr>\n    <tr>\n      <th>2001</th>\n      <td>8201.0</td>\n      <td>29.0</td>\n      <td>147.0</td>\n      <td>-212.0</td>\n      <td>359.0</td>\n      <td>0.04</td>\n      <td>12.38</td>\n    </tr>\n    <tr>\n      <th>2002</th>\n      <td>8383.0</td>\n      <td>1190.0</td>\n      <td>147.0</td>\n      <td>-203.0</td>\n      <td>350.0</td>\n      <td>0.04</td>\n      <td>0.29</td>\n    </tr>\n    <tr>\n      <th>2003</th>\n      <td>9834.0</td>\n      <td>1351.0</td>\n      <td>147.0</td>\n      <td>-127.0</td>\n      <td>274.0</td>\n      <td>0.03</td>\n      <td>0.20</td>\n    </tr>\n    <tr>\n      <th>2004</th>\n      <td>11552.0</td>\n      <td>1886.0</td>\n      <td>154.0</td>\n      <td>-561.0</td>\n      <td>715.0</td>\n      <td>0.06</td>\n      <td>0.38</td>\n    </tr>\n    <tr>\n      <th>2005</th>\n      <td>12335.0</td>\n      <td>2484.0</td>\n      <td>173.0</td>\n      <td>-3690.0</td>\n      <td>3863.0</td>\n      <td>0.31</td>\n      <td>1.56</td>\n    </tr>\n    <tr>\n      <th>2006</th>\n      <td>14255.0</td>\n      <td>1188.0</td>\n      <td>199.0</td>\n      <td>-4883.0</td>\n      <td>5082.0</td>\n      <td>0.36</td>\n      <td>4.28</td>\n    </tr>\n    <tr>\n      <th>2007</th>\n      <td>13835.0</td>\n      <td>3720.0</td>\n      <td>425.0</td>\n      <td>-4125.0</td>\n      <td>4550.0</td>\n      <td>0.33</td>\n      <td>1.22</td>\n    </tr>\n    <tr>\n      <th>2008</th>\n      <td>12501.0</td>\n      <td>2567.0</td>\n      <td>537.0</td>\n      <td>-1912.0</td>\n      <td>2449.0</td>\n      <td>0.20</td>\n      <td>0.95</td>\n    </tr>\n    <tr>\n      <th>2009</th>\n      <td>10427.0</td>\n      <td>1890.0</td>\n      <td>567.0</td>\n      <td>-845.0</td>\n      <td>1412.0</td>\n      <td>0.14</td>\n      <td>0.75</td>\n    </tr>\n    <tr>\n      <th>2010</th>\n      <td>13966.0</td>\n      <td>2621.0</td>\n      <td>592.0</td>\n      <td>-2047.0</td>\n      <td>2639.0</td>\n      <td>0.19</td>\n      <td>1.01</td>\n    </tr>\n    <tr>\n      <th>2011</th>\n      <td>13735.0</td>\n      <td>2440.0</td>\n      <td>644.0</td>\n      <td>-1283.0</td>\n      <td>1927.0</td>\n      <td>0.14</td>\n      <td>0.79</td>\n    </tr>\n    <tr>\n      <th>2012</th>\n      <td>12825.0</td>\n      <td>2919.0</td>\n      <td>819.0</td>\n      <td>-1277.0</td>\n      <td>2096.0</td>\n      <td>0.16</td>\n      <td>0.72</td>\n    </tr>\n    <tr>\n      <th>2013</th>\n      <td>12205.0</td>\n      <td>2972.0</td>\n      <td>1175.0</td>\n      <td>-1554.0</td>\n      <td>2729.0</td>\n      <td>0.22</td>\n      <td>0.92</td>\n    </tr>\n    <tr>\n      <th>2014</th>\n      <td>13045.0</td>\n      <td>3669.0</td>\n      <td>1323.0</td>\n      <td>-2277.0</td>\n      <td>3600.0</td>\n      <td>0.28</td>\n      <td>0.98</td>\n    </tr>\n    <tr>\n      <th>2015</th>\n      <td>13000.0</td>\n      <td>3846.0</td>\n      <td>1444.0</td>\n      <td>-2345.0</td>\n      <td>3789.0</td>\n      <td>0.29</td>\n      <td>0.99</td>\n    </tr>\n    <tr>\n      <th>2016</th>\n      <td>13370.0</td>\n      <td>4083.0</td>\n      <td>1646.0</td>\n      <td>-1660.0</td>\n      <td>3306.0</td>\n      <td>0.25</td>\n      <td>0.81</td>\n    </tr>\n    <tr>\n      <th>2017</th>\n      <td>14961.0</td>\n      <td>4668.0</td>\n      <td>2104.0</td>\n      <td>-2073.0</td>\n      <td>4177.0</td>\n      <td>0.28</td>\n      <td>0.89</td>\n    </tr>\n    <tr>\n      <th>2018</th>\n      <td>15784.0</td>\n      <td>6058.0</td>\n      <td>2555.0</td>\n      <td>-4727.0</td>\n      <td>7282.0</td>\n      <td>0.46</td>\n      <td>1.20</td>\n    </tr>\n    <tr>\n      <th>2019</th>\n      <td>14383.0</td>\n      <td>5802.0</td>\n      <td>3008.0</td>\n      <td>-2421.0</td>\n      <td>5429.0</td>\n      <td>0.38</td>\n      <td>0.94</td>\n    </tr>\n    <tr>\n      <th>2020</th>\n      <td>14461.0</td>\n      <td>5490.0</td>\n      <td>3426.0</td>\n      <td>-2083.0</td>\n      <td>5509.0</td>\n      <td>0.38</td>\n      <td>1.00</td>\n    </tr>\n    <tr>\n      <th>2021</th>\n      <td>18344.0</td>\n      <td>6294.0</td>\n      <td>3886.0</td>\n      <td>-150.0</td>\n      <td>4036.0</td>\n      <td>0.22</td>\n      <td>0.64</td>\n    </tr>\n    <tr>\n      <th>2022</th>\n      <td>20028.0</td>\n      <td>5923.0</td>\n      <td>4297.0</td>\n      <td>-3374.0</td>\n      <td>7671.0</td>\n      <td>0.38</td>\n      <td>1.30</td>\n    </tr>\n    <tr>\n      <th>2023</th>\n      <td>17519.0</td>\n      <td>1349.0</td>\n      <td>4557.0</td>\n      <td>-30.0</td>\n      <td>4587.0</td>\n      <td>0.26</td>\n      <td>3.40</td>\n    </tr>\n  </tbody>\n</table>\n</div>"
     },
     "execution_count": 10,
     "metadata": {},
     "output_type": "execute_result"
    }
   ],
   "source": [
    "or_df = owner_df[['Revenue', 'FreeCashFlow', 'CashForDividends', 'StockIssuance', 'StockRepurchase']]\n",
    "or_df['CashForDividends'] = or_df['CashForDividends'].abs()\n",
    "or_df['StockNet'] = or_df['StockIssuance'] + or_df['StockRepurchase']\n",
    "or_df['OwnerReturn'] = or_df['CashForDividends'] - or_df['StockNet']\n",
    "or_df = or_df.drop('StockIssuance', axis=1)\n",
    "or_df = or_df.drop('StockRepurchase', axis=1)\n",
    "or_df['OwnerMargin'] = round(or_df['OwnerReturn'] / or_df['Revenue'], 2)\n",
    "or_df['FcfCoverage'] = round(or_df['OwnerReturn'] / or_df['FreeCashFlow'] , 2)\n",
    "\n",
    "or_df"
   ],
   "metadata": {
    "collapsed": false,
    "pycharm": {
     "name": "#%%\n"
    }
   }
  },
  {
   "cell_type": "code",
   "execution_count": null,
   "outputs": [],
   "source": [],
   "metadata": {
    "collapsed": false,
    "pycharm": {
     "name": "#%%\n"
    }
   }
  }
 ],
 "metadata": {
  "kernelspec": {
   "display_name": "Python 3",
   "language": "python",
   "name": "python3"
  },
  "language_info": {
   "codemirror_mode": {
    "name": "ipython",
    "version": 2
   },
   "file_extension": ".py",
   "mimetype": "text/x-python",
   "name": "python",
   "nbconvert_exporter": "python",
   "pygments_lexer": "ipython2",
   "version": "2.7.6"
  }
 },
 "nbformat": 4,
 "nbformat_minor": 0
}