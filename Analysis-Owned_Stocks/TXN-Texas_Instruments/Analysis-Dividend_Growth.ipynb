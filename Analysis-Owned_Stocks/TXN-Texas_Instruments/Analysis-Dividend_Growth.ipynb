{
 "cells": [
  {
   "cell_type": "markdown",
   "source": [
    "# Analysis Dividend Growth"
   ],
   "metadata": {
    "collapsed": false,
    "pycharm": {
     "name": "#%% md\n"
    }
   }
  },
  {
   "cell_type": "code",
   "execution_count": 1,
   "outputs": [],
   "source": [
    "import pandas as pd\n",
    "import datetime\n",
    "\n",
    "Grow_Data_Fy = 'Data_Growth_Fy-TXN.csv'\n",
    "Ps_Data_Fy = 'Data_Per_Share_Fy-TXN.csv'\n",
    "today = datetime.date.today()\n",
    "year10 = today.year - 11\n",
    "year5 = today.year - 6\n",
    "year3 = today.year - 4\n"
   ],
   "metadata": {
    "collapsed": false,
    "pycharm": {
     "name": "#%%\n"
    }
   }
  },
  {
   "cell_type": "markdown",
   "source": [
    "# Dividend Cash Growth"
   ],
   "metadata": {
    "collapsed": false,
    "pycharm": {
     "name": "#%% md\n"
    }
   }
  },
  {
   "cell_type": "code",
   "execution_count": 5,
   "outputs": [
    {
     "data": {
      "text/plain": "            Dividends  DivChange    DPS  DpsChange\nFiscalYear                                        \n1984              0.0        NaN  0.000        NaN\n1985              0.0        NaN  0.011        inf\n1986              0.0        NaN  0.042     281.82\n1987              0.0        NaN  0.044       4.76\n1988              0.0        NaN  0.045       2.27\n1989             97.3        inf  0.045       0.00\n1990             94.0      -3.39  0.045       0.00\n1991             90.0      -4.26  0.045       0.00\n1992             98.0       8.89  0.045       0.00\n1993             86.0     -12.24  0.045       0.00\n1994             79.0      -8.14  0.058      28.89\n1995            111.0      40.51  0.080      37.93\n1996            129.0      16.22  0.085       6.25\n1997            131.0       1.55  0.085       0.00\n1998            133.0       1.53  0.064     -24.71\n1999            134.0       0.75  0.085      32.81\n2000            141.0       5.22  0.085       0.00\n2001            147.0       4.26  0.085       0.00\n2002            147.0       0.00  0.085       0.00\n2003            147.0       0.00  0.085       0.00\n2004            154.0       4.76  0.089       4.71\n2005            173.0      12.34  0.105      17.98\n2006            199.0      15.03  0.130      23.81\n2007            425.0     113.57  0.300     130.77\n2008            537.0      26.35  0.410      36.67\n2009            567.0       5.59  0.450       9.76\n2010            592.0       4.41  0.490       8.89\n2011            644.0       8.78  0.560      14.29\n2012            819.0      27.17  0.720      28.57\n2013           1175.0      43.47  1.070      48.61\n2014           1323.0      12.60  1.240      15.89\n2015           1444.0       9.15  1.400      12.90\n2016           1646.0      13.99  1.640      17.14\n2017           2104.0      27.83  2.120      29.27\n2018           2555.0      21.44  2.630      24.06\n2019           3008.0      17.73  3.210      22.05\n2020           3426.0      13.90  3.720      15.89\n2021           3886.0      13.43  4.210      13.17\n2022           4297.0      10.58  4.690      11.40\n2023           4557.0       6.05  5.020       7.04",
      "text/html": "<div>\n<style scoped>\n    .dataframe tbody tr th:only-of-type {\n        vertical-align: middle;\n    }\n\n    .dataframe tbody tr th {\n        vertical-align: top;\n    }\n\n    .dataframe thead th {\n        text-align: right;\n    }\n</style>\n<table border=\"1\" class=\"dataframe\">\n  <thead>\n    <tr style=\"text-align: right;\">\n      <th></th>\n      <th>Dividends</th>\n      <th>DivChange</th>\n      <th>DPS</th>\n      <th>DpsChange</th>\n    </tr>\n    <tr>\n      <th>FiscalYear</th>\n      <th></th>\n      <th></th>\n      <th></th>\n      <th></th>\n    </tr>\n  </thead>\n  <tbody>\n    <tr>\n      <th>1984</th>\n      <td>0.0</td>\n      <td>NaN</td>\n      <td>0.000</td>\n      <td>NaN</td>\n    </tr>\n    <tr>\n      <th>1985</th>\n      <td>0.0</td>\n      <td>NaN</td>\n      <td>0.011</td>\n      <td>inf</td>\n    </tr>\n    <tr>\n      <th>1986</th>\n      <td>0.0</td>\n      <td>NaN</td>\n      <td>0.042</td>\n      <td>281.82</td>\n    </tr>\n    <tr>\n      <th>1987</th>\n      <td>0.0</td>\n      <td>NaN</td>\n      <td>0.044</td>\n      <td>4.76</td>\n    </tr>\n    <tr>\n      <th>1988</th>\n      <td>0.0</td>\n      <td>NaN</td>\n      <td>0.045</td>\n      <td>2.27</td>\n    </tr>\n    <tr>\n      <th>1989</th>\n      <td>97.3</td>\n      <td>inf</td>\n      <td>0.045</td>\n      <td>0.00</td>\n    </tr>\n    <tr>\n      <th>1990</th>\n      <td>94.0</td>\n      <td>-3.39</td>\n      <td>0.045</td>\n      <td>0.00</td>\n    </tr>\n    <tr>\n      <th>1991</th>\n      <td>90.0</td>\n      <td>-4.26</td>\n      <td>0.045</td>\n      <td>0.00</td>\n    </tr>\n    <tr>\n      <th>1992</th>\n      <td>98.0</td>\n      <td>8.89</td>\n      <td>0.045</td>\n      <td>0.00</td>\n    </tr>\n    <tr>\n      <th>1993</th>\n      <td>86.0</td>\n      <td>-12.24</td>\n      <td>0.045</td>\n      <td>0.00</td>\n    </tr>\n    <tr>\n      <th>1994</th>\n      <td>79.0</td>\n      <td>-8.14</td>\n      <td>0.058</td>\n      <td>28.89</td>\n    </tr>\n    <tr>\n      <th>1995</th>\n      <td>111.0</td>\n      <td>40.51</td>\n      <td>0.080</td>\n      <td>37.93</td>\n    </tr>\n    <tr>\n      <th>1996</th>\n      <td>129.0</td>\n      <td>16.22</td>\n      <td>0.085</td>\n      <td>6.25</td>\n    </tr>\n    <tr>\n      <th>1997</th>\n      <td>131.0</td>\n      <td>1.55</td>\n      <td>0.085</td>\n      <td>0.00</td>\n    </tr>\n    <tr>\n      <th>1998</th>\n      <td>133.0</td>\n      <td>1.53</td>\n      <td>0.064</td>\n      <td>-24.71</td>\n    </tr>\n    <tr>\n      <th>1999</th>\n      <td>134.0</td>\n      <td>0.75</td>\n      <td>0.085</td>\n      <td>32.81</td>\n    </tr>\n    <tr>\n      <th>2000</th>\n      <td>141.0</td>\n      <td>5.22</td>\n      <td>0.085</td>\n      <td>0.00</td>\n    </tr>\n    <tr>\n      <th>2001</th>\n      <td>147.0</td>\n      <td>4.26</td>\n      <td>0.085</td>\n      <td>0.00</td>\n    </tr>\n    <tr>\n      <th>2002</th>\n      <td>147.0</td>\n      <td>0.00</td>\n      <td>0.085</td>\n      <td>0.00</td>\n    </tr>\n    <tr>\n      <th>2003</th>\n      <td>147.0</td>\n      <td>0.00</td>\n      <td>0.085</td>\n      <td>0.00</td>\n    </tr>\n    <tr>\n      <th>2004</th>\n      <td>154.0</td>\n      <td>4.76</td>\n      <td>0.089</td>\n      <td>4.71</td>\n    </tr>\n    <tr>\n      <th>2005</th>\n      <td>173.0</td>\n      <td>12.34</td>\n      <td>0.105</td>\n      <td>17.98</td>\n    </tr>\n    <tr>\n      <th>2006</th>\n      <td>199.0</td>\n      <td>15.03</td>\n      <td>0.130</td>\n      <td>23.81</td>\n    </tr>\n    <tr>\n      <th>2007</th>\n      <td>425.0</td>\n      <td>113.57</td>\n      <td>0.300</td>\n      <td>130.77</td>\n    </tr>\n    <tr>\n      <th>2008</th>\n      <td>537.0</td>\n      <td>26.35</td>\n      <td>0.410</td>\n      <td>36.67</td>\n    </tr>\n    <tr>\n      <th>2009</th>\n      <td>567.0</td>\n      <td>5.59</td>\n      <td>0.450</td>\n      <td>9.76</td>\n    </tr>\n    <tr>\n      <th>2010</th>\n      <td>592.0</td>\n      <td>4.41</td>\n      <td>0.490</td>\n      <td>8.89</td>\n    </tr>\n    <tr>\n      <th>2011</th>\n      <td>644.0</td>\n      <td>8.78</td>\n      <td>0.560</td>\n      <td>14.29</td>\n    </tr>\n    <tr>\n      <th>2012</th>\n      <td>819.0</td>\n      <td>27.17</td>\n      <td>0.720</td>\n      <td>28.57</td>\n    </tr>\n    <tr>\n      <th>2013</th>\n      <td>1175.0</td>\n      <td>43.47</td>\n      <td>1.070</td>\n      <td>48.61</td>\n    </tr>\n    <tr>\n      <th>2014</th>\n      <td>1323.0</td>\n      <td>12.60</td>\n      <td>1.240</td>\n      <td>15.89</td>\n    </tr>\n    <tr>\n      <th>2015</th>\n      <td>1444.0</td>\n      <td>9.15</td>\n      <td>1.400</td>\n      <td>12.90</td>\n    </tr>\n    <tr>\n      <th>2016</th>\n      <td>1646.0</td>\n      <td>13.99</td>\n      <td>1.640</td>\n      <td>17.14</td>\n    </tr>\n    <tr>\n      <th>2017</th>\n      <td>2104.0</td>\n      <td>27.83</td>\n      <td>2.120</td>\n      <td>29.27</td>\n    </tr>\n    <tr>\n      <th>2018</th>\n      <td>2555.0</td>\n      <td>21.44</td>\n      <td>2.630</td>\n      <td>24.06</td>\n    </tr>\n    <tr>\n      <th>2019</th>\n      <td>3008.0</td>\n      <td>17.73</td>\n      <td>3.210</td>\n      <td>22.05</td>\n    </tr>\n    <tr>\n      <th>2020</th>\n      <td>3426.0</td>\n      <td>13.90</td>\n      <td>3.720</td>\n      <td>15.89</td>\n    </tr>\n    <tr>\n      <th>2021</th>\n      <td>3886.0</td>\n      <td>13.43</td>\n      <td>4.210</td>\n      <td>13.17</td>\n    </tr>\n    <tr>\n      <th>2022</th>\n      <td>4297.0</td>\n      <td>10.58</td>\n      <td>4.690</td>\n      <td>11.40</td>\n    </tr>\n    <tr>\n      <th>2023</th>\n      <td>4557.0</td>\n      <td>6.05</td>\n      <td>5.020</td>\n      <td>7.04</td>\n    </tr>\n  </tbody>\n</table>\n</div>"
     },
     "execution_count": 5,
     "metadata": {},
     "output_type": "execute_result"
    }
   ],
   "source": [
    "dgro_df = pd.read_csv(Grow_Data_Fy,index_col='FiscalYear')\n",
    "dgro_ps_df = pd.read_csv(Ps_Data_Fy,index_col='FiscalYear')\n",
    "\n",
    "dgro_s = pd.Series(dgro_df['CashForDividends'].abs())\n",
    "dgro_pc_s = round(dgro_s.pct_change() * 100, 2)\n",
    "dgro_ps_s = pd.Series(dgro_ps_df['PerShareDividends'])\n",
    "dgro_ps_pc_s = round(dgro_ps_s.pct_change() * 100, 2)\n",
    "\n",
    "div_dict = {'Dividends' : dgro_s, 'DivChange' : dgro_pc_s, 'DPS' : dgro_ps_s, 'DpsChange' : dgro_ps_pc_s}\n",
    "divgro_df = pd.DataFrame(div_dict)\n",
    "\n",
    "divgro_df"
   ],
   "metadata": {
    "collapsed": false,
    "pycharm": {
     "name": "#%%\n"
    }
   }
  },
  {
   "cell_type": "code",
   "execution_count": 7,
   "outputs": [
    {
     "name": "stdout",
     "output_type": "stream",
     "text": [
      "The 10 year Average Growth of Cash Dividends: 14.67% and Dividends Per Share: 16.88%\n",
      "The 10 year Average Growth of Cash Dividends: 12.34% and Dividends Per Share: 13.91%\n",
      "The 10 year Average Growth of Cash Dividends: 10.02% and Dividends Per Share: 10.54%\n"
     ]
    }
   ],
   "source": [
    "dg10_df = divgro_df[divgro_df.index > year10]\n",
    "dg_10 = round(dg10_df['DivChange'].mean(), 2)\n",
    "dps_10 = round(dg10_df['DpsChange'].mean(), 2)\n",
    "\n",
    "dg5_df = divgro_df[divgro_df.index > year5]\n",
    "dg_5 = round(dg5_df['DivChange'].mean(), 2)\n",
    "dps_5 = round(dg5_df['DpsChange'].mean(), 2)\n",
    "\n",
    "dg3_df = divgro_df[divgro_df.index > year3]\n",
    "dg_3 = round(dg3_df['DivChange'].mean(), 2)\n",
    "dps_3 = round(dg3_df['DpsChange'].mean(), 2)\n",
    "\n",
    "print(f'The 10 year Average Growth of Cash Dividends: {dg_10}% and Dividends Per Share: {dps_10}%')\n",
    "print(f'The 10 year Average Growth of Cash Dividends: {dg_5}% and Dividends Per Share: {dps_5}%')\n",
    "print(f'The 10 year Average Growth of Cash Dividends: {dg_3}% and Dividends Per Share: {dps_3}%')"
   ],
   "metadata": {
    "collapsed": false,
    "pycharm": {
     "name": "#%%\n"
    }
   }
  },
  {
   "cell_type": "code",
   "execution_count": null,
   "outputs": [],
   "source": [],
   "metadata": {
    "collapsed": false,
    "pycharm": {
     "name": "#%%\n"
    }
   }
  }
 ],
 "metadata": {
  "kernelspec": {
   "display_name": "Python 3",
   "language": "python",
   "name": "python3"
  },
  "language_info": {
   "codemirror_mode": {
    "name": "ipython",
    "version": 2
   },
   "file_extension": ".py",
   "mimetype": "text/x-python",
   "name": "python",
   "nbconvert_exporter": "python",
   "pygments_lexer": "ipython2",
   "version": "2.7.6"
  }
 },
 "nbformat": 4,
 "nbformat_minor": 0
}