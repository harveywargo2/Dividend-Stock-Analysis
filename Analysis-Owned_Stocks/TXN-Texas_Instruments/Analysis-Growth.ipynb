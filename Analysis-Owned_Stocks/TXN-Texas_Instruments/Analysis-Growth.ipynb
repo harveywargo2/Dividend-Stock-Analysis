{
 "cells": [
  {
   "cell_type": "markdown",
   "source": [
    "# Analysis Growth"
   ],
   "metadata": {
    "collapsed": false,
    "pycharm": {
     "name": "#%% md\n"
    }
   }
  },
  {
   "cell_type": "code",
   "execution_count": 1,
   "outputs": [],
   "source": [
    "import pandas as pd\n",
    "import datetime\n",
    "\n",
    "Grow_Data_Fy = 'Data_Growth_Fy-TXN.csv'\n",
    "today = datetime.date.today()\n",
    "year10 = today.year - 11\n",
    "year5 = today.year - 6\n",
    "year3 = today.year - 4"
   ],
   "metadata": {
    "collapsed": false,
    "pycharm": {
     "name": "#%%\n"
    }
   }
  },
  {
   "cell_type": "markdown",
   "source": [
    "# Waterfall Analysis"
   ],
   "metadata": {
    "collapsed": false,
    "pycharm": {
     "name": "#%% md\n"
    }
   }
  },
  {
   "cell_type": "code",
   "execution_count": 2,
   "outputs": [
    {
     "data": {
      "text/plain": "            Revenue  CashEquivalents  MarketSecurities  SharesOutBasic  \\\nFiscalYear                                                               \n1984         5741.6            274.4               0.0        1128.571   \n1985         4924.5            158.8               0.0        1187.000   \n1986         4974.0            214.4               0.0         946.667   \n1987         5594.5            662.6               0.0        1272.105   \n1988         6294.8            780.4               0.0        1291.923   \n1989         6521.9            418.2               0.0        1331.579   \n1990         6567.0            403.0               0.0        1250.000   \n1991         6784.0            452.0               0.0        1302.941   \n1992         7440.0            356.0               0.0        1312.500   \n1993         8523.0            404.0             484.0        1375.200   \n1994         8608.0            760.0             530.0        1472.992   \n1995        11409.0           1364.0             189.0        1501.152   \n1996         9940.0            964.0              14.0        1517.552   \n1997         9972.0           1015.0            2005.0        1540.564   \n1998         8875.0            632.0            1709.0        1738.462   \n1999         9759.0            781.0            2045.0        1687.209   \n2000        11875.0            745.0            3258.0        1717.978   \n2001         8201.0            431.0            2513.0        1675.000   \n2002         8383.0            949.0            2063.0        1720.000   \n2003         9834.0           1818.0            2511.0        1932.258   \n2004        11552.0           2668.0            3690.0        1730.000   \n2005        12335.0           1214.0            4116.0        1640.000   \n2006        14255.0           1183.0            2534.0        1528.000   \n2007        13835.0           1328.0            1596.0        1417.000   \n2008        12501.0           1046.0            1494.0        1308.000   \n2009        10427.0           1182.0            1743.0        1260.000   \n2010        13966.0           1319.0            1753.0        1199.000   \n2011        13735.0            992.0            1943.0        1151.000   \n2012        12825.0           1416.0            2549.0        1132.000   \n2013        12205.0           1627.0            2202.0        1098.000   \n2014        13045.0           1199.0            2342.0        1065.000   \n2015        13000.0           1000.0            2218.0        1030.000   \n2016        13370.0           1154.0            2336.0        1003.000   \n2017        14961.0           1656.0            2813.0         991.000   \n2018        15784.0           2438.0            1795.0         970.000   \n2019        14383.0           2437.0            2950.0         936.000   \n2020        14461.0           3107.0            3461.0         921.000   \n2021        18344.0           4631.0            5108.0         923.000   \n2022        20028.0           3050.0            6017.0         916.000   \n2023        17519.0           2964.0            5611.0         908.000   \n\n            SharesOutDiluted  CashForDividends    Cash  \nFiscalYear                                              \n1984                1128.571               0.0   274.4  \n1985                1187.000               0.0   158.8  \n1986                 946.667               0.0   214.4  \n1987                1272.105               0.0   662.6  \n1988                1291.923               0.0   780.4  \n1989                1331.579             -97.3   418.2  \n1990                1250.000             -94.0   403.0  \n1991                1302.941             -90.0   452.0  \n1992                1312.500             -98.0   356.0  \n1993                1497.696             -86.0   888.0  \n1994                1526.992             -79.0  1290.0  \n1995                1549.048            -111.0  1553.0  \n1996                1517.552            -129.0   978.0  \n1997                1590.908            -131.0  3020.0  \n1998                1772.549            -133.0  2341.0  \n1999                1748.193            -134.0  2826.0  \n2000                1788.304            -141.0  4003.0  \n2001                1675.000            -147.0  2944.0  \n2002                1720.000            -147.0  3012.0  \n2003                1996.667            -147.0  4329.0  \n2004                1768.000            -154.0  6358.0  \n2005                1671.000            -173.0  5330.0  \n2006                1560.000            -199.0  3717.0  \n2007                1446.000            -425.0  2924.0  \n2008                1321.000            -537.0  2540.0  \n2009                1269.000            -567.0  2925.0  \n2010                1213.000            -592.0  3072.0  \n2011                1171.000            -644.0  2935.0  \n2012                1146.000            -819.0  3965.0  \n2013                1113.000           -1175.0  3829.0  \n2014                1080.000           -1323.0  3541.0  \n2015                1043.000           -1444.0  3218.0  \n2016                1021.000           -1646.0  3490.0  \n2017                1012.000           -2104.0  4469.0  \n2018                 990.000           -2555.0  4233.0  \n2019                 952.000           -3008.0  5387.0  \n2020                 933.000           -3426.0  6568.0  \n2021                 936.000           -3886.0  9739.0  \n2022                 926.000           -4297.0  9067.0  \n2023                 916.000           -4557.0  8575.0  ",
      "text/html": "<div>\n<style scoped>\n    .dataframe tbody tr th:only-of-type {\n        vertical-align: middle;\n    }\n\n    .dataframe tbody tr th {\n        vertical-align: top;\n    }\n\n    .dataframe thead th {\n        text-align: right;\n    }\n</style>\n<table border=\"1\" class=\"dataframe\">\n  <thead>\n    <tr style=\"text-align: right;\">\n      <th></th>\n      <th>Revenue</th>\n      <th>CashEquivalents</th>\n      <th>MarketSecurities</th>\n      <th>SharesOutBasic</th>\n      <th>SharesOutDiluted</th>\n      <th>CashForDividends</th>\n      <th>Cash</th>\n    </tr>\n    <tr>\n      <th>FiscalYear</th>\n      <th></th>\n      <th></th>\n      <th></th>\n      <th></th>\n      <th></th>\n      <th></th>\n      <th></th>\n    </tr>\n  </thead>\n  <tbody>\n    <tr>\n      <th>1984</th>\n      <td>5741.6</td>\n      <td>274.4</td>\n      <td>0.0</td>\n      <td>1128.571</td>\n      <td>1128.571</td>\n      <td>0.0</td>\n      <td>274.4</td>\n    </tr>\n    <tr>\n      <th>1985</th>\n      <td>4924.5</td>\n      <td>158.8</td>\n      <td>0.0</td>\n      <td>1187.000</td>\n      <td>1187.000</td>\n      <td>0.0</td>\n      <td>158.8</td>\n    </tr>\n    <tr>\n      <th>1986</th>\n      <td>4974.0</td>\n      <td>214.4</td>\n      <td>0.0</td>\n      <td>946.667</td>\n      <td>946.667</td>\n      <td>0.0</td>\n      <td>214.4</td>\n    </tr>\n    <tr>\n      <th>1987</th>\n      <td>5594.5</td>\n      <td>662.6</td>\n      <td>0.0</td>\n      <td>1272.105</td>\n      <td>1272.105</td>\n      <td>0.0</td>\n      <td>662.6</td>\n    </tr>\n    <tr>\n      <th>1988</th>\n      <td>6294.8</td>\n      <td>780.4</td>\n      <td>0.0</td>\n      <td>1291.923</td>\n      <td>1291.923</td>\n      <td>0.0</td>\n      <td>780.4</td>\n    </tr>\n    <tr>\n      <th>1989</th>\n      <td>6521.9</td>\n      <td>418.2</td>\n      <td>0.0</td>\n      <td>1331.579</td>\n      <td>1331.579</td>\n      <td>-97.3</td>\n      <td>418.2</td>\n    </tr>\n    <tr>\n      <th>1990</th>\n      <td>6567.0</td>\n      <td>403.0</td>\n      <td>0.0</td>\n      <td>1250.000</td>\n      <td>1250.000</td>\n      <td>-94.0</td>\n      <td>403.0</td>\n    </tr>\n    <tr>\n      <th>1991</th>\n      <td>6784.0</td>\n      <td>452.0</td>\n      <td>0.0</td>\n      <td>1302.941</td>\n      <td>1302.941</td>\n      <td>-90.0</td>\n      <td>452.0</td>\n    </tr>\n    <tr>\n      <th>1992</th>\n      <td>7440.0</td>\n      <td>356.0</td>\n      <td>0.0</td>\n      <td>1312.500</td>\n      <td>1312.500</td>\n      <td>-98.0</td>\n      <td>356.0</td>\n    </tr>\n    <tr>\n      <th>1993</th>\n      <td>8523.0</td>\n      <td>404.0</td>\n      <td>484.0</td>\n      <td>1375.200</td>\n      <td>1497.696</td>\n      <td>-86.0</td>\n      <td>888.0</td>\n    </tr>\n    <tr>\n      <th>1994</th>\n      <td>8608.0</td>\n      <td>760.0</td>\n      <td>530.0</td>\n      <td>1472.992</td>\n      <td>1526.992</td>\n      <td>-79.0</td>\n      <td>1290.0</td>\n    </tr>\n    <tr>\n      <th>1995</th>\n      <td>11409.0</td>\n      <td>1364.0</td>\n      <td>189.0</td>\n      <td>1501.152</td>\n      <td>1549.048</td>\n      <td>-111.0</td>\n      <td>1553.0</td>\n    </tr>\n    <tr>\n      <th>1996</th>\n      <td>9940.0</td>\n      <td>964.0</td>\n      <td>14.0</td>\n      <td>1517.552</td>\n      <td>1517.552</td>\n      <td>-129.0</td>\n      <td>978.0</td>\n    </tr>\n    <tr>\n      <th>1997</th>\n      <td>9972.0</td>\n      <td>1015.0</td>\n      <td>2005.0</td>\n      <td>1540.564</td>\n      <td>1590.908</td>\n      <td>-131.0</td>\n      <td>3020.0</td>\n    </tr>\n    <tr>\n      <th>1998</th>\n      <td>8875.0</td>\n      <td>632.0</td>\n      <td>1709.0</td>\n      <td>1738.462</td>\n      <td>1772.549</td>\n      <td>-133.0</td>\n      <td>2341.0</td>\n    </tr>\n    <tr>\n      <th>1999</th>\n      <td>9759.0</td>\n      <td>781.0</td>\n      <td>2045.0</td>\n      <td>1687.209</td>\n      <td>1748.193</td>\n      <td>-134.0</td>\n      <td>2826.0</td>\n    </tr>\n    <tr>\n      <th>2000</th>\n      <td>11875.0</td>\n      <td>745.0</td>\n      <td>3258.0</td>\n      <td>1717.978</td>\n      <td>1788.304</td>\n      <td>-141.0</td>\n      <td>4003.0</td>\n    </tr>\n    <tr>\n      <th>2001</th>\n      <td>8201.0</td>\n      <td>431.0</td>\n      <td>2513.0</td>\n      <td>1675.000</td>\n      <td>1675.000</td>\n      <td>-147.0</td>\n      <td>2944.0</td>\n    </tr>\n    <tr>\n      <th>2002</th>\n      <td>8383.0</td>\n      <td>949.0</td>\n      <td>2063.0</td>\n      <td>1720.000</td>\n      <td>1720.000</td>\n      <td>-147.0</td>\n      <td>3012.0</td>\n    </tr>\n    <tr>\n      <th>2003</th>\n      <td>9834.0</td>\n      <td>1818.0</td>\n      <td>2511.0</td>\n      <td>1932.258</td>\n      <td>1996.667</td>\n      <td>-147.0</td>\n      <td>4329.0</td>\n    </tr>\n    <tr>\n      <th>2004</th>\n      <td>11552.0</td>\n      <td>2668.0</td>\n      <td>3690.0</td>\n      <td>1730.000</td>\n      <td>1768.000</td>\n      <td>-154.0</td>\n      <td>6358.0</td>\n    </tr>\n    <tr>\n      <th>2005</th>\n      <td>12335.0</td>\n      <td>1214.0</td>\n      <td>4116.0</td>\n      <td>1640.000</td>\n      <td>1671.000</td>\n      <td>-173.0</td>\n      <td>5330.0</td>\n    </tr>\n    <tr>\n      <th>2006</th>\n      <td>14255.0</td>\n      <td>1183.0</td>\n      <td>2534.0</td>\n      <td>1528.000</td>\n      <td>1560.000</td>\n      <td>-199.0</td>\n      <td>3717.0</td>\n    </tr>\n    <tr>\n      <th>2007</th>\n      <td>13835.0</td>\n      <td>1328.0</td>\n      <td>1596.0</td>\n      <td>1417.000</td>\n      <td>1446.000</td>\n      <td>-425.0</td>\n      <td>2924.0</td>\n    </tr>\n    <tr>\n      <th>2008</th>\n      <td>12501.0</td>\n      <td>1046.0</td>\n      <td>1494.0</td>\n      <td>1308.000</td>\n      <td>1321.000</td>\n      <td>-537.0</td>\n      <td>2540.0</td>\n    </tr>\n    <tr>\n      <th>2009</th>\n      <td>10427.0</td>\n      <td>1182.0</td>\n      <td>1743.0</td>\n      <td>1260.000</td>\n      <td>1269.000</td>\n      <td>-567.0</td>\n      <td>2925.0</td>\n    </tr>\n    <tr>\n      <th>2010</th>\n      <td>13966.0</td>\n      <td>1319.0</td>\n      <td>1753.0</td>\n      <td>1199.000</td>\n      <td>1213.000</td>\n      <td>-592.0</td>\n      <td>3072.0</td>\n    </tr>\n    <tr>\n      <th>2011</th>\n      <td>13735.0</td>\n      <td>992.0</td>\n      <td>1943.0</td>\n      <td>1151.000</td>\n      <td>1171.000</td>\n      <td>-644.0</td>\n      <td>2935.0</td>\n    </tr>\n    <tr>\n      <th>2012</th>\n      <td>12825.0</td>\n      <td>1416.0</td>\n      <td>2549.0</td>\n      <td>1132.000</td>\n      <td>1146.000</td>\n      <td>-819.0</td>\n      <td>3965.0</td>\n    </tr>\n    <tr>\n      <th>2013</th>\n      <td>12205.0</td>\n      <td>1627.0</td>\n      <td>2202.0</td>\n      <td>1098.000</td>\n      <td>1113.000</td>\n      <td>-1175.0</td>\n      <td>3829.0</td>\n    </tr>\n    <tr>\n      <th>2014</th>\n      <td>13045.0</td>\n      <td>1199.0</td>\n      <td>2342.0</td>\n      <td>1065.000</td>\n      <td>1080.000</td>\n      <td>-1323.0</td>\n      <td>3541.0</td>\n    </tr>\n    <tr>\n      <th>2015</th>\n      <td>13000.0</td>\n      <td>1000.0</td>\n      <td>2218.0</td>\n      <td>1030.000</td>\n      <td>1043.000</td>\n      <td>-1444.0</td>\n      <td>3218.0</td>\n    </tr>\n    <tr>\n      <th>2016</th>\n      <td>13370.0</td>\n      <td>1154.0</td>\n      <td>2336.0</td>\n      <td>1003.000</td>\n      <td>1021.000</td>\n      <td>-1646.0</td>\n      <td>3490.0</td>\n    </tr>\n    <tr>\n      <th>2017</th>\n      <td>14961.0</td>\n      <td>1656.0</td>\n      <td>2813.0</td>\n      <td>991.000</td>\n      <td>1012.000</td>\n      <td>-2104.0</td>\n      <td>4469.0</td>\n    </tr>\n    <tr>\n      <th>2018</th>\n      <td>15784.0</td>\n      <td>2438.0</td>\n      <td>1795.0</td>\n      <td>970.000</td>\n      <td>990.000</td>\n      <td>-2555.0</td>\n      <td>4233.0</td>\n    </tr>\n    <tr>\n      <th>2019</th>\n      <td>14383.0</td>\n      <td>2437.0</td>\n      <td>2950.0</td>\n      <td>936.000</td>\n      <td>952.000</td>\n      <td>-3008.0</td>\n      <td>5387.0</td>\n    </tr>\n    <tr>\n      <th>2020</th>\n      <td>14461.0</td>\n      <td>3107.0</td>\n      <td>3461.0</td>\n      <td>921.000</td>\n      <td>933.000</td>\n      <td>-3426.0</td>\n      <td>6568.0</td>\n    </tr>\n    <tr>\n      <th>2021</th>\n      <td>18344.0</td>\n      <td>4631.0</td>\n      <td>5108.0</td>\n      <td>923.000</td>\n      <td>936.000</td>\n      <td>-3886.0</td>\n      <td>9739.0</td>\n    </tr>\n    <tr>\n      <th>2022</th>\n      <td>20028.0</td>\n      <td>3050.0</td>\n      <td>6017.0</td>\n      <td>916.000</td>\n      <td>926.000</td>\n      <td>-4297.0</td>\n      <td>9067.0</td>\n    </tr>\n    <tr>\n      <th>2023</th>\n      <td>17519.0</td>\n      <td>2964.0</td>\n      <td>5611.0</td>\n      <td>908.000</td>\n      <td>916.000</td>\n      <td>-4557.0</td>\n      <td>8575.0</td>\n    </tr>\n  </tbody>\n</table>\n</div>"
     },
     "execution_count": 2,
     "metadata": {},
     "output_type": "execute_result"
    }
   ],
   "source": [
    "grow_df = pd.read_csv(Grow_Data_Fy,index_col='FiscalYear')\n",
    "grow_df['Cash'] = grow_df['CashEquivalents'] + grow_df['MarketSecurities']\n",
    "grow_df"
   ],
   "metadata": {
    "collapsed": false,
    "pycharm": {
     "name": "#%%\n"
    }
   }
  },
  {
   "cell_type": "code",
   "execution_count": 3,
   "outputs": [
    {
     "name": "stdout",
     "output_type": "stream",
     "text": [
      "Ten Year Average Revenue Growth: 4.19%\n",
      "Five Year Average Revenue Growth: 3.03%\n",
      "Three Year Average Revenue Growth: 7.83%\n"
     ]
    },
    {
     "data": {
      "text/plain": "            Revenue  PercentChange\nFiscalYear                        \n1984         5741.6            NaN\n1985         4924.5         -14.23\n1986         4974.0           1.01\n1987         5594.5          12.47\n1988         6294.8          12.52\n1989         6521.9           3.61\n1990         6567.0           0.69\n1991         6784.0           3.30\n1992         7440.0           9.67\n1993         8523.0          14.56\n1994         8608.0           1.00\n1995        11409.0          32.54\n1996         9940.0         -12.88\n1997         9972.0           0.32\n1998         8875.0         -11.00\n1999         9759.0           9.96\n2000        11875.0          21.68\n2001         8201.0         -30.94\n2002         8383.0           2.22\n2003         9834.0          17.31\n2004        11552.0          17.47\n2005        12335.0           6.78\n2006        14255.0          15.57\n2007        13835.0          -2.95\n2008        12501.0          -9.64\n2009        10427.0         -16.59\n2010        13966.0          33.94\n2011        13735.0          -1.65\n2012        12825.0          -6.63\n2013        12205.0          -4.83\n2014        13045.0           6.88\n2015        13000.0          -0.34\n2016        13370.0           2.85\n2017        14961.0          11.90\n2018        15784.0           5.50\n2019        14383.0          -8.88\n2020        14461.0           0.54\n2021        18344.0          26.85\n2022        20028.0           9.18\n2023        17519.0         -12.53",
      "text/html": "<div>\n<style scoped>\n    .dataframe tbody tr th:only-of-type {\n        vertical-align: middle;\n    }\n\n    .dataframe tbody tr th {\n        vertical-align: top;\n    }\n\n    .dataframe thead th {\n        text-align: right;\n    }\n</style>\n<table border=\"1\" class=\"dataframe\">\n  <thead>\n    <tr style=\"text-align: right;\">\n      <th></th>\n      <th>Revenue</th>\n      <th>PercentChange</th>\n    </tr>\n    <tr>\n      <th>FiscalYear</th>\n      <th></th>\n      <th></th>\n    </tr>\n  </thead>\n  <tbody>\n    <tr>\n      <th>1984</th>\n      <td>5741.6</td>\n      <td>NaN</td>\n    </tr>\n    <tr>\n      <th>1985</th>\n      <td>4924.5</td>\n      <td>-14.23</td>\n    </tr>\n    <tr>\n      <th>1986</th>\n      <td>4974.0</td>\n      <td>1.01</td>\n    </tr>\n    <tr>\n      <th>1987</th>\n      <td>5594.5</td>\n      <td>12.47</td>\n    </tr>\n    <tr>\n      <th>1988</th>\n      <td>6294.8</td>\n      <td>12.52</td>\n    </tr>\n    <tr>\n      <th>1989</th>\n      <td>6521.9</td>\n      <td>3.61</td>\n    </tr>\n    <tr>\n      <th>1990</th>\n      <td>6567.0</td>\n      <td>0.69</td>\n    </tr>\n    <tr>\n      <th>1991</th>\n      <td>6784.0</td>\n      <td>3.30</td>\n    </tr>\n    <tr>\n      <th>1992</th>\n      <td>7440.0</td>\n      <td>9.67</td>\n    </tr>\n    <tr>\n      <th>1993</th>\n      <td>8523.0</td>\n      <td>14.56</td>\n    </tr>\n    <tr>\n      <th>1994</th>\n      <td>8608.0</td>\n      <td>1.00</td>\n    </tr>\n    <tr>\n      <th>1995</th>\n      <td>11409.0</td>\n      <td>32.54</td>\n    </tr>\n    <tr>\n      <th>1996</th>\n      <td>9940.0</td>\n      <td>-12.88</td>\n    </tr>\n    <tr>\n      <th>1997</th>\n      <td>9972.0</td>\n      <td>0.32</td>\n    </tr>\n    <tr>\n      <th>1998</th>\n      <td>8875.0</td>\n      <td>-11.00</td>\n    </tr>\n    <tr>\n      <th>1999</th>\n      <td>9759.0</td>\n      <td>9.96</td>\n    </tr>\n    <tr>\n      <th>2000</th>\n      <td>11875.0</td>\n      <td>21.68</td>\n    </tr>\n    <tr>\n      <th>2001</th>\n      <td>8201.0</td>\n      <td>-30.94</td>\n    </tr>\n    <tr>\n      <th>2002</th>\n      <td>8383.0</td>\n      <td>2.22</td>\n    </tr>\n    <tr>\n      <th>2003</th>\n      <td>9834.0</td>\n      <td>17.31</td>\n    </tr>\n    <tr>\n      <th>2004</th>\n      <td>11552.0</td>\n      <td>17.47</td>\n    </tr>\n    <tr>\n      <th>2005</th>\n      <td>12335.0</td>\n      <td>6.78</td>\n    </tr>\n    <tr>\n      <th>2006</th>\n      <td>14255.0</td>\n      <td>15.57</td>\n    </tr>\n    <tr>\n      <th>2007</th>\n      <td>13835.0</td>\n      <td>-2.95</td>\n    </tr>\n    <tr>\n      <th>2008</th>\n      <td>12501.0</td>\n      <td>-9.64</td>\n    </tr>\n    <tr>\n      <th>2009</th>\n      <td>10427.0</td>\n      <td>-16.59</td>\n    </tr>\n    <tr>\n      <th>2010</th>\n      <td>13966.0</td>\n      <td>33.94</td>\n    </tr>\n    <tr>\n      <th>2011</th>\n      <td>13735.0</td>\n      <td>-1.65</td>\n    </tr>\n    <tr>\n      <th>2012</th>\n      <td>12825.0</td>\n      <td>-6.63</td>\n    </tr>\n    <tr>\n      <th>2013</th>\n      <td>12205.0</td>\n      <td>-4.83</td>\n    </tr>\n    <tr>\n      <th>2014</th>\n      <td>13045.0</td>\n      <td>6.88</td>\n    </tr>\n    <tr>\n      <th>2015</th>\n      <td>13000.0</td>\n      <td>-0.34</td>\n    </tr>\n    <tr>\n      <th>2016</th>\n      <td>13370.0</td>\n      <td>2.85</td>\n    </tr>\n    <tr>\n      <th>2017</th>\n      <td>14961.0</td>\n      <td>11.90</td>\n    </tr>\n    <tr>\n      <th>2018</th>\n      <td>15784.0</td>\n      <td>5.50</td>\n    </tr>\n    <tr>\n      <th>2019</th>\n      <td>14383.0</td>\n      <td>-8.88</td>\n    </tr>\n    <tr>\n      <th>2020</th>\n      <td>14461.0</td>\n      <td>0.54</td>\n    </tr>\n    <tr>\n      <th>2021</th>\n      <td>18344.0</td>\n      <td>26.85</td>\n    </tr>\n    <tr>\n      <th>2022</th>\n      <td>20028.0</td>\n      <td>9.18</td>\n    </tr>\n    <tr>\n      <th>2023</th>\n      <td>17519.0</td>\n      <td>-12.53</td>\n    </tr>\n  </tbody>\n</table>\n</div>"
     },
     "execution_count": 3,
     "metadata": {},
     "output_type": "execute_result"
    }
   ],
   "source": [
    "rev_s = pd.Series(grow_df['Revenue'])\n",
    "rev_pc_s = round(rev_s.pct_change() * 100, 2)\n",
    "rev_dict = {'Revenue' : rev_s, 'PercentChange' : rev_pc_s}\n",
    "\n",
    "rev_df = pd.DataFrame(rev_dict)\n",
    "rev_df_10 = rev_df[rev_df.index > year10]\n",
    "rev_df_5 = rev_df[rev_df.index > year5]\n",
    "rev_df_3 = rev_df[rev_df.index > year3]\n",
    "\n",
    "rev_mn_10 = round(rev_df_10['PercentChange'].mean(), 2)\n",
    "rev_mn_5 = round(rev_df_5['PercentChange'].mean(), 2)\n",
    "rev_mn_3 = round(rev_df_3['PercentChange'].mean(), 2)\n",
    "\n",
    "\n",
    "print(f'Ten Year Average Revenue Growth: {rev_mn_10}%')\n",
    "print(f'Five Year Average Revenue Growth: {rev_mn_5}%')\n",
    "print(f'Three Year Average Revenue Growth: {rev_mn_3}%')\n",
    "\n",
    "\n",
    "rev_df"
   ],
   "metadata": {
    "collapsed": false,
    "pycharm": {
     "name": "#%%\n"
    }
   }
  },
  {
   "cell_type": "markdown",
   "source": [
    "# Cash On Hand Growth"
   ],
   "metadata": {
    "collapsed": false,
    "pycharm": {
     "name": "#%% md\n"
    }
   }
  },
  {
   "cell_type": "code",
   "execution_count": 4,
   "outputs": [
    {
     "data": {
      "text/plain": "              Cash  PercentChange\nFiscalYear                       \n1984         274.4            NaN\n1985         158.8         -42.13\n1986         214.4          35.01\n1987         662.6         209.05\n1988         780.4          17.78\n1989         418.2         -46.41\n1990         403.0          -3.63\n1991         452.0          12.16\n1992         356.0         -21.24\n1993         888.0         149.44\n1994        1290.0          45.27\n1995        1553.0          20.39\n1996         978.0         -37.03\n1997        3020.0         208.79\n1998        2341.0         -22.48\n1999        2826.0          20.72\n2000        4003.0          41.65\n2001        2944.0         -26.46\n2002        3012.0           2.31\n2003        4329.0          43.73\n2004        6358.0          46.87\n2005        5330.0         -16.17\n2006        3717.0         -30.26\n2007        2924.0         -21.33\n2008        2540.0         -13.13\n2009        2925.0          15.16\n2010        3072.0           5.03\n2011        2935.0          -4.46\n2012        3965.0          35.09\n2013        3829.0          -3.43\n2014        3541.0          -7.52\n2015        3218.0          -9.12\n2016        3490.0           8.45\n2017        4469.0          28.05\n2018        4233.0          -5.28\n2019        5387.0          27.26\n2020        6568.0          21.92\n2021        9739.0          48.28\n2022        9067.0          -6.90\n2023        8575.0          -5.43",
      "text/html": "<div>\n<style scoped>\n    .dataframe tbody tr th:only-of-type {\n        vertical-align: middle;\n    }\n\n    .dataframe tbody tr th {\n        vertical-align: top;\n    }\n\n    .dataframe thead th {\n        text-align: right;\n    }\n</style>\n<table border=\"1\" class=\"dataframe\">\n  <thead>\n    <tr style=\"text-align: right;\">\n      <th></th>\n      <th>Cash</th>\n      <th>PercentChange</th>\n    </tr>\n    <tr>\n      <th>FiscalYear</th>\n      <th></th>\n      <th></th>\n    </tr>\n  </thead>\n  <tbody>\n    <tr>\n      <th>1984</th>\n      <td>274.4</td>\n      <td>NaN</td>\n    </tr>\n    <tr>\n      <th>1985</th>\n      <td>158.8</td>\n      <td>-42.13</td>\n    </tr>\n    <tr>\n      <th>1986</th>\n      <td>214.4</td>\n      <td>35.01</td>\n    </tr>\n    <tr>\n      <th>1987</th>\n      <td>662.6</td>\n      <td>209.05</td>\n    </tr>\n    <tr>\n      <th>1988</th>\n      <td>780.4</td>\n      <td>17.78</td>\n    </tr>\n    <tr>\n      <th>1989</th>\n      <td>418.2</td>\n      <td>-46.41</td>\n    </tr>\n    <tr>\n      <th>1990</th>\n      <td>403.0</td>\n      <td>-3.63</td>\n    </tr>\n    <tr>\n      <th>1991</th>\n      <td>452.0</td>\n      <td>12.16</td>\n    </tr>\n    <tr>\n      <th>1992</th>\n      <td>356.0</td>\n      <td>-21.24</td>\n    </tr>\n    <tr>\n      <th>1993</th>\n      <td>888.0</td>\n      <td>149.44</td>\n    </tr>\n    <tr>\n      <th>1994</th>\n      <td>1290.0</td>\n      <td>45.27</td>\n    </tr>\n    <tr>\n      <th>1995</th>\n      <td>1553.0</td>\n      <td>20.39</td>\n    </tr>\n    <tr>\n      <th>1996</th>\n      <td>978.0</td>\n      <td>-37.03</td>\n    </tr>\n    <tr>\n      <th>1997</th>\n      <td>3020.0</td>\n      <td>208.79</td>\n    </tr>\n    <tr>\n      <th>1998</th>\n      <td>2341.0</td>\n      <td>-22.48</td>\n    </tr>\n    <tr>\n      <th>1999</th>\n      <td>2826.0</td>\n      <td>20.72</td>\n    </tr>\n    <tr>\n      <th>2000</th>\n      <td>4003.0</td>\n      <td>41.65</td>\n    </tr>\n    <tr>\n      <th>2001</th>\n      <td>2944.0</td>\n      <td>-26.46</td>\n    </tr>\n    <tr>\n      <th>2002</th>\n      <td>3012.0</td>\n      <td>2.31</td>\n    </tr>\n    <tr>\n      <th>2003</th>\n      <td>4329.0</td>\n      <td>43.73</td>\n    </tr>\n    <tr>\n      <th>2004</th>\n      <td>6358.0</td>\n      <td>46.87</td>\n    </tr>\n    <tr>\n      <th>2005</th>\n      <td>5330.0</td>\n      <td>-16.17</td>\n    </tr>\n    <tr>\n      <th>2006</th>\n      <td>3717.0</td>\n      <td>-30.26</td>\n    </tr>\n    <tr>\n      <th>2007</th>\n      <td>2924.0</td>\n      <td>-21.33</td>\n    </tr>\n    <tr>\n      <th>2008</th>\n      <td>2540.0</td>\n      <td>-13.13</td>\n    </tr>\n    <tr>\n      <th>2009</th>\n      <td>2925.0</td>\n      <td>15.16</td>\n    </tr>\n    <tr>\n      <th>2010</th>\n      <td>3072.0</td>\n      <td>5.03</td>\n    </tr>\n    <tr>\n      <th>2011</th>\n      <td>2935.0</td>\n      <td>-4.46</td>\n    </tr>\n    <tr>\n      <th>2012</th>\n      <td>3965.0</td>\n      <td>35.09</td>\n    </tr>\n    <tr>\n      <th>2013</th>\n      <td>3829.0</td>\n      <td>-3.43</td>\n    </tr>\n    <tr>\n      <th>2014</th>\n      <td>3541.0</td>\n      <td>-7.52</td>\n    </tr>\n    <tr>\n      <th>2015</th>\n      <td>3218.0</td>\n      <td>-9.12</td>\n    </tr>\n    <tr>\n      <th>2016</th>\n      <td>3490.0</td>\n      <td>8.45</td>\n    </tr>\n    <tr>\n      <th>2017</th>\n      <td>4469.0</td>\n      <td>28.05</td>\n    </tr>\n    <tr>\n      <th>2018</th>\n      <td>4233.0</td>\n      <td>-5.28</td>\n    </tr>\n    <tr>\n      <th>2019</th>\n      <td>5387.0</td>\n      <td>27.26</td>\n    </tr>\n    <tr>\n      <th>2020</th>\n      <td>6568.0</td>\n      <td>21.92</td>\n    </tr>\n    <tr>\n      <th>2021</th>\n      <td>9739.0</td>\n      <td>48.28</td>\n    </tr>\n    <tr>\n      <th>2022</th>\n      <td>9067.0</td>\n      <td>-6.90</td>\n    </tr>\n    <tr>\n      <th>2023</th>\n      <td>8575.0</td>\n      <td>-5.43</td>\n    </tr>\n  </tbody>\n</table>\n</div>"
     },
     "execution_count": 4,
     "metadata": {},
     "output_type": "execute_result"
    }
   ],
   "source": [
    "cash_s = pd.Series(grow_df['Cash'])\n",
    "cash_pc_s = round(cash_s.pct_change() * 100, 2)\n",
    "cash_dict = {'Cash' : cash_s, 'PercentChange' : cash_pc_s}\n",
    "\n",
    "cash_df = pd.DataFrame(cash_dict)\n",
    "\n",
    "cash_df"
   ],
   "metadata": {
    "collapsed": false,
    "pycharm": {
     "name": "#%%\n"
    }
   }
  },
  {
   "cell_type": "markdown",
   "source": [
    "# Shares Outstanding"
   ],
   "metadata": {
    "collapsed": false,
    "pycharm": {
     "name": "#%% md\n"
    }
   }
  },
  {
   "cell_type": "code",
   "execution_count": 5,
   "outputs": [
    {
     "name": "stdout",
     "output_type": "stream",
     "text": [
      "Ten YearAverage Share Growth: -1.92%\n",
      "Five Year Average Share Growth: -1.53%\n",
      "Three Year Average Share Growth: -0.61%\n"
     ]
    },
    {
     "data": {
      "text/plain": "            SharesOutDiluted  PercentChange\nFiscalYear                                 \n1984                1128.571            NaN\n1985                1187.000           5.18\n1986                 946.667         -20.25\n1987                1272.105          34.38\n1988                1291.923           1.56\n1989                1331.579           3.07\n1990                1250.000          -6.13\n1991                1302.941           4.24\n1992                1312.500           0.73\n1993                1497.696          14.11\n1994                1526.992           1.96\n1995                1549.048           1.44\n1996                1517.552          -2.03\n1997                1590.908           4.83\n1998                1772.549          11.42\n1999                1748.193          -1.37\n2000                1788.304           2.29\n2001                1675.000          -6.34\n2002                1720.000           2.69\n2003                1996.667          16.09\n2004                1768.000         -11.45\n2005                1671.000          -5.49\n2006                1560.000          -6.64\n2007                1446.000          -7.31\n2008                1321.000          -8.64\n2009                1269.000          -3.94\n2010                1213.000          -4.41\n2011                1171.000          -3.46\n2012                1146.000          -2.13\n2013                1113.000          -2.88\n2014                1080.000          -2.96\n2015                1043.000          -3.43\n2016                1021.000          -2.11\n2017                1012.000          -0.88\n2018                 990.000          -2.17\n2019                 952.000          -3.84\n2020                 933.000          -2.00\n2021                 936.000           0.32\n2022                 926.000          -1.07\n2023                 916.000          -1.08",
      "text/html": "<div>\n<style scoped>\n    .dataframe tbody tr th:only-of-type {\n        vertical-align: middle;\n    }\n\n    .dataframe tbody tr th {\n        vertical-align: top;\n    }\n\n    .dataframe thead th {\n        text-align: right;\n    }\n</style>\n<table border=\"1\" class=\"dataframe\">\n  <thead>\n    <tr style=\"text-align: right;\">\n      <th></th>\n      <th>SharesOutDiluted</th>\n      <th>PercentChange</th>\n    </tr>\n    <tr>\n      <th>FiscalYear</th>\n      <th></th>\n      <th></th>\n    </tr>\n  </thead>\n  <tbody>\n    <tr>\n      <th>1984</th>\n      <td>1128.571</td>\n      <td>NaN</td>\n    </tr>\n    <tr>\n      <th>1985</th>\n      <td>1187.000</td>\n      <td>5.18</td>\n    </tr>\n    <tr>\n      <th>1986</th>\n      <td>946.667</td>\n      <td>-20.25</td>\n    </tr>\n    <tr>\n      <th>1987</th>\n      <td>1272.105</td>\n      <td>34.38</td>\n    </tr>\n    <tr>\n      <th>1988</th>\n      <td>1291.923</td>\n      <td>1.56</td>\n    </tr>\n    <tr>\n      <th>1989</th>\n      <td>1331.579</td>\n      <td>3.07</td>\n    </tr>\n    <tr>\n      <th>1990</th>\n      <td>1250.000</td>\n      <td>-6.13</td>\n    </tr>\n    <tr>\n      <th>1991</th>\n      <td>1302.941</td>\n      <td>4.24</td>\n    </tr>\n    <tr>\n      <th>1992</th>\n      <td>1312.500</td>\n      <td>0.73</td>\n    </tr>\n    <tr>\n      <th>1993</th>\n      <td>1497.696</td>\n      <td>14.11</td>\n    </tr>\n    <tr>\n      <th>1994</th>\n      <td>1526.992</td>\n      <td>1.96</td>\n    </tr>\n    <tr>\n      <th>1995</th>\n      <td>1549.048</td>\n      <td>1.44</td>\n    </tr>\n    <tr>\n      <th>1996</th>\n      <td>1517.552</td>\n      <td>-2.03</td>\n    </tr>\n    <tr>\n      <th>1997</th>\n      <td>1590.908</td>\n      <td>4.83</td>\n    </tr>\n    <tr>\n      <th>1998</th>\n      <td>1772.549</td>\n      <td>11.42</td>\n    </tr>\n    <tr>\n      <th>1999</th>\n      <td>1748.193</td>\n      <td>-1.37</td>\n    </tr>\n    <tr>\n      <th>2000</th>\n      <td>1788.304</td>\n      <td>2.29</td>\n    </tr>\n    <tr>\n      <th>2001</th>\n      <td>1675.000</td>\n      <td>-6.34</td>\n    </tr>\n    <tr>\n      <th>2002</th>\n      <td>1720.000</td>\n      <td>2.69</td>\n    </tr>\n    <tr>\n      <th>2003</th>\n      <td>1996.667</td>\n      <td>16.09</td>\n    </tr>\n    <tr>\n      <th>2004</th>\n      <td>1768.000</td>\n      <td>-11.45</td>\n    </tr>\n    <tr>\n      <th>2005</th>\n      <td>1671.000</td>\n      <td>-5.49</td>\n    </tr>\n    <tr>\n      <th>2006</th>\n      <td>1560.000</td>\n      <td>-6.64</td>\n    </tr>\n    <tr>\n      <th>2007</th>\n      <td>1446.000</td>\n      <td>-7.31</td>\n    </tr>\n    <tr>\n      <th>2008</th>\n      <td>1321.000</td>\n      <td>-8.64</td>\n    </tr>\n    <tr>\n      <th>2009</th>\n      <td>1269.000</td>\n      <td>-3.94</td>\n    </tr>\n    <tr>\n      <th>2010</th>\n      <td>1213.000</td>\n      <td>-4.41</td>\n    </tr>\n    <tr>\n      <th>2011</th>\n      <td>1171.000</td>\n      <td>-3.46</td>\n    </tr>\n    <tr>\n      <th>2012</th>\n      <td>1146.000</td>\n      <td>-2.13</td>\n    </tr>\n    <tr>\n      <th>2013</th>\n      <td>1113.000</td>\n      <td>-2.88</td>\n    </tr>\n    <tr>\n      <th>2014</th>\n      <td>1080.000</td>\n      <td>-2.96</td>\n    </tr>\n    <tr>\n      <th>2015</th>\n      <td>1043.000</td>\n      <td>-3.43</td>\n    </tr>\n    <tr>\n      <th>2016</th>\n      <td>1021.000</td>\n      <td>-2.11</td>\n    </tr>\n    <tr>\n      <th>2017</th>\n      <td>1012.000</td>\n      <td>-0.88</td>\n    </tr>\n    <tr>\n      <th>2018</th>\n      <td>990.000</td>\n      <td>-2.17</td>\n    </tr>\n    <tr>\n      <th>2019</th>\n      <td>952.000</td>\n      <td>-3.84</td>\n    </tr>\n    <tr>\n      <th>2020</th>\n      <td>933.000</td>\n      <td>-2.00</td>\n    </tr>\n    <tr>\n      <th>2021</th>\n      <td>936.000</td>\n      <td>0.32</td>\n    </tr>\n    <tr>\n      <th>2022</th>\n      <td>926.000</td>\n      <td>-1.07</td>\n    </tr>\n    <tr>\n      <th>2023</th>\n      <td>916.000</td>\n      <td>-1.08</td>\n    </tr>\n  </tbody>\n</table>\n</div>"
     },
     "execution_count": 5,
     "metadata": {},
     "output_type": "execute_result"
    }
   ],
   "source": [
    "share_s = pd.Series(grow_df['SharesOutDiluted'])\n",
    "share_pc_s = round(share_s.pct_change() * 100, 2)\n",
    "share_dict = {'SharesOutDiluted' : share_s, 'PercentChange' : share_pc_s}\n",
    "\n",
    "share_df = pd.DataFrame(share_dict)\n",
    "\n",
    "share_df_10 = share_df[share_df.index > year10]\n",
    "share_df_5 = share_df[share_df.index > year5]\n",
    "share_df_3 = share_df[share_df.index > year3]\n",
    "\n",
    "share_mn_10 = round(share_df_10['PercentChange'].mean(), 2)\n",
    "share_mn_5 = round(share_df_5['PercentChange'].mean(), 2)\n",
    "share_mn_3 = round(share_df_3['PercentChange'].mean(), 2)\n",
    "\n",
    "print(f'Ten YearAverage Share Growth: {share_mn_10}%')\n",
    "print(f'Five Year Average Share Growth: {share_mn_5}%')\n",
    "print(f'Three Year Average Share Growth: {share_mn_3}%')\n",
    "\n",
    "share_df"
   ],
   "metadata": {
    "collapsed": false,
    "pycharm": {
     "name": "#%%\n"
    }
   }
  },
  {
   "cell_type": "markdown",
   "source": [
    "# Dividend Growth"
   ],
   "metadata": {
    "collapsed": false,
    "pycharm": {
     "name": "#%% md\n"
    }
   }
  },
  {
   "cell_type": "code",
   "execution_count": 6,
   "outputs": [
    {
     "name": "stdout",
     "output_type": "stream",
     "text": [
      "Ten YearAverage Dividend Growth: 14.67%\n",
      "Five Year Average Dividend Growth: 12.34%\n",
      "Three Year Average Dividend Growth: 10.02%\n"
     ]
    },
    {
     "data": {
      "text/plain": "            CashForDividends  PercentChange\nFiscalYear                                 \n1984                     0.0            NaN\n1985                     0.0            NaN\n1986                     0.0            NaN\n1987                     0.0            NaN\n1988                     0.0            NaN\n1989                    97.3            inf\n1990                    94.0          -3.39\n1991                    90.0          -4.26\n1992                    98.0           8.89\n1993                    86.0         -12.24\n1994                    79.0          -8.14\n1995                   111.0          40.51\n1996                   129.0          16.22\n1997                   131.0           1.55\n1998                   133.0           1.53\n1999                   134.0           0.75\n2000                   141.0           5.22\n2001                   147.0           4.26\n2002                   147.0           0.00\n2003                   147.0           0.00\n2004                   154.0           4.76\n2005                   173.0          12.34\n2006                   199.0          15.03\n2007                   425.0         113.57\n2008                   537.0          26.35\n2009                   567.0           5.59\n2010                   592.0           4.41\n2011                   644.0           8.78\n2012                   819.0          27.17\n2013                  1175.0          43.47\n2014                  1323.0          12.60\n2015                  1444.0           9.15\n2016                  1646.0          13.99\n2017                  2104.0          27.83\n2018                  2555.0          21.44\n2019                  3008.0          17.73\n2020                  3426.0          13.90\n2021                  3886.0          13.43\n2022                  4297.0          10.58\n2023                  4557.0           6.05",
      "text/html": "<div>\n<style scoped>\n    .dataframe tbody tr th:only-of-type {\n        vertical-align: middle;\n    }\n\n    .dataframe tbody tr th {\n        vertical-align: top;\n    }\n\n    .dataframe thead th {\n        text-align: right;\n    }\n</style>\n<table border=\"1\" class=\"dataframe\">\n  <thead>\n    <tr style=\"text-align: right;\">\n      <th></th>\n      <th>CashForDividends</th>\n      <th>PercentChange</th>\n    </tr>\n    <tr>\n      <th>FiscalYear</th>\n      <th></th>\n      <th></th>\n    </tr>\n  </thead>\n  <tbody>\n    <tr>\n      <th>1984</th>\n      <td>0.0</td>\n      <td>NaN</td>\n    </tr>\n    <tr>\n      <th>1985</th>\n      <td>0.0</td>\n      <td>NaN</td>\n    </tr>\n    <tr>\n      <th>1986</th>\n      <td>0.0</td>\n      <td>NaN</td>\n    </tr>\n    <tr>\n      <th>1987</th>\n      <td>0.0</td>\n      <td>NaN</td>\n    </tr>\n    <tr>\n      <th>1988</th>\n      <td>0.0</td>\n      <td>NaN</td>\n    </tr>\n    <tr>\n      <th>1989</th>\n      <td>97.3</td>\n      <td>inf</td>\n    </tr>\n    <tr>\n      <th>1990</th>\n      <td>94.0</td>\n      <td>-3.39</td>\n    </tr>\n    <tr>\n      <th>1991</th>\n      <td>90.0</td>\n      <td>-4.26</td>\n    </tr>\n    <tr>\n      <th>1992</th>\n      <td>98.0</td>\n      <td>8.89</td>\n    </tr>\n    <tr>\n      <th>1993</th>\n      <td>86.0</td>\n      <td>-12.24</td>\n    </tr>\n    <tr>\n      <th>1994</th>\n      <td>79.0</td>\n      <td>-8.14</td>\n    </tr>\n    <tr>\n      <th>1995</th>\n      <td>111.0</td>\n      <td>40.51</td>\n    </tr>\n    <tr>\n      <th>1996</th>\n      <td>129.0</td>\n      <td>16.22</td>\n    </tr>\n    <tr>\n      <th>1997</th>\n      <td>131.0</td>\n      <td>1.55</td>\n    </tr>\n    <tr>\n      <th>1998</th>\n      <td>133.0</td>\n      <td>1.53</td>\n    </tr>\n    <tr>\n      <th>1999</th>\n      <td>134.0</td>\n      <td>0.75</td>\n    </tr>\n    <tr>\n      <th>2000</th>\n      <td>141.0</td>\n      <td>5.22</td>\n    </tr>\n    <tr>\n      <th>2001</th>\n      <td>147.0</td>\n      <td>4.26</td>\n    </tr>\n    <tr>\n      <th>2002</th>\n      <td>147.0</td>\n      <td>0.00</td>\n    </tr>\n    <tr>\n      <th>2003</th>\n      <td>147.0</td>\n      <td>0.00</td>\n    </tr>\n    <tr>\n      <th>2004</th>\n      <td>154.0</td>\n      <td>4.76</td>\n    </tr>\n    <tr>\n      <th>2005</th>\n      <td>173.0</td>\n      <td>12.34</td>\n    </tr>\n    <tr>\n      <th>2006</th>\n      <td>199.0</td>\n      <td>15.03</td>\n    </tr>\n    <tr>\n      <th>2007</th>\n      <td>425.0</td>\n      <td>113.57</td>\n    </tr>\n    <tr>\n      <th>2008</th>\n      <td>537.0</td>\n      <td>26.35</td>\n    </tr>\n    <tr>\n      <th>2009</th>\n      <td>567.0</td>\n      <td>5.59</td>\n    </tr>\n    <tr>\n      <th>2010</th>\n      <td>592.0</td>\n      <td>4.41</td>\n    </tr>\n    <tr>\n      <th>2011</th>\n      <td>644.0</td>\n      <td>8.78</td>\n    </tr>\n    <tr>\n      <th>2012</th>\n      <td>819.0</td>\n      <td>27.17</td>\n    </tr>\n    <tr>\n      <th>2013</th>\n      <td>1175.0</td>\n      <td>43.47</td>\n    </tr>\n    <tr>\n      <th>2014</th>\n      <td>1323.0</td>\n      <td>12.60</td>\n    </tr>\n    <tr>\n      <th>2015</th>\n      <td>1444.0</td>\n      <td>9.15</td>\n    </tr>\n    <tr>\n      <th>2016</th>\n      <td>1646.0</td>\n      <td>13.99</td>\n    </tr>\n    <tr>\n      <th>2017</th>\n      <td>2104.0</td>\n      <td>27.83</td>\n    </tr>\n    <tr>\n      <th>2018</th>\n      <td>2555.0</td>\n      <td>21.44</td>\n    </tr>\n    <tr>\n      <th>2019</th>\n      <td>3008.0</td>\n      <td>17.73</td>\n    </tr>\n    <tr>\n      <th>2020</th>\n      <td>3426.0</td>\n      <td>13.90</td>\n    </tr>\n    <tr>\n      <th>2021</th>\n      <td>3886.0</td>\n      <td>13.43</td>\n    </tr>\n    <tr>\n      <th>2022</th>\n      <td>4297.0</td>\n      <td>10.58</td>\n    </tr>\n    <tr>\n      <th>2023</th>\n      <td>4557.0</td>\n      <td>6.05</td>\n    </tr>\n  </tbody>\n</table>\n</div>"
     },
     "execution_count": 6,
     "metadata": {},
     "output_type": "execute_result"
    }
   ],
   "source": [
    "div_s = pd.Series(grow_df['CashForDividends'].abs())\n",
    "div_pc_s = round(div_s.pct_change() * 100, 2)\n",
    "div_dict = {'CashForDividends' : div_s, 'PercentChange' : div_pc_s}\n",
    "\n",
    "div_df = pd.DataFrame(div_dict)\n",
    "\n",
    "div_df_10 = div_df[div_df.index > year10]\n",
    "div_df_5 = div_df[div_df.index > year5]\n",
    "div_df_3 = div_df[div_df.index > year3]\n",
    "\n",
    "div_mn_10 = round(div_df_10['PercentChange'].mean(), 2)\n",
    "div_mn_5 = round(div_df_5['PercentChange'].mean(), 2)\n",
    "div_mn_3 = round(div_df_3['PercentChange'].mean(), 2)\n",
    "\n",
    "print(f'Ten YearAverage Dividend Growth: {div_mn_10}%')\n",
    "print(f'Five Year Average Dividend Growth: {div_mn_5}%')\n",
    "print(f'Three Year Average Dividend Growth: {div_mn_3}%')\n",
    "\n",
    "div_df"
   ],
   "metadata": {
    "collapsed": false,
    "pycharm": {
     "name": "#%%\n"
    }
   }
  },
  {
   "cell_type": "code",
   "execution_count": 6,
   "outputs": [],
   "source": [],
   "metadata": {
    "collapsed": false,
    "pycharm": {
     "name": "#%%\n"
    }
   }
  }
 ],
 "metadata": {
  "kernelspec": {
   "display_name": "Python 3",
   "language": "python",
   "name": "python3"
  },
  "language_info": {
   "codemirror_mode": {
    "name": "ipython",
    "version": 2
   },
   "file_extension": ".py",
   "mimetype": "text/x-python",
   "name": "python",
   "nbconvert_exporter": "python",
   "pygments_lexer": "ipython2",
   "version": "2.7.6"
  }
 },
 "nbformat": 4,
 "nbformat_minor": 0
}