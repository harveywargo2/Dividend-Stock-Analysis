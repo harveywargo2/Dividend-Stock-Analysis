{
 "cells": [
  {
   "cell_type": "markdown",
   "source": [
    "# Analysis Growth"
   ],
   "metadata": {
    "collapsed": false,
    "pycharm": {
     "name": "#%% md\n"
    }
   }
  },
  {
   "cell_type": "code",
   "execution_count": 1,
   "outputs": [],
   "source": [
    "import pandas as pd\n",
    "import datetime\n",
    "\n",
    "Grow_Data_Fy = 'Data_Growth_Fy-AAPL.csv'\n",
    "today = datetime.date.today()\n",
    "year10 = today.year - 11\n",
    "year5 = today.year - 6\n",
    "year3 = today.year - 4"
   ],
   "metadata": {
    "collapsed": false,
    "pycharm": {
     "name": "#%%\n"
    }
   }
  },
  {
   "cell_type": "markdown",
   "source": [
    "# Waterfall Analysis"
   ],
   "metadata": {
    "collapsed": false,
    "pycharm": {
     "name": "#%% md\n"
    }
   }
  },
  {
   "cell_type": "code",
   "execution_count": 2,
   "outputs": [
    {
     "data": {
      "text/plain": "               Revenue  CashEquivalents  MarketSecurities  SharesOutBasic  \\\nFiscalYear                                                                  \n1984          1515.900          114.900              0.00       13294.815   \n1985          1918.300          337.000              0.00       13708.800   \n1986          1901.900          576.200              0.00       14373.333   \n1987          2661.100          565.100              0.00       14674.699   \n1988          4071.400          545.700              0.00       14556.364   \n1989          5284.000          438.300              0.00       14363.842   \n1990          5558.400          374.700              0.00       14071.111   \n1991          6308.800          604.100              0.00       13448.682   \n1992          7086.542          498.600              0.00       13718.880   \n1993          7977.000          676.413            215.89       13342.000   \n1994          9189.000         1203.000             55.00       13298.320   \n1995         11062.000          756.000            196.00       13781.264   \n1996          9833.000         1552.000            193.00       13858.208   \n1997          7081.000         1230.000            229.00       14118.944   \n1998          5941.000         1481.000            819.00       14781.088   \n1999          6134.000         1326.000           1900.00       16033.584   \n2000          7983.000         1191.000           2836.00       18175.808   \n2001          5363.000         2310.000           2026.00       19354.328   \n2002          5742.000         2252.000           2085.00       19881.232   \n2003          6207.000         3396.000           1170.00       20195.336   \n2004          8279.000         2969.000           2495.00       20809.040   \n2005         13931.000         3491.000           4770.00       22636.292   \n2006         19315.000         6392.000           3718.00       23633.624   \n2007         24578.000         9352.000           6034.00       24208.660   \n2008         37491.000        11875.000          10236.00       24684.576   \n2009         42905.000         5263.000          18201.00       25004.448   \n2010         65225.000        11261.000          14359.00       25464.908   \n2011        108249.000         9815.000          16137.00       25879.224   \n2012        156508.000        10746.000          18383.00       26174.904   \n2013        170910.000        14259.000          26287.00       25909.280   \n2014        182795.000        13844.000          11233.00       24342.288   \n2015        233715.000        21120.000          20481.00       23013.684   \n2016        215639.000        20484.000          46671.00       21883.280   \n2017        229234.000        20289.000          53892.00       20868.968   \n2018        265595.000        25913.000          40388.00       19821.510   \n2019        260174.000        48844.000          51713.00       18471.336   \n2020        274515.000        38016.000          52927.00       17352.119   \n2021        365817.000        34940.000          27699.00       16701.272   \n2022        394328.000        23646.000          24658.00       16215.963   \n2023        383285.000        29965.000          31590.00       15744.231   \n\n            SharesOutDiluted  CashForDividends        Cash  \nFiscalYear                                                  \n1984               13294.815             0.000     114.900  \n1985               13708.800             0.000     337.000  \n1986               14373.333             0.000     576.200  \n1987               14674.699             0.000     565.100  \n1988               14556.364             0.000     545.700  \n1989               14363.842           -50.300     438.300  \n1990               14071.111           -53.800     374.700  \n1991               13448.682           -56.500     604.100  \n1992               13729.632           -57.196     498.600  \n1993               13424.000           -56.000     892.303  \n1994               13298.320           -56.000    1258.000  \n1995               13781.264           -58.000     952.000  \n1996               13858.208           -14.000    1745.000  \n1997               14118.944             0.000    1459.000  \n1998               18806.704             0.000    2300.000  \n1999               19506.368             0.000    3226.000  \n2000               20178.144             0.000    4027.000  \n2001               19354.328             0.000    4336.000  \n2002               20259.960             0.000    4337.000  \n2003               20354.096             0.000    4566.000  \n2004               21693.728             0.000    5464.000  \n2005               23992.584             0.000    8261.000  \n2006               24570.728             0.000   10110.000  \n2007               24900.176             0.000   15386.000  \n2008               25259.892             0.000   22111.000  \n2009               25396.140             0.000   23464.000  \n2010               25891.936             0.000   25620.000  \n2011               26226.060             0.000   25952.000  \n2012               26469.932         -2488.000   29129.000  \n2013               26086.536        -10564.000   40546.000  \n2014               24490.652        -11126.000   25077.000  \n2015               23172.276        -11561.000   41601.000  \n2016               22001.124        -12150.000   67155.000  \n2017               21006.768        -12769.000   74181.000  \n2018               20000.435        -13712.000   66301.000  \n2019               18595.651        -14119.000  100557.000  \n2020               17528.214        -14081.000   90943.000  \n2021               16864.919        -14467.000   62639.000  \n2022               16325.819        -14841.000   48304.000  \n2023               15812.547        -15025.000   61555.000  ",
      "text/html": "<div>\n<style scoped>\n    .dataframe tbody tr th:only-of-type {\n        vertical-align: middle;\n    }\n\n    .dataframe tbody tr th {\n        vertical-align: top;\n    }\n\n    .dataframe thead th {\n        text-align: right;\n    }\n</style>\n<table border=\"1\" class=\"dataframe\">\n  <thead>\n    <tr style=\"text-align: right;\">\n      <th></th>\n      <th>Revenue</th>\n      <th>CashEquivalents</th>\n      <th>MarketSecurities</th>\n      <th>SharesOutBasic</th>\n      <th>SharesOutDiluted</th>\n      <th>CashForDividends</th>\n      <th>Cash</th>\n    </tr>\n    <tr>\n      <th>FiscalYear</th>\n      <th></th>\n      <th></th>\n      <th></th>\n      <th></th>\n      <th></th>\n      <th></th>\n      <th></th>\n    </tr>\n  </thead>\n  <tbody>\n    <tr>\n      <th>1984</th>\n      <td>1515.900</td>\n      <td>114.900</td>\n      <td>0.00</td>\n      <td>13294.815</td>\n      <td>13294.815</td>\n      <td>0.000</td>\n      <td>114.900</td>\n    </tr>\n    <tr>\n      <th>1985</th>\n      <td>1918.300</td>\n      <td>337.000</td>\n      <td>0.00</td>\n      <td>13708.800</td>\n      <td>13708.800</td>\n      <td>0.000</td>\n      <td>337.000</td>\n    </tr>\n    <tr>\n      <th>1986</th>\n      <td>1901.900</td>\n      <td>576.200</td>\n      <td>0.00</td>\n      <td>14373.333</td>\n      <td>14373.333</td>\n      <td>0.000</td>\n      <td>576.200</td>\n    </tr>\n    <tr>\n      <th>1987</th>\n      <td>2661.100</td>\n      <td>565.100</td>\n      <td>0.00</td>\n      <td>14674.699</td>\n      <td>14674.699</td>\n      <td>0.000</td>\n      <td>565.100</td>\n    </tr>\n    <tr>\n      <th>1988</th>\n      <td>4071.400</td>\n      <td>545.700</td>\n      <td>0.00</td>\n      <td>14556.364</td>\n      <td>14556.364</td>\n      <td>0.000</td>\n      <td>545.700</td>\n    </tr>\n    <tr>\n      <th>1989</th>\n      <td>5284.000</td>\n      <td>438.300</td>\n      <td>0.00</td>\n      <td>14363.842</td>\n      <td>14363.842</td>\n      <td>-50.300</td>\n      <td>438.300</td>\n    </tr>\n    <tr>\n      <th>1990</th>\n      <td>5558.400</td>\n      <td>374.700</td>\n      <td>0.00</td>\n      <td>14071.111</td>\n      <td>14071.111</td>\n      <td>-53.800</td>\n      <td>374.700</td>\n    </tr>\n    <tr>\n      <th>1991</th>\n      <td>6308.800</td>\n      <td>604.100</td>\n      <td>0.00</td>\n      <td>13448.682</td>\n      <td>13448.682</td>\n      <td>-56.500</td>\n      <td>604.100</td>\n    </tr>\n    <tr>\n      <th>1992</th>\n      <td>7086.542</td>\n      <td>498.600</td>\n      <td>0.00</td>\n      <td>13718.880</td>\n      <td>13729.632</td>\n      <td>-57.196</td>\n      <td>498.600</td>\n    </tr>\n    <tr>\n      <th>1993</th>\n      <td>7977.000</td>\n      <td>676.413</td>\n      <td>215.89</td>\n      <td>13342.000</td>\n      <td>13424.000</td>\n      <td>-56.000</td>\n      <td>892.303</td>\n    </tr>\n    <tr>\n      <th>1994</th>\n      <td>9189.000</td>\n      <td>1203.000</td>\n      <td>55.00</td>\n      <td>13298.320</td>\n      <td>13298.320</td>\n      <td>-56.000</td>\n      <td>1258.000</td>\n    </tr>\n    <tr>\n      <th>1995</th>\n      <td>11062.000</td>\n      <td>756.000</td>\n      <td>196.00</td>\n      <td>13781.264</td>\n      <td>13781.264</td>\n      <td>-58.000</td>\n      <td>952.000</td>\n    </tr>\n    <tr>\n      <th>1996</th>\n      <td>9833.000</td>\n      <td>1552.000</td>\n      <td>193.00</td>\n      <td>13858.208</td>\n      <td>13858.208</td>\n      <td>-14.000</td>\n      <td>1745.000</td>\n    </tr>\n    <tr>\n      <th>1997</th>\n      <td>7081.000</td>\n      <td>1230.000</td>\n      <td>229.00</td>\n      <td>14118.944</td>\n      <td>14118.944</td>\n      <td>0.000</td>\n      <td>1459.000</td>\n    </tr>\n    <tr>\n      <th>1998</th>\n      <td>5941.000</td>\n      <td>1481.000</td>\n      <td>819.00</td>\n      <td>14781.088</td>\n      <td>18806.704</td>\n      <td>0.000</td>\n      <td>2300.000</td>\n    </tr>\n    <tr>\n      <th>1999</th>\n      <td>6134.000</td>\n      <td>1326.000</td>\n      <td>1900.00</td>\n      <td>16033.584</td>\n      <td>19506.368</td>\n      <td>0.000</td>\n      <td>3226.000</td>\n    </tr>\n    <tr>\n      <th>2000</th>\n      <td>7983.000</td>\n      <td>1191.000</td>\n      <td>2836.00</td>\n      <td>18175.808</td>\n      <td>20178.144</td>\n      <td>0.000</td>\n      <td>4027.000</td>\n    </tr>\n    <tr>\n      <th>2001</th>\n      <td>5363.000</td>\n      <td>2310.000</td>\n      <td>2026.00</td>\n      <td>19354.328</td>\n      <td>19354.328</td>\n      <td>0.000</td>\n      <td>4336.000</td>\n    </tr>\n    <tr>\n      <th>2002</th>\n      <td>5742.000</td>\n      <td>2252.000</td>\n      <td>2085.00</td>\n      <td>19881.232</td>\n      <td>20259.960</td>\n      <td>0.000</td>\n      <td>4337.000</td>\n    </tr>\n    <tr>\n      <th>2003</th>\n      <td>6207.000</td>\n      <td>3396.000</td>\n      <td>1170.00</td>\n      <td>20195.336</td>\n      <td>20354.096</td>\n      <td>0.000</td>\n      <td>4566.000</td>\n    </tr>\n    <tr>\n      <th>2004</th>\n      <td>8279.000</td>\n      <td>2969.000</td>\n      <td>2495.00</td>\n      <td>20809.040</td>\n      <td>21693.728</td>\n      <td>0.000</td>\n      <td>5464.000</td>\n    </tr>\n    <tr>\n      <th>2005</th>\n      <td>13931.000</td>\n      <td>3491.000</td>\n      <td>4770.00</td>\n      <td>22636.292</td>\n      <td>23992.584</td>\n      <td>0.000</td>\n      <td>8261.000</td>\n    </tr>\n    <tr>\n      <th>2006</th>\n      <td>19315.000</td>\n      <td>6392.000</td>\n      <td>3718.00</td>\n      <td>23633.624</td>\n      <td>24570.728</td>\n      <td>0.000</td>\n      <td>10110.000</td>\n    </tr>\n    <tr>\n      <th>2007</th>\n      <td>24578.000</td>\n      <td>9352.000</td>\n      <td>6034.00</td>\n      <td>24208.660</td>\n      <td>24900.176</td>\n      <td>0.000</td>\n      <td>15386.000</td>\n    </tr>\n    <tr>\n      <th>2008</th>\n      <td>37491.000</td>\n      <td>11875.000</td>\n      <td>10236.00</td>\n      <td>24684.576</td>\n      <td>25259.892</td>\n      <td>0.000</td>\n      <td>22111.000</td>\n    </tr>\n    <tr>\n      <th>2009</th>\n      <td>42905.000</td>\n      <td>5263.000</td>\n      <td>18201.00</td>\n      <td>25004.448</td>\n      <td>25396.140</td>\n      <td>0.000</td>\n      <td>23464.000</td>\n    </tr>\n    <tr>\n      <th>2010</th>\n      <td>65225.000</td>\n      <td>11261.000</td>\n      <td>14359.00</td>\n      <td>25464.908</td>\n      <td>25891.936</td>\n      <td>0.000</td>\n      <td>25620.000</td>\n    </tr>\n    <tr>\n      <th>2011</th>\n      <td>108249.000</td>\n      <td>9815.000</td>\n      <td>16137.00</td>\n      <td>25879.224</td>\n      <td>26226.060</td>\n      <td>0.000</td>\n      <td>25952.000</td>\n    </tr>\n    <tr>\n      <th>2012</th>\n      <td>156508.000</td>\n      <td>10746.000</td>\n      <td>18383.00</td>\n      <td>26174.904</td>\n      <td>26469.932</td>\n      <td>-2488.000</td>\n      <td>29129.000</td>\n    </tr>\n    <tr>\n      <th>2013</th>\n      <td>170910.000</td>\n      <td>14259.000</td>\n      <td>26287.00</td>\n      <td>25909.280</td>\n      <td>26086.536</td>\n      <td>-10564.000</td>\n      <td>40546.000</td>\n    </tr>\n    <tr>\n      <th>2014</th>\n      <td>182795.000</td>\n      <td>13844.000</td>\n      <td>11233.00</td>\n      <td>24342.288</td>\n      <td>24490.652</td>\n      <td>-11126.000</td>\n      <td>25077.000</td>\n    </tr>\n    <tr>\n      <th>2015</th>\n      <td>233715.000</td>\n      <td>21120.000</td>\n      <td>20481.00</td>\n      <td>23013.684</td>\n      <td>23172.276</td>\n      <td>-11561.000</td>\n      <td>41601.000</td>\n    </tr>\n    <tr>\n      <th>2016</th>\n      <td>215639.000</td>\n      <td>20484.000</td>\n      <td>46671.00</td>\n      <td>21883.280</td>\n      <td>22001.124</td>\n      <td>-12150.000</td>\n      <td>67155.000</td>\n    </tr>\n    <tr>\n      <th>2017</th>\n      <td>229234.000</td>\n      <td>20289.000</td>\n      <td>53892.00</td>\n      <td>20868.968</td>\n      <td>21006.768</td>\n      <td>-12769.000</td>\n      <td>74181.000</td>\n    </tr>\n    <tr>\n      <th>2018</th>\n      <td>265595.000</td>\n      <td>25913.000</td>\n      <td>40388.00</td>\n      <td>19821.510</td>\n      <td>20000.435</td>\n      <td>-13712.000</td>\n      <td>66301.000</td>\n    </tr>\n    <tr>\n      <th>2019</th>\n      <td>260174.000</td>\n      <td>48844.000</td>\n      <td>51713.00</td>\n      <td>18471.336</td>\n      <td>18595.651</td>\n      <td>-14119.000</td>\n      <td>100557.000</td>\n    </tr>\n    <tr>\n      <th>2020</th>\n      <td>274515.000</td>\n      <td>38016.000</td>\n      <td>52927.00</td>\n      <td>17352.119</td>\n      <td>17528.214</td>\n      <td>-14081.000</td>\n      <td>90943.000</td>\n    </tr>\n    <tr>\n      <th>2021</th>\n      <td>365817.000</td>\n      <td>34940.000</td>\n      <td>27699.00</td>\n      <td>16701.272</td>\n      <td>16864.919</td>\n      <td>-14467.000</td>\n      <td>62639.000</td>\n    </tr>\n    <tr>\n      <th>2022</th>\n      <td>394328.000</td>\n      <td>23646.000</td>\n      <td>24658.00</td>\n      <td>16215.963</td>\n      <td>16325.819</td>\n      <td>-14841.000</td>\n      <td>48304.000</td>\n    </tr>\n    <tr>\n      <th>2023</th>\n      <td>383285.000</td>\n      <td>29965.000</td>\n      <td>31590.00</td>\n      <td>15744.231</td>\n      <td>15812.547</td>\n      <td>-15025.000</td>\n      <td>61555.000</td>\n    </tr>\n  </tbody>\n</table>\n</div>"
     },
     "execution_count": 2,
     "metadata": {},
     "output_type": "execute_result"
    }
   ],
   "source": [
    "grow_df = pd.read_csv(Grow_Data_Fy,index_col='FiscalYear')\n",
    "grow_df['Cash'] = grow_df['CashEquivalents'] + grow_df['MarketSecurities']\n",
    "grow_df"
   ],
   "metadata": {
    "collapsed": false,
    "pycharm": {
     "name": "#%%\n"
    }
   }
  },
  {
   "cell_type": "code",
   "execution_count": 3,
   "outputs": [
    {
     "name": "stdout",
     "output_type": "stream",
     "text": [
      "Ten Year Average Revenue Growth: 9.1%\n",
      "Five Year Average Revenue Growth: 8.34%\n",
      "Three Year Average Revenue Growth: 12.75%\n"
     ]
    },
    {
     "data": {
      "text/plain": "               Revenue  PercentChange\nFiscalYear                           \n1984          1515.900            NaN\n1985          1918.300          26.55\n1986          1901.900          -0.85\n1987          2661.100          39.92\n1988          4071.400          53.00\n1989          5284.000          29.78\n1990          5558.400           5.19\n1991          6308.800          13.50\n1992          7086.542          12.33\n1993          7977.000          12.57\n1994          9189.000          15.19\n1995         11062.000          20.38\n1996          9833.000         -11.11\n1997          7081.000         -27.99\n1998          5941.000         -16.10\n1999          6134.000           3.25\n2000          7983.000          30.14\n2001          5363.000         -32.82\n2002          5742.000           7.07\n2003          6207.000           8.10\n2004          8279.000          33.38\n2005         13931.000          68.27\n2006         19315.000          38.65\n2007         24578.000          27.25\n2008         37491.000          52.54\n2009         42905.000          14.44\n2010         65225.000          52.02\n2011        108249.000          65.96\n2012        156508.000          44.58\n2013        170910.000           9.20\n2014        182795.000           6.95\n2015        233715.000          27.86\n2016        215639.000          -7.73\n2017        229234.000           6.30\n2018        265595.000          15.86\n2019        260174.000          -2.04\n2020        274515.000           5.51\n2021        365817.000          33.26\n2022        394328.000           7.79\n2023        383285.000          -2.80",
      "text/html": "<div>\n<style scoped>\n    .dataframe tbody tr th:only-of-type {\n        vertical-align: middle;\n    }\n\n    .dataframe tbody tr th {\n        vertical-align: top;\n    }\n\n    .dataframe thead th {\n        text-align: right;\n    }\n</style>\n<table border=\"1\" class=\"dataframe\">\n  <thead>\n    <tr style=\"text-align: right;\">\n      <th></th>\n      <th>Revenue</th>\n      <th>PercentChange</th>\n    </tr>\n    <tr>\n      <th>FiscalYear</th>\n      <th></th>\n      <th></th>\n    </tr>\n  </thead>\n  <tbody>\n    <tr>\n      <th>1984</th>\n      <td>1515.900</td>\n      <td>NaN</td>\n    </tr>\n    <tr>\n      <th>1985</th>\n      <td>1918.300</td>\n      <td>26.55</td>\n    </tr>\n    <tr>\n      <th>1986</th>\n      <td>1901.900</td>\n      <td>-0.85</td>\n    </tr>\n    <tr>\n      <th>1987</th>\n      <td>2661.100</td>\n      <td>39.92</td>\n    </tr>\n    <tr>\n      <th>1988</th>\n      <td>4071.400</td>\n      <td>53.00</td>\n    </tr>\n    <tr>\n      <th>1989</th>\n      <td>5284.000</td>\n      <td>29.78</td>\n    </tr>\n    <tr>\n      <th>1990</th>\n      <td>5558.400</td>\n      <td>5.19</td>\n    </tr>\n    <tr>\n      <th>1991</th>\n      <td>6308.800</td>\n      <td>13.50</td>\n    </tr>\n    <tr>\n      <th>1992</th>\n      <td>7086.542</td>\n      <td>12.33</td>\n    </tr>\n    <tr>\n      <th>1993</th>\n      <td>7977.000</td>\n      <td>12.57</td>\n    </tr>\n    <tr>\n      <th>1994</th>\n      <td>9189.000</td>\n      <td>15.19</td>\n    </tr>\n    <tr>\n      <th>1995</th>\n      <td>11062.000</td>\n      <td>20.38</td>\n    </tr>\n    <tr>\n      <th>1996</th>\n      <td>9833.000</td>\n      <td>-11.11</td>\n    </tr>\n    <tr>\n      <th>1997</th>\n      <td>7081.000</td>\n      <td>-27.99</td>\n    </tr>\n    <tr>\n      <th>1998</th>\n      <td>5941.000</td>\n      <td>-16.10</td>\n    </tr>\n    <tr>\n      <th>1999</th>\n      <td>6134.000</td>\n      <td>3.25</td>\n    </tr>\n    <tr>\n      <th>2000</th>\n      <td>7983.000</td>\n      <td>30.14</td>\n    </tr>\n    <tr>\n      <th>2001</th>\n      <td>5363.000</td>\n      <td>-32.82</td>\n    </tr>\n    <tr>\n      <th>2002</th>\n      <td>5742.000</td>\n      <td>7.07</td>\n    </tr>\n    <tr>\n      <th>2003</th>\n      <td>6207.000</td>\n      <td>8.10</td>\n    </tr>\n    <tr>\n      <th>2004</th>\n      <td>8279.000</td>\n      <td>33.38</td>\n    </tr>\n    <tr>\n      <th>2005</th>\n      <td>13931.000</td>\n      <td>68.27</td>\n    </tr>\n    <tr>\n      <th>2006</th>\n      <td>19315.000</td>\n      <td>38.65</td>\n    </tr>\n    <tr>\n      <th>2007</th>\n      <td>24578.000</td>\n      <td>27.25</td>\n    </tr>\n    <tr>\n      <th>2008</th>\n      <td>37491.000</td>\n      <td>52.54</td>\n    </tr>\n    <tr>\n      <th>2009</th>\n      <td>42905.000</td>\n      <td>14.44</td>\n    </tr>\n    <tr>\n      <th>2010</th>\n      <td>65225.000</td>\n      <td>52.02</td>\n    </tr>\n    <tr>\n      <th>2011</th>\n      <td>108249.000</td>\n      <td>65.96</td>\n    </tr>\n    <tr>\n      <th>2012</th>\n      <td>156508.000</td>\n      <td>44.58</td>\n    </tr>\n    <tr>\n      <th>2013</th>\n      <td>170910.000</td>\n      <td>9.20</td>\n    </tr>\n    <tr>\n      <th>2014</th>\n      <td>182795.000</td>\n      <td>6.95</td>\n    </tr>\n    <tr>\n      <th>2015</th>\n      <td>233715.000</td>\n      <td>27.86</td>\n    </tr>\n    <tr>\n      <th>2016</th>\n      <td>215639.000</td>\n      <td>-7.73</td>\n    </tr>\n    <tr>\n      <th>2017</th>\n      <td>229234.000</td>\n      <td>6.30</td>\n    </tr>\n    <tr>\n      <th>2018</th>\n      <td>265595.000</td>\n      <td>15.86</td>\n    </tr>\n    <tr>\n      <th>2019</th>\n      <td>260174.000</td>\n      <td>-2.04</td>\n    </tr>\n    <tr>\n      <th>2020</th>\n      <td>274515.000</td>\n      <td>5.51</td>\n    </tr>\n    <tr>\n      <th>2021</th>\n      <td>365817.000</td>\n      <td>33.26</td>\n    </tr>\n    <tr>\n      <th>2022</th>\n      <td>394328.000</td>\n      <td>7.79</td>\n    </tr>\n    <tr>\n      <th>2023</th>\n      <td>383285.000</td>\n      <td>-2.80</td>\n    </tr>\n  </tbody>\n</table>\n</div>"
     },
     "execution_count": 3,
     "metadata": {},
     "output_type": "execute_result"
    }
   ],
   "source": [
    "rev_s = pd.Series(grow_df['Revenue'])\n",
    "rev_pc_s = round(rev_s.pct_change() * 100, 2)\n",
    "rev_dict = {'Revenue' : rev_s, 'PercentChange' : rev_pc_s}\n",
    "\n",
    "rev_df = pd.DataFrame(rev_dict)\n",
    "rev_df_10 = rev_df[rev_df.index > year10]\n",
    "rev_df_5 = rev_df[rev_df.index > year5]\n",
    "rev_df_3 = rev_df[rev_df.index > year3]\n",
    "\n",
    "rev_mn_10 = round(rev_df_10['PercentChange'].mean(), 2)\n",
    "rev_mn_5 = round(rev_df_5['PercentChange'].mean(), 2)\n",
    "rev_mn_3 = round(rev_df_3['PercentChange'].mean(), 2)\n",
    "\n",
    "\n",
    "print(f'Ten Year Average Revenue Growth: {rev_mn_10}%')\n",
    "print(f'Five Year Average Revenue Growth: {rev_mn_5}%')\n",
    "print(f'Three Year Average Revenue Growth: {rev_mn_3}%')\n",
    "\n",
    "\n",
    "rev_df"
   ],
   "metadata": {
    "collapsed": false,
    "pycharm": {
     "name": "#%%\n"
    }
   }
  },
  {
   "cell_type": "markdown",
   "source": [
    "# Cash On Hand Growth"
   ],
   "metadata": {
    "collapsed": false,
    "pycharm": {
     "name": "#%% md\n"
    }
   }
  },
  {
   "cell_type": "code",
   "execution_count": 4,
   "outputs": [
    {
     "data": {
      "text/plain": "                  Cash  PercentChange\nFiscalYear                           \n1984           114.900            NaN\n1985           337.000         193.30\n1986           576.200          70.98\n1987           565.100          -1.93\n1988           545.700          -3.43\n1989           438.300         -19.68\n1990           374.700         -14.51\n1991           604.100          61.22\n1992           498.600         -17.46\n1993           892.303          78.96\n1994          1258.000          40.98\n1995           952.000         -24.32\n1996          1745.000          83.30\n1997          1459.000         -16.39\n1998          2300.000          57.64\n1999          3226.000          40.26\n2000          4027.000          24.83\n2001          4336.000           7.67\n2002          4337.000           0.02\n2003          4566.000           5.28\n2004          5464.000          19.67\n2005          8261.000          51.19\n2006         10110.000          22.38\n2007         15386.000          52.19\n2008         22111.000          43.71\n2009         23464.000           6.12\n2010         25620.000           9.19\n2011         25952.000           1.30\n2012         29129.000          12.24\n2013         40546.000          39.19\n2014         25077.000         -38.15\n2015         41601.000          65.89\n2016         67155.000          61.43\n2017         74181.000          10.46\n2018         66301.000         -10.62\n2019        100557.000          51.67\n2020         90943.000          -9.56\n2021         62639.000         -31.12\n2022         48304.000         -22.89\n2023         61555.000          27.43",
      "text/html": "<div>\n<style scoped>\n    .dataframe tbody tr th:only-of-type {\n        vertical-align: middle;\n    }\n\n    .dataframe tbody tr th {\n        vertical-align: top;\n    }\n\n    .dataframe thead th {\n        text-align: right;\n    }\n</style>\n<table border=\"1\" class=\"dataframe\">\n  <thead>\n    <tr style=\"text-align: right;\">\n      <th></th>\n      <th>Cash</th>\n      <th>PercentChange</th>\n    </tr>\n    <tr>\n      <th>FiscalYear</th>\n      <th></th>\n      <th></th>\n    </tr>\n  </thead>\n  <tbody>\n    <tr>\n      <th>1984</th>\n      <td>114.900</td>\n      <td>NaN</td>\n    </tr>\n    <tr>\n      <th>1985</th>\n      <td>337.000</td>\n      <td>193.30</td>\n    </tr>\n    <tr>\n      <th>1986</th>\n      <td>576.200</td>\n      <td>70.98</td>\n    </tr>\n    <tr>\n      <th>1987</th>\n      <td>565.100</td>\n      <td>-1.93</td>\n    </tr>\n    <tr>\n      <th>1988</th>\n      <td>545.700</td>\n      <td>-3.43</td>\n    </tr>\n    <tr>\n      <th>1989</th>\n      <td>438.300</td>\n      <td>-19.68</td>\n    </tr>\n    <tr>\n      <th>1990</th>\n      <td>374.700</td>\n      <td>-14.51</td>\n    </tr>\n    <tr>\n      <th>1991</th>\n      <td>604.100</td>\n      <td>61.22</td>\n    </tr>\n    <tr>\n      <th>1992</th>\n      <td>498.600</td>\n      <td>-17.46</td>\n    </tr>\n    <tr>\n      <th>1993</th>\n      <td>892.303</td>\n      <td>78.96</td>\n    </tr>\n    <tr>\n      <th>1994</th>\n      <td>1258.000</td>\n      <td>40.98</td>\n    </tr>\n    <tr>\n      <th>1995</th>\n      <td>952.000</td>\n      <td>-24.32</td>\n    </tr>\n    <tr>\n      <th>1996</th>\n      <td>1745.000</td>\n      <td>83.30</td>\n    </tr>\n    <tr>\n      <th>1997</th>\n      <td>1459.000</td>\n      <td>-16.39</td>\n    </tr>\n    <tr>\n      <th>1998</th>\n      <td>2300.000</td>\n      <td>57.64</td>\n    </tr>\n    <tr>\n      <th>1999</th>\n      <td>3226.000</td>\n      <td>40.26</td>\n    </tr>\n    <tr>\n      <th>2000</th>\n      <td>4027.000</td>\n      <td>24.83</td>\n    </tr>\n    <tr>\n      <th>2001</th>\n      <td>4336.000</td>\n      <td>7.67</td>\n    </tr>\n    <tr>\n      <th>2002</th>\n      <td>4337.000</td>\n      <td>0.02</td>\n    </tr>\n    <tr>\n      <th>2003</th>\n      <td>4566.000</td>\n      <td>5.28</td>\n    </tr>\n    <tr>\n      <th>2004</th>\n      <td>5464.000</td>\n      <td>19.67</td>\n    </tr>\n    <tr>\n      <th>2005</th>\n      <td>8261.000</td>\n      <td>51.19</td>\n    </tr>\n    <tr>\n      <th>2006</th>\n      <td>10110.000</td>\n      <td>22.38</td>\n    </tr>\n    <tr>\n      <th>2007</th>\n      <td>15386.000</td>\n      <td>52.19</td>\n    </tr>\n    <tr>\n      <th>2008</th>\n      <td>22111.000</td>\n      <td>43.71</td>\n    </tr>\n    <tr>\n      <th>2009</th>\n      <td>23464.000</td>\n      <td>6.12</td>\n    </tr>\n    <tr>\n      <th>2010</th>\n      <td>25620.000</td>\n      <td>9.19</td>\n    </tr>\n    <tr>\n      <th>2011</th>\n      <td>25952.000</td>\n      <td>1.30</td>\n    </tr>\n    <tr>\n      <th>2012</th>\n      <td>29129.000</td>\n      <td>12.24</td>\n    </tr>\n    <tr>\n      <th>2013</th>\n      <td>40546.000</td>\n      <td>39.19</td>\n    </tr>\n    <tr>\n      <th>2014</th>\n      <td>25077.000</td>\n      <td>-38.15</td>\n    </tr>\n    <tr>\n      <th>2015</th>\n      <td>41601.000</td>\n      <td>65.89</td>\n    </tr>\n    <tr>\n      <th>2016</th>\n      <td>67155.000</td>\n      <td>61.43</td>\n    </tr>\n    <tr>\n      <th>2017</th>\n      <td>74181.000</td>\n      <td>10.46</td>\n    </tr>\n    <tr>\n      <th>2018</th>\n      <td>66301.000</td>\n      <td>-10.62</td>\n    </tr>\n    <tr>\n      <th>2019</th>\n      <td>100557.000</td>\n      <td>51.67</td>\n    </tr>\n    <tr>\n      <th>2020</th>\n      <td>90943.000</td>\n      <td>-9.56</td>\n    </tr>\n    <tr>\n      <th>2021</th>\n      <td>62639.000</td>\n      <td>-31.12</td>\n    </tr>\n    <tr>\n      <th>2022</th>\n      <td>48304.000</td>\n      <td>-22.89</td>\n    </tr>\n    <tr>\n      <th>2023</th>\n      <td>61555.000</td>\n      <td>27.43</td>\n    </tr>\n  </tbody>\n</table>\n</div>"
     },
     "execution_count": 4,
     "metadata": {},
     "output_type": "execute_result"
    }
   ],
   "source": [
    "cash_s = pd.Series(grow_df['Cash'])\n",
    "cash_pc_s = round(cash_s.pct_change() * 100, 2)\n",
    "cash_dict = {'Cash' : cash_s, 'PercentChange' : cash_pc_s}\n",
    "\n",
    "cash_df = pd.DataFrame(cash_dict)\n",
    "\n",
    "cash_df"
   ],
   "metadata": {
    "collapsed": false,
    "pycharm": {
     "name": "#%%\n"
    }
   }
  },
  {
   "cell_type": "markdown",
   "source": [
    "# Shares Outstanding"
   ],
   "metadata": {
    "collapsed": false,
    "pycharm": {
     "name": "#%% md\n"
    }
   }
  },
  {
   "cell_type": "code",
   "execution_count": 5,
   "outputs": [
    {
     "name": "stdout",
     "output_type": "stream",
     "text": [
      "Ten YearAverage Share Growth: -4.87%\n",
      "Five Year Average Share Growth: -4.58%\n",
      "Three Year Average Share Growth: -3.37%\n"
     ]
    },
    {
     "data": {
      "text/plain": "            SharesOutDiluted  PercentChange\nFiscalYear                                 \n1984               13294.815            NaN\n1985               13708.800           3.11\n1986               14373.333           4.85\n1987               14674.699           2.10\n1988               14556.364          -0.81\n1989               14363.842          -1.32\n1990               14071.111          -2.04\n1991               13448.682          -4.42\n1992               13729.632           2.09\n1993               13424.000          -2.23\n1994               13298.320          -0.94\n1995               13781.264           3.63\n1996               13858.208           0.56\n1997               14118.944           1.88\n1998               18806.704          33.20\n1999               19506.368           3.72\n2000               20178.144           3.44\n2001               19354.328          -4.08\n2002               20259.960           4.68\n2003               20354.096           0.46\n2004               21693.728           6.58\n2005               23992.584          10.60\n2006               24570.728           2.41\n2007               24900.176           1.34\n2008               25259.892           1.44\n2009               25396.140           0.54\n2010               25891.936           1.95\n2011               26226.060           1.29\n2012               26469.932           0.93\n2013               26086.536          -1.45\n2014               24490.652          -6.12\n2015               23172.276          -5.38\n2016               22001.124          -5.05\n2017               21006.768          -4.52\n2018               20000.435          -4.79\n2019               18595.651          -7.02\n2020               17528.214          -5.74\n2021               16864.919          -3.78\n2022               16325.819          -3.20\n2023               15812.547          -3.14",
      "text/html": "<div>\n<style scoped>\n    .dataframe tbody tr th:only-of-type {\n        vertical-align: middle;\n    }\n\n    .dataframe tbody tr th {\n        vertical-align: top;\n    }\n\n    .dataframe thead th {\n        text-align: right;\n    }\n</style>\n<table border=\"1\" class=\"dataframe\">\n  <thead>\n    <tr style=\"text-align: right;\">\n      <th></th>\n      <th>SharesOutDiluted</th>\n      <th>PercentChange</th>\n    </tr>\n    <tr>\n      <th>FiscalYear</th>\n      <th></th>\n      <th></th>\n    </tr>\n  </thead>\n  <tbody>\n    <tr>\n      <th>1984</th>\n      <td>13294.815</td>\n      <td>NaN</td>\n    </tr>\n    <tr>\n      <th>1985</th>\n      <td>13708.800</td>\n      <td>3.11</td>\n    </tr>\n    <tr>\n      <th>1986</th>\n      <td>14373.333</td>\n      <td>4.85</td>\n    </tr>\n    <tr>\n      <th>1987</th>\n      <td>14674.699</td>\n      <td>2.10</td>\n    </tr>\n    <tr>\n      <th>1988</th>\n      <td>14556.364</td>\n      <td>-0.81</td>\n    </tr>\n    <tr>\n      <th>1989</th>\n      <td>14363.842</td>\n      <td>-1.32</td>\n    </tr>\n    <tr>\n      <th>1990</th>\n      <td>14071.111</td>\n      <td>-2.04</td>\n    </tr>\n    <tr>\n      <th>1991</th>\n      <td>13448.682</td>\n      <td>-4.42</td>\n    </tr>\n    <tr>\n      <th>1992</th>\n      <td>13729.632</td>\n      <td>2.09</td>\n    </tr>\n    <tr>\n      <th>1993</th>\n      <td>13424.000</td>\n      <td>-2.23</td>\n    </tr>\n    <tr>\n      <th>1994</th>\n      <td>13298.320</td>\n      <td>-0.94</td>\n    </tr>\n    <tr>\n      <th>1995</th>\n      <td>13781.264</td>\n      <td>3.63</td>\n    </tr>\n    <tr>\n      <th>1996</th>\n      <td>13858.208</td>\n      <td>0.56</td>\n    </tr>\n    <tr>\n      <th>1997</th>\n      <td>14118.944</td>\n      <td>1.88</td>\n    </tr>\n    <tr>\n      <th>1998</th>\n      <td>18806.704</td>\n      <td>33.20</td>\n    </tr>\n    <tr>\n      <th>1999</th>\n      <td>19506.368</td>\n      <td>3.72</td>\n    </tr>\n    <tr>\n      <th>2000</th>\n      <td>20178.144</td>\n      <td>3.44</td>\n    </tr>\n    <tr>\n      <th>2001</th>\n      <td>19354.328</td>\n      <td>-4.08</td>\n    </tr>\n    <tr>\n      <th>2002</th>\n      <td>20259.960</td>\n      <td>4.68</td>\n    </tr>\n    <tr>\n      <th>2003</th>\n      <td>20354.096</td>\n      <td>0.46</td>\n    </tr>\n    <tr>\n      <th>2004</th>\n      <td>21693.728</td>\n      <td>6.58</td>\n    </tr>\n    <tr>\n      <th>2005</th>\n      <td>23992.584</td>\n      <td>10.60</td>\n    </tr>\n    <tr>\n      <th>2006</th>\n      <td>24570.728</td>\n      <td>2.41</td>\n    </tr>\n    <tr>\n      <th>2007</th>\n      <td>24900.176</td>\n      <td>1.34</td>\n    </tr>\n    <tr>\n      <th>2008</th>\n      <td>25259.892</td>\n      <td>1.44</td>\n    </tr>\n    <tr>\n      <th>2009</th>\n      <td>25396.140</td>\n      <td>0.54</td>\n    </tr>\n    <tr>\n      <th>2010</th>\n      <td>25891.936</td>\n      <td>1.95</td>\n    </tr>\n    <tr>\n      <th>2011</th>\n      <td>26226.060</td>\n      <td>1.29</td>\n    </tr>\n    <tr>\n      <th>2012</th>\n      <td>26469.932</td>\n      <td>0.93</td>\n    </tr>\n    <tr>\n      <th>2013</th>\n      <td>26086.536</td>\n      <td>-1.45</td>\n    </tr>\n    <tr>\n      <th>2014</th>\n      <td>24490.652</td>\n      <td>-6.12</td>\n    </tr>\n    <tr>\n      <th>2015</th>\n      <td>23172.276</td>\n      <td>-5.38</td>\n    </tr>\n    <tr>\n      <th>2016</th>\n      <td>22001.124</td>\n      <td>-5.05</td>\n    </tr>\n    <tr>\n      <th>2017</th>\n      <td>21006.768</td>\n      <td>-4.52</td>\n    </tr>\n    <tr>\n      <th>2018</th>\n      <td>20000.435</td>\n      <td>-4.79</td>\n    </tr>\n    <tr>\n      <th>2019</th>\n      <td>18595.651</td>\n      <td>-7.02</td>\n    </tr>\n    <tr>\n      <th>2020</th>\n      <td>17528.214</td>\n      <td>-5.74</td>\n    </tr>\n    <tr>\n      <th>2021</th>\n      <td>16864.919</td>\n      <td>-3.78</td>\n    </tr>\n    <tr>\n      <th>2022</th>\n      <td>16325.819</td>\n      <td>-3.20</td>\n    </tr>\n    <tr>\n      <th>2023</th>\n      <td>15812.547</td>\n      <td>-3.14</td>\n    </tr>\n  </tbody>\n</table>\n</div>"
     },
     "execution_count": 5,
     "metadata": {},
     "output_type": "execute_result"
    }
   ],
   "source": [
    "share_s = pd.Series(grow_df['SharesOutDiluted'])\n",
    "share_pc_s = round(share_s.pct_change() * 100, 2)\n",
    "share_dict = {'SharesOutDiluted' : share_s, 'PercentChange' : share_pc_s}\n",
    "\n",
    "share_df = pd.DataFrame(share_dict)\n",
    "\n",
    "share_df_10 = share_df[share_df.index > year10]\n",
    "share_df_5 = share_df[share_df.index > year5]\n",
    "share_df_3 = share_df[share_df.index > year3]\n",
    "\n",
    "share_mn_10 = round(share_df_10['PercentChange'].mean(), 2)\n",
    "share_mn_5 = round(share_df_5['PercentChange'].mean(), 2)\n",
    "share_mn_3 = round(share_df_3['PercentChange'].mean(), 2)\n",
    "\n",
    "print(f'Ten YearAverage Share Growth: {share_mn_10}%')\n",
    "print(f'Five Year Average Share Growth: {share_mn_5}%')\n",
    "print(f'Three Year Average Share Growth: {share_mn_3}%')\n",
    "\n",
    "share_df"
   ],
   "metadata": {
    "collapsed": false,
    "pycharm": {
     "name": "#%%\n"
    }
   }
  },
  {
   "cell_type": "markdown",
   "source": [
    "# Dividend Growth"
   ],
   "metadata": {
    "collapsed": false,
    "pycharm": {
     "name": "#%% md\n"
    }
   }
  },
  {
   "cell_type": "code",
   "execution_count": 6,
   "outputs": [
    {
     "name": "stdout",
     "output_type": "stream",
     "text": [
      "Ten YearAverage Dividend Growth: 3.61%\n",
      "Five Year Average Dividend Growth: 1.85%\n",
      "Three Year Average Dividend Growth: 2.19%\n"
     ]
    },
    {
     "data": {
      "text/plain": "            CashForDividends  PercentChange\nFiscalYear                                 \n1984                   0.000            NaN\n1985                   0.000            NaN\n1986                   0.000            NaN\n1987                   0.000            NaN\n1988                   0.000            NaN\n1989                  50.300            inf\n1990                  53.800           6.96\n1991                  56.500           5.02\n1992                  57.196           1.23\n1993                  56.000          -2.09\n1994                  56.000           0.00\n1995                  58.000           3.57\n1996                  14.000         -75.86\n1997                   0.000        -100.00\n1998                   0.000            NaN\n1999                   0.000            NaN\n2000                   0.000            NaN\n2001                   0.000            NaN\n2002                   0.000            NaN\n2003                   0.000            NaN\n2004                   0.000            NaN\n2005                   0.000            NaN\n2006                   0.000            NaN\n2007                   0.000            NaN\n2008                   0.000            NaN\n2009                   0.000            NaN\n2010                   0.000            NaN\n2011                   0.000            NaN\n2012                2488.000            inf\n2013               10564.000         324.60\n2014               11126.000           5.32\n2015               11561.000           3.91\n2016               12150.000           5.09\n2017               12769.000           5.09\n2018               13712.000           7.39\n2019               14119.000           2.97\n2020               14081.000          -0.27\n2021               14467.000           2.74\n2022               14841.000           2.59\n2023               15025.000           1.24",
      "text/html": "<div>\n<style scoped>\n    .dataframe tbody tr th:only-of-type {\n        vertical-align: middle;\n    }\n\n    .dataframe tbody tr th {\n        vertical-align: top;\n    }\n\n    .dataframe thead th {\n        text-align: right;\n    }\n</style>\n<table border=\"1\" class=\"dataframe\">\n  <thead>\n    <tr style=\"text-align: right;\">\n      <th></th>\n      <th>CashForDividends</th>\n      <th>PercentChange</th>\n    </tr>\n    <tr>\n      <th>FiscalYear</th>\n      <th></th>\n      <th></th>\n    </tr>\n  </thead>\n  <tbody>\n    <tr>\n      <th>1984</th>\n      <td>0.000</td>\n      <td>NaN</td>\n    </tr>\n    <tr>\n      <th>1985</th>\n      <td>0.000</td>\n      <td>NaN</td>\n    </tr>\n    <tr>\n      <th>1986</th>\n      <td>0.000</td>\n      <td>NaN</td>\n    </tr>\n    <tr>\n      <th>1987</th>\n      <td>0.000</td>\n      <td>NaN</td>\n    </tr>\n    <tr>\n      <th>1988</th>\n      <td>0.000</td>\n      <td>NaN</td>\n    </tr>\n    <tr>\n      <th>1989</th>\n      <td>50.300</td>\n      <td>inf</td>\n    </tr>\n    <tr>\n      <th>1990</th>\n      <td>53.800</td>\n      <td>6.96</td>\n    </tr>\n    <tr>\n      <th>1991</th>\n      <td>56.500</td>\n      <td>5.02</td>\n    </tr>\n    <tr>\n      <th>1992</th>\n      <td>57.196</td>\n      <td>1.23</td>\n    </tr>\n    <tr>\n      <th>1993</th>\n      <td>56.000</td>\n      <td>-2.09</td>\n    </tr>\n    <tr>\n      <th>1994</th>\n      <td>56.000</td>\n      <td>0.00</td>\n    </tr>\n    <tr>\n      <th>1995</th>\n      <td>58.000</td>\n      <td>3.57</td>\n    </tr>\n    <tr>\n      <th>1996</th>\n      <td>14.000</td>\n      <td>-75.86</td>\n    </tr>\n    <tr>\n      <th>1997</th>\n      <td>0.000</td>\n      <td>-100.00</td>\n    </tr>\n    <tr>\n      <th>1998</th>\n      <td>0.000</td>\n      <td>NaN</td>\n    </tr>\n    <tr>\n      <th>1999</th>\n      <td>0.000</td>\n      <td>NaN</td>\n    </tr>\n    <tr>\n      <th>2000</th>\n      <td>0.000</td>\n      <td>NaN</td>\n    </tr>\n    <tr>\n      <th>2001</th>\n      <td>0.000</td>\n      <td>NaN</td>\n    </tr>\n    <tr>\n      <th>2002</th>\n      <td>0.000</td>\n      <td>NaN</td>\n    </tr>\n    <tr>\n      <th>2003</th>\n      <td>0.000</td>\n      <td>NaN</td>\n    </tr>\n    <tr>\n      <th>2004</th>\n      <td>0.000</td>\n      <td>NaN</td>\n    </tr>\n    <tr>\n      <th>2005</th>\n      <td>0.000</td>\n      <td>NaN</td>\n    </tr>\n    <tr>\n      <th>2006</th>\n      <td>0.000</td>\n      <td>NaN</td>\n    </tr>\n    <tr>\n      <th>2007</th>\n      <td>0.000</td>\n      <td>NaN</td>\n    </tr>\n    <tr>\n      <th>2008</th>\n      <td>0.000</td>\n      <td>NaN</td>\n    </tr>\n    <tr>\n      <th>2009</th>\n      <td>0.000</td>\n      <td>NaN</td>\n    </tr>\n    <tr>\n      <th>2010</th>\n      <td>0.000</td>\n      <td>NaN</td>\n    </tr>\n    <tr>\n      <th>2011</th>\n      <td>0.000</td>\n      <td>NaN</td>\n    </tr>\n    <tr>\n      <th>2012</th>\n      <td>2488.000</td>\n      <td>inf</td>\n    </tr>\n    <tr>\n      <th>2013</th>\n      <td>10564.000</td>\n      <td>324.60</td>\n    </tr>\n    <tr>\n      <th>2014</th>\n      <td>11126.000</td>\n      <td>5.32</td>\n    </tr>\n    <tr>\n      <th>2015</th>\n      <td>11561.000</td>\n      <td>3.91</td>\n    </tr>\n    <tr>\n      <th>2016</th>\n      <td>12150.000</td>\n      <td>5.09</td>\n    </tr>\n    <tr>\n      <th>2017</th>\n      <td>12769.000</td>\n      <td>5.09</td>\n    </tr>\n    <tr>\n      <th>2018</th>\n      <td>13712.000</td>\n      <td>7.39</td>\n    </tr>\n    <tr>\n      <th>2019</th>\n      <td>14119.000</td>\n      <td>2.97</td>\n    </tr>\n    <tr>\n      <th>2020</th>\n      <td>14081.000</td>\n      <td>-0.27</td>\n    </tr>\n    <tr>\n      <th>2021</th>\n      <td>14467.000</td>\n      <td>2.74</td>\n    </tr>\n    <tr>\n      <th>2022</th>\n      <td>14841.000</td>\n      <td>2.59</td>\n    </tr>\n    <tr>\n      <th>2023</th>\n      <td>15025.000</td>\n      <td>1.24</td>\n    </tr>\n  </tbody>\n</table>\n</div>"
     },
     "execution_count": 6,
     "metadata": {},
     "output_type": "execute_result"
    }
   ],
   "source": [
    "div_s = pd.Series(grow_df['CashForDividends'].abs())\n",
    "div_pc_s = round(div_s.pct_change() * 100, 2)\n",
    "div_dict = {'CashForDividends' : div_s, 'PercentChange' : div_pc_s}\n",
    "\n",
    "div_df = pd.DataFrame(div_dict)\n",
    "\n",
    "div_df_10 = div_df[div_df.index > year10]\n",
    "div_df_5 = div_df[div_df.index > year5]\n",
    "div_df_3 = div_df[div_df.index > year3]\n",
    "\n",
    "div_mn_10 = round(div_df_10['PercentChange'].mean(), 2)\n",
    "div_mn_5 = round(div_df_5['PercentChange'].mean(), 2)\n",
    "div_mn_3 = round(div_df_3['PercentChange'].mean(), 2)\n",
    "\n",
    "print(f'Ten YearAverage Dividend Growth: {div_mn_10}%')\n",
    "print(f'Five Year Average Dividend Growth: {div_mn_5}%')\n",
    "print(f'Three Year Average Dividend Growth: {div_mn_3}%')\n",
    "\n",
    "div_df"
   ],
   "metadata": {
    "collapsed": false,
    "pycharm": {
     "name": "#%%\n"
    }
   }
  },
  {
   "cell_type": "code",
   "execution_count": 6,
   "outputs": [],
   "source": [],
   "metadata": {
    "collapsed": false,
    "pycharm": {
     "name": "#%%\n"
    }
   }
  }
 ],
 "metadata": {
  "kernelspec": {
   "display_name": "Python 3",
   "language": "python",
   "name": "python3"
  },
  "language_info": {
   "codemirror_mode": {
    "name": "ipython",
    "version": 2
   },
   "file_extension": ".py",
   "mimetype": "text/x-python",
   "name": "python",
   "nbconvert_exporter": "python",
   "pygments_lexer": "ipython2",
   "version": "2.7.6"
  }
 },
 "nbformat": 4,
 "nbformat_minor": 0
}