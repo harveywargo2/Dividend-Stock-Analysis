{
 "cells": [
  {
   "cell_type": "markdown",
   "source": [
    "# Analysis of Debt"
   ],
   "metadata": {
    "collapsed": false,
    "pycharm": {
     "name": "#%% md\n"
    }
   }
  },
  {
   "cell_type": "code",
   "execution_count": 1,
   "outputs": [],
   "source": [
    "import pandas as pd\n",
    "import datetime\n",
    "\n",
    "Debt_Data_Fy = 'Data_Debt_Fy-LYB.csv'\n",
    "today = datetime.date.today()"
   ],
   "metadata": {
    "collapsed": false,
    "pycharm": {
     "name": "#%%\n"
    }
   }
  },
  {
   "cell_type": "markdown",
   "source": [
    "# Waterfall Analysis"
   ],
   "metadata": {
    "collapsed": false,
    "pycharm": {
     "name": "#%% md\n"
    }
   }
  },
  {
   "cell_type": "code",
   "execution_count": 2,
   "outputs": [
    {
     "data": {
      "text/plain": "            Revenue  CashFromOperations  FreeCashFlow  CashEquivalents  \\\nFiscalYear                                                               \n2007        17120.0              1180.0         769.0              0.0   \n2008        50706.0              1090.0          90.0            858.0   \n2009        30828.0              -787.0       -1566.0            558.0   \n2010        41151.0              2021.0        1329.0           4222.0   \n2011        48183.0              2860.0        1810.0           1065.0   \n2012        45352.0              4787.0        3727.0           2732.0   \n2013        44062.0              4835.0        3274.0           4450.0   \n2014        45608.0              6048.0        4549.0           1031.0   \n2015        32735.0              5842.0        4402.0            924.0   \n2016        29183.0              5606.0        3363.0            875.0   \n2017        34484.0              5206.0        3659.0           1523.0   \n2018        39004.0              5471.0        3366.0            332.0   \n2019        34727.0              4961.0        2267.0            858.0   \n2020        27753.0              3404.0        1457.0           1763.0   \n2021        46173.0              7695.0        5736.0           1472.0   \n2022        50451.0              6119.0        4229.0           2151.0   \n2023        41107.0              4942.0        3411.0           3390.0   \n\n            MarketSecurities  TreasuryStock  CurrentAssets  LongAssets  \\\nFiscalYear                                                               \n2007                     0.0            0.0            0.0         0.0   \n2008                    32.0            0.0         7438.0     21213.0   \n2009                    11.0            0.0         8252.0     19509.0   \n2010                     0.0            0.0        13779.0     11715.0   \n2011                     0.0         -124.0        11435.0     11404.0   \n2012                     0.0         -106.0        12286.0     11934.0   \n2013                     0.0        -2035.0        14599.0     12699.0   \n2014                  1593.0        -7853.0        11645.0     12576.0   \n2015                  1064.0       -12086.0         9789.0     12968.0   \n2016                  1147.0       -14945.0         9599.0     13843.0   \n2017                  1307.0       -15749.0        11738.0     14468.0   \n2018                   892.0        -2206.0        10566.0     17712.0   \n2019                   196.0         -580.0         9510.0     20925.0   \n2020                   702.0         -531.0        11634.0     23769.0   \n2021                     9.0         -965.0        12217.0     24525.0   \n2022                     0.0        -1346.0        11845.0     24520.0   \n2023                     0.0        -1450.0        13152.0     23848.0   \n\n            CurrentLiabilities  LongLiabilities  CashPaidToDebt  \nFiscalYear                                                       \n2007                       0.0              0.0         -9249.0  \n2008                   28601.0           5996.0          -391.0  \n2009                   10367.0          26241.0         -1238.0  \n2010                    4756.0           9142.0         -3678.0  \n2011                    5018.0           7174.0         -3063.0  \n2012                    5096.0           7945.0         -2679.0  \n2013                    5510.0           9274.0             0.0  \n2014                    5437.0          10440.0             0.0  \n2015                    4349.0          11834.0             0.0  \n2016                    4540.0          12829.0             0.0  \n2017                    4777.0          12479.0         -1493.0  \n2018                    5513.0          12369.0          -394.0  \n2019                    5198.0          17058.0         -5049.0  \n2020                    5502.0          21797.0         -3386.0  \n2021                    7230.0          17524.0         -4221.0  \n2022                    6760.0          16862.0            -4.0  \n2023                    7150.0          16792.0          -625.0  ",
      "text/html": "<div>\n<style scoped>\n    .dataframe tbody tr th:only-of-type {\n        vertical-align: middle;\n    }\n\n    .dataframe tbody tr th {\n        vertical-align: top;\n    }\n\n    .dataframe thead th {\n        text-align: right;\n    }\n</style>\n<table border=\"1\" class=\"dataframe\">\n  <thead>\n    <tr style=\"text-align: right;\">\n      <th></th>\n      <th>Revenue</th>\n      <th>CashFromOperations</th>\n      <th>FreeCashFlow</th>\n      <th>CashEquivalents</th>\n      <th>MarketSecurities</th>\n      <th>TreasuryStock</th>\n      <th>CurrentAssets</th>\n      <th>LongAssets</th>\n      <th>CurrentLiabilities</th>\n      <th>LongLiabilities</th>\n      <th>CashPaidToDebt</th>\n    </tr>\n    <tr>\n      <th>FiscalYear</th>\n      <th></th>\n      <th></th>\n      <th></th>\n      <th></th>\n      <th></th>\n      <th></th>\n      <th></th>\n      <th></th>\n      <th></th>\n      <th></th>\n      <th></th>\n    </tr>\n  </thead>\n  <tbody>\n    <tr>\n      <th>2007</th>\n      <td>17120.0</td>\n      <td>1180.0</td>\n      <td>769.0</td>\n      <td>0.0</td>\n      <td>0.0</td>\n      <td>0.0</td>\n      <td>0.0</td>\n      <td>0.0</td>\n      <td>0.0</td>\n      <td>0.0</td>\n      <td>-9249.0</td>\n    </tr>\n    <tr>\n      <th>2008</th>\n      <td>50706.0</td>\n      <td>1090.0</td>\n      <td>90.0</td>\n      <td>858.0</td>\n      <td>32.0</td>\n      <td>0.0</td>\n      <td>7438.0</td>\n      <td>21213.0</td>\n      <td>28601.0</td>\n      <td>5996.0</td>\n      <td>-391.0</td>\n    </tr>\n    <tr>\n      <th>2009</th>\n      <td>30828.0</td>\n      <td>-787.0</td>\n      <td>-1566.0</td>\n      <td>558.0</td>\n      <td>11.0</td>\n      <td>0.0</td>\n      <td>8252.0</td>\n      <td>19509.0</td>\n      <td>10367.0</td>\n      <td>26241.0</td>\n      <td>-1238.0</td>\n    </tr>\n    <tr>\n      <th>2010</th>\n      <td>41151.0</td>\n      <td>2021.0</td>\n      <td>1329.0</td>\n      <td>4222.0</td>\n      <td>0.0</td>\n      <td>0.0</td>\n      <td>13779.0</td>\n      <td>11715.0</td>\n      <td>4756.0</td>\n      <td>9142.0</td>\n      <td>-3678.0</td>\n    </tr>\n    <tr>\n      <th>2011</th>\n      <td>48183.0</td>\n      <td>2860.0</td>\n      <td>1810.0</td>\n      <td>1065.0</td>\n      <td>0.0</td>\n      <td>-124.0</td>\n      <td>11435.0</td>\n      <td>11404.0</td>\n      <td>5018.0</td>\n      <td>7174.0</td>\n      <td>-3063.0</td>\n    </tr>\n    <tr>\n      <th>2012</th>\n      <td>45352.0</td>\n      <td>4787.0</td>\n      <td>3727.0</td>\n      <td>2732.0</td>\n      <td>0.0</td>\n      <td>-106.0</td>\n      <td>12286.0</td>\n      <td>11934.0</td>\n      <td>5096.0</td>\n      <td>7945.0</td>\n      <td>-2679.0</td>\n    </tr>\n    <tr>\n      <th>2013</th>\n      <td>44062.0</td>\n      <td>4835.0</td>\n      <td>3274.0</td>\n      <td>4450.0</td>\n      <td>0.0</td>\n      <td>-2035.0</td>\n      <td>14599.0</td>\n      <td>12699.0</td>\n      <td>5510.0</td>\n      <td>9274.0</td>\n      <td>0.0</td>\n    </tr>\n    <tr>\n      <th>2014</th>\n      <td>45608.0</td>\n      <td>6048.0</td>\n      <td>4549.0</td>\n      <td>1031.0</td>\n      <td>1593.0</td>\n      <td>-7853.0</td>\n      <td>11645.0</td>\n      <td>12576.0</td>\n      <td>5437.0</td>\n      <td>10440.0</td>\n      <td>0.0</td>\n    </tr>\n    <tr>\n      <th>2015</th>\n      <td>32735.0</td>\n      <td>5842.0</td>\n      <td>4402.0</td>\n      <td>924.0</td>\n      <td>1064.0</td>\n      <td>-12086.0</td>\n      <td>9789.0</td>\n      <td>12968.0</td>\n      <td>4349.0</td>\n      <td>11834.0</td>\n      <td>0.0</td>\n    </tr>\n    <tr>\n      <th>2016</th>\n      <td>29183.0</td>\n      <td>5606.0</td>\n      <td>3363.0</td>\n      <td>875.0</td>\n      <td>1147.0</td>\n      <td>-14945.0</td>\n      <td>9599.0</td>\n      <td>13843.0</td>\n      <td>4540.0</td>\n      <td>12829.0</td>\n      <td>0.0</td>\n    </tr>\n    <tr>\n      <th>2017</th>\n      <td>34484.0</td>\n      <td>5206.0</td>\n      <td>3659.0</td>\n      <td>1523.0</td>\n      <td>1307.0</td>\n      <td>-15749.0</td>\n      <td>11738.0</td>\n      <td>14468.0</td>\n      <td>4777.0</td>\n      <td>12479.0</td>\n      <td>-1493.0</td>\n    </tr>\n    <tr>\n      <th>2018</th>\n      <td>39004.0</td>\n      <td>5471.0</td>\n      <td>3366.0</td>\n      <td>332.0</td>\n      <td>892.0</td>\n      <td>-2206.0</td>\n      <td>10566.0</td>\n      <td>17712.0</td>\n      <td>5513.0</td>\n      <td>12369.0</td>\n      <td>-394.0</td>\n    </tr>\n    <tr>\n      <th>2019</th>\n      <td>34727.0</td>\n      <td>4961.0</td>\n      <td>2267.0</td>\n      <td>858.0</td>\n      <td>196.0</td>\n      <td>-580.0</td>\n      <td>9510.0</td>\n      <td>20925.0</td>\n      <td>5198.0</td>\n      <td>17058.0</td>\n      <td>-5049.0</td>\n    </tr>\n    <tr>\n      <th>2020</th>\n      <td>27753.0</td>\n      <td>3404.0</td>\n      <td>1457.0</td>\n      <td>1763.0</td>\n      <td>702.0</td>\n      <td>-531.0</td>\n      <td>11634.0</td>\n      <td>23769.0</td>\n      <td>5502.0</td>\n      <td>21797.0</td>\n      <td>-3386.0</td>\n    </tr>\n    <tr>\n      <th>2021</th>\n      <td>46173.0</td>\n      <td>7695.0</td>\n      <td>5736.0</td>\n      <td>1472.0</td>\n      <td>9.0</td>\n      <td>-965.0</td>\n      <td>12217.0</td>\n      <td>24525.0</td>\n      <td>7230.0</td>\n      <td>17524.0</td>\n      <td>-4221.0</td>\n    </tr>\n    <tr>\n      <th>2022</th>\n      <td>50451.0</td>\n      <td>6119.0</td>\n      <td>4229.0</td>\n      <td>2151.0</td>\n      <td>0.0</td>\n      <td>-1346.0</td>\n      <td>11845.0</td>\n      <td>24520.0</td>\n      <td>6760.0</td>\n      <td>16862.0</td>\n      <td>-4.0</td>\n    </tr>\n    <tr>\n      <th>2023</th>\n      <td>41107.0</td>\n      <td>4942.0</td>\n      <td>3411.0</td>\n      <td>3390.0</td>\n      <td>0.0</td>\n      <td>-1450.0</td>\n      <td>13152.0</td>\n      <td>23848.0</td>\n      <td>7150.0</td>\n      <td>16792.0</td>\n      <td>-625.0</td>\n    </tr>\n  </tbody>\n</table>\n</div>"
     },
     "execution_count": 2,
     "metadata": {},
     "output_type": "execute_result"
    }
   ],
   "source": [
    "debt_df = pd.read_csv(Debt_Data_Fy,index_col='FiscalYear')\n",
    "\n",
    "debt_df"
   ],
   "metadata": {
    "collapsed": false,
    "pycharm": {
     "name": "#%%\n"
    }
   }
  },
  {
   "cell_type": "markdown",
   "source": [
    "# Current Ratio"
   ],
   "metadata": {
    "collapsed": false,
    "pycharm": {
     "name": "#%% md\n"
    }
   }
  },
  {
   "cell_type": "code",
   "execution_count": 3,
   "outputs": [
    {
     "name": "stderr",
     "output_type": "stream",
     "text": [
      "/var/folders/j5/3jkv197574n0l3hvczkvmbw00000gn/T/ipykernel_5509/1238901110.py:2: SettingWithCopyWarning: \n",
      "A value is trying to be set on a copy of a slice from a DataFrame.\n",
      "Try using .loc[row_indexer,col_indexer] = value instead\n",
      "\n",
      "See the caveats in the documentation: https://pandas.pydata.org/pandas-docs/stable/user_guide/indexing.html#returning-a-view-versus-a-copy\n",
      "  current_df['CurrentRatio'] = round(current_df['CurrentAssets'] / current_df['CurrentLiabilities'], 2)\n"
     ]
    },
    {
     "data": {
      "text/plain": "            CurrentAssets  CurrentLiabilities  CurrentRatio\nFiscalYear                                                 \n2007                  0.0                 0.0           NaN\n2008               7438.0             28601.0          0.26\n2009               8252.0             10367.0          0.80\n2010              13779.0              4756.0          2.90\n2011              11435.0              5018.0          2.28\n2012              12286.0              5096.0          2.41\n2013              14599.0              5510.0          2.65\n2014              11645.0              5437.0          2.14\n2015               9789.0              4349.0          2.25\n2016               9599.0              4540.0          2.11\n2017              11738.0              4777.0          2.46\n2018              10566.0              5513.0          1.92\n2019               9510.0              5198.0          1.83\n2020              11634.0              5502.0          2.11\n2021              12217.0              7230.0          1.69\n2022              11845.0              6760.0          1.75\n2023              13152.0              7150.0          1.84",
      "text/html": "<div>\n<style scoped>\n    .dataframe tbody tr th:only-of-type {\n        vertical-align: middle;\n    }\n\n    .dataframe tbody tr th {\n        vertical-align: top;\n    }\n\n    .dataframe thead th {\n        text-align: right;\n    }\n</style>\n<table border=\"1\" class=\"dataframe\">\n  <thead>\n    <tr style=\"text-align: right;\">\n      <th></th>\n      <th>CurrentAssets</th>\n      <th>CurrentLiabilities</th>\n      <th>CurrentRatio</th>\n    </tr>\n    <tr>\n      <th>FiscalYear</th>\n      <th></th>\n      <th></th>\n      <th></th>\n    </tr>\n  </thead>\n  <tbody>\n    <tr>\n      <th>2007</th>\n      <td>0.0</td>\n      <td>0.0</td>\n      <td>NaN</td>\n    </tr>\n    <tr>\n      <th>2008</th>\n      <td>7438.0</td>\n      <td>28601.0</td>\n      <td>0.26</td>\n    </tr>\n    <tr>\n      <th>2009</th>\n      <td>8252.0</td>\n      <td>10367.0</td>\n      <td>0.80</td>\n    </tr>\n    <tr>\n      <th>2010</th>\n      <td>13779.0</td>\n      <td>4756.0</td>\n      <td>2.90</td>\n    </tr>\n    <tr>\n      <th>2011</th>\n      <td>11435.0</td>\n      <td>5018.0</td>\n      <td>2.28</td>\n    </tr>\n    <tr>\n      <th>2012</th>\n      <td>12286.0</td>\n      <td>5096.0</td>\n      <td>2.41</td>\n    </tr>\n    <tr>\n      <th>2013</th>\n      <td>14599.0</td>\n      <td>5510.0</td>\n      <td>2.65</td>\n    </tr>\n    <tr>\n      <th>2014</th>\n      <td>11645.0</td>\n      <td>5437.0</td>\n      <td>2.14</td>\n    </tr>\n    <tr>\n      <th>2015</th>\n      <td>9789.0</td>\n      <td>4349.0</td>\n      <td>2.25</td>\n    </tr>\n    <tr>\n      <th>2016</th>\n      <td>9599.0</td>\n      <td>4540.0</td>\n      <td>2.11</td>\n    </tr>\n    <tr>\n      <th>2017</th>\n      <td>11738.0</td>\n      <td>4777.0</td>\n      <td>2.46</td>\n    </tr>\n    <tr>\n      <th>2018</th>\n      <td>10566.0</td>\n      <td>5513.0</td>\n      <td>1.92</td>\n    </tr>\n    <tr>\n      <th>2019</th>\n      <td>9510.0</td>\n      <td>5198.0</td>\n      <td>1.83</td>\n    </tr>\n    <tr>\n      <th>2020</th>\n      <td>11634.0</td>\n      <td>5502.0</td>\n      <td>2.11</td>\n    </tr>\n    <tr>\n      <th>2021</th>\n      <td>12217.0</td>\n      <td>7230.0</td>\n      <td>1.69</td>\n    </tr>\n    <tr>\n      <th>2022</th>\n      <td>11845.0</td>\n      <td>6760.0</td>\n      <td>1.75</td>\n    </tr>\n    <tr>\n      <th>2023</th>\n      <td>13152.0</td>\n      <td>7150.0</td>\n      <td>1.84</td>\n    </tr>\n  </tbody>\n</table>\n</div>"
     },
     "execution_count": 3,
     "metadata": {},
     "output_type": "execute_result"
    }
   ],
   "source": [
    "current_df = debt_df[['CurrentAssets', 'CurrentLiabilities']]\n",
    "current_df['CurrentRatio'] = round(current_df['CurrentAssets'] / current_df['CurrentLiabilities'], 2)\n",
    "\n",
    "current_df"
   ],
   "metadata": {
    "collapsed": false,
    "pycharm": {
     "name": "#%%\n"
    }
   }
  },
  {
   "cell_type": "markdown",
   "source": [
    "# Cash on Hand to Debt"
   ],
   "metadata": {
    "collapsed": false,
    "pycharm": {
     "name": "#%% md\n"
    }
   }
  },
  {
   "cell_type": "code",
   "execution_count": 4,
   "outputs": [
    {
     "name": "stderr",
     "output_type": "stream",
     "text": [
      "/var/folders/j5/3jkv197574n0l3hvczkvmbw00000gn/T/ipykernel_5509/2485566442.py:2: SettingWithCopyWarning: \n",
      "A value is trying to be set on a copy of a slice from a DataFrame.\n",
      "Try using .loc[row_indexer,col_indexer] = value instead\n",
      "\n",
      "See the caveats in the documentation: https://pandas.pydata.org/pandas-docs/stable/user_guide/indexing.html#returning-a-view-versus-a-copy\n",
      "  ctd_df['CashOnHand'] = ctd_df['CashEquivalents'] + ctd_df['MarketSecurities']\n"
     ]
    },
    {
     "data": {
      "text/plain": "            TreasuryStock  CashOnHand  CurrentAssets  CurrentLiabilities  \\\nFiscalYear                                                                 \n2007                  0.0         0.0            0.0                 0.0   \n2008                  0.0       890.0         7438.0             28601.0   \n2009                  0.0       569.0         8252.0             10367.0   \n2010                  0.0      4222.0        13779.0              4756.0   \n2011                124.0      1065.0        11435.0              5018.0   \n2012                106.0      2732.0        12286.0              5096.0   \n2013               2035.0      4450.0        14599.0              5510.0   \n2014               7853.0      2624.0        11645.0              5437.0   \n2015              12086.0      1988.0         9789.0              4349.0   \n2016              14945.0      2022.0         9599.0              4540.0   \n2017              15749.0      2830.0        11738.0              4777.0   \n2018               2206.0      1224.0        10566.0              5513.0   \n2019                580.0      1054.0         9510.0              5198.0   \n2020                531.0      2465.0        11634.0              5502.0   \n2021                965.0      1481.0        12217.0              7230.0   \n2022               1346.0      2151.0        11845.0              6760.0   \n2023               1450.0      3390.0        13152.0              7150.0   \n\n            LongLiabilities  DebtCushion  \nFiscalYear                                \n2007                    0.0          NaN  \n2008                 5996.0    -3.381087  \n2009                26241.0    -0.058915  \n2010                 9142.0     1.448808  \n2011                 7174.0     1.042933  \n2012                 7945.0     1.248836  \n2013                 9274.0     1.459888  \n2014                10440.0     0.845977  \n2015                11834.0     0.627683  \n2016                12829.0     0.551953  \n2017                12479.0     0.784598  \n2018                12369.0     0.507478  \n2019                17058.0     0.314574  \n2020                21797.0     0.394412  \n2021                17524.0     0.369094  \n2022                16862.0     0.429131  \n2023                16792.0     0.559314  ",
      "text/html": "<div>\n<style scoped>\n    .dataframe tbody tr th:only-of-type {\n        vertical-align: middle;\n    }\n\n    .dataframe tbody tr th {\n        vertical-align: top;\n    }\n\n    .dataframe thead th {\n        text-align: right;\n    }\n</style>\n<table border=\"1\" class=\"dataframe\">\n  <thead>\n    <tr style=\"text-align: right;\">\n      <th></th>\n      <th>TreasuryStock</th>\n      <th>CashOnHand</th>\n      <th>CurrentAssets</th>\n      <th>CurrentLiabilities</th>\n      <th>LongLiabilities</th>\n      <th>DebtCushion</th>\n    </tr>\n    <tr>\n      <th>FiscalYear</th>\n      <th></th>\n      <th></th>\n      <th></th>\n      <th></th>\n      <th></th>\n      <th></th>\n    </tr>\n  </thead>\n  <tbody>\n    <tr>\n      <th>2007</th>\n      <td>0.0</td>\n      <td>0.0</td>\n      <td>0.0</td>\n      <td>0.0</td>\n      <td>0.0</td>\n      <td>NaN</td>\n    </tr>\n    <tr>\n      <th>2008</th>\n      <td>0.0</td>\n      <td>890.0</td>\n      <td>7438.0</td>\n      <td>28601.0</td>\n      <td>5996.0</td>\n      <td>-3.381087</td>\n    </tr>\n    <tr>\n      <th>2009</th>\n      <td>0.0</td>\n      <td>569.0</td>\n      <td>8252.0</td>\n      <td>10367.0</td>\n      <td>26241.0</td>\n      <td>-0.058915</td>\n    </tr>\n    <tr>\n      <th>2010</th>\n      <td>0.0</td>\n      <td>4222.0</td>\n      <td>13779.0</td>\n      <td>4756.0</td>\n      <td>9142.0</td>\n      <td>1.448808</td>\n    </tr>\n    <tr>\n      <th>2011</th>\n      <td>124.0</td>\n      <td>1065.0</td>\n      <td>11435.0</td>\n      <td>5018.0</td>\n      <td>7174.0</td>\n      <td>1.042933</td>\n    </tr>\n    <tr>\n      <th>2012</th>\n      <td>106.0</td>\n      <td>2732.0</td>\n      <td>12286.0</td>\n      <td>5096.0</td>\n      <td>7945.0</td>\n      <td>1.248836</td>\n    </tr>\n    <tr>\n      <th>2013</th>\n      <td>2035.0</td>\n      <td>4450.0</td>\n      <td>14599.0</td>\n      <td>5510.0</td>\n      <td>9274.0</td>\n      <td>1.459888</td>\n    </tr>\n    <tr>\n      <th>2014</th>\n      <td>7853.0</td>\n      <td>2624.0</td>\n      <td>11645.0</td>\n      <td>5437.0</td>\n      <td>10440.0</td>\n      <td>0.845977</td>\n    </tr>\n    <tr>\n      <th>2015</th>\n      <td>12086.0</td>\n      <td>1988.0</td>\n      <td>9789.0</td>\n      <td>4349.0</td>\n      <td>11834.0</td>\n      <td>0.627683</td>\n    </tr>\n    <tr>\n      <th>2016</th>\n      <td>14945.0</td>\n      <td>2022.0</td>\n      <td>9599.0</td>\n      <td>4540.0</td>\n      <td>12829.0</td>\n      <td>0.551953</td>\n    </tr>\n    <tr>\n      <th>2017</th>\n      <td>15749.0</td>\n      <td>2830.0</td>\n      <td>11738.0</td>\n      <td>4777.0</td>\n      <td>12479.0</td>\n      <td>0.784598</td>\n    </tr>\n    <tr>\n      <th>2018</th>\n      <td>2206.0</td>\n      <td>1224.0</td>\n      <td>10566.0</td>\n      <td>5513.0</td>\n      <td>12369.0</td>\n      <td>0.507478</td>\n    </tr>\n    <tr>\n      <th>2019</th>\n      <td>580.0</td>\n      <td>1054.0</td>\n      <td>9510.0</td>\n      <td>5198.0</td>\n      <td>17058.0</td>\n      <td>0.314574</td>\n    </tr>\n    <tr>\n      <th>2020</th>\n      <td>531.0</td>\n      <td>2465.0</td>\n      <td>11634.0</td>\n      <td>5502.0</td>\n      <td>21797.0</td>\n      <td>0.394412</td>\n    </tr>\n    <tr>\n      <th>2021</th>\n      <td>965.0</td>\n      <td>1481.0</td>\n      <td>12217.0</td>\n      <td>7230.0</td>\n      <td>17524.0</td>\n      <td>0.369094</td>\n    </tr>\n    <tr>\n      <th>2022</th>\n      <td>1346.0</td>\n      <td>2151.0</td>\n      <td>11845.0</td>\n      <td>6760.0</td>\n      <td>16862.0</td>\n      <td>0.429131</td>\n    </tr>\n    <tr>\n      <th>2023</th>\n      <td>1450.0</td>\n      <td>3390.0</td>\n      <td>13152.0</td>\n      <td>7150.0</td>\n      <td>16792.0</td>\n      <td>0.559314</td>\n    </tr>\n  </tbody>\n</table>\n</div>"
     },
     "execution_count": 4,
     "metadata": {},
     "output_type": "execute_result"
    }
   ],
   "source": [
    "ctd_df = debt_df[['CashEquivalents', 'MarketSecurities', 'TreasuryStock', 'CurrentAssets', 'CurrentLiabilities', 'LongLiabilities']]\n",
    "ctd_df['CashOnHand'] = ctd_df['CashEquivalents'] + ctd_df['MarketSecurities']\n",
    "ctd_df = ctd_df.drop('CashEquivalents', axis=1)\n",
    "ctd_df = ctd_df.drop('MarketSecurities', axis=1)\n",
    "ctd_df['TreasuryStock'] = ctd_df['TreasuryStock'].abs()\n",
    "ctd_df['DebtCushion'] = (ctd_df['CashOnHand'] + ctd_df['CurrentAssets'] - ctd_df['CurrentLiabilities']) / ctd_df['LongLiabilities']\n",
    "ctd_df = ctd_df.reindex(columns=['TreasuryStock', 'CashOnHand', 'CurrentAssets', 'CurrentLiabilities', 'LongLiabilities', 'DebtCushion'])\n",
    "\n",
    "\n",
    "ctd_df"
   ],
   "metadata": {
    "collapsed": false,
    "pycharm": {
     "name": "#%%\n"
    }
   }
  },
  {
   "cell_type": "markdown",
   "source": [
    "# Debt Pay Down"
   ],
   "metadata": {
    "collapsed": false,
    "pycharm": {
     "name": "#%% md\n"
    }
   }
  },
  {
   "cell_type": "code",
   "execution_count": 5,
   "outputs": [
    {
     "name": "stderr",
     "output_type": "stream",
     "text": [
      "/var/folders/j5/3jkv197574n0l3hvczkvmbw00000gn/T/ipykernel_5509/401510080.py:2: SettingWithCopyWarning: \n",
      "A value is trying to be set on a copy of a slice from a DataFrame.\n",
      "Try using .loc[row_indexer,col_indexer] = value instead\n",
      "\n",
      "See the caveats in the documentation: https://pandas.pydata.org/pandas-docs/stable/user_guide/indexing.html#returning-a-view-versus-a-copy\n",
      "  pay_df['FCF'] = debt_df['FreeCashFlow']\n"
     ]
    },
    {
     "data": {
      "text/plain": "               FCF  CashOnHand  CurrentAssets  TotalCash  CurrentLiabilities  \\\nFiscalYear                                                                     \n2007         769.0         0.0            0.0      769.0                 0.0   \n2008          90.0       890.0         7438.0     8418.0             28601.0   \n2009       -1566.0       569.0         8252.0     7255.0             10367.0   \n2010        1329.0      4222.0        13779.0    19330.0              4756.0   \n2011        1810.0      1065.0        11435.0    14310.0              5018.0   \n2012        3727.0      2732.0        12286.0    18745.0              5096.0   \n2013        3274.0      4450.0        14599.0    22323.0              5510.0   \n2014        4549.0      2624.0        11645.0    18818.0              5437.0   \n2015        4402.0      1988.0         9789.0    16179.0              4349.0   \n2016        3363.0      2022.0         9599.0    14984.0              4540.0   \n2017        3659.0      2830.0        11738.0    18227.0              4777.0   \n2018        3366.0      1224.0        10566.0    15156.0              5513.0   \n2019        2267.0      1054.0         9510.0    12831.0              5198.0   \n2020        1457.0      2465.0        11634.0    15556.0              5502.0   \n2021        5736.0      1481.0        12217.0    19434.0              7230.0   \n2022        4229.0      2151.0        11845.0    18225.0              6760.0   \n2023        3411.0      3390.0        13152.0    19953.0              7150.0   \n\n            LongLiabilities  TotalDebt  Leverage  \nFiscalYear                                        \n2007                    0.0        0.0      0.00  \n2008                 5996.0    34597.0      4.11  \n2009                26241.0    36608.0      5.05  \n2010                 9142.0    13898.0      0.72  \n2011                 7174.0    12192.0      0.85  \n2012                 7945.0    13041.0      0.70  \n2013                 9274.0    14784.0      0.66  \n2014                10440.0    15877.0      0.84  \n2015                11834.0    16183.0      1.00  \n2016                12829.0    17369.0      1.16  \n2017                12479.0    17256.0      0.95  \n2018                12369.0    17882.0      1.18  \n2019                17058.0    22256.0      1.73  \n2020                21797.0    27299.0      1.75  \n2021                17524.0    24754.0      1.27  \n2022                16862.0    23622.0      1.30  \n2023                16792.0    23942.0      1.20  ",
      "text/html": "<div>\n<style scoped>\n    .dataframe tbody tr th:only-of-type {\n        vertical-align: middle;\n    }\n\n    .dataframe tbody tr th {\n        vertical-align: top;\n    }\n\n    .dataframe thead th {\n        text-align: right;\n    }\n</style>\n<table border=\"1\" class=\"dataframe\">\n  <thead>\n    <tr style=\"text-align: right;\">\n      <th></th>\n      <th>FCF</th>\n      <th>CashOnHand</th>\n      <th>CurrentAssets</th>\n      <th>TotalCash</th>\n      <th>CurrentLiabilities</th>\n      <th>LongLiabilities</th>\n      <th>TotalDebt</th>\n      <th>Leverage</th>\n    </tr>\n    <tr>\n      <th>FiscalYear</th>\n      <th></th>\n      <th></th>\n      <th></th>\n      <th></th>\n      <th></th>\n      <th></th>\n      <th></th>\n      <th></th>\n    </tr>\n  </thead>\n  <tbody>\n    <tr>\n      <th>2007</th>\n      <td>769.0</td>\n      <td>0.0</td>\n      <td>0.0</td>\n      <td>769.0</td>\n      <td>0.0</td>\n      <td>0.0</td>\n      <td>0.0</td>\n      <td>0.00</td>\n    </tr>\n    <tr>\n      <th>2008</th>\n      <td>90.0</td>\n      <td>890.0</td>\n      <td>7438.0</td>\n      <td>8418.0</td>\n      <td>28601.0</td>\n      <td>5996.0</td>\n      <td>34597.0</td>\n      <td>4.11</td>\n    </tr>\n    <tr>\n      <th>2009</th>\n      <td>-1566.0</td>\n      <td>569.0</td>\n      <td>8252.0</td>\n      <td>7255.0</td>\n      <td>10367.0</td>\n      <td>26241.0</td>\n      <td>36608.0</td>\n      <td>5.05</td>\n    </tr>\n    <tr>\n      <th>2010</th>\n      <td>1329.0</td>\n      <td>4222.0</td>\n      <td>13779.0</td>\n      <td>19330.0</td>\n      <td>4756.0</td>\n      <td>9142.0</td>\n      <td>13898.0</td>\n      <td>0.72</td>\n    </tr>\n    <tr>\n      <th>2011</th>\n      <td>1810.0</td>\n      <td>1065.0</td>\n      <td>11435.0</td>\n      <td>14310.0</td>\n      <td>5018.0</td>\n      <td>7174.0</td>\n      <td>12192.0</td>\n      <td>0.85</td>\n    </tr>\n    <tr>\n      <th>2012</th>\n      <td>3727.0</td>\n      <td>2732.0</td>\n      <td>12286.0</td>\n      <td>18745.0</td>\n      <td>5096.0</td>\n      <td>7945.0</td>\n      <td>13041.0</td>\n      <td>0.70</td>\n    </tr>\n    <tr>\n      <th>2013</th>\n      <td>3274.0</td>\n      <td>4450.0</td>\n      <td>14599.0</td>\n      <td>22323.0</td>\n      <td>5510.0</td>\n      <td>9274.0</td>\n      <td>14784.0</td>\n      <td>0.66</td>\n    </tr>\n    <tr>\n      <th>2014</th>\n      <td>4549.0</td>\n      <td>2624.0</td>\n      <td>11645.0</td>\n      <td>18818.0</td>\n      <td>5437.0</td>\n      <td>10440.0</td>\n      <td>15877.0</td>\n      <td>0.84</td>\n    </tr>\n    <tr>\n      <th>2015</th>\n      <td>4402.0</td>\n      <td>1988.0</td>\n      <td>9789.0</td>\n      <td>16179.0</td>\n      <td>4349.0</td>\n      <td>11834.0</td>\n      <td>16183.0</td>\n      <td>1.00</td>\n    </tr>\n    <tr>\n      <th>2016</th>\n      <td>3363.0</td>\n      <td>2022.0</td>\n      <td>9599.0</td>\n      <td>14984.0</td>\n      <td>4540.0</td>\n      <td>12829.0</td>\n      <td>17369.0</td>\n      <td>1.16</td>\n    </tr>\n    <tr>\n      <th>2017</th>\n      <td>3659.0</td>\n      <td>2830.0</td>\n      <td>11738.0</td>\n      <td>18227.0</td>\n      <td>4777.0</td>\n      <td>12479.0</td>\n      <td>17256.0</td>\n      <td>0.95</td>\n    </tr>\n    <tr>\n      <th>2018</th>\n      <td>3366.0</td>\n      <td>1224.0</td>\n      <td>10566.0</td>\n      <td>15156.0</td>\n      <td>5513.0</td>\n      <td>12369.0</td>\n      <td>17882.0</td>\n      <td>1.18</td>\n    </tr>\n    <tr>\n      <th>2019</th>\n      <td>2267.0</td>\n      <td>1054.0</td>\n      <td>9510.0</td>\n      <td>12831.0</td>\n      <td>5198.0</td>\n      <td>17058.0</td>\n      <td>22256.0</td>\n      <td>1.73</td>\n    </tr>\n    <tr>\n      <th>2020</th>\n      <td>1457.0</td>\n      <td>2465.0</td>\n      <td>11634.0</td>\n      <td>15556.0</td>\n      <td>5502.0</td>\n      <td>21797.0</td>\n      <td>27299.0</td>\n      <td>1.75</td>\n    </tr>\n    <tr>\n      <th>2021</th>\n      <td>5736.0</td>\n      <td>1481.0</td>\n      <td>12217.0</td>\n      <td>19434.0</td>\n      <td>7230.0</td>\n      <td>17524.0</td>\n      <td>24754.0</td>\n      <td>1.27</td>\n    </tr>\n    <tr>\n      <th>2022</th>\n      <td>4229.0</td>\n      <td>2151.0</td>\n      <td>11845.0</td>\n      <td>18225.0</td>\n      <td>6760.0</td>\n      <td>16862.0</td>\n      <td>23622.0</td>\n      <td>1.30</td>\n    </tr>\n    <tr>\n      <th>2023</th>\n      <td>3411.0</td>\n      <td>3390.0</td>\n      <td>13152.0</td>\n      <td>19953.0</td>\n      <td>7150.0</td>\n      <td>16792.0</td>\n      <td>23942.0</td>\n      <td>1.20</td>\n    </tr>\n  </tbody>\n</table>\n</div>"
     },
     "execution_count": 5,
     "metadata": {},
     "output_type": "execute_result"
    }
   ],
   "source": [
    "pay_df = ctd_df[['CashOnHand', 'CurrentAssets', 'CurrentLiabilities', 'LongLiabilities']]\n",
    "pay_df['FCF'] = debt_df['FreeCashFlow']\n",
    "pay_df['TotalCash'] = pay_df['CurrentAssets'] + pay_df['CashOnHand'] + pay_df['FCF']\n",
    "pay_df['TotalDebt'] = pay_df['CurrentLiabilities'] + pay_df['LongLiabilities']\n",
    "pay_df = pay_df.reindex(columns=['FCF', 'CashOnHand', 'CurrentAssets', 'TotalCash', 'CurrentLiabilities', 'LongLiabilities', 'TotalDebt'])\n",
    "pay_df['Leverage'] = round(pay_df['TotalDebt'] / pay_df['TotalCash'], 2)\n",
    "\n",
    "\n",
    "pay_df"
   ],
   "metadata": {
    "collapsed": false,
    "pycharm": {
     "name": "#%%\n"
    }
   }
  },
  {
   "cell_type": "markdown",
   "source": [
    "# Debt to Revenue Margins"
   ],
   "metadata": {
    "collapsed": false,
    "pycharm": {
     "name": "#%% md\n"
    }
   }
  },
  {
   "cell_type": "code",
   "execution_count": 6,
   "outputs": [
    {
     "name": "stderr",
     "output_type": "stream",
     "text": [
      "/var/folders/j5/3jkv197574n0l3hvczkvmbw00000gn/T/ipykernel_5509/3824370074.py:2: SettingWithCopyWarning: \n",
      "A value is trying to be set on a copy of a slice from a DataFrame.\n",
      "Try using .loc[row_indexer,col_indexer] = value instead\n",
      "\n",
      "See the caveats in the documentation: https://pandas.pydata.org/pandas-docs/stable/user_guide/indexing.html#returning-a-view-versus-a-copy\n",
      "  dmar_df['CurrentMargin'] = round(dmar_df['CurrentLiabilities'] / dmar_df['Revenue'], 2)\n",
      "/var/folders/j5/3jkv197574n0l3hvczkvmbw00000gn/T/ipykernel_5509/3824370074.py:3: SettingWithCopyWarning: \n",
      "A value is trying to be set on a copy of a slice from a DataFrame.\n",
      "Try using .loc[row_indexer,col_indexer] = value instead\n",
      "\n",
      "See the caveats in the documentation: https://pandas.pydata.org/pandas-docs/stable/user_guide/indexing.html#returning-a-view-versus-a-copy\n",
      "  dmar_df['LongMargin'] = round(dmar_df['LongLiabilities'] / dmar_df['Revenue'], 2)\n"
     ]
    },
    {
     "data": {
      "text/plain": "            Revenue  CurrentLiabilities  LongLiabilities  CurrentMargin  \\\nFiscalYear                                                                \n2007        17120.0                 0.0              0.0           0.00   \n2008        50706.0             28601.0           5996.0           0.56   \n2009        30828.0             10367.0          26241.0           0.34   \n2010        41151.0              4756.0           9142.0           0.12   \n2011        48183.0              5018.0           7174.0           0.10   \n2012        45352.0              5096.0           7945.0           0.11   \n2013        44062.0              5510.0           9274.0           0.13   \n2014        45608.0              5437.0          10440.0           0.12   \n2015        32735.0              4349.0          11834.0           0.13   \n2016        29183.0              4540.0          12829.0           0.16   \n2017        34484.0              4777.0          12479.0           0.14   \n2018        39004.0              5513.0          12369.0           0.14   \n2019        34727.0              5198.0          17058.0           0.15   \n2020        27753.0              5502.0          21797.0           0.20   \n2021        46173.0              7230.0          17524.0           0.16   \n2022        50451.0              6760.0          16862.0           0.13   \n2023        41107.0              7150.0          16792.0           0.17   \n\n            LongMargin  \nFiscalYear              \n2007              0.00  \n2008              0.12  \n2009              0.85  \n2010              0.22  \n2011              0.15  \n2012              0.18  \n2013              0.21  \n2014              0.23  \n2015              0.36  \n2016              0.44  \n2017              0.36  \n2018              0.32  \n2019              0.49  \n2020              0.79  \n2021              0.38  \n2022              0.33  \n2023              0.41  ",
      "text/html": "<div>\n<style scoped>\n    .dataframe tbody tr th:only-of-type {\n        vertical-align: middle;\n    }\n\n    .dataframe tbody tr th {\n        vertical-align: top;\n    }\n\n    .dataframe thead th {\n        text-align: right;\n    }\n</style>\n<table border=\"1\" class=\"dataframe\">\n  <thead>\n    <tr style=\"text-align: right;\">\n      <th></th>\n      <th>Revenue</th>\n      <th>CurrentLiabilities</th>\n      <th>LongLiabilities</th>\n      <th>CurrentMargin</th>\n      <th>LongMargin</th>\n    </tr>\n    <tr>\n      <th>FiscalYear</th>\n      <th></th>\n      <th></th>\n      <th></th>\n      <th></th>\n      <th></th>\n    </tr>\n  </thead>\n  <tbody>\n    <tr>\n      <th>2007</th>\n      <td>17120.0</td>\n      <td>0.0</td>\n      <td>0.0</td>\n      <td>0.00</td>\n      <td>0.00</td>\n    </tr>\n    <tr>\n      <th>2008</th>\n      <td>50706.0</td>\n      <td>28601.0</td>\n      <td>5996.0</td>\n      <td>0.56</td>\n      <td>0.12</td>\n    </tr>\n    <tr>\n      <th>2009</th>\n      <td>30828.0</td>\n      <td>10367.0</td>\n      <td>26241.0</td>\n      <td>0.34</td>\n      <td>0.85</td>\n    </tr>\n    <tr>\n      <th>2010</th>\n      <td>41151.0</td>\n      <td>4756.0</td>\n      <td>9142.0</td>\n      <td>0.12</td>\n      <td>0.22</td>\n    </tr>\n    <tr>\n      <th>2011</th>\n      <td>48183.0</td>\n      <td>5018.0</td>\n      <td>7174.0</td>\n      <td>0.10</td>\n      <td>0.15</td>\n    </tr>\n    <tr>\n      <th>2012</th>\n      <td>45352.0</td>\n      <td>5096.0</td>\n      <td>7945.0</td>\n      <td>0.11</td>\n      <td>0.18</td>\n    </tr>\n    <tr>\n      <th>2013</th>\n      <td>44062.0</td>\n      <td>5510.0</td>\n      <td>9274.0</td>\n      <td>0.13</td>\n      <td>0.21</td>\n    </tr>\n    <tr>\n      <th>2014</th>\n      <td>45608.0</td>\n      <td>5437.0</td>\n      <td>10440.0</td>\n      <td>0.12</td>\n      <td>0.23</td>\n    </tr>\n    <tr>\n      <th>2015</th>\n      <td>32735.0</td>\n      <td>4349.0</td>\n      <td>11834.0</td>\n      <td>0.13</td>\n      <td>0.36</td>\n    </tr>\n    <tr>\n      <th>2016</th>\n      <td>29183.0</td>\n      <td>4540.0</td>\n      <td>12829.0</td>\n      <td>0.16</td>\n      <td>0.44</td>\n    </tr>\n    <tr>\n      <th>2017</th>\n      <td>34484.0</td>\n      <td>4777.0</td>\n      <td>12479.0</td>\n      <td>0.14</td>\n      <td>0.36</td>\n    </tr>\n    <tr>\n      <th>2018</th>\n      <td>39004.0</td>\n      <td>5513.0</td>\n      <td>12369.0</td>\n      <td>0.14</td>\n      <td>0.32</td>\n    </tr>\n    <tr>\n      <th>2019</th>\n      <td>34727.0</td>\n      <td>5198.0</td>\n      <td>17058.0</td>\n      <td>0.15</td>\n      <td>0.49</td>\n    </tr>\n    <tr>\n      <th>2020</th>\n      <td>27753.0</td>\n      <td>5502.0</td>\n      <td>21797.0</td>\n      <td>0.20</td>\n      <td>0.79</td>\n    </tr>\n    <tr>\n      <th>2021</th>\n      <td>46173.0</td>\n      <td>7230.0</td>\n      <td>17524.0</td>\n      <td>0.16</td>\n      <td>0.38</td>\n    </tr>\n    <tr>\n      <th>2022</th>\n      <td>50451.0</td>\n      <td>6760.0</td>\n      <td>16862.0</td>\n      <td>0.13</td>\n      <td>0.33</td>\n    </tr>\n    <tr>\n      <th>2023</th>\n      <td>41107.0</td>\n      <td>7150.0</td>\n      <td>16792.0</td>\n      <td>0.17</td>\n      <td>0.41</td>\n    </tr>\n  </tbody>\n</table>\n</div>"
     },
     "execution_count": 6,
     "metadata": {},
     "output_type": "execute_result"
    }
   ],
   "source": [
    "dmar_df = debt_df[['Revenue', 'CurrentLiabilities', 'LongLiabilities']]\n",
    "dmar_df['CurrentMargin'] = round(dmar_df['CurrentLiabilities'] / dmar_df['Revenue'], 2)\n",
    "dmar_df['LongMargin'] = round(dmar_df['LongLiabilities'] / dmar_df['Revenue'], 2)\n",
    "\n",
    "dmar_df"
   ],
   "metadata": {
    "collapsed": false,
    "pycharm": {
     "name": "#%%\n"
    }
   }
  },
  {
   "cell_type": "code",
   "execution_count": 6,
   "outputs": [],
   "source": [],
   "metadata": {
    "collapsed": false,
    "pycharm": {
     "name": "#%%\n"
    }
   }
  }
 ],
 "metadata": {
  "kernelspec": {
   "display_name": "Python 3",
   "language": "python",
   "name": "python3"
  },
  "language_info": {
   "codemirror_mode": {
    "name": "ipython",
    "version": 2
   },
   "file_extension": ".py",
   "mimetype": "text/x-python",
   "name": "python",
   "nbconvert_exporter": "python",
   "pygments_lexer": "ipython2",
   "version": "2.7.6"
  }
 },
 "nbformat": 4,
 "nbformat_minor": 0
}