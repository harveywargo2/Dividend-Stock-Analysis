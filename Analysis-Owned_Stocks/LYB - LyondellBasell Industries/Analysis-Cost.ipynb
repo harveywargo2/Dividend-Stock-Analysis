{
 "cells": [
  {
   "cell_type": "markdown",
   "source": [
    "# Analysis of Cost"
   ],
   "metadata": {
    "collapsed": false,
    "pycharm": {
     "name": "#%% md\n"
    }
   }
  },
  {
   "cell_type": "code",
   "execution_count": 6,
   "outputs": [],
   "source": [
    "import pandas as pd\n",
    "import datetime\n",
    "\n",
    "Cost_Data_Fy = 'Data_Cost_Fy-LYB.csv'\n",
    "Cash_Data_Fy = 'Data_Cash_Flow_Fy-LYB.csv'\n",
    "today = datetime.date.today()"
   ],
   "metadata": {
    "collapsed": false,
    "pycharm": {
     "name": "#%%\n"
    }
   }
  },
  {
   "cell_type": "markdown",
   "source": [
    "# Waterfall Analysis of Cost"
   ],
   "metadata": {
    "collapsed": false,
    "pycharm": {
     "name": "#%% md\n"
    }
   }
  },
  {
   "cell_type": "code",
   "execution_count": 7,
   "outputs": [
    {
     "data": {
      "text/plain": "            Revenue     COGS     SGA    RND  OperatingExpense  TaxPaid  \\\nFiscalYear                                                               \n2007        17120.0  15196.0   740.0  230.0             970.0   -279.0   \n2008        50706.0  48780.0  1197.0  194.0            1391.0    848.0   \n2009        30828.0  29372.0   850.0  145.0             995.0   1411.0   \n2010        41151.0  37102.0   872.0  154.0            1026.0    953.0   \n2011        48183.0  42732.0   918.0  196.0            1114.0  -1059.0   \n2012        45352.0  39595.0   909.0  172.0            1081.0  -1327.0   \n2013        44062.0  37940.0   870.0  150.0            1020.0  -1136.0   \n2014        45608.0  38939.0   806.0  127.0             933.0  -1540.0   \n2015        32735.0  25683.0   828.0  102.0             930.0  -1730.0   \n2016        29183.0  23191.0   833.0   99.0             932.0  -1386.0   \n2017        34484.0  28059.0   859.0  106.0             965.0   -598.0   \n2018        39004.0  32529.0  1129.0  115.0            1244.0   -613.0   \n2019        34727.0  29301.0  1199.0  111.0            1310.0   -648.0   \n2020        27753.0  24359.0  1140.0  113.0            1253.0     43.0   \n2021        46173.0  37397.0  1255.0  124.0            1379.0  -1163.0   \n2022        50451.0  43847.0  1310.0  124.0            1434.0   -882.0   \n2023        41107.0  35849.0  1557.0  130.0            1687.0   -501.0   \n\n             CAPEX  CogsMargin  SgaMargin  RndMargin  OperatingMargin  \\\nFiscalYear                                                              \n2007        -411.0        0.89       0.04       0.01             0.06   \n2008       -1000.0        0.96       0.02       0.00             0.03   \n2009        -779.0        0.95       0.03       0.00             0.03   \n2010        -692.0        0.90       0.02       0.00             0.02   \n2011       -1050.0        0.89       0.02       0.00             0.02   \n2012       -1060.0        0.87       0.02       0.00             0.02   \n2013       -1561.0        0.86       0.02       0.00             0.02   \n2014       -1499.0        0.85       0.02       0.00             0.02   \n2015       -1440.0        0.78       0.03       0.00             0.03   \n2016       -2243.0        0.79       0.03       0.00             0.03   \n2017       -1547.0        0.81       0.02       0.00             0.03   \n2018       -2105.0        0.83       0.03       0.00             0.03   \n2019       -2694.0        0.84       0.03       0.00             0.04   \n2020       -1947.0        0.88       0.04       0.00             0.05   \n2021       -1959.0        0.81       0.03       0.00             0.03   \n2022       -1890.0        0.87       0.03       0.00             0.03   \n2023       -1531.0        0.87       0.04       0.00             0.04   \n\n            CapexMargin  \nFiscalYear               \n2007               0.02  \n2008               0.02  \n2009               0.03  \n2010               0.02  \n2011               0.02  \n2012               0.02  \n2013               0.04  \n2014               0.03  \n2015               0.04  \n2016               0.08  \n2017               0.04  \n2018               0.05  \n2019               0.08  \n2020               0.07  \n2021               0.04  \n2022               0.04  \n2023               0.04  ",
      "text/html": "<div>\n<style scoped>\n    .dataframe tbody tr th:only-of-type {\n        vertical-align: middle;\n    }\n\n    .dataframe tbody tr th {\n        vertical-align: top;\n    }\n\n    .dataframe thead th {\n        text-align: right;\n    }\n</style>\n<table border=\"1\" class=\"dataframe\">\n  <thead>\n    <tr style=\"text-align: right;\">\n      <th></th>\n      <th>Revenue</th>\n      <th>COGS</th>\n      <th>SGA</th>\n      <th>RND</th>\n      <th>OperatingExpense</th>\n      <th>TaxPaid</th>\n      <th>CAPEX</th>\n      <th>CogsMargin</th>\n      <th>SgaMargin</th>\n      <th>RndMargin</th>\n      <th>OperatingMargin</th>\n      <th>CapexMargin</th>\n    </tr>\n    <tr>\n      <th>FiscalYear</th>\n      <th></th>\n      <th></th>\n      <th></th>\n      <th></th>\n      <th></th>\n      <th></th>\n      <th></th>\n      <th></th>\n      <th></th>\n      <th></th>\n      <th></th>\n      <th></th>\n    </tr>\n  </thead>\n  <tbody>\n    <tr>\n      <th>2007</th>\n      <td>17120.0</td>\n      <td>15196.0</td>\n      <td>740.0</td>\n      <td>230.0</td>\n      <td>970.0</td>\n      <td>-279.0</td>\n      <td>-411.0</td>\n      <td>0.89</td>\n      <td>0.04</td>\n      <td>0.01</td>\n      <td>0.06</td>\n      <td>0.02</td>\n    </tr>\n    <tr>\n      <th>2008</th>\n      <td>50706.0</td>\n      <td>48780.0</td>\n      <td>1197.0</td>\n      <td>194.0</td>\n      <td>1391.0</td>\n      <td>848.0</td>\n      <td>-1000.0</td>\n      <td>0.96</td>\n      <td>0.02</td>\n      <td>0.00</td>\n      <td>0.03</td>\n      <td>0.02</td>\n    </tr>\n    <tr>\n      <th>2009</th>\n      <td>30828.0</td>\n      <td>29372.0</td>\n      <td>850.0</td>\n      <td>145.0</td>\n      <td>995.0</td>\n      <td>1411.0</td>\n      <td>-779.0</td>\n      <td>0.95</td>\n      <td>0.03</td>\n      <td>0.00</td>\n      <td>0.03</td>\n      <td>0.03</td>\n    </tr>\n    <tr>\n      <th>2010</th>\n      <td>41151.0</td>\n      <td>37102.0</td>\n      <td>872.0</td>\n      <td>154.0</td>\n      <td>1026.0</td>\n      <td>953.0</td>\n      <td>-692.0</td>\n      <td>0.90</td>\n      <td>0.02</td>\n      <td>0.00</td>\n      <td>0.02</td>\n      <td>0.02</td>\n    </tr>\n    <tr>\n      <th>2011</th>\n      <td>48183.0</td>\n      <td>42732.0</td>\n      <td>918.0</td>\n      <td>196.0</td>\n      <td>1114.0</td>\n      <td>-1059.0</td>\n      <td>-1050.0</td>\n      <td>0.89</td>\n      <td>0.02</td>\n      <td>0.00</td>\n      <td>0.02</td>\n      <td>0.02</td>\n    </tr>\n    <tr>\n      <th>2012</th>\n      <td>45352.0</td>\n      <td>39595.0</td>\n      <td>909.0</td>\n      <td>172.0</td>\n      <td>1081.0</td>\n      <td>-1327.0</td>\n      <td>-1060.0</td>\n      <td>0.87</td>\n      <td>0.02</td>\n      <td>0.00</td>\n      <td>0.02</td>\n      <td>0.02</td>\n    </tr>\n    <tr>\n      <th>2013</th>\n      <td>44062.0</td>\n      <td>37940.0</td>\n      <td>870.0</td>\n      <td>150.0</td>\n      <td>1020.0</td>\n      <td>-1136.0</td>\n      <td>-1561.0</td>\n      <td>0.86</td>\n      <td>0.02</td>\n      <td>0.00</td>\n      <td>0.02</td>\n      <td>0.04</td>\n    </tr>\n    <tr>\n      <th>2014</th>\n      <td>45608.0</td>\n      <td>38939.0</td>\n      <td>806.0</td>\n      <td>127.0</td>\n      <td>933.0</td>\n      <td>-1540.0</td>\n      <td>-1499.0</td>\n      <td>0.85</td>\n      <td>0.02</td>\n      <td>0.00</td>\n      <td>0.02</td>\n      <td>0.03</td>\n    </tr>\n    <tr>\n      <th>2015</th>\n      <td>32735.0</td>\n      <td>25683.0</td>\n      <td>828.0</td>\n      <td>102.0</td>\n      <td>930.0</td>\n      <td>-1730.0</td>\n      <td>-1440.0</td>\n      <td>0.78</td>\n      <td>0.03</td>\n      <td>0.00</td>\n      <td>0.03</td>\n      <td>0.04</td>\n    </tr>\n    <tr>\n      <th>2016</th>\n      <td>29183.0</td>\n      <td>23191.0</td>\n      <td>833.0</td>\n      <td>99.0</td>\n      <td>932.0</td>\n      <td>-1386.0</td>\n      <td>-2243.0</td>\n      <td>0.79</td>\n      <td>0.03</td>\n      <td>0.00</td>\n      <td>0.03</td>\n      <td>0.08</td>\n    </tr>\n    <tr>\n      <th>2017</th>\n      <td>34484.0</td>\n      <td>28059.0</td>\n      <td>859.0</td>\n      <td>106.0</td>\n      <td>965.0</td>\n      <td>-598.0</td>\n      <td>-1547.0</td>\n      <td>0.81</td>\n      <td>0.02</td>\n      <td>0.00</td>\n      <td>0.03</td>\n      <td>0.04</td>\n    </tr>\n    <tr>\n      <th>2018</th>\n      <td>39004.0</td>\n      <td>32529.0</td>\n      <td>1129.0</td>\n      <td>115.0</td>\n      <td>1244.0</td>\n      <td>-613.0</td>\n      <td>-2105.0</td>\n      <td>0.83</td>\n      <td>0.03</td>\n      <td>0.00</td>\n      <td>0.03</td>\n      <td>0.05</td>\n    </tr>\n    <tr>\n      <th>2019</th>\n      <td>34727.0</td>\n      <td>29301.0</td>\n      <td>1199.0</td>\n      <td>111.0</td>\n      <td>1310.0</td>\n      <td>-648.0</td>\n      <td>-2694.0</td>\n      <td>0.84</td>\n      <td>0.03</td>\n      <td>0.00</td>\n      <td>0.04</td>\n      <td>0.08</td>\n    </tr>\n    <tr>\n      <th>2020</th>\n      <td>27753.0</td>\n      <td>24359.0</td>\n      <td>1140.0</td>\n      <td>113.0</td>\n      <td>1253.0</td>\n      <td>43.0</td>\n      <td>-1947.0</td>\n      <td>0.88</td>\n      <td>0.04</td>\n      <td>0.00</td>\n      <td>0.05</td>\n      <td>0.07</td>\n    </tr>\n    <tr>\n      <th>2021</th>\n      <td>46173.0</td>\n      <td>37397.0</td>\n      <td>1255.0</td>\n      <td>124.0</td>\n      <td>1379.0</td>\n      <td>-1163.0</td>\n      <td>-1959.0</td>\n      <td>0.81</td>\n      <td>0.03</td>\n      <td>0.00</td>\n      <td>0.03</td>\n      <td>0.04</td>\n    </tr>\n    <tr>\n      <th>2022</th>\n      <td>50451.0</td>\n      <td>43847.0</td>\n      <td>1310.0</td>\n      <td>124.0</td>\n      <td>1434.0</td>\n      <td>-882.0</td>\n      <td>-1890.0</td>\n      <td>0.87</td>\n      <td>0.03</td>\n      <td>0.00</td>\n      <td>0.03</td>\n      <td>0.04</td>\n    </tr>\n    <tr>\n      <th>2023</th>\n      <td>41107.0</td>\n      <td>35849.0</td>\n      <td>1557.0</td>\n      <td>130.0</td>\n      <td>1687.0</td>\n      <td>-501.0</td>\n      <td>-1531.0</td>\n      <td>0.87</td>\n      <td>0.04</td>\n      <td>0.00</td>\n      <td>0.04</td>\n      <td>0.04</td>\n    </tr>\n  </tbody>\n</table>\n</div>"
     },
     "execution_count": 7,
     "metadata": {},
     "output_type": "execute_result"
    }
   ],
   "source": [
    "cost_df = pd.read_csv(Cost_Data_Fy,index_col='FiscalYear')\n",
    "cost_df['CogsMargin'] = round(cost_df['COGS'] / cost_df['Revenue'], 2)\n",
    "cost_df['SgaMargin'] = round(cost_df['SGA'] / cost_df['Revenue'], 2)\n",
    "cost_df['RndMargin'] = round(cost_df['RND'] / cost_df['Revenue'], 2)\n",
    "cost_df['OperatingMargin'] = round(cost_df['OperatingExpense'] / cost_df['Revenue'], 2)\n",
    "cost_df['CapexMargin'] = round(cost_df['CAPEX'].abs() / cost_df['Revenue'], 2)\n",
    "\n",
    "\n",
    "cost_df"
   ],
   "metadata": {
    "collapsed": false,
    "pycharm": {
     "name": "#%%\n"
    }
   }
  },
  {
   "cell_type": "code",
   "execution_count": 8,
   "outputs": [
    {
     "data": {
      "text/plain": "            Revenue     COGS  CogsMargin     SGA  SgaMargin    RND  RndMargin  \\\nFiscalYear                                                                      \n2007        17120.0  15196.0        0.89   740.0       0.04  230.0       0.01   \n2008        50706.0  48780.0        0.96  1197.0       0.02  194.0       0.00   \n2009        30828.0  29372.0        0.95   850.0       0.03  145.0       0.00   \n2010        41151.0  37102.0        0.90   872.0       0.02  154.0       0.00   \n2011        48183.0  42732.0        0.89   918.0       0.02  196.0       0.00   \n2012        45352.0  39595.0        0.87   909.0       0.02  172.0       0.00   \n2013        44062.0  37940.0        0.86   870.0       0.02  150.0       0.00   \n2014        45608.0  38939.0        0.85   806.0       0.02  127.0       0.00   \n2015        32735.0  25683.0        0.78   828.0       0.03  102.0       0.00   \n2016        29183.0  23191.0        0.79   833.0       0.03   99.0       0.00   \n2017        34484.0  28059.0        0.81   859.0       0.02  106.0       0.00   \n2018        39004.0  32529.0        0.83  1129.0       0.03  115.0       0.00   \n2019        34727.0  29301.0        0.84  1199.0       0.03  111.0       0.00   \n2020        27753.0  24359.0        0.88  1140.0       0.04  113.0       0.00   \n2021        46173.0  37397.0        0.81  1255.0       0.03  124.0       0.00   \n2022        50451.0  43847.0        0.87  1310.0       0.03  124.0       0.00   \n2023        41107.0  35849.0        0.87  1557.0       0.04  130.0       0.00   \n\n            OperatingExpense  OperatingMargin  \nFiscalYear                                     \n2007                   970.0             0.06  \n2008                  1391.0             0.03  \n2009                   995.0             0.03  \n2010                  1026.0             0.02  \n2011                  1114.0             0.02  \n2012                  1081.0             0.02  \n2013                  1020.0             0.02  \n2014                   933.0             0.02  \n2015                   930.0             0.03  \n2016                   932.0             0.03  \n2017                   965.0             0.03  \n2018                  1244.0             0.03  \n2019                  1310.0             0.04  \n2020                  1253.0             0.05  \n2021                  1379.0             0.03  \n2022                  1434.0             0.03  \n2023                  1687.0             0.04  ",
      "text/html": "<div>\n<style scoped>\n    .dataframe tbody tr th:only-of-type {\n        vertical-align: middle;\n    }\n\n    .dataframe tbody tr th {\n        vertical-align: top;\n    }\n\n    .dataframe thead th {\n        text-align: right;\n    }\n</style>\n<table border=\"1\" class=\"dataframe\">\n  <thead>\n    <tr style=\"text-align: right;\">\n      <th></th>\n      <th>Revenue</th>\n      <th>COGS</th>\n      <th>CogsMargin</th>\n      <th>SGA</th>\n      <th>SgaMargin</th>\n      <th>RND</th>\n      <th>RndMargin</th>\n      <th>OperatingExpense</th>\n      <th>OperatingMargin</th>\n    </tr>\n    <tr>\n      <th>FiscalYear</th>\n      <th></th>\n      <th></th>\n      <th></th>\n      <th></th>\n      <th></th>\n      <th></th>\n      <th></th>\n      <th></th>\n      <th></th>\n    </tr>\n  </thead>\n  <tbody>\n    <tr>\n      <th>2007</th>\n      <td>17120.0</td>\n      <td>15196.0</td>\n      <td>0.89</td>\n      <td>740.0</td>\n      <td>0.04</td>\n      <td>230.0</td>\n      <td>0.01</td>\n      <td>970.0</td>\n      <td>0.06</td>\n    </tr>\n    <tr>\n      <th>2008</th>\n      <td>50706.0</td>\n      <td>48780.0</td>\n      <td>0.96</td>\n      <td>1197.0</td>\n      <td>0.02</td>\n      <td>194.0</td>\n      <td>0.00</td>\n      <td>1391.0</td>\n      <td>0.03</td>\n    </tr>\n    <tr>\n      <th>2009</th>\n      <td>30828.0</td>\n      <td>29372.0</td>\n      <td>0.95</td>\n      <td>850.0</td>\n      <td>0.03</td>\n      <td>145.0</td>\n      <td>0.00</td>\n      <td>995.0</td>\n      <td>0.03</td>\n    </tr>\n    <tr>\n      <th>2010</th>\n      <td>41151.0</td>\n      <td>37102.0</td>\n      <td>0.90</td>\n      <td>872.0</td>\n      <td>0.02</td>\n      <td>154.0</td>\n      <td>0.00</td>\n      <td>1026.0</td>\n      <td>0.02</td>\n    </tr>\n    <tr>\n      <th>2011</th>\n      <td>48183.0</td>\n      <td>42732.0</td>\n      <td>0.89</td>\n      <td>918.0</td>\n      <td>0.02</td>\n      <td>196.0</td>\n      <td>0.00</td>\n      <td>1114.0</td>\n      <td>0.02</td>\n    </tr>\n    <tr>\n      <th>2012</th>\n      <td>45352.0</td>\n      <td>39595.0</td>\n      <td>0.87</td>\n      <td>909.0</td>\n      <td>0.02</td>\n      <td>172.0</td>\n      <td>0.00</td>\n      <td>1081.0</td>\n      <td>0.02</td>\n    </tr>\n    <tr>\n      <th>2013</th>\n      <td>44062.0</td>\n      <td>37940.0</td>\n      <td>0.86</td>\n      <td>870.0</td>\n      <td>0.02</td>\n      <td>150.0</td>\n      <td>0.00</td>\n      <td>1020.0</td>\n      <td>0.02</td>\n    </tr>\n    <tr>\n      <th>2014</th>\n      <td>45608.0</td>\n      <td>38939.0</td>\n      <td>0.85</td>\n      <td>806.0</td>\n      <td>0.02</td>\n      <td>127.0</td>\n      <td>0.00</td>\n      <td>933.0</td>\n      <td>0.02</td>\n    </tr>\n    <tr>\n      <th>2015</th>\n      <td>32735.0</td>\n      <td>25683.0</td>\n      <td>0.78</td>\n      <td>828.0</td>\n      <td>0.03</td>\n      <td>102.0</td>\n      <td>0.00</td>\n      <td>930.0</td>\n      <td>0.03</td>\n    </tr>\n    <tr>\n      <th>2016</th>\n      <td>29183.0</td>\n      <td>23191.0</td>\n      <td>0.79</td>\n      <td>833.0</td>\n      <td>0.03</td>\n      <td>99.0</td>\n      <td>0.00</td>\n      <td>932.0</td>\n      <td>0.03</td>\n    </tr>\n    <tr>\n      <th>2017</th>\n      <td>34484.0</td>\n      <td>28059.0</td>\n      <td>0.81</td>\n      <td>859.0</td>\n      <td>0.02</td>\n      <td>106.0</td>\n      <td>0.00</td>\n      <td>965.0</td>\n      <td>0.03</td>\n    </tr>\n    <tr>\n      <th>2018</th>\n      <td>39004.0</td>\n      <td>32529.0</td>\n      <td>0.83</td>\n      <td>1129.0</td>\n      <td>0.03</td>\n      <td>115.0</td>\n      <td>0.00</td>\n      <td>1244.0</td>\n      <td>0.03</td>\n    </tr>\n    <tr>\n      <th>2019</th>\n      <td>34727.0</td>\n      <td>29301.0</td>\n      <td>0.84</td>\n      <td>1199.0</td>\n      <td>0.03</td>\n      <td>111.0</td>\n      <td>0.00</td>\n      <td>1310.0</td>\n      <td>0.04</td>\n    </tr>\n    <tr>\n      <th>2020</th>\n      <td>27753.0</td>\n      <td>24359.0</td>\n      <td>0.88</td>\n      <td>1140.0</td>\n      <td>0.04</td>\n      <td>113.0</td>\n      <td>0.00</td>\n      <td>1253.0</td>\n      <td>0.05</td>\n    </tr>\n    <tr>\n      <th>2021</th>\n      <td>46173.0</td>\n      <td>37397.0</td>\n      <td>0.81</td>\n      <td>1255.0</td>\n      <td>0.03</td>\n      <td>124.0</td>\n      <td>0.00</td>\n      <td>1379.0</td>\n      <td>0.03</td>\n    </tr>\n    <tr>\n      <th>2022</th>\n      <td>50451.0</td>\n      <td>43847.0</td>\n      <td>0.87</td>\n      <td>1310.0</td>\n      <td>0.03</td>\n      <td>124.0</td>\n      <td>0.00</td>\n      <td>1434.0</td>\n      <td>0.03</td>\n    </tr>\n    <tr>\n      <th>2023</th>\n      <td>41107.0</td>\n      <td>35849.0</td>\n      <td>0.87</td>\n      <td>1557.0</td>\n      <td>0.04</td>\n      <td>130.0</td>\n      <td>0.00</td>\n      <td>1687.0</td>\n      <td>0.04</td>\n    </tr>\n  </tbody>\n</table>\n</div>"
     },
     "execution_count": 8,
     "metadata": {},
     "output_type": "execute_result"
    }
   ],
   "source": [
    "oe_df = cost_df[['Revenue', 'COGS', 'CogsMargin', 'SGA', 'SgaMargin', 'RND', 'RndMargin', 'OperatingExpense', 'OperatingMargin']]\n",
    "\n",
    "oe_df"
   ],
   "metadata": {
    "collapsed": false,
    "pycharm": {
     "name": "#%%\n"
    }
   }
  },
  {
   "cell_type": "code",
   "execution_count": 9,
   "outputs": [
    {
     "data": {
      "text/plain": "             CAPEX  CapexMargin\nFiscalYear                     \n2007        -411.0         0.02\n2008       -1000.0         0.02\n2009        -779.0         0.03\n2010        -692.0         0.02\n2011       -1050.0         0.02\n2012       -1060.0         0.02\n2013       -1561.0         0.04\n2014       -1499.0         0.03\n2015       -1440.0         0.04\n2016       -2243.0         0.08\n2017       -1547.0         0.04\n2018       -2105.0         0.05\n2019       -2694.0         0.08\n2020       -1947.0         0.07\n2021       -1959.0         0.04\n2022       -1890.0         0.04\n2023       -1531.0         0.04",
      "text/html": "<div>\n<style scoped>\n    .dataframe tbody tr th:only-of-type {\n        vertical-align: middle;\n    }\n\n    .dataframe tbody tr th {\n        vertical-align: top;\n    }\n\n    .dataframe thead th {\n        text-align: right;\n    }\n</style>\n<table border=\"1\" class=\"dataframe\">\n  <thead>\n    <tr style=\"text-align: right;\">\n      <th></th>\n      <th>CAPEX</th>\n      <th>CapexMargin</th>\n    </tr>\n    <tr>\n      <th>FiscalYear</th>\n      <th></th>\n      <th></th>\n    </tr>\n  </thead>\n  <tbody>\n    <tr>\n      <th>2007</th>\n      <td>-411.0</td>\n      <td>0.02</td>\n    </tr>\n    <tr>\n      <th>2008</th>\n      <td>-1000.0</td>\n      <td>0.02</td>\n    </tr>\n    <tr>\n      <th>2009</th>\n      <td>-779.0</td>\n      <td>0.03</td>\n    </tr>\n    <tr>\n      <th>2010</th>\n      <td>-692.0</td>\n      <td>0.02</td>\n    </tr>\n    <tr>\n      <th>2011</th>\n      <td>-1050.0</td>\n      <td>0.02</td>\n    </tr>\n    <tr>\n      <th>2012</th>\n      <td>-1060.0</td>\n      <td>0.02</td>\n    </tr>\n    <tr>\n      <th>2013</th>\n      <td>-1561.0</td>\n      <td>0.04</td>\n    </tr>\n    <tr>\n      <th>2014</th>\n      <td>-1499.0</td>\n      <td>0.03</td>\n    </tr>\n    <tr>\n      <th>2015</th>\n      <td>-1440.0</td>\n      <td>0.04</td>\n    </tr>\n    <tr>\n      <th>2016</th>\n      <td>-2243.0</td>\n      <td>0.08</td>\n    </tr>\n    <tr>\n      <th>2017</th>\n      <td>-1547.0</td>\n      <td>0.04</td>\n    </tr>\n    <tr>\n      <th>2018</th>\n      <td>-2105.0</td>\n      <td>0.05</td>\n    </tr>\n    <tr>\n      <th>2019</th>\n      <td>-2694.0</td>\n      <td>0.08</td>\n    </tr>\n    <tr>\n      <th>2020</th>\n      <td>-1947.0</td>\n      <td>0.07</td>\n    </tr>\n    <tr>\n      <th>2021</th>\n      <td>-1959.0</td>\n      <td>0.04</td>\n    </tr>\n    <tr>\n      <th>2022</th>\n      <td>-1890.0</td>\n      <td>0.04</td>\n    </tr>\n    <tr>\n      <th>2023</th>\n      <td>-1531.0</td>\n      <td>0.04</td>\n    </tr>\n  </tbody>\n</table>\n</div>"
     },
     "execution_count": 9,
     "metadata": {},
     "output_type": "execute_result"
    }
   ],
   "source": [
    "capex_df = cost_df[['CAPEX', 'CapexMargin']]\n",
    "\n",
    "capex_df"
   ],
   "metadata": {
    "collapsed": false,
    "pycharm": {
     "name": "#%%\n"
    }
   }
  },
  {
   "cell_type": "code",
   "execution_count": 10,
   "outputs": [
    {
     "data": {
      "text/plain": "            TaxPaid  NetIncome  TaxRate\nFiscalYear                             \n2007          279.0      661.0     0.42\n2008          848.0    -7321.0    -0.12\n2009         1411.0    -2865.0    -0.49\n2010          953.0    10151.0     0.09\n2011         1059.0     2147.0     0.49\n2012         1327.0     2848.0     0.47\n2013         1136.0     3857.0     0.29\n2014         1540.0     4174.0     0.37\n2015         1730.0     4476.0     0.39\n2016         1386.0     3836.0     0.36\n2017          598.0     4879.0     0.12\n2018          613.0     4688.0     0.13\n2019          648.0     3390.0     0.19\n2020           43.0     1420.0     0.03\n2021         1163.0     5610.0     0.21\n2022          882.0     3882.0     0.23\n2023          501.0     2114.0     0.24",
      "text/html": "<div>\n<style scoped>\n    .dataframe tbody tr th:only-of-type {\n        vertical-align: middle;\n    }\n\n    .dataframe tbody tr th {\n        vertical-align: top;\n    }\n\n    .dataframe thead th {\n        text-align: right;\n    }\n</style>\n<table border=\"1\" class=\"dataframe\">\n  <thead>\n    <tr style=\"text-align: right;\">\n      <th></th>\n      <th>TaxPaid</th>\n      <th>NetIncome</th>\n      <th>TaxRate</th>\n    </tr>\n    <tr>\n      <th>FiscalYear</th>\n      <th></th>\n      <th></th>\n      <th></th>\n    </tr>\n  </thead>\n  <tbody>\n    <tr>\n      <th>2007</th>\n      <td>279.0</td>\n      <td>661.0</td>\n      <td>0.42</td>\n    </tr>\n    <tr>\n      <th>2008</th>\n      <td>848.0</td>\n      <td>-7321.0</td>\n      <td>-0.12</td>\n    </tr>\n    <tr>\n      <th>2009</th>\n      <td>1411.0</td>\n      <td>-2865.0</td>\n      <td>-0.49</td>\n    </tr>\n    <tr>\n      <th>2010</th>\n      <td>953.0</td>\n      <td>10151.0</td>\n      <td>0.09</td>\n    </tr>\n    <tr>\n      <th>2011</th>\n      <td>1059.0</td>\n      <td>2147.0</td>\n      <td>0.49</td>\n    </tr>\n    <tr>\n      <th>2012</th>\n      <td>1327.0</td>\n      <td>2848.0</td>\n      <td>0.47</td>\n    </tr>\n    <tr>\n      <th>2013</th>\n      <td>1136.0</td>\n      <td>3857.0</td>\n      <td>0.29</td>\n    </tr>\n    <tr>\n      <th>2014</th>\n      <td>1540.0</td>\n      <td>4174.0</td>\n      <td>0.37</td>\n    </tr>\n    <tr>\n      <th>2015</th>\n      <td>1730.0</td>\n      <td>4476.0</td>\n      <td>0.39</td>\n    </tr>\n    <tr>\n      <th>2016</th>\n      <td>1386.0</td>\n      <td>3836.0</td>\n      <td>0.36</td>\n    </tr>\n    <tr>\n      <th>2017</th>\n      <td>598.0</td>\n      <td>4879.0</td>\n      <td>0.12</td>\n    </tr>\n    <tr>\n      <th>2018</th>\n      <td>613.0</td>\n      <td>4688.0</td>\n      <td>0.13</td>\n    </tr>\n    <tr>\n      <th>2019</th>\n      <td>648.0</td>\n      <td>3390.0</td>\n      <td>0.19</td>\n    </tr>\n    <tr>\n      <th>2020</th>\n      <td>43.0</td>\n      <td>1420.0</td>\n      <td>0.03</td>\n    </tr>\n    <tr>\n      <th>2021</th>\n      <td>1163.0</td>\n      <td>5610.0</td>\n      <td>0.21</td>\n    </tr>\n    <tr>\n      <th>2022</th>\n      <td>882.0</td>\n      <td>3882.0</td>\n      <td>0.23</td>\n    </tr>\n    <tr>\n      <th>2023</th>\n      <td>501.0</td>\n      <td>2114.0</td>\n      <td>0.24</td>\n    </tr>\n  </tbody>\n</table>\n</div>"
     },
     "execution_count": 10,
     "metadata": {},
     "output_type": "execute_result"
    }
   ],
   "source": [
    "tax_df = cost_df [['TaxPaid']].abs()\n",
    "cash_df = pd.read_csv(Cash_Data_Fy,index_col='FiscalYear')\n",
    "tax_df['NetIncome'] = cash_df['NetIncome']\n",
    "tax_df['TaxRate'] = round(tax_df['TaxPaid'] / tax_df['NetIncome'], 2)\n",
    "\n",
    "\n",
    "tax_df"
   ],
   "metadata": {
    "collapsed": false,
    "pycharm": {
     "name": "#%%\n"
    }
   }
  },
  {
   "cell_type": "code",
   "execution_count": 10,
   "outputs": [],
   "source": [],
   "metadata": {
    "collapsed": false,
    "pycharm": {
     "name": "#%%\n"
    }
   }
  }
 ],
 "metadata": {
  "kernelspec": {
   "display_name": "Python 3",
   "language": "python",
   "name": "python3"
  },
  "language_info": {
   "codemirror_mode": {
    "name": "ipython",
    "version": 2
   },
   "file_extension": ".py",
   "mimetype": "text/x-python",
   "name": "python",
   "nbconvert_exporter": "python",
   "pygments_lexer": "ipython2",
   "version": "2.7.6"
  }
 },
 "nbformat": 4,
 "nbformat_minor": 0
}