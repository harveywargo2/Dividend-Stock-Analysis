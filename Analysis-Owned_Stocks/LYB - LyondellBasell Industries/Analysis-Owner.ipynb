{
 "cells": [
  {
   "cell_type": "markdown",
   "source": [
    "# Analysis of Owner Returns"
   ],
   "metadata": {
    "collapsed": false,
    "pycharm": {
     "name": "#%% md\n"
    }
   }
  },
  {
   "cell_type": "code",
   "execution_count": 1,
   "outputs": [],
   "source": [
    "import pandas as pd\n",
    "import datetime\n",
    "\n",
    "Owner_Data_Fy = 'Data_Owner_Fy-LYB.csv'\n",
    "today = datetime.date.today()"
   ],
   "metadata": {
    "collapsed": false,
    "pycharm": {
     "name": "#%%\n"
    }
   }
  },
  {
   "cell_type": "markdown",
   "source": [
    "# WaterFall Analysis"
   ],
   "metadata": {
    "collapsed": false,
    "pycharm": {
     "name": "#%% md\n"
    }
   }
  },
  {
   "cell_type": "code",
   "execution_count": 2,
   "outputs": [
    {
     "data": {
      "text/plain": "            Revenue  FreeCashFlow  CashEquivalents  MarketSecurities  \\\nFiscalYear                                                             \n2007        17120.0         769.0              0.0               0.0   \n2008        50706.0          90.0            858.0              32.0   \n2009        30828.0       -1566.0            558.0              11.0   \n2010        41151.0        1329.0           4222.0               0.0   \n2011        48183.0        1810.0           1065.0               0.0   \n2012        45352.0        3727.0           2732.0               0.0   \n2013        44062.0        3274.0           4450.0               0.0   \n2014        45608.0        4549.0           1031.0            1593.0   \n2015        32735.0        4402.0            924.0            1064.0   \n2016        29183.0        3363.0            875.0            1147.0   \n2017        34484.0        3659.0           1523.0            1307.0   \n2018        39004.0        3366.0            332.0             892.0   \n2019        34727.0        2267.0            858.0             196.0   \n2020        27753.0        1457.0           1763.0             702.0   \n2021        46173.0        5736.0           1472.0               9.0   \n2022        50451.0        4229.0           2151.0               0.0   \n2023        41107.0        3411.0           3390.0               0.0   \n\n            TreasuryStock  CashForDividends  StockIssuance  StockRepurchase  \nFiscalYear                                                                   \n2007                  0.0            -522.0            0.0              0.0  \n2008                  0.0               0.0            0.0              0.0  \n2009                  0.0               0.0            0.0              0.0  \n2010                  0.0               0.0         2800.0              0.0  \n2011               -124.0           -2893.0            0.0              0.0  \n2012               -106.0           -2415.0            0.0              0.0  \n2013              -2035.0           -1127.0            0.0          -1949.0  \n2014              -7853.0           -1403.0            0.0          -5788.0  \n2015             -12086.0           -1410.0            0.0          -4656.0  \n2016             -14945.0           -1395.0            0.0          -2938.0  \n2017             -15749.0           -1415.0            0.0           -866.0  \n2018              -2206.0           -1554.0            0.0          -1854.0  \n2019               -580.0           -1462.0            0.0          -3752.0  \n2020               -531.0           -1405.0            0.0             -4.0  \n2021               -965.0           -1486.0            0.0           -463.0  \n2022              -1346.0           -3246.0            0.0           -420.0  \n2023              -1450.0           -1610.0            0.0           -211.0  ",
      "text/html": "<div>\n<style scoped>\n    .dataframe tbody tr th:only-of-type {\n        vertical-align: middle;\n    }\n\n    .dataframe tbody tr th {\n        vertical-align: top;\n    }\n\n    .dataframe thead th {\n        text-align: right;\n    }\n</style>\n<table border=\"1\" class=\"dataframe\">\n  <thead>\n    <tr style=\"text-align: right;\">\n      <th></th>\n      <th>Revenue</th>\n      <th>FreeCashFlow</th>\n      <th>CashEquivalents</th>\n      <th>MarketSecurities</th>\n      <th>TreasuryStock</th>\n      <th>CashForDividends</th>\n      <th>StockIssuance</th>\n      <th>StockRepurchase</th>\n    </tr>\n    <tr>\n      <th>FiscalYear</th>\n      <th></th>\n      <th></th>\n      <th></th>\n      <th></th>\n      <th></th>\n      <th></th>\n      <th></th>\n      <th></th>\n    </tr>\n  </thead>\n  <tbody>\n    <tr>\n      <th>2007</th>\n      <td>17120.0</td>\n      <td>769.0</td>\n      <td>0.0</td>\n      <td>0.0</td>\n      <td>0.0</td>\n      <td>-522.0</td>\n      <td>0.0</td>\n      <td>0.0</td>\n    </tr>\n    <tr>\n      <th>2008</th>\n      <td>50706.0</td>\n      <td>90.0</td>\n      <td>858.0</td>\n      <td>32.0</td>\n      <td>0.0</td>\n      <td>0.0</td>\n      <td>0.0</td>\n      <td>0.0</td>\n    </tr>\n    <tr>\n      <th>2009</th>\n      <td>30828.0</td>\n      <td>-1566.0</td>\n      <td>558.0</td>\n      <td>11.0</td>\n      <td>0.0</td>\n      <td>0.0</td>\n      <td>0.0</td>\n      <td>0.0</td>\n    </tr>\n    <tr>\n      <th>2010</th>\n      <td>41151.0</td>\n      <td>1329.0</td>\n      <td>4222.0</td>\n      <td>0.0</td>\n      <td>0.0</td>\n      <td>0.0</td>\n      <td>2800.0</td>\n      <td>0.0</td>\n    </tr>\n    <tr>\n      <th>2011</th>\n      <td>48183.0</td>\n      <td>1810.0</td>\n      <td>1065.0</td>\n      <td>0.0</td>\n      <td>-124.0</td>\n      <td>-2893.0</td>\n      <td>0.0</td>\n      <td>0.0</td>\n    </tr>\n    <tr>\n      <th>2012</th>\n      <td>45352.0</td>\n      <td>3727.0</td>\n      <td>2732.0</td>\n      <td>0.0</td>\n      <td>-106.0</td>\n      <td>-2415.0</td>\n      <td>0.0</td>\n      <td>0.0</td>\n    </tr>\n    <tr>\n      <th>2013</th>\n      <td>44062.0</td>\n      <td>3274.0</td>\n      <td>4450.0</td>\n      <td>0.0</td>\n      <td>-2035.0</td>\n      <td>-1127.0</td>\n      <td>0.0</td>\n      <td>-1949.0</td>\n    </tr>\n    <tr>\n      <th>2014</th>\n      <td>45608.0</td>\n      <td>4549.0</td>\n      <td>1031.0</td>\n      <td>1593.0</td>\n      <td>-7853.0</td>\n      <td>-1403.0</td>\n      <td>0.0</td>\n      <td>-5788.0</td>\n    </tr>\n    <tr>\n      <th>2015</th>\n      <td>32735.0</td>\n      <td>4402.0</td>\n      <td>924.0</td>\n      <td>1064.0</td>\n      <td>-12086.0</td>\n      <td>-1410.0</td>\n      <td>0.0</td>\n      <td>-4656.0</td>\n    </tr>\n    <tr>\n      <th>2016</th>\n      <td>29183.0</td>\n      <td>3363.0</td>\n      <td>875.0</td>\n      <td>1147.0</td>\n      <td>-14945.0</td>\n      <td>-1395.0</td>\n      <td>0.0</td>\n      <td>-2938.0</td>\n    </tr>\n    <tr>\n      <th>2017</th>\n      <td>34484.0</td>\n      <td>3659.0</td>\n      <td>1523.0</td>\n      <td>1307.0</td>\n      <td>-15749.0</td>\n      <td>-1415.0</td>\n      <td>0.0</td>\n      <td>-866.0</td>\n    </tr>\n    <tr>\n      <th>2018</th>\n      <td>39004.0</td>\n      <td>3366.0</td>\n      <td>332.0</td>\n      <td>892.0</td>\n      <td>-2206.0</td>\n      <td>-1554.0</td>\n      <td>0.0</td>\n      <td>-1854.0</td>\n    </tr>\n    <tr>\n      <th>2019</th>\n      <td>34727.0</td>\n      <td>2267.0</td>\n      <td>858.0</td>\n      <td>196.0</td>\n      <td>-580.0</td>\n      <td>-1462.0</td>\n      <td>0.0</td>\n      <td>-3752.0</td>\n    </tr>\n    <tr>\n      <th>2020</th>\n      <td>27753.0</td>\n      <td>1457.0</td>\n      <td>1763.0</td>\n      <td>702.0</td>\n      <td>-531.0</td>\n      <td>-1405.0</td>\n      <td>0.0</td>\n      <td>-4.0</td>\n    </tr>\n    <tr>\n      <th>2021</th>\n      <td>46173.0</td>\n      <td>5736.0</td>\n      <td>1472.0</td>\n      <td>9.0</td>\n      <td>-965.0</td>\n      <td>-1486.0</td>\n      <td>0.0</td>\n      <td>-463.0</td>\n    </tr>\n    <tr>\n      <th>2022</th>\n      <td>50451.0</td>\n      <td>4229.0</td>\n      <td>2151.0</td>\n      <td>0.0</td>\n      <td>-1346.0</td>\n      <td>-3246.0</td>\n      <td>0.0</td>\n      <td>-420.0</td>\n    </tr>\n    <tr>\n      <th>2023</th>\n      <td>41107.0</td>\n      <td>3411.0</td>\n      <td>3390.0</td>\n      <td>0.0</td>\n      <td>-1450.0</td>\n      <td>-1610.0</td>\n      <td>0.0</td>\n      <td>-211.0</td>\n    </tr>\n  </tbody>\n</table>\n</div>"
     },
     "execution_count": 2,
     "metadata": {},
     "output_type": "execute_result"
    }
   ],
   "source": [
    "owner_df = pd.read_csv(Owner_Data_Fy,index_col='FiscalYear')\n",
    "\n",
    "owner_df"
   ],
   "metadata": {
    "collapsed": false,
    "pycharm": {
     "name": "#%%\n"
    }
   }
  },
  {
   "cell_type": "markdown",
   "source": [
    "# Owner Returns"
   ],
   "metadata": {
    "collapsed": false,
    "pycharm": {
     "name": "#%% md\n"
    }
   }
  },
  {
   "cell_type": "code",
   "execution_count": 3,
   "outputs": [
    {
     "name": "stderr",
     "output_type": "stream",
     "text": [
      "/var/folders/j5/3jkv197574n0l3hvczkvmbw00000gn/T/ipykernel_5701/683626880.py:2: SettingWithCopyWarning: \n",
      "A value is trying to be set on a copy of a slice from a DataFrame.\n",
      "Try using .loc[row_indexer,col_indexer] = value instead\n",
      "\n",
      "See the caveats in the documentation: https://pandas.pydata.org/pandas-docs/stable/user_guide/indexing.html#returning-a-view-versus-a-copy\n",
      "  or_df['CashForDividends'] = or_df['CashForDividends'].abs()\n",
      "/var/folders/j5/3jkv197574n0l3hvczkvmbw00000gn/T/ipykernel_5701/683626880.py:3: SettingWithCopyWarning: \n",
      "A value is trying to be set on a copy of a slice from a DataFrame.\n",
      "Try using .loc[row_indexer,col_indexer] = value instead\n",
      "\n",
      "See the caveats in the documentation: https://pandas.pydata.org/pandas-docs/stable/user_guide/indexing.html#returning-a-view-versus-a-copy\n",
      "  or_df['StockNet'] = or_df['StockIssuance'] + or_df['StockRepurchase']\n",
      "/var/folders/j5/3jkv197574n0l3hvczkvmbw00000gn/T/ipykernel_5701/683626880.py:4: SettingWithCopyWarning: \n",
      "A value is trying to be set on a copy of a slice from a DataFrame.\n",
      "Try using .loc[row_indexer,col_indexer] = value instead\n",
      "\n",
      "See the caveats in the documentation: https://pandas.pydata.org/pandas-docs/stable/user_guide/indexing.html#returning-a-view-versus-a-copy\n",
      "  or_df['OwnerReturn'] = or_df['CashForDividends'] - or_df['StockNet']\n"
     ]
    },
    {
     "data": {
      "text/plain": "            Revenue  FreeCashFlow  CashForDividends  StockNet  OwnerReturn  \\\nFiscalYear                                                                   \n2007        17120.0         769.0             522.0       0.0        522.0   \n2008        50706.0          90.0               0.0       0.0          0.0   \n2009        30828.0       -1566.0               0.0       0.0          0.0   \n2010        41151.0        1329.0               0.0    2800.0      -2800.0   \n2011        48183.0        1810.0            2893.0       0.0       2893.0   \n2012        45352.0        3727.0            2415.0       0.0       2415.0   \n2013        44062.0        3274.0            1127.0   -1949.0       3076.0   \n2014        45608.0        4549.0            1403.0   -5788.0       7191.0   \n2015        32735.0        4402.0            1410.0   -4656.0       6066.0   \n2016        29183.0        3363.0            1395.0   -2938.0       4333.0   \n2017        34484.0        3659.0            1415.0    -866.0       2281.0   \n2018        39004.0        3366.0            1554.0   -1854.0       3408.0   \n2019        34727.0        2267.0            1462.0   -3752.0       5214.0   \n2020        27753.0        1457.0            1405.0      -4.0       1409.0   \n2021        46173.0        5736.0            1486.0    -463.0       1949.0   \n2022        50451.0        4229.0            3246.0    -420.0       3666.0   \n2023        41107.0        3411.0            1610.0    -211.0       1821.0   \n\n            OwnerMargin  FcfCoverage  \nFiscalYear                            \n2007               0.03         0.68  \n2008               0.00         0.00  \n2009               0.00        -0.00  \n2010              -0.07        -2.11  \n2011               0.06         1.60  \n2012               0.05         0.65  \n2013               0.07         0.94  \n2014               0.16         1.58  \n2015               0.19         1.38  \n2016               0.15         1.29  \n2017               0.07         0.62  \n2018               0.09         1.01  \n2019               0.15         2.30  \n2020               0.05         0.97  \n2021               0.04         0.34  \n2022               0.07         0.87  \n2023               0.04         0.53  ",
      "text/html": "<div>\n<style scoped>\n    .dataframe tbody tr th:only-of-type {\n        vertical-align: middle;\n    }\n\n    .dataframe tbody tr th {\n        vertical-align: top;\n    }\n\n    .dataframe thead th {\n        text-align: right;\n    }\n</style>\n<table border=\"1\" class=\"dataframe\">\n  <thead>\n    <tr style=\"text-align: right;\">\n      <th></th>\n      <th>Revenue</th>\n      <th>FreeCashFlow</th>\n      <th>CashForDividends</th>\n      <th>StockNet</th>\n      <th>OwnerReturn</th>\n      <th>OwnerMargin</th>\n      <th>FcfCoverage</th>\n    </tr>\n    <tr>\n      <th>FiscalYear</th>\n      <th></th>\n      <th></th>\n      <th></th>\n      <th></th>\n      <th></th>\n      <th></th>\n      <th></th>\n    </tr>\n  </thead>\n  <tbody>\n    <tr>\n      <th>2007</th>\n      <td>17120.0</td>\n      <td>769.0</td>\n      <td>522.0</td>\n      <td>0.0</td>\n      <td>522.0</td>\n      <td>0.03</td>\n      <td>0.68</td>\n    </tr>\n    <tr>\n      <th>2008</th>\n      <td>50706.0</td>\n      <td>90.0</td>\n      <td>0.0</td>\n      <td>0.0</td>\n      <td>0.0</td>\n      <td>0.00</td>\n      <td>0.00</td>\n    </tr>\n    <tr>\n      <th>2009</th>\n      <td>30828.0</td>\n      <td>-1566.0</td>\n      <td>0.0</td>\n      <td>0.0</td>\n      <td>0.0</td>\n      <td>0.00</td>\n      <td>-0.00</td>\n    </tr>\n    <tr>\n      <th>2010</th>\n      <td>41151.0</td>\n      <td>1329.0</td>\n      <td>0.0</td>\n      <td>2800.0</td>\n      <td>-2800.0</td>\n      <td>-0.07</td>\n      <td>-2.11</td>\n    </tr>\n    <tr>\n      <th>2011</th>\n      <td>48183.0</td>\n      <td>1810.0</td>\n      <td>2893.0</td>\n      <td>0.0</td>\n      <td>2893.0</td>\n      <td>0.06</td>\n      <td>1.60</td>\n    </tr>\n    <tr>\n      <th>2012</th>\n      <td>45352.0</td>\n      <td>3727.0</td>\n      <td>2415.0</td>\n      <td>0.0</td>\n      <td>2415.0</td>\n      <td>0.05</td>\n      <td>0.65</td>\n    </tr>\n    <tr>\n      <th>2013</th>\n      <td>44062.0</td>\n      <td>3274.0</td>\n      <td>1127.0</td>\n      <td>-1949.0</td>\n      <td>3076.0</td>\n      <td>0.07</td>\n      <td>0.94</td>\n    </tr>\n    <tr>\n      <th>2014</th>\n      <td>45608.0</td>\n      <td>4549.0</td>\n      <td>1403.0</td>\n      <td>-5788.0</td>\n      <td>7191.0</td>\n      <td>0.16</td>\n      <td>1.58</td>\n    </tr>\n    <tr>\n      <th>2015</th>\n      <td>32735.0</td>\n      <td>4402.0</td>\n      <td>1410.0</td>\n      <td>-4656.0</td>\n      <td>6066.0</td>\n      <td>0.19</td>\n      <td>1.38</td>\n    </tr>\n    <tr>\n      <th>2016</th>\n      <td>29183.0</td>\n      <td>3363.0</td>\n      <td>1395.0</td>\n      <td>-2938.0</td>\n      <td>4333.0</td>\n      <td>0.15</td>\n      <td>1.29</td>\n    </tr>\n    <tr>\n      <th>2017</th>\n      <td>34484.0</td>\n      <td>3659.0</td>\n      <td>1415.0</td>\n      <td>-866.0</td>\n      <td>2281.0</td>\n      <td>0.07</td>\n      <td>0.62</td>\n    </tr>\n    <tr>\n      <th>2018</th>\n      <td>39004.0</td>\n      <td>3366.0</td>\n      <td>1554.0</td>\n      <td>-1854.0</td>\n      <td>3408.0</td>\n      <td>0.09</td>\n      <td>1.01</td>\n    </tr>\n    <tr>\n      <th>2019</th>\n      <td>34727.0</td>\n      <td>2267.0</td>\n      <td>1462.0</td>\n      <td>-3752.0</td>\n      <td>5214.0</td>\n      <td>0.15</td>\n      <td>2.30</td>\n    </tr>\n    <tr>\n      <th>2020</th>\n      <td>27753.0</td>\n      <td>1457.0</td>\n      <td>1405.0</td>\n      <td>-4.0</td>\n      <td>1409.0</td>\n      <td>0.05</td>\n      <td>0.97</td>\n    </tr>\n    <tr>\n      <th>2021</th>\n      <td>46173.0</td>\n      <td>5736.0</td>\n      <td>1486.0</td>\n      <td>-463.0</td>\n      <td>1949.0</td>\n      <td>0.04</td>\n      <td>0.34</td>\n    </tr>\n    <tr>\n      <th>2022</th>\n      <td>50451.0</td>\n      <td>4229.0</td>\n      <td>3246.0</td>\n      <td>-420.0</td>\n      <td>3666.0</td>\n      <td>0.07</td>\n      <td>0.87</td>\n    </tr>\n    <tr>\n      <th>2023</th>\n      <td>41107.0</td>\n      <td>3411.0</td>\n      <td>1610.0</td>\n      <td>-211.0</td>\n      <td>1821.0</td>\n      <td>0.04</td>\n      <td>0.53</td>\n    </tr>\n  </tbody>\n</table>\n</div>"
     },
     "execution_count": 3,
     "metadata": {},
     "output_type": "execute_result"
    }
   ],
   "source": [
    "or_df = owner_df[['Revenue', 'FreeCashFlow', 'CashForDividends', 'StockIssuance', 'StockRepurchase']]\n",
    "or_df['CashForDividends'] = or_df['CashForDividends'].abs()\n",
    "or_df['StockNet'] = or_df['StockIssuance'] + or_df['StockRepurchase']\n",
    "or_df['OwnerReturn'] = or_df['CashForDividends'] - or_df['StockNet']\n",
    "or_df = or_df.drop('StockIssuance', axis=1)\n",
    "or_df = or_df.drop('StockRepurchase', axis=1)\n",
    "or_df['OwnerMargin'] = round(or_df['OwnerReturn'] / or_df['Revenue'], 2)\n",
    "or_df['FcfCoverage'] = round(or_df['OwnerReturn'] / or_df['FreeCashFlow'] , 2)\n",
    "\n",
    "or_df"
   ],
   "metadata": {
    "collapsed": false,
    "pycharm": {
     "name": "#%%\n"
    }
   }
  },
  {
   "cell_type": "code",
   "execution_count": 3,
   "outputs": [],
   "source": [],
   "metadata": {
    "collapsed": false,
    "pycharm": {
     "name": "#%%\n"
    }
   }
  }
 ],
 "metadata": {
  "kernelspec": {
   "display_name": "Python 3",
   "language": "python",
   "name": "python3"
  },
  "language_info": {
   "codemirror_mode": {
    "name": "ipython",
    "version": 2
   },
   "file_extension": ".py",
   "mimetype": "text/x-python",
   "name": "python",
   "nbconvert_exporter": "python",
   "pygments_lexer": "ipython2",
   "version": "2.7.6"
  }
 },
 "nbformat": 4,
 "nbformat_minor": 0
}