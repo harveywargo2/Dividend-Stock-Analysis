{
 "cells": [
  {
   "cell_type": "markdown",
   "source": [
    "# Analysis Growth"
   ],
   "metadata": {
    "collapsed": false,
    "pycharm": {
     "name": "#%% md\n"
    }
   }
  },
  {
   "cell_type": "code",
   "execution_count": 1,
   "outputs": [],
   "source": [
    "import pandas as pd\n",
    "import datetime\n",
    "\n",
    "Grow_Data_Fy = 'Data_Growth_Fy-LYB.csv'\n",
    "today = datetime.date.today()\n",
    "year10 = today.year - 11\n",
    "year5 = today.year - 6\n",
    "year3 = today.year - 4"
   ],
   "metadata": {
    "collapsed": false,
    "pycharm": {
     "name": "#%%\n"
    }
   }
  },
  {
   "cell_type": "markdown",
   "source": [
    "# Waterfall Analysis"
   ],
   "metadata": {
    "collapsed": false,
    "pycharm": {
     "name": "#%% md\n"
    }
   }
  },
  {
   "cell_type": "code",
   "execution_count": 2,
   "outputs": [
    {
     "data": {
      "text/plain": "            Revenue  CashEquivalents  MarketSecurities  SharesOutBasic  \\\nFiscalYear                                                               \n2007        17120.0              0.0               0.0           564.0   \n2008        50706.0            858.0              32.0           564.0   \n2009        30828.0            558.0              11.0           564.0   \n2010        41151.0           4222.0               0.0           564.0   \n2011        48183.0           1065.0               0.0           568.0   \n2012        45352.0           2732.0               0.0           573.0   \n2013        44062.0           4450.0               0.0           566.0   \n2014        45608.0           1031.0            1593.0           518.0   \n2015        32735.0            924.0            1064.0           465.0   \n2016        29183.0            875.0            1147.0           419.0   \n2017        34484.0           1523.0            1307.0           398.0   \n2018        39004.0            332.0             892.0           389.0   \n2019        34727.0            858.0             196.0           353.0   \n2020        27753.0           1763.0             702.0           334.0   \n2021        46173.0           1472.0               9.0           334.0   \n2022        50451.0           2151.0               0.0           327.0   \n2023        41107.0           3390.0               0.0           325.0   \n\n            SharesOutDiluted  CashForDividends    Cash  \nFiscalYear                                              \n2007                   564.0            -522.0     0.0  \n2008                   564.0               0.0   890.0  \n2009                   564.0               0.0   569.0  \n2010                   566.0               0.0  4222.0  \n2011                   572.0           -2893.0  1065.0  \n2012                   577.0           -2415.0  2732.0  \n2013                   570.0           -1127.0  4450.0  \n2014                   521.0           -1403.0  2624.0  \n2015                   466.0           -1410.0  1988.0  \n2016                   420.0           -1395.0  2022.0  \n2017                   399.0           -1415.0  2830.0  \n2018                   389.0           -1554.0  1224.0  \n2019                   353.0           -1462.0  1054.0  \n2020                   334.0           -1405.0  2465.0  \n2021                   334.0           -1486.0  1481.0  \n2022                   328.0           -3246.0  2151.0  \n2023                   326.0           -1610.0  3390.0  ",
      "text/html": "<div>\n<style scoped>\n    .dataframe tbody tr th:only-of-type {\n        vertical-align: middle;\n    }\n\n    .dataframe tbody tr th {\n        vertical-align: top;\n    }\n\n    .dataframe thead th {\n        text-align: right;\n    }\n</style>\n<table border=\"1\" class=\"dataframe\">\n  <thead>\n    <tr style=\"text-align: right;\">\n      <th></th>\n      <th>Revenue</th>\n      <th>CashEquivalents</th>\n      <th>MarketSecurities</th>\n      <th>SharesOutBasic</th>\n      <th>SharesOutDiluted</th>\n      <th>CashForDividends</th>\n      <th>Cash</th>\n    </tr>\n    <tr>\n      <th>FiscalYear</th>\n      <th></th>\n      <th></th>\n      <th></th>\n      <th></th>\n      <th></th>\n      <th></th>\n      <th></th>\n    </tr>\n  </thead>\n  <tbody>\n    <tr>\n      <th>2007</th>\n      <td>17120.0</td>\n      <td>0.0</td>\n      <td>0.0</td>\n      <td>564.0</td>\n      <td>564.0</td>\n      <td>-522.0</td>\n      <td>0.0</td>\n    </tr>\n    <tr>\n      <th>2008</th>\n      <td>50706.0</td>\n      <td>858.0</td>\n      <td>32.0</td>\n      <td>564.0</td>\n      <td>564.0</td>\n      <td>0.0</td>\n      <td>890.0</td>\n    </tr>\n    <tr>\n      <th>2009</th>\n      <td>30828.0</td>\n      <td>558.0</td>\n      <td>11.0</td>\n      <td>564.0</td>\n      <td>564.0</td>\n      <td>0.0</td>\n      <td>569.0</td>\n    </tr>\n    <tr>\n      <th>2010</th>\n      <td>41151.0</td>\n      <td>4222.0</td>\n      <td>0.0</td>\n      <td>564.0</td>\n      <td>566.0</td>\n      <td>0.0</td>\n      <td>4222.0</td>\n    </tr>\n    <tr>\n      <th>2011</th>\n      <td>48183.0</td>\n      <td>1065.0</td>\n      <td>0.0</td>\n      <td>568.0</td>\n      <td>572.0</td>\n      <td>-2893.0</td>\n      <td>1065.0</td>\n    </tr>\n    <tr>\n      <th>2012</th>\n      <td>45352.0</td>\n      <td>2732.0</td>\n      <td>0.0</td>\n      <td>573.0</td>\n      <td>577.0</td>\n      <td>-2415.0</td>\n      <td>2732.0</td>\n    </tr>\n    <tr>\n      <th>2013</th>\n      <td>44062.0</td>\n      <td>4450.0</td>\n      <td>0.0</td>\n      <td>566.0</td>\n      <td>570.0</td>\n      <td>-1127.0</td>\n      <td>4450.0</td>\n    </tr>\n    <tr>\n      <th>2014</th>\n      <td>45608.0</td>\n      <td>1031.0</td>\n      <td>1593.0</td>\n      <td>518.0</td>\n      <td>521.0</td>\n      <td>-1403.0</td>\n      <td>2624.0</td>\n    </tr>\n    <tr>\n      <th>2015</th>\n      <td>32735.0</td>\n      <td>924.0</td>\n      <td>1064.0</td>\n      <td>465.0</td>\n      <td>466.0</td>\n      <td>-1410.0</td>\n      <td>1988.0</td>\n    </tr>\n    <tr>\n      <th>2016</th>\n      <td>29183.0</td>\n      <td>875.0</td>\n      <td>1147.0</td>\n      <td>419.0</td>\n      <td>420.0</td>\n      <td>-1395.0</td>\n      <td>2022.0</td>\n    </tr>\n    <tr>\n      <th>2017</th>\n      <td>34484.0</td>\n      <td>1523.0</td>\n      <td>1307.0</td>\n      <td>398.0</td>\n      <td>399.0</td>\n      <td>-1415.0</td>\n      <td>2830.0</td>\n    </tr>\n    <tr>\n      <th>2018</th>\n      <td>39004.0</td>\n      <td>332.0</td>\n      <td>892.0</td>\n      <td>389.0</td>\n      <td>389.0</td>\n      <td>-1554.0</td>\n      <td>1224.0</td>\n    </tr>\n    <tr>\n      <th>2019</th>\n      <td>34727.0</td>\n      <td>858.0</td>\n      <td>196.0</td>\n      <td>353.0</td>\n      <td>353.0</td>\n      <td>-1462.0</td>\n      <td>1054.0</td>\n    </tr>\n    <tr>\n      <th>2020</th>\n      <td>27753.0</td>\n      <td>1763.0</td>\n      <td>702.0</td>\n      <td>334.0</td>\n      <td>334.0</td>\n      <td>-1405.0</td>\n      <td>2465.0</td>\n    </tr>\n    <tr>\n      <th>2021</th>\n      <td>46173.0</td>\n      <td>1472.0</td>\n      <td>9.0</td>\n      <td>334.0</td>\n      <td>334.0</td>\n      <td>-1486.0</td>\n      <td>1481.0</td>\n    </tr>\n    <tr>\n      <th>2022</th>\n      <td>50451.0</td>\n      <td>2151.0</td>\n      <td>0.0</td>\n      <td>327.0</td>\n      <td>328.0</td>\n      <td>-3246.0</td>\n      <td>2151.0</td>\n    </tr>\n    <tr>\n      <th>2023</th>\n      <td>41107.0</td>\n      <td>3390.0</td>\n      <td>0.0</td>\n      <td>325.0</td>\n      <td>326.0</td>\n      <td>-1610.0</td>\n      <td>3390.0</td>\n    </tr>\n  </tbody>\n</table>\n</div>"
     },
     "execution_count": 2,
     "metadata": {},
     "output_type": "execute_result"
    }
   ],
   "source": [
    "grow_df = pd.read_csv(Grow_Data_Fy,index_col='FiscalYear')\n",
    "grow_df['Cash'] = grow_df['CashEquivalents'] + grow_df['MarketSecurities']\n",
    "grow_df"
   ],
   "metadata": {
    "collapsed": false,
    "pycharm": {
     "name": "#%%\n"
    }
   }
  },
  {
   "cell_type": "code",
   "execution_count": 3,
   "outputs": [
    {
     "name": "stdout",
     "output_type": "stream",
     "text": [
      "Ten Year Average Revenue Growth: 2.18%\n",
      "Five Year Average Revenue Growth: 5.21%\n",
      "Three Year Average Revenue Growth: 19.04%\n"
     ]
    },
    {
     "data": {
      "text/plain": "            Revenue  PercentChange\nFiscalYear                        \n2007        17120.0            NaN\n2008        50706.0         196.18\n2009        30828.0         -39.20\n2010        41151.0          33.49\n2011        48183.0          17.09\n2012        45352.0          -5.88\n2013        44062.0          -2.84\n2014        45608.0           3.51\n2015        32735.0         -28.23\n2016        29183.0         -10.85\n2017        34484.0          18.16\n2018        39004.0          13.11\n2019        34727.0         -10.97\n2020        27753.0         -20.08\n2021        46173.0          66.37\n2022        50451.0           9.27\n2023        41107.0         -18.52",
      "text/html": "<div>\n<style scoped>\n    .dataframe tbody tr th:only-of-type {\n        vertical-align: middle;\n    }\n\n    .dataframe tbody tr th {\n        vertical-align: top;\n    }\n\n    .dataframe thead th {\n        text-align: right;\n    }\n</style>\n<table border=\"1\" class=\"dataframe\">\n  <thead>\n    <tr style=\"text-align: right;\">\n      <th></th>\n      <th>Revenue</th>\n      <th>PercentChange</th>\n    </tr>\n    <tr>\n      <th>FiscalYear</th>\n      <th></th>\n      <th></th>\n    </tr>\n  </thead>\n  <tbody>\n    <tr>\n      <th>2007</th>\n      <td>17120.0</td>\n      <td>NaN</td>\n    </tr>\n    <tr>\n      <th>2008</th>\n      <td>50706.0</td>\n      <td>196.18</td>\n    </tr>\n    <tr>\n      <th>2009</th>\n      <td>30828.0</td>\n      <td>-39.20</td>\n    </tr>\n    <tr>\n      <th>2010</th>\n      <td>41151.0</td>\n      <td>33.49</td>\n    </tr>\n    <tr>\n      <th>2011</th>\n      <td>48183.0</td>\n      <td>17.09</td>\n    </tr>\n    <tr>\n      <th>2012</th>\n      <td>45352.0</td>\n      <td>-5.88</td>\n    </tr>\n    <tr>\n      <th>2013</th>\n      <td>44062.0</td>\n      <td>-2.84</td>\n    </tr>\n    <tr>\n      <th>2014</th>\n      <td>45608.0</td>\n      <td>3.51</td>\n    </tr>\n    <tr>\n      <th>2015</th>\n      <td>32735.0</td>\n      <td>-28.23</td>\n    </tr>\n    <tr>\n      <th>2016</th>\n      <td>29183.0</td>\n      <td>-10.85</td>\n    </tr>\n    <tr>\n      <th>2017</th>\n      <td>34484.0</td>\n      <td>18.16</td>\n    </tr>\n    <tr>\n      <th>2018</th>\n      <td>39004.0</td>\n      <td>13.11</td>\n    </tr>\n    <tr>\n      <th>2019</th>\n      <td>34727.0</td>\n      <td>-10.97</td>\n    </tr>\n    <tr>\n      <th>2020</th>\n      <td>27753.0</td>\n      <td>-20.08</td>\n    </tr>\n    <tr>\n      <th>2021</th>\n      <td>46173.0</td>\n      <td>66.37</td>\n    </tr>\n    <tr>\n      <th>2022</th>\n      <td>50451.0</td>\n      <td>9.27</td>\n    </tr>\n    <tr>\n      <th>2023</th>\n      <td>41107.0</td>\n      <td>-18.52</td>\n    </tr>\n  </tbody>\n</table>\n</div>"
     },
     "execution_count": 3,
     "metadata": {},
     "output_type": "execute_result"
    }
   ],
   "source": [
    "rev_s = pd.Series(grow_df['Revenue'])\n",
    "rev_pc_s = round(rev_s.pct_change() * 100, 2)\n",
    "rev_dict = {'Revenue' : rev_s, 'PercentChange' : rev_pc_s}\n",
    "\n",
    "rev_df = pd.DataFrame(rev_dict)\n",
    "rev_df_10 = rev_df[rev_df.index > year10]\n",
    "rev_df_5 = rev_df[rev_df.index > year5]\n",
    "rev_df_3 = rev_df[rev_df.index > year3]\n",
    "\n",
    "rev_mn_10 = round(rev_df_10['PercentChange'].mean(), 2)\n",
    "rev_mn_5 = round(rev_df_5['PercentChange'].mean(), 2)\n",
    "rev_mn_3 = round(rev_df_3['PercentChange'].mean(), 2)\n",
    "\n",
    "\n",
    "print(f'Ten Year Average Revenue Growth: {rev_mn_10}%')\n",
    "print(f'Five Year Average Revenue Growth: {rev_mn_5}%')\n",
    "print(f'Three Year Average Revenue Growth: {rev_mn_3}%')\n",
    "\n",
    "\n",
    "rev_df"
   ],
   "metadata": {
    "collapsed": false,
    "pycharm": {
     "name": "#%%\n"
    }
   }
  },
  {
   "cell_type": "markdown",
   "source": [
    "# Cash On Hand Growth"
   ],
   "metadata": {
    "collapsed": false,
    "pycharm": {
     "name": "#%% md\n"
    }
   }
  },
  {
   "cell_type": "code",
   "execution_count": 4,
   "outputs": [
    {
     "data": {
      "text/plain": "              Cash  PercentChange\nFiscalYear                       \n2007           0.0            NaN\n2008         890.0            inf\n2009         569.0         -36.07\n2010        4222.0         642.00\n2011        1065.0         -74.77\n2012        2732.0         156.53\n2013        4450.0          62.88\n2014        2624.0         -41.03\n2015        1988.0         -24.24\n2016        2022.0           1.71\n2017        2830.0          39.96\n2018        1224.0         -56.75\n2019        1054.0         -13.89\n2020        2465.0         133.87\n2021        1481.0         -39.92\n2022        2151.0          45.24\n2023        3390.0          57.60",
      "text/html": "<div>\n<style scoped>\n    .dataframe tbody tr th:only-of-type {\n        vertical-align: middle;\n    }\n\n    .dataframe tbody tr th {\n        vertical-align: top;\n    }\n\n    .dataframe thead th {\n        text-align: right;\n    }\n</style>\n<table border=\"1\" class=\"dataframe\">\n  <thead>\n    <tr style=\"text-align: right;\">\n      <th></th>\n      <th>Cash</th>\n      <th>PercentChange</th>\n    </tr>\n    <tr>\n      <th>FiscalYear</th>\n      <th></th>\n      <th></th>\n    </tr>\n  </thead>\n  <tbody>\n    <tr>\n      <th>2007</th>\n      <td>0.0</td>\n      <td>NaN</td>\n    </tr>\n    <tr>\n      <th>2008</th>\n      <td>890.0</td>\n      <td>inf</td>\n    </tr>\n    <tr>\n      <th>2009</th>\n      <td>569.0</td>\n      <td>-36.07</td>\n    </tr>\n    <tr>\n      <th>2010</th>\n      <td>4222.0</td>\n      <td>642.00</td>\n    </tr>\n    <tr>\n      <th>2011</th>\n      <td>1065.0</td>\n      <td>-74.77</td>\n    </tr>\n    <tr>\n      <th>2012</th>\n      <td>2732.0</td>\n      <td>156.53</td>\n    </tr>\n    <tr>\n      <th>2013</th>\n      <td>4450.0</td>\n      <td>62.88</td>\n    </tr>\n    <tr>\n      <th>2014</th>\n      <td>2624.0</td>\n      <td>-41.03</td>\n    </tr>\n    <tr>\n      <th>2015</th>\n      <td>1988.0</td>\n      <td>-24.24</td>\n    </tr>\n    <tr>\n      <th>2016</th>\n      <td>2022.0</td>\n      <td>1.71</td>\n    </tr>\n    <tr>\n      <th>2017</th>\n      <td>2830.0</td>\n      <td>39.96</td>\n    </tr>\n    <tr>\n      <th>2018</th>\n      <td>1224.0</td>\n      <td>-56.75</td>\n    </tr>\n    <tr>\n      <th>2019</th>\n      <td>1054.0</td>\n      <td>-13.89</td>\n    </tr>\n    <tr>\n      <th>2020</th>\n      <td>2465.0</td>\n      <td>133.87</td>\n    </tr>\n    <tr>\n      <th>2021</th>\n      <td>1481.0</td>\n      <td>-39.92</td>\n    </tr>\n    <tr>\n      <th>2022</th>\n      <td>2151.0</td>\n      <td>45.24</td>\n    </tr>\n    <tr>\n      <th>2023</th>\n      <td>3390.0</td>\n      <td>57.60</td>\n    </tr>\n  </tbody>\n</table>\n</div>"
     },
     "execution_count": 4,
     "metadata": {},
     "output_type": "execute_result"
    }
   ],
   "source": [
    "cash_s = pd.Series(grow_df['Cash'])\n",
    "cash_pc_s = round(cash_s.pct_change() * 100, 2)\n",
    "cash_dict = {'Cash' : cash_s, 'PercentChange' : cash_pc_s}\n",
    "\n",
    "cash_df = pd.DataFrame(cash_dict)\n",
    "\n",
    "cash_df"
   ],
   "metadata": {
    "collapsed": false,
    "pycharm": {
     "name": "#%%\n"
    }
   }
  },
  {
   "cell_type": "markdown",
   "source": [
    "# Shares Outstanding"
   ],
   "metadata": {
    "collapsed": false,
    "pycharm": {
     "name": "#%% md\n"
    }
   }
  },
  {
   "cell_type": "code",
   "execution_count": 5,
   "outputs": [
    {
     "name": "stdout",
     "output_type": "stream",
     "text": [
      "Ten YearAverage Share Growth: -5.36%\n",
      "Five Year Average Share Growth: -3.41%\n",
      "Three Year Average Share Growth: -0.8%\n"
     ]
    },
    {
     "data": {
      "text/plain": "            SharesOutDiluted  PercentChange\nFiscalYear                                 \n2007                   564.0            NaN\n2008                   564.0           0.00\n2009                   564.0           0.00\n2010                   566.0           0.35\n2011                   572.0           1.06\n2012                   577.0           0.87\n2013                   570.0          -1.21\n2014                   521.0          -8.60\n2015                   466.0         -10.56\n2016                   420.0          -9.87\n2017                   399.0          -5.00\n2018                   389.0          -2.51\n2019                   353.0          -9.25\n2020                   334.0          -5.38\n2021                   334.0           0.00\n2022                   328.0          -1.80\n2023                   326.0          -0.61",
      "text/html": "<div>\n<style scoped>\n    .dataframe tbody tr th:only-of-type {\n        vertical-align: middle;\n    }\n\n    .dataframe tbody tr th {\n        vertical-align: top;\n    }\n\n    .dataframe thead th {\n        text-align: right;\n    }\n</style>\n<table border=\"1\" class=\"dataframe\">\n  <thead>\n    <tr style=\"text-align: right;\">\n      <th></th>\n      <th>SharesOutDiluted</th>\n      <th>PercentChange</th>\n    </tr>\n    <tr>\n      <th>FiscalYear</th>\n      <th></th>\n      <th></th>\n    </tr>\n  </thead>\n  <tbody>\n    <tr>\n      <th>2007</th>\n      <td>564.0</td>\n      <td>NaN</td>\n    </tr>\n    <tr>\n      <th>2008</th>\n      <td>564.0</td>\n      <td>0.00</td>\n    </tr>\n    <tr>\n      <th>2009</th>\n      <td>564.0</td>\n      <td>0.00</td>\n    </tr>\n    <tr>\n      <th>2010</th>\n      <td>566.0</td>\n      <td>0.35</td>\n    </tr>\n    <tr>\n      <th>2011</th>\n      <td>572.0</td>\n      <td>1.06</td>\n    </tr>\n    <tr>\n      <th>2012</th>\n      <td>577.0</td>\n      <td>0.87</td>\n    </tr>\n    <tr>\n      <th>2013</th>\n      <td>570.0</td>\n      <td>-1.21</td>\n    </tr>\n    <tr>\n      <th>2014</th>\n      <td>521.0</td>\n      <td>-8.60</td>\n    </tr>\n    <tr>\n      <th>2015</th>\n      <td>466.0</td>\n      <td>-10.56</td>\n    </tr>\n    <tr>\n      <th>2016</th>\n      <td>420.0</td>\n      <td>-9.87</td>\n    </tr>\n    <tr>\n      <th>2017</th>\n      <td>399.0</td>\n      <td>-5.00</td>\n    </tr>\n    <tr>\n      <th>2018</th>\n      <td>389.0</td>\n      <td>-2.51</td>\n    </tr>\n    <tr>\n      <th>2019</th>\n      <td>353.0</td>\n      <td>-9.25</td>\n    </tr>\n    <tr>\n      <th>2020</th>\n      <td>334.0</td>\n      <td>-5.38</td>\n    </tr>\n    <tr>\n      <th>2021</th>\n      <td>334.0</td>\n      <td>0.00</td>\n    </tr>\n    <tr>\n      <th>2022</th>\n      <td>328.0</td>\n      <td>-1.80</td>\n    </tr>\n    <tr>\n      <th>2023</th>\n      <td>326.0</td>\n      <td>-0.61</td>\n    </tr>\n  </tbody>\n</table>\n</div>"
     },
     "execution_count": 5,
     "metadata": {},
     "output_type": "execute_result"
    }
   ],
   "source": [
    "share_s = pd.Series(grow_df['SharesOutDiluted'])\n",
    "share_pc_s = round(share_s.pct_change() * 100, 2)\n",
    "share_dict = {'SharesOutDiluted' : share_s, 'PercentChange' : share_pc_s}\n",
    "\n",
    "share_df = pd.DataFrame(share_dict)\n",
    "\n",
    "share_df_10 = share_df[share_df.index > year10]\n",
    "share_df_5 = share_df[share_df.index > year5]\n",
    "share_df_3 = share_df[share_df.index > year3]\n",
    "\n",
    "share_mn_10 = round(share_df_10['PercentChange'].mean(), 2)\n",
    "share_mn_5 = round(share_df_5['PercentChange'].mean(), 2)\n",
    "share_mn_3 = round(share_df_3['PercentChange'].mean(), 2)\n",
    "\n",
    "print(f'Ten YearAverage Share Growth: {share_mn_10}%')\n",
    "print(f'Five Year Average Share Growth: {share_mn_5}%')\n",
    "print(f'Three Year Average Share Growth: {share_mn_3}%')\n",
    "\n",
    "share_df"
   ],
   "metadata": {
    "collapsed": false,
    "pycharm": {
     "name": "#%%\n"
    }
   }
  },
  {
   "cell_type": "markdown",
   "source": [
    "# Dividend Growth"
   ],
   "metadata": {
    "collapsed": false,
    "pycharm": {
     "name": "#%% md\n"
    }
   }
  },
  {
   "cell_type": "code",
   "execution_count": 6,
   "outputs": [
    {
     "name": "stdout",
     "output_type": "stream",
     "text": [
      "Ten YearAverage Dividend Growth: 9.92%\n",
      "Five Year Average Dividend Growth: 12.8%\n",
      "Three Year Average Dividend Growth: 24.6%\n"
     ]
    },
    {
     "data": {
      "text/plain": "            CashForDividends  PercentChange\nFiscalYear                                 \n2007                   522.0            NaN\n2008                     0.0        -100.00\n2009                     0.0            NaN\n2010                     0.0            NaN\n2011                  2893.0            inf\n2012                  2415.0         -16.52\n2013                  1127.0         -53.33\n2014                  1403.0          24.49\n2015                  1410.0           0.50\n2016                  1395.0          -1.06\n2017                  1415.0           1.43\n2018                  1554.0           9.82\n2019                  1462.0          -5.92\n2020                  1405.0          -3.90\n2021                  1486.0           5.77\n2022                  3246.0         118.44\n2023                  1610.0         -50.40",
      "text/html": "<div>\n<style scoped>\n    .dataframe tbody tr th:only-of-type {\n        vertical-align: middle;\n    }\n\n    .dataframe tbody tr th {\n        vertical-align: top;\n    }\n\n    .dataframe thead th {\n        text-align: right;\n    }\n</style>\n<table border=\"1\" class=\"dataframe\">\n  <thead>\n    <tr style=\"text-align: right;\">\n      <th></th>\n      <th>CashForDividends</th>\n      <th>PercentChange</th>\n    </tr>\n    <tr>\n      <th>FiscalYear</th>\n      <th></th>\n      <th></th>\n    </tr>\n  </thead>\n  <tbody>\n    <tr>\n      <th>2007</th>\n      <td>522.0</td>\n      <td>NaN</td>\n    </tr>\n    <tr>\n      <th>2008</th>\n      <td>0.0</td>\n      <td>-100.00</td>\n    </tr>\n    <tr>\n      <th>2009</th>\n      <td>0.0</td>\n      <td>NaN</td>\n    </tr>\n    <tr>\n      <th>2010</th>\n      <td>0.0</td>\n      <td>NaN</td>\n    </tr>\n    <tr>\n      <th>2011</th>\n      <td>2893.0</td>\n      <td>inf</td>\n    </tr>\n    <tr>\n      <th>2012</th>\n      <td>2415.0</td>\n      <td>-16.52</td>\n    </tr>\n    <tr>\n      <th>2013</th>\n      <td>1127.0</td>\n      <td>-53.33</td>\n    </tr>\n    <tr>\n      <th>2014</th>\n      <td>1403.0</td>\n      <td>24.49</td>\n    </tr>\n    <tr>\n      <th>2015</th>\n      <td>1410.0</td>\n      <td>0.50</td>\n    </tr>\n    <tr>\n      <th>2016</th>\n      <td>1395.0</td>\n      <td>-1.06</td>\n    </tr>\n    <tr>\n      <th>2017</th>\n      <td>1415.0</td>\n      <td>1.43</td>\n    </tr>\n    <tr>\n      <th>2018</th>\n      <td>1554.0</td>\n      <td>9.82</td>\n    </tr>\n    <tr>\n      <th>2019</th>\n      <td>1462.0</td>\n      <td>-5.92</td>\n    </tr>\n    <tr>\n      <th>2020</th>\n      <td>1405.0</td>\n      <td>-3.90</td>\n    </tr>\n    <tr>\n      <th>2021</th>\n      <td>1486.0</td>\n      <td>5.77</td>\n    </tr>\n    <tr>\n      <th>2022</th>\n      <td>3246.0</td>\n      <td>118.44</td>\n    </tr>\n    <tr>\n      <th>2023</th>\n      <td>1610.0</td>\n      <td>-50.40</td>\n    </tr>\n  </tbody>\n</table>\n</div>"
     },
     "execution_count": 6,
     "metadata": {},
     "output_type": "execute_result"
    }
   ],
   "source": [
    "div_s = pd.Series(grow_df['CashForDividends'].abs())\n",
    "div_pc_s = round(div_s.pct_change() * 100, 2)\n",
    "div_dict = {'CashForDividends' : div_s, 'PercentChange' : div_pc_s}\n",
    "\n",
    "div_df = pd.DataFrame(div_dict)\n",
    "\n",
    "div_df_10 = div_df[div_df.index > year10]\n",
    "div_df_5 = div_df[div_df.index > year5]\n",
    "div_df_3 = div_df[div_df.index > year3]\n",
    "\n",
    "div_mn_10 = round(div_df_10['PercentChange'].mean(), 2)\n",
    "div_mn_5 = round(div_df_5['PercentChange'].mean(), 2)\n",
    "div_mn_3 = round(div_df_3['PercentChange'].mean(), 2)\n",
    "\n",
    "print(f'Ten YearAverage Dividend Growth: {div_mn_10}%')\n",
    "print(f'Five Year Average Dividend Growth: {div_mn_5}%')\n",
    "print(f'Three Year Average Dividend Growth: {div_mn_3}%')\n",
    "\n",
    "div_df"
   ],
   "metadata": {
    "collapsed": false,
    "pycharm": {
     "name": "#%%\n"
    }
   }
  },
  {
   "cell_type": "code",
   "execution_count": 6,
   "outputs": [],
   "source": [],
   "metadata": {
    "collapsed": false,
    "pycharm": {
     "name": "#%%\n"
    }
   }
  }
 ],
 "metadata": {
  "kernelspec": {
   "display_name": "Python 3",
   "language": "python",
   "name": "python3"
  },
  "language_info": {
   "codemirror_mode": {
    "name": "ipython",
    "version": 2
   },
   "file_extension": ".py",
   "mimetype": "text/x-python",
   "name": "python",
   "nbconvert_exporter": "python",
   "pygments_lexer": "ipython2",
   "version": "2.7.6"
  }
 },
 "nbformat": 4,
 "nbformat_minor": 0
}