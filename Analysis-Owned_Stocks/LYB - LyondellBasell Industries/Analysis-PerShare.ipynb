{
 "cells": [
  {
   "cell_type": "markdown",
   "source": [
    "# Analysis Per Share"
   ],
   "metadata": {
    "collapsed": false,
    "pycharm": {
     "name": "#%% md\n"
    }
   }
  },
  {
   "cell_type": "code",
   "execution_count": 1,
   "outputs": [],
   "source": [
    "import pandas as pd\n",
    "import datetime\n",
    "\n",
    "Ps_Data_Fy = 'Data_Per_Share_Fy-LYB.csv'\n",
    "today = datetime.date.today()"
   ],
   "metadata": {
    "collapsed": false,
    "pycharm": {
     "name": "#%%\n"
    }
   }
  },
  {
   "cell_type": "code",
   "execution_count": 2,
   "outputs": [
    {
     "data": {
      "text/plain": "            PerShareRevenue  PerShareEarnings  PerShareFcf  PerShareDividends  \\\nFiscalYear                                                                      \n2007                 30.355             1.172        1.363               0.00   \n2008                 89.904           -12.981        0.160               0.00   \n2009                 54.660            -5.080       -2.777               0.00   \n2010                 72.705             2.780        2.348               0.00   \n2011                 84.236             3.740        3.164               0.55   \n2012                 78.600             4.920        6.459               1.45   \n2013                 77.302             6.750        5.744               2.00   \n2014                 87.539             7.990        8.731               2.70   \n2015                 70.247             9.590        9.446               3.04   \n2016                 69.483             9.130        8.007               3.33   \n2017                 86.426            12.230        9.170               3.55   \n2018                100.267            12.010        8.653               4.00   \n2019                 98.377             9.580        6.422               4.15   \n2020                 83.093             4.240        4.362               4.20   \n2021                138.243            16.750       17.174               4.44   \n2022                153.814            11.810       12.893               4.70   \n2023                126.095             6.460       10.463               4.94   \n\n            StockPriceHigh  StockPriceLow  P/Rev_Low  P/Rev_High  P/E_Low  \\\nFiscalYear                                                                  \n2007                  0.00           0.00        0.0         0.0      0.0   \n2008                  0.00           0.00        0.0         0.0     -0.0   \n2009                  0.00           0.00        0.0         0.0     -0.0   \n2010                 34.40          15.00        0.2         0.5      5.4   \n2011                 45.62          24.10        0.3         0.5      6.4   \n2012                 57.09          33.47        0.4         0.7      6.8   \n2013                 80.28          55.51        0.7         1.0      8.2   \n2014                114.59          70.61        0.8         1.3      8.8   \n2015                106.13          74.36        1.1         1.5      7.8   \n2016                 91.18          71.32        1.0         1.3      7.8   \n2017                111.16          78.91        0.9         1.3      6.5   \n2018                121.49          78.52        0.8         1.2      6.5   \n2019                 97.49          69.03        0.7         1.0      7.2   \n2020                 93.86          34.90        0.4         1.1      8.2   \n2021                117.86          84.55        0.6         0.9      5.0   \n2022                117.08          72.20        0.5         0.8      6.1   \n2023                101.01          83.99        0.7         0.8     13.0   \n\n            P/E_High  P/Fcf_Low  P/Fcf_High  \nFiscalYear                                   \n2007             0.0        0.0         0.0  \n2008            -0.0        0.0         0.0  \n2009            -0.0       -0.0        -0.0  \n2010            12.4        6.4        14.7  \n2011            12.2        7.6        14.4  \n2012            11.6        5.2         8.8  \n2013            11.9        9.7        14.0  \n2014            14.3        8.1        13.1  \n2015            11.1        7.9        11.2  \n2016            10.0        8.9        11.4  \n2017             9.1        8.6        12.1  \n2018            10.1        9.1        14.0  \n2019            10.2       10.7        15.2  \n2020            22.1        8.0        21.5  \n2021             7.0        4.9         6.9  \n2022             9.9        5.6         9.1  \n2023            15.6        8.0         9.7  ",
      "text/html": "<div>\n<style scoped>\n    .dataframe tbody tr th:only-of-type {\n        vertical-align: middle;\n    }\n\n    .dataframe tbody tr th {\n        vertical-align: top;\n    }\n\n    .dataframe thead th {\n        text-align: right;\n    }\n</style>\n<table border=\"1\" class=\"dataframe\">\n  <thead>\n    <tr style=\"text-align: right;\">\n      <th></th>\n      <th>PerShareRevenue</th>\n      <th>PerShareEarnings</th>\n      <th>PerShareFcf</th>\n      <th>PerShareDividends</th>\n      <th>StockPriceHigh</th>\n      <th>StockPriceLow</th>\n      <th>P/Rev_Low</th>\n      <th>P/Rev_High</th>\n      <th>P/E_Low</th>\n      <th>P/E_High</th>\n      <th>P/Fcf_Low</th>\n      <th>P/Fcf_High</th>\n    </tr>\n    <tr>\n      <th>FiscalYear</th>\n      <th></th>\n      <th></th>\n      <th></th>\n      <th></th>\n      <th></th>\n      <th></th>\n      <th></th>\n      <th></th>\n      <th></th>\n      <th></th>\n      <th></th>\n      <th></th>\n    </tr>\n  </thead>\n  <tbody>\n    <tr>\n      <th>2007</th>\n      <td>30.355</td>\n      <td>1.172</td>\n      <td>1.363</td>\n      <td>0.00</td>\n      <td>0.00</td>\n      <td>0.00</td>\n      <td>0.0</td>\n      <td>0.0</td>\n      <td>0.0</td>\n      <td>0.0</td>\n      <td>0.0</td>\n      <td>0.0</td>\n    </tr>\n    <tr>\n      <th>2008</th>\n      <td>89.904</td>\n      <td>-12.981</td>\n      <td>0.160</td>\n      <td>0.00</td>\n      <td>0.00</td>\n      <td>0.00</td>\n      <td>0.0</td>\n      <td>0.0</td>\n      <td>-0.0</td>\n      <td>-0.0</td>\n      <td>0.0</td>\n      <td>0.0</td>\n    </tr>\n    <tr>\n      <th>2009</th>\n      <td>54.660</td>\n      <td>-5.080</td>\n      <td>-2.777</td>\n      <td>0.00</td>\n      <td>0.00</td>\n      <td>0.00</td>\n      <td>0.0</td>\n      <td>0.0</td>\n      <td>-0.0</td>\n      <td>-0.0</td>\n      <td>-0.0</td>\n      <td>-0.0</td>\n    </tr>\n    <tr>\n      <th>2010</th>\n      <td>72.705</td>\n      <td>2.780</td>\n      <td>2.348</td>\n      <td>0.00</td>\n      <td>34.40</td>\n      <td>15.00</td>\n      <td>0.2</td>\n      <td>0.5</td>\n      <td>5.4</td>\n      <td>12.4</td>\n      <td>6.4</td>\n      <td>14.7</td>\n    </tr>\n    <tr>\n      <th>2011</th>\n      <td>84.236</td>\n      <td>3.740</td>\n      <td>3.164</td>\n      <td>0.55</td>\n      <td>45.62</td>\n      <td>24.10</td>\n      <td>0.3</td>\n      <td>0.5</td>\n      <td>6.4</td>\n      <td>12.2</td>\n      <td>7.6</td>\n      <td>14.4</td>\n    </tr>\n    <tr>\n      <th>2012</th>\n      <td>78.600</td>\n      <td>4.920</td>\n      <td>6.459</td>\n      <td>1.45</td>\n      <td>57.09</td>\n      <td>33.47</td>\n      <td>0.4</td>\n      <td>0.7</td>\n      <td>6.8</td>\n      <td>11.6</td>\n      <td>5.2</td>\n      <td>8.8</td>\n    </tr>\n    <tr>\n      <th>2013</th>\n      <td>77.302</td>\n      <td>6.750</td>\n      <td>5.744</td>\n      <td>2.00</td>\n      <td>80.28</td>\n      <td>55.51</td>\n      <td>0.7</td>\n      <td>1.0</td>\n      <td>8.2</td>\n      <td>11.9</td>\n      <td>9.7</td>\n      <td>14.0</td>\n    </tr>\n    <tr>\n      <th>2014</th>\n      <td>87.539</td>\n      <td>7.990</td>\n      <td>8.731</td>\n      <td>2.70</td>\n      <td>114.59</td>\n      <td>70.61</td>\n      <td>0.8</td>\n      <td>1.3</td>\n      <td>8.8</td>\n      <td>14.3</td>\n      <td>8.1</td>\n      <td>13.1</td>\n    </tr>\n    <tr>\n      <th>2015</th>\n      <td>70.247</td>\n      <td>9.590</td>\n      <td>9.446</td>\n      <td>3.04</td>\n      <td>106.13</td>\n      <td>74.36</td>\n      <td>1.1</td>\n      <td>1.5</td>\n      <td>7.8</td>\n      <td>11.1</td>\n      <td>7.9</td>\n      <td>11.2</td>\n    </tr>\n    <tr>\n      <th>2016</th>\n      <td>69.483</td>\n      <td>9.130</td>\n      <td>8.007</td>\n      <td>3.33</td>\n      <td>91.18</td>\n      <td>71.32</td>\n      <td>1.0</td>\n      <td>1.3</td>\n      <td>7.8</td>\n      <td>10.0</td>\n      <td>8.9</td>\n      <td>11.4</td>\n    </tr>\n    <tr>\n      <th>2017</th>\n      <td>86.426</td>\n      <td>12.230</td>\n      <td>9.170</td>\n      <td>3.55</td>\n      <td>111.16</td>\n      <td>78.91</td>\n      <td>0.9</td>\n      <td>1.3</td>\n      <td>6.5</td>\n      <td>9.1</td>\n      <td>8.6</td>\n      <td>12.1</td>\n    </tr>\n    <tr>\n      <th>2018</th>\n      <td>100.267</td>\n      <td>12.010</td>\n      <td>8.653</td>\n      <td>4.00</td>\n      <td>121.49</td>\n      <td>78.52</td>\n      <td>0.8</td>\n      <td>1.2</td>\n      <td>6.5</td>\n      <td>10.1</td>\n      <td>9.1</td>\n      <td>14.0</td>\n    </tr>\n    <tr>\n      <th>2019</th>\n      <td>98.377</td>\n      <td>9.580</td>\n      <td>6.422</td>\n      <td>4.15</td>\n      <td>97.49</td>\n      <td>69.03</td>\n      <td>0.7</td>\n      <td>1.0</td>\n      <td>7.2</td>\n      <td>10.2</td>\n      <td>10.7</td>\n      <td>15.2</td>\n    </tr>\n    <tr>\n      <th>2020</th>\n      <td>83.093</td>\n      <td>4.240</td>\n      <td>4.362</td>\n      <td>4.20</td>\n      <td>93.86</td>\n      <td>34.90</td>\n      <td>0.4</td>\n      <td>1.1</td>\n      <td>8.2</td>\n      <td>22.1</td>\n      <td>8.0</td>\n      <td>21.5</td>\n    </tr>\n    <tr>\n      <th>2021</th>\n      <td>138.243</td>\n      <td>16.750</td>\n      <td>17.174</td>\n      <td>4.44</td>\n      <td>117.86</td>\n      <td>84.55</td>\n      <td>0.6</td>\n      <td>0.9</td>\n      <td>5.0</td>\n      <td>7.0</td>\n      <td>4.9</td>\n      <td>6.9</td>\n    </tr>\n    <tr>\n      <th>2022</th>\n      <td>153.814</td>\n      <td>11.810</td>\n      <td>12.893</td>\n      <td>4.70</td>\n      <td>117.08</td>\n      <td>72.20</td>\n      <td>0.5</td>\n      <td>0.8</td>\n      <td>6.1</td>\n      <td>9.9</td>\n      <td>5.6</td>\n      <td>9.1</td>\n    </tr>\n    <tr>\n      <th>2023</th>\n      <td>126.095</td>\n      <td>6.460</td>\n      <td>10.463</td>\n      <td>4.94</td>\n      <td>101.01</td>\n      <td>83.99</td>\n      <td>0.7</td>\n      <td>0.8</td>\n      <td>13.0</td>\n      <td>15.6</td>\n      <td>8.0</td>\n      <td>9.7</td>\n    </tr>\n  </tbody>\n</table>\n</div>"
     },
     "execution_count": 2,
     "metadata": {},
     "output_type": "execute_result"
    }
   ],
   "source": [
    "ps_df = pd.read_csv(Ps_Data_Fy,index_col='FiscalYear')\n",
    "ps_df['P/Rev_Low'] = round(ps_df['StockPriceLow'] / ps_df['PerShareRevenue'], 1)\n",
    "ps_df['P/Rev_High'] = round(ps_df['StockPriceHigh'] / ps_df['PerShareRevenue'], 1)\n",
    "ps_df['P/E_Low'] = round(ps_df['StockPriceLow'] / ps_df['PerShareEarnings'], 1)\n",
    "ps_df['P/E_High'] = round(ps_df['StockPriceHigh'] / ps_df['PerShareEarnings'], 1)\n",
    "ps_df['P/Fcf_Low'] = round(ps_df['StockPriceLow'] / ps_df['PerShareFcf'], 1)\n",
    "ps_df['P/Fcf_High'] = round(ps_df['StockPriceHigh'] / ps_df['PerShareFcf'], 1)\n",
    "\n",
    "ps_df"
   ],
   "metadata": {
    "collapsed": false,
    "pycharm": {
     "name": "#%%\n"
    }
   }
  },
  {
   "cell_type": "markdown",
   "source": [
    "# Per Share Revenue"
   ],
   "metadata": {
    "collapsed": false,
    "pycharm": {
     "name": "#%% md\n"
    }
   }
  },
  {
   "cell_type": "code",
   "execution_count": 3,
   "outputs": [
    {
     "data": {
      "text/plain": "            PerShareRevenue  StockPriceLow  StockPriceHigh  P/Rev_Low  \\\nFiscalYear                                                              \n2007                 30.355           0.00            0.00        0.0   \n2008                 89.904           0.00            0.00        0.0   \n2009                 54.660           0.00            0.00        0.0   \n2010                 72.705          15.00           34.40        0.2   \n2011                 84.236          24.10           45.62        0.3   \n2012                 78.600          33.47           57.09        0.4   \n2013                 77.302          55.51           80.28        0.7   \n2014                 87.539          70.61          114.59        0.8   \n2015                 70.247          74.36          106.13        1.1   \n2016                 69.483          71.32           91.18        1.0   \n2017                 86.426          78.91          111.16        0.9   \n2018                100.267          78.52          121.49        0.8   \n2019                 98.377          69.03           97.49        0.7   \n2020                 83.093          34.90           93.86        0.4   \n2021                138.243          84.55          117.86        0.6   \n2022                153.814          72.20          117.08        0.5   \n2023                126.095          83.99          101.01        0.7   \n\n            P/Rev_High  \nFiscalYear              \n2007               0.0  \n2008               0.0  \n2009               0.0  \n2010               0.5  \n2011               0.5  \n2012               0.7  \n2013               1.0  \n2014               1.3  \n2015               1.5  \n2016               1.3  \n2017               1.3  \n2018               1.2  \n2019               1.0  \n2020               1.1  \n2021               0.9  \n2022               0.8  \n2023               0.8  ",
      "text/html": "<div>\n<style scoped>\n    .dataframe tbody tr th:only-of-type {\n        vertical-align: middle;\n    }\n\n    .dataframe tbody tr th {\n        vertical-align: top;\n    }\n\n    .dataframe thead th {\n        text-align: right;\n    }\n</style>\n<table border=\"1\" class=\"dataframe\">\n  <thead>\n    <tr style=\"text-align: right;\">\n      <th></th>\n      <th>PerShareRevenue</th>\n      <th>StockPriceLow</th>\n      <th>StockPriceHigh</th>\n      <th>P/Rev_Low</th>\n      <th>P/Rev_High</th>\n    </tr>\n    <tr>\n      <th>FiscalYear</th>\n      <th></th>\n      <th></th>\n      <th></th>\n      <th></th>\n      <th></th>\n    </tr>\n  </thead>\n  <tbody>\n    <tr>\n      <th>2007</th>\n      <td>30.355</td>\n      <td>0.00</td>\n      <td>0.00</td>\n      <td>0.0</td>\n      <td>0.0</td>\n    </tr>\n    <tr>\n      <th>2008</th>\n      <td>89.904</td>\n      <td>0.00</td>\n      <td>0.00</td>\n      <td>0.0</td>\n      <td>0.0</td>\n    </tr>\n    <tr>\n      <th>2009</th>\n      <td>54.660</td>\n      <td>0.00</td>\n      <td>0.00</td>\n      <td>0.0</td>\n      <td>0.0</td>\n    </tr>\n    <tr>\n      <th>2010</th>\n      <td>72.705</td>\n      <td>15.00</td>\n      <td>34.40</td>\n      <td>0.2</td>\n      <td>0.5</td>\n    </tr>\n    <tr>\n      <th>2011</th>\n      <td>84.236</td>\n      <td>24.10</td>\n      <td>45.62</td>\n      <td>0.3</td>\n      <td>0.5</td>\n    </tr>\n    <tr>\n      <th>2012</th>\n      <td>78.600</td>\n      <td>33.47</td>\n      <td>57.09</td>\n      <td>0.4</td>\n      <td>0.7</td>\n    </tr>\n    <tr>\n      <th>2013</th>\n      <td>77.302</td>\n      <td>55.51</td>\n      <td>80.28</td>\n      <td>0.7</td>\n      <td>1.0</td>\n    </tr>\n    <tr>\n      <th>2014</th>\n      <td>87.539</td>\n      <td>70.61</td>\n      <td>114.59</td>\n      <td>0.8</td>\n      <td>1.3</td>\n    </tr>\n    <tr>\n      <th>2015</th>\n      <td>70.247</td>\n      <td>74.36</td>\n      <td>106.13</td>\n      <td>1.1</td>\n      <td>1.5</td>\n    </tr>\n    <tr>\n      <th>2016</th>\n      <td>69.483</td>\n      <td>71.32</td>\n      <td>91.18</td>\n      <td>1.0</td>\n      <td>1.3</td>\n    </tr>\n    <tr>\n      <th>2017</th>\n      <td>86.426</td>\n      <td>78.91</td>\n      <td>111.16</td>\n      <td>0.9</td>\n      <td>1.3</td>\n    </tr>\n    <tr>\n      <th>2018</th>\n      <td>100.267</td>\n      <td>78.52</td>\n      <td>121.49</td>\n      <td>0.8</td>\n      <td>1.2</td>\n    </tr>\n    <tr>\n      <th>2019</th>\n      <td>98.377</td>\n      <td>69.03</td>\n      <td>97.49</td>\n      <td>0.7</td>\n      <td>1.0</td>\n    </tr>\n    <tr>\n      <th>2020</th>\n      <td>83.093</td>\n      <td>34.90</td>\n      <td>93.86</td>\n      <td>0.4</td>\n      <td>1.1</td>\n    </tr>\n    <tr>\n      <th>2021</th>\n      <td>138.243</td>\n      <td>84.55</td>\n      <td>117.86</td>\n      <td>0.6</td>\n      <td>0.9</td>\n    </tr>\n    <tr>\n      <th>2022</th>\n      <td>153.814</td>\n      <td>72.20</td>\n      <td>117.08</td>\n      <td>0.5</td>\n      <td>0.8</td>\n    </tr>\n    <tr>\n      <th>2023</th>\n      <td>126.095</td>\n      <td>83.99</td>\n      <td>101.01</td>\n      <td>0.7</td>\n      <td>0.8</td>\n    </tr>\n  </tbody>\n</table>\n</div>"
     },
     "execution_count": 3,
     "metadata": {},
     "output_type": "execute_result"
    }
   ],
   "source": [
    "psr_df = ps_df[['PerShareRevenue', 'StockPriceLow', 'StockPriceHigh', 'P/Rev_Low', 'P/Rev_High']]\n",
    "\n",
    "psr_df"
   ],
   "metadata": {
    "collapsed": false,
    "pycharm": {
     "name": "#%%\n"
    }
   }
  },
  {
   "cell_type": "markdown",
   "source": [
    "# Per Share Earnings"
   ],
   "metadata": {
    "collapsed": false,
    "pycharm": {
     "name": "#%% md\n"
    }
   }
  },
  {
   "cell_type": "code",
   "execution_count": 4,
   "outputs": [
    {
     "data": {
      "text/plain": "            PerShareRevenue  StockPriceLow  StockPriceHigh  P/E_Low  P/E_High\nFiscalYear                                                                   \n2007                 30.355           0.00            0.00      0.0       0.0\n2008                 89.904           0.00            0.00     -0.0      -0.0\n2009                 54.660           0.00            0.00     -0.0      -0.0\n2010                 72.705          15.00           34.40      5.4      12.4\n2011                 84.236          24.10           45.62      6.4      12.2\n2012                 78.600          33.47           57.09      6.8      11.6\n2013                 77.302          55.51           80.28      8.2      11.9\n2014                 87.539          70.61          114.59      8.8      14.3\n2015                 70.247          74.36          106.13      7.8      11.1\n2016                 69.483          71.32           91.18      7.8      10.0\n2017                 86.426          78.91          111.16      6.5       9.1\n2018                100.267          78.52          121.49      6.5      10.1\n2019                 98.377          69.03           97.49      7.2      10.2\n2020                 83.093          34.90           93.86      8.2      22.1\n2021                138.243          84.55          117.86      5.0       7.0\n2022                153.814          72.20          117.08      6.1       9.9\n2023                126.095          83.99          101.01     13.0      15.6",
      "text/html": "<div>\n<style scoped>\n    .dataframe tbody tr th:only-of-type {\n        vertical-align: middle;\n    }\n\n    .dataframe tbody tr th {\n        vertical-align: top;\n    }\n\n    .dataframe thead th {\n        text-align: right;\n    }\n</style>\n<table border=\"1\" class=\"dataframe\">\n  <thead>\n    <tr style=\"text-align: right;\">\n      <th></th>\n      <th>PerShareRevenue</th>\n      <th>StockPriceLow</th>\n      <th>StockPriceHigh</th>\n      <th>P/E_Low</th>\n      <th>P/E_High</th>\n    </tr>\n    <tr>\n      <th>FiscalYear</th>\n      <th></th>\n      <th></th>\n      <th></th>\n      <th></th>\n      <th></th>\n    </tr>\n  </thead>\n  <tbody>\n    <tr>\n      <th>2007</th>\n      <td>30.355</td>\n      <td>0.00</td>\n      <td>0.00</td>\n      <td>0.0</td>\n      <td>0.0</td>\n    </tr>\n    <tr>\n      <th>2008</th>\n      <td>89.904</td>\n      <td>0.00</td>\n      <td>0.00</td>\n      <td>-0.0</td>\n      <td>-0.0</td>\n    </tr>\n    <tr>\n      <th>2009</th>\n      <td>54.660</td>\n      <td>0.00</td>\n      <td>0.00</td>\n      <td>-0.0</td>\n      <td>-0.0</td>\n    </tr>\n    <tr>\n      <th>2010</th>\n      <td>72.705</td>\n      <td>15.00</td>\n      <td>34.40</td>\n      <td>5.4</td>\n      <td>12.4</td>\n    </tr>\n    <tr>\n      <th>2011</th>\n      <td>84.236</td>\n      <td>24.10</td>\n      <td>45.62</td>\n      <td>6.4</td>\n      <td>12.2</td>\n    </tr>\n    <tr>\n      <th>2012</th>\n      <td>78.600</td>\n      <td>33.47</td>\n      <td>57.09</td>\n      <td>6.8</td>\n      <td>11.6</td>\n    </tr>\n    <tr>\n      <th>2013</th>\n      <td>77.302</td>\n      <td>55.51</td>\n      <td>80.28</td>\n      <td>8.2</td>\n      <td>11.9</td>\n    </tr>\n    <tr>\n      <th>2014</th>\n      <td>87.539</td>\n      <td>70.61</td>\n      <td>114.59</td>\n      <td>8.8</td>\n      <td>14.3</td>\n    </tr>\n    <tr>\n      <th>2015</th>\n      <td>70.247</td>\n      <td>74.36</td>\n      <td>106.13</td>\n      <td>7.8</td>\n      <td>11.1</td>\n    </tr>\n    <tr>\n      <th>2016</th>\n      <td>69.483</td>\n      <td>71.32</td>\n      <td>91.18</td>\n      <td>7.8</td>\n      <td>10.0</td>\n    </tr>\n    <tr>\n      <th>2017</th>\n      <td>86.426</td>\n      <td>78.91</td>\n      <td>111.16</td>\n      <td>6.5</td>\n      <td>9.1</td>\n    </tr>\n    <tr>\n      <th>2018</th>\n      <td>100.267</td>\n      <td>78.52</td>\n      <td>121.49</td>\n      <td>6.5</td>\n      <td>10.1</td>\n    </tr>\n    <tr>\n      <th>2019</th>\n      <td>98.377</td>\n      <td>69.03</td>\n      <td>97.49</td>\n      <td>7.2</td>\n      <td>10.2</td>\n    </tr>\n    <tr>\n      <th>2020</th>\n      <td>83.093</td>\n      <td>34.90</td>\n      <td>93.86</td>\n      <td>8.2</td>\n      <td>22.1</td>\n    </tr>\n    <tr>\n      <th>2021</th>\n      <td>138.243</td>\n      <td>84.55</td>\n      <td>117.86</td>\n      <td>5.0</td>\n      <td>7.0</td>\n    </tr>\n    <tr>\n      <th>2022</th>\n      <td>153.814</td>\n      <td>72.20</td>\n      <td>117.08</td>\n      <td>6.1</td>\n      <td>9.9</td>\n    </tr>\n    <tr>\n      <th>2023</th>\n      <td>126.095</td>\n      <td>83.99</td>\n      <td>101.01</td>\n      <td>13.0</td>\n      <td>15.6</td>\n    </tr>\n  </tbody>\n</table>\n</div>"
     },
     "execution_count": 4,
     "metadata": {},
     "output_type": "execute_result"
    }
   ],
   "source": [
    "pe_df = ps_df[['PerShareRevenue', 'StockPriceLow', 'StockPriceHigh', 'P/E_Low', 'P/E_High']]\n",
    "\n",
    "pe_df"
   ],
   "metadata": {
    "collapsed": false,
    "pycharm": {
     "name": "#%%\n"
    }
   }
  },
  {
   "cell_type": "markdown",
   "source": [
    "# Per Share Free Cash Flow"
   ],
   "metadata": {
    "collapsed": false,
    "pycharm": {
     "name": "#%% md\n"
    }
   }
  },
  {
   "cell_type": "code",
   "execution_count": 5,
   "outputs": [
    {
     "data": {
      "text/plain": "            PerShareRevenue  StockPriceLow  StockPriceHigh  P/Fcf_Low  \\\nFiscalYear                                                              \n2007                 30.355           0.00            0.00        0.0   \n2008                 89.904           0.00            0.00        0.0   \n2009                 54.660           0.00            0.00       -0.0   \n2010                 72.705          15.00           34.40        6.4   \n2011                 84.236          24.10           45.62        7.6   \n2012                 78.600          33.47           57.09        5.2   \n2013                 77.302          55.51           80.28        9.7   \n2014                 87.539          70.61          114.59        8.1   \n2015                 70.247          74.36          106.13        7.9   \n2016                 69.483          71.32           91.18        8.9   \n2017                 86.426          78.91          111.16        8.6   \n2018                100.267          78.52          121.49        9.1   \n2019                 98.377          69.03           97.49       10.7   \n2020                 83.093          34.90           93.86        8.0   \n2021                138.243          84.55          117.86        4.9   \n2022                153.814          72.20          117.08        5.6   \n2023                126.095          83.99          101.01        8.0   \n\n            P/Fcf_High  \nFiscalYear              \n2007               0.0  \n2008               0.0  \n2009              -0.0  \n2010              14.7  \n2011              14.4  \n2012               8.8  \n2013              14.0  \n2014              13.1  \n2015              11.2  \n2016              11.4  \n2017              12.1  \n2018              14.0  \n2019              15.2  \n2020              21.5  \n2021               6.9  \n2022               9.1  \n2023               9.7  ",
      "text/html": "<div>\n<style scoped>\n    .dataframe tbody tr th:only-of-type {\n        vertical-align: middle;\n    }\n\n    .dataframe tbody tr th {\n        vertical-align: top;\n    }\n\n    .dataframe thead th {\n        text-align: right;\n    }\n</style>\n<table border=\"1\" class=\"dataframe\">\n  <thead>\n    <tr style=\"text-align: right;\">\n      <th></th>\n      <th>PerShareRevenue</th>\n      <th>StockPriceLow</th>\n      <th>StockPriceHigh</th>\n      <th>P/Fcf_Low</th>\n      <th>P/Fcf_High</th>\n    </tr>\n    <tr>\n      <th>FiscalYear</th>\n      <th></th>\n      <th></th>\n      <th></th>\n      <th></th>\n      <th></th>\n    </tr>\n  </thead>\n  <tbody>\n    <tr>\n      <th>2007</th>\n      <td>30.355</td>\n      <td>0.00</td>\n      <td>0.00</td>\n      <td>0.0</td>\n      <td>0.0</td>\n    </tr>\n    <tr>\n      <th>2008</th>\n      <td>89.904</td>\n      <td>0.00</td>\n      <td>0.00</td>\n      <td>0.0</td>\n      <td>0.0</td>\n    </tr>\n    <tr>\n      <th>2009</th>\n      <td>54.660</td>\n      <td>0.00</td>\n      <td>0.00</td>\n      <td>-0.0</td>\n      <td>-0.0</td>\n    </tr>\n    <tr>\n      <th>2010</th>\n      <td>72.705</td>\n      <td>15.00</td>\n      <td>34.40</td>\n      <td>6.4</td>\n      <td>14.7</td>\n    </tr>\n    <tr>\n      <th>2011</th>\n      <td>84.236</td>\n      <td>24.10</td>\n      <td>45.62</td>\n      <td>7.6</td>\n      <td>14.4</td>\n    </tr>\n    <tr>\n      <th>2012</th>\n      <td>78.600</td>\n      <td>33.47</td>\n      <td>57.09</td>\n      <td>5.2</td>\n      <td>8.8</td>\n    </tr>\n    <tr>\n      <th>2013</th>\n      <td>77.302</td>\n      <td>55.51</td>\n      <td>80.28</td>\n      <td>9.7</td>\n      <td>14.0</td>\n    </tr>\n    <tr>\n      <th>2014</th>\n      <td>87.539</td>\n      <td>70.61</td>\n      <td>114.59</td>\n      <td>8.1</td>\n      <td>13.1</td>\n    </tr>\n    <tr>\n      <th>2015</th>\n      <td>70.247</td>\n      <td>74.36</td>\n      <td>106.13</td>\n      <td>7.9</td>\n      <td>11.2</td>\n    </tr>\n    <tr>\n      <th>2016</th>\n      <td>69.483</td>\n      <td>71.32</td>\n      <td>91.18</td>\n      <td>8.9</td>\n      <td>11.4</td>\n    </tr>\n    <tr>\n      <th>2017</th>\n      <td>86.426</td>\n      <td>78.91</td>\n      <td>111.16</td>\n      <td>8.6</td>\n      <td>12.1</td>\n    </tr>\n    <tr>\n      <th>2018</th>\n      <td>100.267</td>\n      <td>78.52</td>\n      <td>121.49</td>\n      <td>9.1</td>\n      <td>14.0</td>\n    </tr>\n    <tr>\n      <th>2019</th>\n      <td>98.377</td>\n      <td>69.03</td>\n      <td>97.49</td>\n      <td>10.7</td>\n      <td>15.2</td>\n    </tr>\n    <tr>\n      <th>2020</th>\n      <td>83.093</td>\n      <td>34.90</td>\n      <td>93.86</td>\n      <td>8.0</td>\n      <td>21.5</td>\n    </tr>\n    <tr>\n      <th>2021</th>\n      <td>138.243</td>\n      <td>84.55</td>\n      <td>117.86</td>\n      <td>4.9</td>\n      <td>6.9</td>\n    </tr>\n    <tr>\n      <th>2022</th>\n      <td>153.814</td>\n      <td>72.20</td>\n      <td>117.08</td>\n      <td>5.6</td>\n      <td>9.1</td>\n    </tr>\n    <tr>\n      <th>2023</th>\n      <td>126.095</td>\n      <td>83.99</td>\n      <td>101.01</td>\n      <td>8.0</td>\n      <td>9.7</td>\n    </tr>\n  </tbody>\n</table>\n</div>"
     },
     "execution_count": 5,
     "metadata": {},
     "output_type": "execute_result"
    }
   ],
   "source": [
    "pf_df = ps_df[['PerShareRevenue', 'StockPriceLow', 'StockPriceHigh', 'P/Fcf_Low', 'P/Fcf_High']]\n",
    "\n",
    "pf_df"
   ],
   "metadata": {
    "collapsed": false,
    "pycharm": {
     "name": "#%%\n"
    }
   }
  },
  {
   "cell_type": "code",
   "execution_count": 5,
   "outputs": [],
   "source": [],
   "metadata": {
    "collapsed": false,
    "pycharm": {
     "name": "#%%\n"
    }
   }
  }
 ],
 "metadata": {
  "kernelspec": {
   "display_name": "Python 3",
   "language": "python",
   "name": "python3"
  },
  "language_info": {
   "codemirror_mode": {
    "name": "ipython",
    "version": 2
   },
   "file_extension": ".py",
   "mimetype": "text/x-python",
   "name": "python",
   "nbconvert_exporter": "python",
   "pygments_lexer": "ipython2",
   "version": "2.7.6"
  }
 },
 "nbformat": 4,
 "nbformat_minor": 0
}