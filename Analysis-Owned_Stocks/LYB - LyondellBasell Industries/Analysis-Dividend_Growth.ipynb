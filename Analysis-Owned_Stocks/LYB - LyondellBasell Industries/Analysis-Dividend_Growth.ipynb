{
 "cells": [
  {
   "cell_type": "markdown",
   "source": [
    "# Analysis Dividend Growth"
   ],
   "metadata": {
    "collapsed": false,
    "pycharm": {
     "name": "#%% md\n"
    }
   }
  },
  {
   "cell_type": "code",
   "execution_count": 1,
   "outputs": [],
   "source": [
    "import pandas as pd\n",
    "import datetime\n",
    "\n",
    "Grow_Data_Fy = 'Data_Growth_Fy-LYB.csv'\n",
    "Ps_Data_Fy = 'Data_Per_Share_Fy-LYB.csv'\n",
    "today = datetime.date.today()\n",
    "year10 = today.year - 11\n",
    "year5 = today.year - 6\n",
    "year3 = today.year - 4\n"
   ],
   "metadata": {
    "collapsed": false,
    "pycharm": {
     "name": "#%%\n"
    }
   }
  },
  {
   "cell_type": "markdown",
   "source": [
    "# Dividend Cash Growth"
   ],
   "metadata": {
    "collapsed": false,
    "pycharm": {
     "name": "#%% md\n"
    }
   }
  },
  {
   "cell_type": "code",
   "execution_count": 2,
   "outputs": [
    {
     "data": {
      "text/plain": "            Dividends  DivChange   DPS  DpsChange\nFiscalYear                                       \n2007            522.0        NaN  0.00        NaN\n2008              0.0    -100.00  0.00        NaN\n2009              0.0        NaN  0.00        NaN\n2010              0.0        NaN  0.00        NaN\n2011           2893.0        inf  0.55        inf\n2012           2415.0     -16.52  1.45     163.64\n2013           1127.0     -53.33  2.00      37.93\n2014           1403.0      24.49  2.70      35.00\n2015           1410.0       0.50  3.04      12.59\n2016           1395.0      -1.06  3.33       9.54\n2017           1415.0       1.43  3.55       6.61\n2018           1554.0       9.82  4.00      12.68\n2019           1462.0      -5.92  4.15       3.75\n2020           1405.0      -3.90  4.20       1.20\n2021           1486.0       5.77  4.44       5.71\n2022           3246.0     118.44  4.70       5.86\n2023           1610.0     -50.40  4.94       5.11",
      "text/html": "<div>\n<style scoped>\n    .dataframe tbody tr th:only-of-type {\n        vertical-align: middle;\n    }\n\n    .dataframe tbody tr th {\n        vertical-align: top;\n    }\n\n    .dataframe thead th {\n        text-align: right;\n    }\n</style>\n<table border=\"1\" class=\"dataframe\">\n  <thead>\n    <tr style=\"text-align: right;\">\n      <th></th>\n      <th>Dividends</th>\n      <th>DivChange</th>\n      <th>DPS</th>\n      <th>DpsChange</th>\n    </tr>\n    <tr>\n      <th>FiscalYear</th>\n      <th></th>\n      <th></th>\n      <th></th>\n      <th></th>\n    </tr>\n  </thead>\n  <tbody>\n    <tr>\n      <th>2007</th>\n      <td>522.0</td>\n      <td>NaN</td>\n      <td>0.00</td>\n      <td>NaN</td>\n    </tr>\n    <tr>\n      <th>2008</th>\n      <td>0.0</td>\n      <td>-100.00</td>\n      <td>0.00</td>\n      <td>NaN</td>\n    </tr>\n    <tr>\n      <th>2009</th>\n      <td>0.0</td>\n      <td>NaN</td>\n      <td>0.00</td>\n      <td>NaN</td>\n    </tr>\n    <tr>\n      <th>2010</th>\n      <td>0.0</td>\n      <td>NaN</td>\n      <td>0.00</td>\n      <td>NaN</td>\n    </tr>\n    <tr>\n      <th>2011</th>\n      <td>2893.0</td>\n      <td>inf</td>\n      <td>0.55</td>\n      <td>inf</td>\n    </tr>\n    <tr>\n      <th>2012</th>\n      <td>2415.0</td>\n      <td>-16.52</td>\n      <td>1.45</td>\n      <td>163.64</td>\n    </tr>\n    <tr>\n      <th>2013</th>\n      <td>1127.0</td>\n      <td>-53.33</td>\n      <td>2.00</td>\n      <td>37.93</td>\n    </tr>\n    <tr>\n      <th>2014</th>\n      <td>1403.0</td>\n      <td>24.49</td>\n      <td>2.70</td>\n      <td>35.00</td>\n    </tr>\n    <tr>\n      <th>2015</th>\n      <td>1410.0</td>\n      <td>0.50</td>\n      <td>3.04</td>\n      <td>12.59</td>\n    </tr>\n    <tr>\n      <th>2016</th>\n      <td>1395.0</td>\n      <td>-1.06</td>\n      <td>3.33</td>\n      <td>9.54</td>\n    </tr>\n    <tr>\n      <th>2017</th>\n      <td>1415.0</td>\n      <td>1.43</td>\n      <td>3.55</td>\n      <td>6.61</td>\n    </tr>\n    <tr>\n      <th>2018</th>\n      <td>1554.0</td>\n      <td>9.82</td>\n      <td>4.00</td>\n      <td>12.68</td>\n    </tr>\n    <tr>\n      <th>2019</th>\n      <td>1462.0</td>\n      <td>-5.92</td>\n      <td>4.15</td>\n      <td>3.75</td>\n    </tr>\n    <tr>\n      <th>2020</th>\n      <td>1405.0</td>\n      <td>-3.90</td>\n      <td>4.20</td>\n      <td>1.20</td>\n    </tr>\n    <tr>\n      <th>2021</th>\n      <td>1486.0</td>\n      <td>5.77</td>\n      <td>4.44</td>\n      <td>5.71</td>\n    </tr>\n    <tr>\n      <th>2022</th>\n      <td>3246.0</td>\n      <td>118.44</td>\n      <td>4.70</td>\n      <td>5.86</td>\n    </tr>\n    <tr>\n      <th>2023</th>\n      <td>1610.0</td>\n      <td>-50.40</td>\n      <td>4.94</td>\n      <td>5.11</td>\n    </tr>\n  </tbody>\n</table>\n</div>"
     },
     "execution_count": 2,
     "metadata": {},
     "output_type": "execute_result"
    }
   ],
   "source": [
    "dgro_df = pd.read_csv(Grow_Data_Fy,index_col='FiscalYear')\n",
    "dgro_ps_df = pd.read_csv(Ps_Data_Fy,index_col='FiscalYear')\n",
    "\n",
    "dgro_s = pd.Series(dgro_df['CashForDividends'].abs())\n",
    "dgro_pc_s = round(dgro_s.pct_change() * 100, 2)\n",
    "dgro_ps_s = pd.Series(dgro_ps_df['PerShareDividends'])\n",
    "dgro_ps_pc_s = round(dgro_ps_s.pct_change() * 100, 2)\n",
    "\n",
    "div_dict = {'Dividends' : dgro_s, 'DivChange' : dgro_pc_s, 'DPS' : dgro_ps_s, 'DpsChange' : dgro_ps_pc_s}\n",
    "divgro_df = pd.DataFrame(div_dict)\n",
    "\n",
    "divgro_df"
   ],
   "metadata": {
    "collapsed": false,
    "pycharm": {
     "name": "#%%\n"
    }
   }
  },
  {
   "cell_type": "code",
   "execution_count": 3,
   "outputs": [
    {
     "name": "stdout",
     "output_type": "stream",
     "text": [
      "The 10 year Average Growth of Cash Dividends: 9.92% and Dividends Per Share: 9.8%\n",
      "The 10 year Average Growth of Cash Dividends: 12.8% and Dividends Per Share: 4.33%\n",
      "The 10 year Average Growth of Cash Dividends: 24.6% and Dividends Per Share: 5.56%\n"
     ]
    }
   ],
   "source": [
    "dg10_df = divgro_df[divgro_df.index > year10]\n",
    "dg_10 = round(dg10_df['DivChange'].mean(), 2)\n",
    "dps_10 = round(dg10_df['DpsChange'].mean(), 2)\n",
    "\n",
    "dg5_df = divgro_df[divgro_df.index > year5]\n",
    "dg_5 = round(dg5_df['DivChange'].mean(), 2)\n",
    "dps_5 = round(dg5_df['DpsChange'].mean(), 2)\n",
    "\n",
    "dg3_df = divgro_df[divgro_df.index > year3]\n",
    "dg_3 = round(dg3_df['DivChange'].mean(), 2)\n",
    "dps_3 = round(dg3_df['DpsChange'].mean(), 2)\n",
    "\n",
    "print(f'The 10 year Average Growth of Cash Dividends: {dg_10}% and Dividends Per Share: {dps_10}%')\n",
    "print(f'The 10 year Average Growth of Cash Dividends: {dg_5}% and Dividends Per Share: {dps_5}%')\n",
    "print(f'The 10 year Average Growth of Cash Dividends: {dg_3}% and Dividends Per Share: {dps_3}%')"
   ],
   "metadata": {
    "collapsed": false,
    "pycharm": {
     "name": "#%%\n"
    }
   }
  },
  {
   "cell_type": "code",
   "execution_count": 3,
   "outputs": [],
   "source": [],
   "metadata": {
    "collapsed": false,
    "pycharm": {
     "name": "#%%\n"
    }
   }
  }
 ],
 "metadata": {
  "kernelspec": {
   "display_name": "Python 3",
   "language": "python",
   "name": "python3"
  },
  "language_info": {
   "codemirror_mode": {
    "name": "ipython",
    "version": 2
   },
   "file_extension": ".py",
   "mimetype": "text/x-python",
   "name": "python",
   "nbconvert_exporter": "python",
   "pygments_lexer": "ipython2",
   "version": "2.7.6"
  }
 },
 "nbformat": 4,
 "nbformat_minor": 0
}