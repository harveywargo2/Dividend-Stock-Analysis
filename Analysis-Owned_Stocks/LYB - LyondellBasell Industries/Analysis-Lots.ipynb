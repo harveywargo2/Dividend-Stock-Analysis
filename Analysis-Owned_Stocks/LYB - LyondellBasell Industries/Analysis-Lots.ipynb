{
 "cells": [
  {
   "cell_type": "markdown",
   "source": [
    "# Analysis of Purchase Lots"
   ],
   "metadata": {
    "collapsed": false,
    "pycharm": {
     "name": "#%% md\n"
    }
   }
  },
  {
   "cell_type": "code",
   "execution_count": 1,
   "outputs": [],
   "source": [
    "import pandas as pd\n",
    "import datetime\n",
    "\n",
    "Lot_Data = 'Data_Lots-LYB.csv'\n",
    "Dividend_Data_Cy = 'Data_Div_Yield_Cy-LYB.csv'\n",
    "DivPay_Data_Cy = 'Data_Dividends_Pay_Fy-LYB.csv'\n",
    "today = datetime.date.today()\n",
    "dividend = 5.36\n",
    "price = 87\n",
    "lot_year = 2022\n",
    "div_paid = [0, 3.93, 5.18, 5.18, 6.43, 6.43 ] # Enter Total Dividends\n"
   ],
   "metadata": {
    "collapsed": false,
    "pycharm": {
     "name": "#%%\n"
    }
   }
  },
  {
   "cell_type": "code",
   "execution_count": 2,
   "outputs": [
    {
     "data": {
      "text/plain": "            Dividend  RecordDate     PayDate DividendType Currency\nExDate                                                            \n2024-08-26      1.34  2024-08-26  2024-09-03    Cash Div.      USD\n2024-06-03      1.34  2024-06-03  2024-06-10    Cash Div.      USD\n2024-03-01      1.25  2024-03-04  2024-03-11    Cash Div.      USD\n2023-11-24      1.25  2023-11-27  2023-12-04    Cash Div.      USD\n2023-08-25      1.25  2023-08-28  2023-09-05    Cash Div.      USD\n2023-05-26      1.25  2023-05-30  2023-06-06    Cash Div.      USD\n2023-03-03      1.19  2023-03-06  2023-03-13    Cash Div.      USD",
      "text/html": "<div>\n<style scoped>\n    .dataframe tbody tr th:only-of-type {\n        vertical-align: middle;\n    }\n\n    .dataframe tbody tr th {\n        vertical-align: top;\n    }\n\n    .dataframe thead th {\n        text-align: right;\n    }\n</style>\n<table border=\"1\" class=\"dataframe\">\n  <thead>\n    <tr style=\"text-align: right;\">\n      <th></th>\n      <th>Dividend</th>\n      <th>RecordDate</th>\n      <th>PayDate</th>\n      <th>DividendType</th>\n      <th>Currency</th>\n    </tr>\n    <tr>\n      <th>ExDate</th>\n      <th></th>\n      <th></th>\n      <th></th>\n      <th></th>\n      <th></th>\n    </tr>\n  </thead>\n  <tbody>\n    <tr>\n      <th>2024-08-26</th>\n      <td>1.34</td>\n      <td>2024-08-26</td>\n      <td>2024-09-03</td>\n      <td>Cash Div.</td>\n      <td>USD</td>\n    </tr>\n    <tr>\n      <th>2024-06-03</th>\n      <td>1.34</td>\n      <td>2024-06-03</td>\n      <td>2024-06-10</td>\n      <td>Cash Div.</td>\n      <td>USD</td>\n    </tr>\n    <tr>\n      <th>2024-03-01</th>\n      <td>1.25</td>\n      <td>2024-03-04</td>\n      <td>2024-03-11</td>\n      <td>Cash Div.</td>\n      <td>USD</td>\n    </tr>\n    <tr>\n      <th>2023-11-24</th>\n      <td>1.25</td>\n      <td>2023-11-27</td>\n      <td>2023-12-04</td>\n      <td>Cash Div.</td>\n      <td>USD</td>\n    </tr>\n    <tr>\n      <th>2023-08-25</th>\n      <td>1.25</td>\n      <td>2023-08-28</td>\n      <td>2023-09-05</td>\n      <td>Cash Div.</td>\n      <td>USD</td>\n    </tr>\n    <tr>\n      <th>2023-05-26</th>\n      <td>1.25</td>\n      <td>2023-05-30</td>\n      <td>2023-06-06</td>\n      <td>Cash Div.</td>\n      <td>USD</td>\n    </tr>\n    <tr>\n      <th>2023-03-03</th>\n      <td>1.19</td>\n      <td>2023-03-06</td>\n      <td>2023-03-13</td>\n      <td>Cash Div.</td>\n      <td>USD</td>\n    </tr>\n  </tbody>\n</table>\n</div>"
     },
     "execution_count": 2,
     "metadata": {},
     "output_type": "execute_result"
    }
   ],
   "source": [
    "fwd_div_df = pd.read_csv(Dividend_Data_Cy, index_col='Date')\n",
    "lot_df = pd.read_csv(Lot_Data, index_col='Date')\n",
    "pay_df = pd.read_csv(DivPay_Data_Cy, index_col='ExDate')\n",
    "pay_df.index = pd.to_datetime(pay_df.index)\n",
    "pay_df = pay_df[pay_df.index.year > lot_year]\n",
    "\n",
    "fwd_div_df.index = pd.to_datetime(fwd_div_df.index)\n",
    "lot_df.index = pd.to_datetime(lot_df.index)\n",
    "\n",
    "pay_df\n",
    "\n"
   ],
   "metadata": {
    "collapsed": false,
    "pycharm": {
     "name": "#%%\n"
    }
   }
  },
  {
   "cell_type": "code",
   "execution_count": 3,
   "outputs": [],
   "source": [
    "join_df = lot_df.join(fwd_div_df)"
   ],
   "metadata": {
    "collapsed": false,
    "pycharm": {
     "name": "#%%\n"
    }
   }
  },
  {
   "cell_type": "code",
   "execution_count": 4,
   "outputs": [
    {
     "data": {
      "text/plain": "            Cost/Share  FwdDiv  FwdDivYield  CurrentDividend  BuyYear  \\\nDate                                                                    \n2024-10-31       87.06     NaN          NaN             5.36     2024   \n2024-02-01       94.30     5.0     0.052849             5.36     2024   \n2023-10-04       93.61     5.0     0.053476             5.36     2023   \n2023-09-21       95.82     5.0     0.052362             5.36     2023   \n2023-08-17       97.74     5.0     0.051578             5.36     2023   \n2023-07-18       90.89     5.0     0.055072             5.36     2023   \n\n            CurrentYear  CurrentPrice  \nDate                                   \n2024-10-31         2024            87  \n2024-02-01         2024            87  \n2023-10-04         2024            87  \n2023-09-21         2024            87  \n2023-08-17         2024            87  \n2023-07-18         2024            87  ",
      "text/html": "<div>\n<style scoped>\n    .dataframe tbody tr th:only-of-type {\n        vertical-align: middle;\n    }\n\n    .dataframe tbody tr th {\n        vertical-align: top;\n    }\n\n    .dataframe thead th {\n        text-align: right;\n    }\n</style>\n<table border=\"1\" class=\"dataframe\">\n  <thead>\n    <tr style=\"text-align: right;\">\n      <th></th>\n      <th>Cost/Share</th>\n      <th>FwdDiv</th>\n      <th>FwdDivYield</th>\n      <th>CurrentDividend</th>\n      <th>BuyYear</th>\n      <th>CurrentYear</th>\n      <th>CurrentPrice</th>\n    </tr>\n    <tr>\n      <th>Date</th>\n      <th></th>\n      <th></th>\n      <th></th>\n      <th></th>\n      <th></th>\n      <th></th>\n      <th></th>\n    </tr>\n  </thead>\n  <tbody>\n    <tr>\n      <th>2024-10-31</th>\n      <td>87.06</td>\n      <td>NaN</td>\n      <td>NaN</td>\n      <td>5.36</td>\n      <td>2024</td>\n      <td>2024</td>\n      <td>87</td>\n    </tr>\n    <tr>\n      <th>2024-02-01</th>\n      <td>94.30</td>\n      <td>5.0</td>\n      <td>0.052849</td>\n      <td>5.36</td>\n      <td>2024</td>\n      <td>2024</td>\n      <td>87</td>\n    </tr>\n    <tr>\n      <th>2023-10-04</th>\n      <td>93.61</td>\n      <td>5.0</td>\n      <td>0.053476</td>\n      <td>5.36</td>\n      <td>2023</td>\n      <td>2024</td>\n      <td>87</td>\n    </tr>\n    <tr>\n      <th>2023-09-21</th>\n      <td>95.82</td>\n      <td>5.0</td>\n      <td>0.052362</td>\n      <td>5.36</td>\n      <td>2023</td>\n      <td>2024</td>\n      <td>87</td>\n    </tr>\n    <tr>\n      <th>2023-08-17</th>\n      <td>97.74</td>\n      <td>5.0</td>\n      <td>0.051578</td>\n      <td>5.36</td>\n      <td>2023</td>\n      <td>2024</td>\n      <td>87</td>\n    </tr>\n    <tr>\n      <th>2023-07-18</th>\n      <td>90.89</td>\n      <td>5.0</td>\n      <td>0.055072</td>\n      <td>5.36</td>\n      <td>2023</td>\n      <td>2024</td>\n      <td>87</td>\n    </tr>\n  </tbody>\n</table>\n</div>"
     },
     "execution_count": 4,
     "metadata": {},
     "output_type": "execute_result"
    }
   ],
   "source": [
    "record_df = join_df.drop(['SharePrice','Dividend'], axis=1)\n",
    "record_df['CurrentDividend'] = dividend\n",
    "record_df['BuyYear'] = record_df.index.year\n",
    "record_df['CurrentYear'] = today.year\n",
    "record_df['CurrentPrice'] = price\n",
    "\n",
    "record_df"
   ],
   "metadata": {
    "collapsed": false,
    "pycharm": {
     "name": "#%%\n"
    }
   }
  },
  {
   "cell_type": "code",
   "execution_count": 5,
   "outputs": [
    {
     "data": {
      "text/plain": "            Cost/Share  FwdDiv  FwdDivYield  CurrentDividend  BuyYear  \\\nDate                                                                    \n2024-10-31       87.06     NaN          NaN             5.36     2024   \n2024-02-01       94.30     5.0     0.052849             5.36     2024   \n2023-10-04       93.61     5.0     0.053476             5.36     2023   \n2023-09-21       95.82     5.0     0.052362             5.36     2023   \n2023-08-17       97.74     5.0     0.051578             5.36     2023   \n2023-07-18       90.89     5.0     0.055072             5.36     2023   \n\n            CurrentYear  CurrentPrice  TotDiv  EndValue  End/Begin  Period  \\\nDate                                                                         \n2024-10-31         2024            87    0.00     87.00   0.999311     inf   \n2024-02-01         2024            87    3.93     90.93   0.964263     inf   \n2023-10-04         2024            87    5.18     92.18   0.984724     1.0   \n2023-09-21         2024            87    5.18     92.18   0.962012     1.0   \n2023-08-17         2024            87    6.43     93.43   0.955903     1.0   \n2023-07-18         2024            87    6.43     93.43   1.027946     1.0   \n\n              CAGR  \nDate                \n2024-10-31 -100.00  \n2024-02-01 -100.00  \n2023-10-04   -1.53  \n2023-09-21   -3.80  \n2023-08-17   -4.41  \n2023-07-18    2.79  ",
      "text/html": "<div>\n<style scoped>\n    .dataframe tbody tr th:only-of-type {\n        vertical-align: middle;\n    }\n\n    .dataframe tbody tr th {\n        vertical-align: top;\n    }\n\n    .dataframe thead th {\n        text-align: right;\n    }\n</style>\n<table border=\"1\" class=\"dataframe\">\n  <thead>\n    <tr style=\"text-align: right;\">\n      <th></th>\n      <th>Cost/Share</th>\n      <th>FwdDiv</th>\n      <th>FwdDivYield</th>\n      <th>CurrentDividend</th>\n      <th>BuyYear</th>\n      <th>CurrentYear</th>\n      <th>CurrentPrice</th>\n      <th>TotDiv</th>\n      <th>EndValue</th>\n      <th>End/Begin</th>\n      <th>Period</th>\n      <th>CAGR</th>\n    </tr>\n    <tr>\n      <th>Date</th>\n      <th></th>\n      <th></th>\n      <th></th>\n      <th></th>\n      <th></th>\n      <th></th>\n      <th></th>\n      <th></th>\n      <th></th>\n      <th></th>\n      <th></th>\n      <th></th>\n    </tr>\n  </thead>\n  <tbody>\n    <tr>\n      <th>2024-10-31</th>\n      <td>87.06</td>\n      <td>NaN</td>\n      <td>NaN</td>\n      <td>5.36</td>\n      <td>2024</td>\n      <td>2024</td>\n      <td>87</td>\n      <td>0.00</td>\n      <td>87.00</td>\n      <td>0.999311</td>\n      <td>inf</td>\n      <td>-100.00</td>\n    </tr>\n    <tr>\n      <th>2024-02-01</th>\n      <td>94.30</td>\n      <td>5.0</td>\n      <td>0.052849</td>\n      <td>5.36</td>\n      <td>2024</td>\n      <td>2024</td>\n      <td>87</td>\n      <td>3.93</td>\n      <td>90.93</td>\n      <td>0.964263</td>\n      <td>inf</td>\n      <td>-100.00</td>\n    </tr>\n    <tr>\n      <th>2023-10-04</th>\n      <td>93.61</td>\n      <td>5.0</td>\n      <td>0.053476</td>\n      <td>5.36</td>\n      <td>2023</td>\n      <td>2024</td>\n      <td>87</td>\n      <td>5.18</td>\n      <td>92.18</td>\n      <td>0.984724</td>\n      <td>1.0</td>\n      <td>-1.53</td>\n    </tr>\n    <tr>\n      <th>2023-09-21</th>\n      <td>95.82</td>\n      <td>5.0</td>\n      <td>0.052362</td>\n      <td>5.36</td>\n      <td>2023</td>\n      <td>2024</td>\n      <td>87</td>\n      <td>5.18</td>\n      <td>92.18</td>\n      <td>0.962012</td>\n      <td>1.0</td>\n      <td>-3.80</td>\n    </tr>\n    <tr>\n      <th>2023-08-17</th>\n      <td>97.74</td>\n      <td>5.0</td>\n      <td>0.051578</td>\n      <td>5.36</td>\n      <td>2023</td>\n      <td>2024</td>\n      <td>87</td>\n      <td>6.43</td>\n      <td>93.43</td>\n      <td>0.955903</td>\n      <td>1.0</td>\n      <td>-4.41</td>\n    </tr>\n    <tr>\n      <th>2023-07-18</th>\n      <td>90.89</td>\n      <td>5.0</td>\n      <td>0.055072</td>\n      <td>5.36</td>\n      <td>2023</td>\n      <td>2024</td>\n      <td>87</td>\n      <td>6.43</td>\n      <td>93.43</td>\n      <td>1.027946</td>\n      <td>1.0</td>\n      <td>2.79</td>\n    </tr>\n  </tbody>\n</table>\n</div>"
     },
     "execution_count": 5,
     "metadata": {},
     "output_type": "execute_result"
    }
   ],
   "source": [
    "record_df['TotDiv'] = div_paid\n",
    "record_df['EndValue'] = record_df['CurrentPrice'] + record_df['TotDiv']\n",
    "record_df['End/Begin'] = record_df['EndValue'] / record_df['Cost/Share']\n",
    "record_df['Period'] = 1 / (record_df['CurrentYear'] - record_df['BuyYear'])\n",
    "record_df['CAGR'] = round(((record_df['End/Begin'] ** record_df['Period']) - 1) * 100, 2)\n",
    "\n",
    "record_df"
   ],
   "metadata": {
    "collapsed": false,
    "pycharm": {
     "name": "#%%\n"
    }
   }
  },
  {
   "cell_type": "code",
   "execution_count": 6,
   "outputs": [
    {
     "name": "stderr",
     "output_type": "stream",
     "text": [
      "/var/folders/j5/3jkv197574n0l3hvczkvmbw00000gn/T/ipykernel_36296/1063397913.py:2: SettingWithCopyWarning: \n",
      "A value is trying to be set on a copy of a slice from a DataFrame.\n",
      "Try using .loc[row_indexer,col_indexer] = value instead\n",
      "\n",
      "See the caveats in the documentation: https://pandas.pydata.org/pandas-docs/stable/user_guide/indexing.html#returning-a-view-versus-a-copy\n",
      "  yoc_df['YOC'] = round(yoc_df['CurrentDividend'] / yoc_df['Cost/Share'] * 100, 2)\n"
     ]
    },
    {
     "data": {
      "text/plain": "            Cost/Share  CurrentDividend   YOC\nDate                                         \n2024-10-31       87.06             5.36  6.16\n2024-02-01       94.30             5.36  5.68\n2023-10-04       93.61             5.36  5.73\n2023-09-21       95.82             5.36  5.59\n2023-08-17       97.74             5.36  5.48\n2023-07-18       90.89             5.36  5.90",
      "text/html": "<div>\n<style scoped>\n    .dataframe tbody tr th:only-of-type {\n        vertical-align: middle;\n    }\n\n    .dataframe tbody tr th {\n        vertical-align: top;\n    }\n\n    .dataframe thead th {\n        text-align: right;\n    }\n</style>\n<table border=\"1\" class=\"dataframe\">\n  <thead>\n    <tr style=\"text-align: right;\">\n      <th></th>\n      <th>Cost/Share</th>\n      <th>CurrentDividend</th>\n      <th>YOC</th>\n    </tr>\n    <tr>\n      <th>Date</th>\n      <th></th>\n      <th></th>\n      <th></th>\n    </tr>\n  </thead>\n  <tbody>\n    <tr>\n      <th>2024-10-31</th>\n      <td>87.06</td>\n      <td>5.36</td>\n      <td>6.16</td>\n    </tr>\n    <tr>\n      <th>2024-02-01</th>\n      <td>94.30</td>\n      <td>5.36</td>\n      <td>5.68</td>\n    </tr>\n    <tr>\n      <th>2023-10-04</th>\n      <td>93.61</td>\n      <td>5.36</td>\n      <td>5.73</td>\n    </tr>\n    <tr>\n      <th>2023-09-21</th>\n      <td>95.82</td>\n      <td>5.36</td>\n      <td>5.59</td>\n    </tr>\n    <tr>\n      <th>2023-08-17</th>\n      <td>97.74</td>\n      <td>5.36</td>\n      <td>5.48</td>\n    </tr>\n    <tr>\n      <th>2023-07-18</th>\n      <td>90.89</td>\n      <td>5.36</td>\n      <td>5.90</td>\n    </tr>\n  </tbody>\n</table>\n</div>"
     },
     "execution_count": 6,
     "metadata": {},
     "output_type": "execute_result"
    }
   ],
   "source": [
    "yoc_df = record_df[['Cost/Share', 'CurrentDividend']]\n",
    "yoc_df['YOC'] = round(yoc_df['CurrentDividend'] / yoc_df['Cost/Share'] * 100, 2)\n",
    "\n",
    "yoc_df"
   ],
   "metadata": {
    "collapsed": false,
    "pycharm": {
     "name": "#%%\n"
    }
   }
  },
  {
   "cell_type": "code",
   "execution_count": 6,
   "outputs": [],
   "source": [],
   "metadata": {
    "collapsed": false,
    "pycharm": {
     "name": "#%%\n"
    }
   }
  }
 ],
 "metadata": {
  "kernelspec": {
   "display_name": "Python 3",
   "language": "python",
   "name": "python3"
  },
  "language_info": {
   "codemirror_mode": {
    "name": "ipython",
    "version": 2
   },
   "file_extension": ".py",
   "mimetype": "text/x-python",
   "name": "python",
   "nbconvert_exporter": "python",
   "pygments_lexer": "ipython2",
   "version": "2.7.6"
  }
 },
 "nbformat": 4,
 "nbformat_minor": 0
}