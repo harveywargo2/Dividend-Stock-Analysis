{
 "cells": [
  {
   "cell_type": "markdown",
   "source": [
    "# Analysis of Cash Flow\n"
   ],
   "metadata": {
    "collapsed": false,
    "pycharm": {
     "name": "#%% md\n"
    }
   }
  },
  {
   "cell_type": "code",
   "execution_count": 1,
   "outputs": [],
   "source": [
    "import pandas as pd\n",
    "import datetime\n",
    "\n",
    "Cash_Data_Fy = 'Data_Cash_Flow_Fy-LYB.csv'\n",
    "today = datetime.date.today()"
   ],
   "metadata": {
    "collapsed": false,
    "pycharm": {
     "name": "#%%\n"
    }
   }
  },
  {
   "cell_type": "markdown",
   "source": [
    "# Waterfall Analysis of Cash Flow"
   ],
   "metadata": {
    "collapsed": false,
    "pycharm": {
     "name": "#%% md\n"
    }
   }
  },
  {
   "cell_type": "code",
   "execution_count": 2,
   "outputs": [
    {
     "data": {
      "text/plain": "            Revenue  GrossProfit  OperatingIncome  NetIncome  \\\nFiscalYear                                                     \n2007        17120.0       1924.0            954.0      661.0   \n2008        50706.0       1926.0            535.0    -7321.0   \n2009        30828.0       1456.0            461.0    -2865.0   \n2010        41151.0       4049.0           3023.0    10151.0   \n2011        48183.0       5451.0           4337.0     2147.0   \n2012        45352.0       5757.0           4676.0     2848.0   \n2013        44062.0       6122.0           5102.0     3857.0   \n2014        45608.0       6669.0           5736.0     4174.0   \n2015        32735.0       7052.0           6122.0     4476.0   \n2016        29183.0       5992.0           5060.0     3836.0   \n2017        34484.0       6425.0           5460.0     4879.0   \n2018        39004.0       6475.0           5231.0     4688.0   \n2019        34727.0       5426.0           4116.0     3390.0   \n2020        27753.0       3394.0           2141.0     1420.0   \n2021        46173.0       8776.0           7397.0     5610.0   \n2022        50451.0       6604.0           5170.0     3882.0   \n2023        41107.0       5258.0           3571.0     2114.0   \n\n            CashFromOperations  FreeCashFlow  GrossProfitMargin  OpIncMargin  \\\nFiscalYear                                                                     \n2007                    1180.0         769.0               0.11         0.06   \n2008                    1090.0          90.0               0.04         0.01   \n2009                    -787.0       -1566.0               0.05         0.01   \n2010                    2021.0        1329.0               0.10         0.07   \n2011                    2860.0        1810.0               0.11         0.09   \n2012                    4787.0        3727.0               0.13         0.10   \n2013                    4835.0        3274.0               0.14         0.12   \n2014                    6048.0        4549.0               0.15         0.13   \n2015                    5842.0        4402.0               0.22         0.19   \n2016                    5606.0        3363.0               0.21         0.17   \n2017                    5206.0        3659.0               0.19         0.16   \n2018                    5471.0        3366.0               0.17         0.13   \n2019                    4961.0        2267.0               0.16         0.12   \n2020                    3404.0        1457.0               0.12         0.08   \n2021                    7695.0        5736.0               0.19         0.16   \n2022                    6119.0        4229.0               0.13         0.10   \n2023                    4942.0        3411.0               0.13         0.09   \n\n            NetIncMargin  CashFromOpsMargin  FcfMargin  \nFiscalYear                                              \n2007                0.04               0.07       0.04  \n2008               -0.14               0.02       0.00  \n2009               -0.09              -0.03      -0.05  \n2010                0.25               0.05       0.03  \n2011                0.04               0.06       0.04  \n2012                0.06               0.11       0.08  \n2013                0.09               0.11       0.07  \n2014                0.09               0.13       0.10  \n2015                0.14               0.18       0.13  \n2016                0.13               0.19       0.12  \n2017                0.14               0.15       0.11  \n2018                0.12               0.14       0.09  \n2019                0.10               0.14       0.07  \n2020                0.05               0.12       0.05  \n2021                0.12               0.17       0.12  \n2022                0.08               0.12       0.08  \n2023                0.05               0.12       0.08  ",
      "text/html": "<div>\n<style scoped>\n    .dataframe tbody tr th:only-of-type {\n        vertical-align: middle;\n    }\n\n    .dataframe tbody tr th {\n        vertical-align: top;\n    }\n\n    .dataframe thead th {\n        text-align: right;\n    }\n</style>\n<table border=\"1\" class=\"dataframe\">\n  <thead>\n    <tr style=\"text-align: right;\">\n      <th></th>\n      <th>Revenue</th>\n      <th>GrossProfit</th>\n      <th>OperatingIncome</th>\n      <th>NetIncome</th>\n      <th>CashFromOperations</th>\n      <th>FreeCashFlow</th>\n      <th>GrossProfitMargin</th>\n      <th>OpIncMargin</th>\n      <th>NetIncMargin</th>\n      <th>CashFromOpsMargin</th>\n      <th>FcfMargin</th>\n    </tr>\n    <tr>\n      <th>FiscalYear</th>\n      <th></th>\n      <th></th>\n      <th></th>\n      <th></th>\n      <th></th>\n      <th></th>\n      <th></th>\n      <th></th>\n      <th></th>\n      <th></th>\n      <th></th>\n    </tr>\n  </thead>\n  <tbody>\n    <tr>\n      <th>2007</th>\n      <td>17120.0</td>\n      <td>1924.0</td>\n      <td>954.0</td>\n      <td>661.0</td>\n      <td>1180.0</td>\n      <td>769.0</td>\n      <td>0.11</td>\n      <td>0.06</td>\n      <td>0.04</td>\n      <td>0.07</td>\n      <td>0.04</td>\n    </tr>\n    <tr>\n      <th>2008</th>\n      <td>50706.0</td>\n      <td>1926.0</td>\n      <td>535.0</td>\n      <td>-7321.0</td>\n      <td>1090.0</td>\n      <td>90.0</td>\n      <td>0.04</td>\n      <td>0.01</td>\n      <td>-0.14</td>\n      <td>0.02</td>\n      <td>0.00</td>\n    </tr>\n    <tr>\n      <th>2009</th>\n      <td>30828.0</td>\n      <td>1456.0</td>\n      <td>461.0</td>\n      <td>-2865.0</td>\n      <td>-787.0</td>\n      <td>-1566.0</td>\n      <td>0.05</td>\n      <td>0.01</td>\n      <td>-0.09</td>\n      <td>-0.03</td>\n      <td>-0.05</td>\n    </tr>\n    <tr>\n      <th>2010</th>\n      <td>41151.0</td>\n      <td>4049.0</td>\n      <td>3023.0</td>\n      <td>10151.0</td>\n      <td>2021.0</td>\n      <td>1329.0</td>\n      <td>0.10</td>\n      <td>0.07</td>\n      <td>0.25</td>\n      <td>0.05</td>\n      <td>0.03</td>\n    </tr>\n    <tr>\n      <th>2011</th>\n      <td>48183.0</td>\n      <td>5451.0</td>\n      <td>4337.0</td>\n      <td>2147.0</td>\n      <td>2860.0</td>\n      <td>1810.0</td>\n      <td>0.11</td>\n      <td>0.09</td>\n      <td>0.04</td>\n      <td>0.06</td>\n      <td>0.04</td>\n    </tr>\n    <tr>\n      <th>2012</th>\n      <td>45352.0</td>\n      <td>5757.0</td>\n      <td>4676.0</td>\n      <td>2848.0</td>\n      <td>4787.0</td>\n      <td>3727.0</td>\n      <td>0.13</td>\n      <td>0.10</td>\n      <td>0.06</td>\n      <td>0.11</td>\n      <td>0.08</td>\n    </tr>\n    <tr>\n      <th>2013</th>\n      <td>44062.0</td>\n      <td>6122.0</td>\n      <td>5102.0</td>\n      <td>3857.0</td>\n      <td>4835.0</td>\n      <td>3274.0</td>\n      <td>0.14</td>\n      <td>0.12</td>\n      <td>0.09</td>\n      <td>0.11</td>\n      <td>0.07</td>\n    </tr>\n    <tr>\n      <th>2014</th>\n      <td>45608.0</td>\n      <td>6669.0</td>\n      <td>5736.0</td>\n      <td>4174.0</td>\n      <td>6048.0</td>\n      <td>4549.0</td>\n      <td>0.15</td>\n      <td>0.13</td>\n      <td>0.09</td>\n      <td>0.13</td>\n      <td>0.10</td>\n    </tr>\n    <tr>\n      <th>2015</th>\n      <td>32735.0</td>\n      <td>7052.0</td>\n      <td>6122.0</td>\n      <td>4476.0</td>\n      <td>5842.0</td>\n      <td>4402.0</td>\n      <td>0.22</td>\n      <td>0.19</td>\n      <td>0.14</td>\n      <td>0.18</td>\n      <td>0.13</td>\n    </tr>\n    <tr>\n      <th>2016</th>\n      <td>29183.0</td>\n      <td>5992.0</td>\n      <td>5060.0</td>\n      <td>3836.0</td>\n      <td>5606.0</td>\n      <td>3363.0</td>\n      <td>0.21</td>\n      <td>0.17</td>\n      <td>0.13</td>\n      <td>0.19</td>\n      <td>0.12</td>\n    </tr>\n    <tr>\n      <th>2017</th>\n      <td>34484.0</td>\n      <td>6425.0</td>\n      <td>5460.0</td>\n      <td>4879.0</td>\n      <td>5206.0</td>\n      <td>3659.0</td>\n      <td>0.19</td>\n      <td>0.16</td>\n      <td>0.14</td>\n      <td>0.15</td>\n      <td>0.11</td>\n    </tr>\n    <tr>\n      <th>2018</th>\n      <td>39004.0</td>\n      <td>6475.0</td>\n      <td>5231.0</td>\n      <td>4688.0</td>\n      <td>5471.0</td>\n      <td>3366.0</td>\n      <td>0.17</td>\n      <td>0.13</td>\n      <td>0.12</td>\n      <td>0.14</td>\n      <td>0.09</td>\n    </tr>\n    <tr>\n      <th>2019</th>\n      <td>34727.0</td>\n      <td>5426.0</td>\n      <td>4116.0</td>\n      <td>3390.0</td>\n      <td>4961.0</td>\n      <td>2267.0</td>\n      <td>0.16</td>\n      <td>0.12</td>\n      <td>0.10</td>\n      <td>0.14</td>\n      <td>0.07</td>\n    </tr>\n    <tr>\n      <th>2020</th>\n      <td>27753.0</td>\n      <td>3394.0</td>\n      <td>2141.0</td>\n      <td>1420.0</td>\n      <td>3404.0</td>\n      <td>1457.0</td>\n      <td>0.12</td>\n      <td>0.08</td>\n      <td>0.05</td>\n      <td>0.12</td>\n      <td>0.05</td>\n    </tr>\n    <tr>\n      <th>2021</th>\n      <td>46173.0</td>\n      <td>8776.0</td>\n      <td>7397.0</td>\n      <td>5610.0</td>\n      <td>7695.0</td>\n      <td>5736.0</td>\n      <td>0.19</td>\n      <td>0.16</td>\n      <td>0.12</td>\n      <td>0.17</td>\n      <td>0.12</td>\n    </tr>\n    <tr>\n      <th>2022</th>\n      <td>50451.0</td>\n      <td>6604.0</td>\n      <td>5170.0</td>\n      <td>3882.0</td>\n      <td>6119.0</td>\n      <td>4229.0</td>\n      <td>0.13</td>\n      <td>0.10</td>\n      <td>0.08</td>\n      <td>0.12</td>\n      <td>0.08</td>\n    </tr>\n    <tr>\n      <th>2023</th>\n      <td>41107.0</td>\n      <td>5258.0</td>\n      <td>3571.0</td>\n      <td>2114.0</td>\n      <td>4942.0</td>\n      <td>3411.0</td>\n      <td>0.13</td>\n      <td>0.09</td>\n      <td>0.05</td>\n      <td>0.12</td>\n      <td>0.08</td>\n    </tr>\n  </tbody>\n</table>\n</div>"
     },
     "execution_count": 2,
     "metadata": {},
     "output_type": "execute_result"
    }
   ],
   "source": [
    "cash_df = pd.read_csv(Cash_Data_Fy,index_col='FiscalYear')\n",
    "cash_df['GrossProfitMargin'] = round(cash_df['GrossProfit'] / cash_df['Revenue'], 2)\n",
    "cash_df['OpIncMargin'] = round(cash_df['OperatingIncome'] / cash_df['Revenue'], 2)\n",
    "cash_df['NetIncMargin'] = round(cash_df['NetIncome'] / cash_df['Revenue'], 2)\n",
    "cash_df['CashFromOpsMargin'] = round(cash_df['CashFromOperations'] / cash_df['Revenue'], 2)\n",
    "cash_df['FcfMargin'] = round(cash_df['FreeCashFlow'] / cash_df['Revenue'], 2)\n",
    "\n",
    "\n",
    "cash_df"
   ],
   "metadata": {
    "collapsed": false,
    "pycharm": {
     "name": "#%%\n"
    }
   }
  },
  {
   "cell_type": "code",
   "execution_count": 3,
   "outputs": [
    {
     "data": {
      "text/plain": "            Revenue  GrossProfit  GrossProfitMargin  OperatingIncome  \\\nFiscalYear                                                             \n2007        17120.0       1924.0               0.11            954.0   \n2008        50706.0       1926.0               0.04            535.0   \n2009        30828.0       1456.0               0.05            461.0   \n2010        41151.0       4049.0               0.10           3023.0   \n2011        48183.0       5451.0               0.11           4337.0   \n2012        45352.0       5757.0               0.13           4676.0   \n2013        44062.0       6122.0               0.14           5102.0   \n2014        45608.0       6669.0               0.15           5736.0   \n2015        32735.0       7052.0               0.22           6122.0   \n2016        29183.0       5992.0               0.21           5060.0   \n2017        34484.0       6425.0               0.19           5460.0   \n2018        39004.0       6475.0               0.17           5231.0   \n2019        34727.0       5426.0               0.16           4116.0   \n2020        27753.0       3394.0               0.12           2141.0   \n2021        46173.0       8776.0               0.19           7397.0   \n2022        50451.0       6604.0               0.13           5170.0   \n2023        41107.0       5258.0               0.13           3571.0   \n\n            OpIncMargin  NetIncome  NetIncMargin  \nFiscalYear                                        \n2007               0.06      661.0          0.04  \n2008               0.01    -7321.0         -0.14  \n2009               0.01    -2865.0         -0.09  \n2010               0.07    10151.0          0.25  \n2011               0.09     2147.0          0.04  \n2012               0.10     2848.0          0.06  \n2013               0.12     3857.0          0.09  \n2014               0.13     4174.0          0.09  \n2015               0.19     4476.0          0.14  \n2016               0.17     3836.0          0.13  \n2017               0.16     4879.0          0.14  \n2018               0.13     4688.0          0.12  \n2019               0.12     3390.0          0.10  \n2020               0.08     1420.0          0.05  \n2021               0.16     5610.0          0.12  \n2022               0.10     3882.0          0.08  \n2023               0.09     2114.0          0.05  ",
      "text/html": "<div>\n<style scoped>\n    .dataframe tbody tr th:only-of-type {\n        vertical-align: middle;\n    }\n\n    .dataframe tbody tr th {\n        vertical-align: top;\n    }\n\n    .dataframe thead th {\n        text-align: right;\n    }\n</style>\n<table border=\"1\" class=\"dataframe\">\n  <thead>\n    <tr style=\"text-align: right;\">\n      <th></th>\n      <th>Revenue</th>\n      <th>GrossProfit</th>\n      <th>GrossProfitMargin</th>\n      <th>OperatingIncome</th>\n      <th>OpIncMargin</th>\n      <th>NetIncome</th>\n      <th>NetIncMargin</th>\n    </tr>\n    <tr>\n      <th>FiscalYear</th>\n      <th></th>\n      <th></th>\n      <th></th>\n      <th></th>\n      <th></th>\n      <th></th>\n      <th></th>\n    </tr>\n  </thead>\n  <tbody>\n    <tr>\n      <th>2007</th>\n      <td>17120.0</td>\n      <td>1924.0</td>\n      <td>0.11</td>\n      <td>954.0</td>\n      <td>0.06</td>\n      <td>661.0</td>\n      <td>0.04</td>\n    </tr>\n    <tr>\n      <th>2008</th>\n      <td>50706.0</td>\n      <td>1926.0</td>\n      <td>0.04</td>\n      <td>535.0</td>\n      <td>0.01</td>\n      <td>-7321.0</td>\n      <td>-0.14</td>\n    </tr>\n    <tr>\n      <th>2009</th>\n      <td>30828.0</td>\n      <td>1456.0</td>\n      <td>0.05</td>\n      <td>461.0</td>\n      <td>0.01</td>\n      <td>-2865.0</td>\n      <td>-0.09</td>\n    </tr>\n    <tr>\n      <th>2010</th>\n      <td>41151.0</td>\n      <td>4049.0</td>\n      <td>0.10</td>\n      <td>3023.0</td>\n      <td>0.07</td>\n      <td>10151.0</td>\n      <td>0.25</td>\n    </tr>\n    <tr>\n      <th>2011</th>\n      <td>48183.0</td>\n      <td>5451.0</td>\n      <td>0.11</td>\n      <td>4337.0</td>\n      <td>0.09</td>\n      <td>2147.0</td>\n      <td>0.04</td>\n    </tr>\n    <tr>\n      <th>2012</th>\n      <td>45352.0</td>\n      <td>5757.0</td>\n      <td>0.13</td>\n      <td>4676.0</td>\n      <td>0.10</td>\n      <td>2848.0</td>\n      <td>0.06</td>\n    </tr>\n    <tr>\n      <th>2013</th>\n      <td>44062.0</td>\n      <td>6122.0</td>\n      <td>0.14</td>\n      <td>5102.0</td>\n      <td>0.12</td>\n      <td>3857.0</td>\n      <td>0.09</td>\n    </tr>\n    <tr>\n      <th>2014</th>\n      <td>45608.0</td>\n      <td>6669.0</td>\n      <td>0.15</td>\n      <td>5736.0</td>\n      <td>0.13</td>\n      <td>4174.0</td>\n      <td>0.09</td>\n    </tr>\n    <tr>\n      <th>2015</th>\n      <td>32735.0</td>\n      <td>7052.0</td>\n      <td>0.22</td>\n      <td>6122.0</td>\n      <td>0.19</td>\n      <td>4476.0</td>\n      <td>0.14</td>\n    </tr>\n    <tr>\n      <th>2016</th>\n      <td>29183.0</td>\n      <td>5992.0</td>\n      <td>0.21</td>\n      <td>5060.0</td>\n      <td>0.17</td>\n      <td>3836.0</td>\n      <td>0.13</td>\n    </tr>\n    <tr>\n      <th>2017</th>\n      <td>34484.0</td>\n      <td>6425.0</td>\n      <td>0.19</td>\n      <td>5460.0</td>\n      <td>0.16</td>\n      <td>4879.0</td>\n      <td>0.14</td>\n    </tr>\n    <tr>\n      <th>2018</th>\n      <td>39004.0</td>\n      <td>6475.0</td>\n      <td>0.17</td>\n      <td>5231.0</td>\n      <td>0.13</td>\n      <td>4688.0</td>\n      <td>0.12</td>\n    </tr>\n    <tr>\n      <th>2019</th>\n      <td>34727.0</td>\n      <td>5426.0</td>\n      <td>0.16</td>\n      <td>4116.0</td>\n      <td>0.12</td>\n      <td>3390.0</td>\n      <td>0.10</td>\n    </tr>\n    <tr>\n      <th>2020</th>\n      <td>27753.0</td>\n      <td>3394.0</td>\n      <td>0.12</td>\n      <td>2141.0</td>\n      <td>0.08</td>\n      <td>1420.0</td>\n      <td>0.05</td>\n    </tr>\n    <tr>\n      <th>2021</th>\n      <td>46173.0</td>\n      <td>8776.0</td>\n      <td>0.19</td>\n      <td>7397.0</td>\n      <td>0.16</td>\n      <td>5610.0</td>\n      <td>0.12</td>\n    </tr>\n    <tr>\n      <th>2022</th>\n      <td>50451.0</td>\n      <td>6604.0</td>\n      <td>0.13</td>\n      <td>5170.0</td>\n      <td>0.10</td>\n      <td>3882.0</td>\n      <td>0.08</td>\n    </tr>\n    <tr>\n      <th>2023</th>\n      <td>41107.0</td>\n      <td>5258.0</td>\n      <td>0.13</td>\n      <td>3571.0</td>\n      <td>0.09</td>\n      <td>2114.0</td>\n      <td>0.05</td>\n    </tr>\n  </tbody>\n</table>\n</div>"
     },
     "execution_count": 3,
     "metadata": {},
     "output_type": "execute_result"
    }
   ],
   "source": [
    "gpm_df = cash_df[['Revenue', 'GrossProfit', 'GrossProfitMargin', 'OperatingIncome', 'OpIncMargin', 'NetIncome', 'NetIncMargin']]\n",
    "\n",
    "\n",
    "gpm_df"
   ],
   "metadata": {
    "collapsed": false,
    "pycharm": {
     "name": "#%%\n"
    }
   }
  },
  {
   "cell_type": "code",
   "execution_count": 4,
   "outputs": [
    {
     "data": {
      "text/plain": "            Revenue  CashFromOperations  CashFromOpsMargin  FreeCashFlow  \\\nFiscalYear                                                                 \n2007        17120.0              1180.0               0.07         769.0   \n2008        50706.0              1090.0               0.02          90.0   \n2009        30828.0              -787.0              -0.03       -1566.0   \n2010        41151.0              2021.0               0.05        1329.0   \n2011        48183.0              2860.0               0.06        1810.0   \n2012        45352.0              4787.0               0.11        3727.0   \n2013        44062.0              4835.0               0.11        3274.0   \n2014        45608.0              6048.0               0.13        4549.0   \n2015        32735.0              5842.0               0.18        4402.0   \n2016        29183.0              5606.0               0.19        3363.0   \n2017        34484.0              5206.0               0.15        3659.0   \n2018        39004.0              5471.0               0.14        3366.0   \n2019        34727.0              4961.0               0.14        2267.0   \n2020        27753.0              3404.0               0.12        1457.0   \n2021        46173.0              7695.0               0.17        5736.0   \n2022        50451.0              6119.0               0.12        4229.0   \n2023        41107.0              4942.0               0.12        3411.0   \n\n            FcfMargin  \nFiscalYear             \n2007             0.04  \n2008             0.00  \n2009            -0.05  \n2010             0.03  \n2011             0.04  \n2012             0.08  \n2013             0.07  \n2014             0.10  \n2015             0.13  \n2016             0.12  \n2017             0.11  \n2018             0.09  \n2019             0.07  \n2020             0.05  \n2021             0.12  \n2022             0.08  \n2023             0.08  ",
      "text/html": "<div>\n<style scoped>\n    .dataframe tbody tr th:only-of-type {\n        vertical-align: middle;\n    }\n\n    .dataframe tbody tr th {\n        vertical-align: top;\n    }\n\n    .dataframe thead th {\n        text-align: right;\n    }\n</style>\n<table border=\"1\" class=\"dataframe\">\n  <thead>\n    <tr style=\"text-align: right;\">\n      <th></th>\n      <th>Revenue</th>\n      <th>CashFromOperations</th>\n      <th>CashFromOpsMargin</th>\n      <th>FreeCashFlow</th>\n      <th>FcfMargin</th>\n    </tr>\n    <tr>\n      <th>FiscalYear</th>\n      <th></th>\n      <th></th>\n      <th></th>\n      <th></th>\n      <th></th>\n    </tr>\n  </thead>\n  <tbody>\n    <tr>\n      <th>2007</th>\n      <td>17120.0</td>\n      <td>1180.0</td>\n      <td>0.07</td>\n      <td>769.0</td>\n      <td>0.04</td>\n    </tr>\n    <tr>\n      <th>2008</th>\n      <td>50706.0</td>\n      <td>1090.0</td>\n      <td>0.02</td>\n      <td>90.0</td>\n      <td>0.00</td>\n    </tr>\n    <tr>\n      <th>2009</th>\n      <td>30828.0</td>\n      <td>-787.0</td>\n      <td>-0.03</td>\n      <td>-1566.0</td>\n      <td>-0.05</td>\n    </tr>\n    <tr>\n      <th>2010</th>\n      <td>41151.0</td>\n      <td>2021.0</td>\n      <td>0.05</td>\n      <td>1329.0</td>\n      <td>0.03</td>\n    </tr>\n    <tr>\n      <th>2011</th>\n      <td>48183.0</td>\n      <td>2860.0</td>\n      <td>0.06</td>\n      <td>1810.0</td>\n      <td>0.04</td>\n    </tr>\n    <tr>\n      <th>2012</th>\n      <td>45352.0</td>\n      <td>4787.0</td>\n      <td>0.11</td>\n      <td>3727.0</td>\n      <td>0.08</td>\n    </tr>\n    <tr>\n      <th>2013</th>\n      <td>44062.0</td>\n      <td>4835.0</td>\n      <td>0.11</td>\n      <td>3274.0</td>\n      <td>0.07</td>\n    </tr>\n    <tr>\n      <th>2014</th>\n      <td>45608.0</td>\n      <td>6048.0</td>\n      <td>0.13</td>\n      <td>4549.0</td>\n      <td>0.10</td>\n    </tr>\n    <tr>\n      <th>2015</th>\n      <td>32735.0</td>\n      <td>5842.0</td>\n      <td>0.18</td>\n      <td>4402.0</td>\n      <td>0.13</td>\n    </tr>\n    <tr>\n      <th>2016</th>\n      <td>29183.0</td>\n      <td>5606.0</td>\n      <td>0.19</td>\n      <td>3363.0</td>\n      <td>0.12</td>\n    </tr>\n    <tr>\n      <th>2017</th>\n      <td>34484.0</td>\n      <td>5206.0</td>\n      <td>0.15</td>\n      <td>3659.0</td>\n      <td>0.11</td>\n    </tr>\n    <tr>\n      <th>2018</th>\n      <td>39004.0</td>\n      <td>5471.0</td>\n      <td>0.14</td>\n      <td>3366.0</td>\n      <td>0.09</td>\n    </tr>\n    <tr>\n      <th>2019</th>\n      <td>34727.0</td>\n      <td>4961.0</td>\n      <td>0.14</td>\n      <td>2267.0</td>\n      <td>0.07</td>\n    </tr>\n    <tr>\n      <th>2020</th>\n      <td>27753.0</td>\n      <td>3404.0</td>\n      <td>0.12</td>\n      <td>1457.0</td>\n      <td>0.05</td>\n    </tr>\n    <tr>\n      <th>2021</th>\n      <td>46173.0</td>\n      <td>7695.0</td>\n      <td>0.17</td>\n      <td>5736.0</td>\n      <td>0.12</td>\n    </tr>\n    <tr>\n      <th>2022</th>\n      <td>50451.0</td>\n      <td>6119.0</td>\n      <td>0.12</td>\n      <td>4229.0</td>\n      <td>0.08</td>\n    </tr>\n    <tr>\n      <th>2023</th>\n      <td>41107.0</td>\n      <td>4942.0</td>\n      <td>0.12</td>\n      <td>3411.0</td>\n      <td>0.08</td>\n    </tr>\n  </tbody>\n</table>\n</div>"
     },
     "execution_count": 4,
     "metadata": {},
     "output_type": "execute_result"
    }
   ],
   "source": [
    "fcf_df = cash_df[['Revenue', 'CashFromOperations' ,'CashFromOpsMargin' ,'FreeCashFlow', 'FcfMargin']]\n",
    "\n",
    "fcf_df"
   ],
   "metadata": {
    "collapsed": false,
    "pycharm": {
     "name": "#%%\n"
    }
   }
  },
  {
   "cell_type": "code",
   "execution_count": 4,
   "outputs": [],
   "source": [],
   "metadata": {
    "collapsed": false,
    "pycharm": {
     "name": "#%%\n"
    }
   }
  }
 ],
 "metadata": {
  "kernelspec": {
   "display_name": "Python 3",
   "language": "python",
   "name": "python3"
  },
  "language_info": {
   "codemirror_mode": {
    "name": "ipython",
    "version": 2
   },
   "file_extension": ".py",
   "mimetype": "text/x-python",
   "name": "python",
   "nbconvert_exporter": "python",
   "pygments_lexer": "ipython2",
   "version": "2.7.6"
  }
 },
 "nbformat": 4,
 "nbformat_minor": 0
}