{
 "cells": [
  {
   "cell_type": "markdown",
   "source": [
    "# Analysis Dividend Growth"
   ],
   "metadata": {
    "collapsed": false,
    "pycharm": {
     "name": "#%% md\n"
    }
   }
  },
  {
   "cell_type": "code",
   "execution_count": 1,
   "outputs": [],
   "source": [
    "import pandas as pd\n",
    "import datetime\n",
    "\n",
    "Grow_Data_Fy = 'Data_Growth_Fy-AAPL.csv'\n",
    "Ps_Data_Fy = 'Data_Per_Share_Fy-AAPL.csv'\n",
    "today = datetime.date.today()\n",
    "year10 = today.year - 11\n",
    "year5 = today.year - 6\n",
    "year3 = today.year - 4\n"
   ],
   "metadata": {
    "collapsed": false,
    "pycharm": {
     "name": "#%%\n"
    }
   }
  },
  {
   "cell_type": "markdown",
   "source": [
    "# Dividend Cash Growth"
   ],
   "metadata": {
    "collapsed": false,
    "pycharm": {
     "name": "#%% md\n"
    }
   }
  },
  {
   "cell_type": "code",
   "execution_count": 2,
   "outputs": [
    {
     "data": {
      "text/plain": "            Dividends  DivChange    DPS  DpsChange\nFiscalYear                                        \n1984            0.000        NaN  0.000        NaN\n1985            0.000        NaN  0.000        NaN\n1986            0.000        NaN  0.000        NaN\n1987            0.000        NaN  0.001        inf\n1988            0.000        NaN  0.003     200.00\n1989           50.300        inf  0.004      33.33\n1990           53.800       6.96  0.004       0.00\n1991           56.500       5.02  0.004       0.00\n1992           57.196       1.23  0.004       0.00\n1993           56.000      -2.09  0.004       0.00\n1994           56.000       0.00  0.004       0.00\n1995           58.000       3.57  0.004       0.00\n1996           14.000     -75.86  0.001     -75.00\n1997            0.000    -100.00  0.000    -100.00\n1998            0.000        NaN  0.000        NaN\n1999            0.000        NaN  0.000        NaN\n2000            0.000        NaN  0.000        NaN\n2001            0.000        NaN  0.000        NaN\n2002            0.000        NaN  0.000        NaN\n2003            0.000        NaN  0.000        NaN\n2004            0.000        NaN  0.000        NaN\n2005            0.000        NaN  0.000        NaN\n2006            0.000        NaN  0.000        NaN\n2007            0.000        NaN  0.000        NaN\n2008            0.000        NaN  0.000        NaN\n2009            0.000        NaN  0.000        NaN\n2010            0.000        NaN  0.000        NaN\n2011            0.000        NaN  0.000        NaN\n2012         2488.000        inf  0.095        inf\n2013        10564.000     324.60  0.407     328.42\n2014        11126.000       5.32  0.453      11.30\n2015        11561.000       3.91  0.495       9.27\n2016        12150.000       5.09  0.545      10.10\n2017        12769.000       5.09  0.600      10.09\n2018        13712.000       7.39  0.680      13.33\n2019        14119.000       2.97  0.750      10.29\n2020        14081.000      -0.27  0.795       6.00\n2021        14467.000       2.74  0.850       6.92\n2022        14841.000       2.59  0.900       5.88\n2023        15025.000       1.24  0.940       4.44",
      "text/html": "<div>\n<style scoped>\n    .dataframe tbody tr th:only-of-type {\n        vertical-align: middle;\n    }\n\n    .dataframe tbody tr th {\n        vertical-align: top;\n    }\n\n    .dataframe thead th {\n        text-align: right;\n    }\n</style>\n<table border=\"1\" class=\"dataframe\">\n  <thead>\n    <tr style=\"text-align: right;\">\n      <th></th>\n      <th>Dividends</th>\n      <th>DivChange</th>\n      <th>DPS</th>\n      <th>DpsChange</th>\n    </tr>\n    <tr>\n      <th>FiscalYear</th>\n      <th></th>\n      <th></th>\n      <th></th>\n      <th></th>\n    </tr>\n  </thead>\n  <tbody>\n    <tr>\n      <th>1984</th>\n      <td>0.000</td>\n      <td>NaN</td>\n      <td>0.000</td>\n      <td>NaN</td>\n    </tr>\n    <tr>\n      <th>1985</th>\n      <td>0.000</td>\n      <td>NaN</td>\n      <td>0.000</td>\n      <td>NaN</td>\n    </tr>\n    <tr>\n      <th>1986</th>\n      <td>0.000</td>\n      <td>NaN</td>\n      <td>0.000</td>\n      <td>NaN</td>\n    </tr>\n    <tr>\n      <th>1987</th>\n      <td>0.000</td>\n      <td>NaN</td>\n      <td>0.001</td>\n      <td>inf</td>\n    </tr>\n    <tr>\n      <th>1988</th>\n      <td>0.000</td>\n      <td>NaN</td>\n      <td>0.003</td>\n      <td>200.00</td>\n    </tr>\n    <tr>\n      <th>1989</th>\n      <td>50.300</td>\n      <td>inf</td>\n      <td>0.004</td>\n      <td>33.33</td>\n    </tr>\n    <tr>\n      <th>1990</th>\n      <td>53.800</td>\n      <td>6.96</td>\n      <td>0.004</td>\n      <td>0.00</td>\n    </tr>\n    <tr>\n      <th>1991</th>\n      <td>56.500</td>\n      <td>5.02</td>\n      <td>0.004</td>\n      <td>0.00</td>\n    </tr>\n    <tr>\n      <th>1992</th>\n      <td>57.196</td>\n      <td>1.23</td>\n      <td>0.004</td>\n      <td>0.00</td>\n    </tr>\n    <tr>\n      <th>1993</th>\n      <td>56.000</td>\n      <td>-2.09</td>\n      <td>0.004</td>\n      <td>0.00</td>\n    </tr>\n    <tr>\n      <th>1994</th>\n      <td>56.000</td>\n      <td>0.00</td>\n      <td>0.004</td>\n      <td>0.00</td>\n    </tr>\n    <tr>\n      <th>1995</th>\n      <td>58.000</td>\n      <td>3.57</td>\n      <td>0.004</td>\n      <td>0.00</td>\n    </tr>\n    <tr>\n      <th>1996</th>\n      <td>14.000</td>\n      <td>-75.86</td>\n      <td>0.001</td>\n      <td>-75.00</td>\n    </tr>\n    <tr>\n      <th>1997</th>\n      <td>0.000</td>\n      <td>-100.00</td>\n      <td>0.000</td>\n      <td>-100.00</td>\n    </tr>\n    <tr>\n      <th>1998</th>\n      <td>0.000</td>\n      <td>NaN</td>\n      <td>0.000</td>\n      <td>NaN</td>\n    </tr>\n    <tr>\n      <th>1999</th>\n      <td>0.000</td>\n      <td>NaN</td>\n      <td>0.000</td>\n      <td>NaN</td>\n    </tr>\n    <tr>\n      <th>2000</th>\n      <td>0.000</td>\n      <td>NaN</td>\n      <td>0.000</td>\n      <td>NaN</td>\n    </tr>\n    <tr>\n      <th>2001</th>\n      <td>0.000</td>\n      <td>NaN</td>\n      <td>0.000</td>\n      <td>NaN</td>\n    </tr>\n    <tr>\n      <th>2002</th>\n      <td>0.000</td>\n      <td>NaN</td>\n      <td>0.000</td>\n      <td>NaN</td>\n    </tr>\n    <tr>\n      <th>2003</th>\n      <td>0.000</td>\n      <td>NaN</td>\n      <td>0.000</td>\n      <td>NaN</td>\n    </tr>\n    <tr>\n      <th>2004</th>\n      <td>0.000</td>\n      <td>NaN</td>\n      <td>0.000</td>\n      <td>NaN</td>\n    </tr>\n    <tr>\n      <th>2005</th>\n      <td>0.000</td>\n      <td>NaN</td>\n      <td>0.000</td>\n      <td>NaN</td>\n    </tr>\n    <tr>\n      <th>2006</th>\n      <td>0.000</td>\n      <td>NaN</td>\n      <td>0.000</td>\n      <td>NaN</td>\n    </tr>\n    <tr>\n      <th>2007</th>\n      <td>0.000</td>\n      <td>NaN</td>\n      <td>0.000</td>\n      <td>NaN</td>\n    </tr>\n    <tr>\n      <th>2008</th>\n      <td>0.000</td>\n      <td>NaN</td>\n      <td>0.000</td>\n      <td>NaN</td>\n    </tr>\n    <tr>\n      <th>2009</th>\n      <td>0.000</td>\n      <td>NaN</td>\n      <td>0.000</td>\n      <td>NaN</td>\n    </tr>\n    <tr>\n      <th>2010</th>\n      <td>0.000</td>\n      <td>NaN</td>\n      <td>0.000</td>\n      <td>NaN</td>\n    </tr>\n    <tr>\n      <th>2011</th>\n      <td>0.000</td>\n      <td>NaN</td>\n      <td>0.000</td>\n      <td>NaN</td>\n    </tr>\n    <tr>\n      <th>2012</th>\n      <td>2488.000</td>\n      <td>inf</td>\n      <td>0.095</td>\n      <td>inf</td>\n    </tr>\n    <tr>\n      <th>2013</th>\n      <td>10564.000</td>\n      <td>324.60</td>\n      <td>0.407</td>\n      <td>328.42</td>\n    </tr>\n    <tr>\n      <th>2014</th>\n      <td>11126.000</td>\n      <td>5.32</td>\n      <td>0.453</td>\n      <td>11.30</td>\n    </tr>\n    <tr>\n      <th>2015</th>\n      <td>11561.000</td>\n      <td>3.91</td>\n      <td>0.495</td>\n      <td>9.27</td>\n    </tr>\n    <tr>\n      <th>2016</th>\n      <td>12150.000</td>\n      <td>5.09</td>\n      <td>0.545</td>\n      <td>10.10</td>\n    </tr>\n    <tr>\n      <th>2017</th>\n      <td>12769.000</td>\n      <td>5.09</td>\n      <td>0.600</td>\n      <td>10.09</td>\n    </tr>\n    <tr>\n      <th>2018</th>\n      <td>13712.000</td>\n      <td>7.39</td>\n      <td>0.680</td>\n      <td>13.33</td>\n    </tr>\n    <tr>\n      <th>2019</th>\n      <td>14119.000</td>\n      <td>2.97</td>\n      <td>0.750</td>\n      <td>10.29</td>\n    </tr>\n    <tr>\n      <th>2020</th>\n      <td>14081.000</td>\n      <td>-0.27</td>\n      <td>0.795</td>\n      <td>6.00</td>\n    </tr>\n    <tr>\n      <th>2021</th>\n      <td>14467.000</td>\n      <td>2.74</td>\n      <td>0.850</td>\n      <td>6.92</td>\n    </tr>\n    <tr>\n      <th>2022</th>\n      <td>14841.000</td>\n      <td>2.59</td>\n      <td>0.900</td>\n      <td>5.88</td>\n    </tr>\n    <tr>\n      <th>2023</th>\n      <td>15025.000</td>\n      <td>1.24</td>\n      <td>0.940</td>\n      <td>4.44</td>\n    </tr>\n  </tbody>\n</table>\n</div>"
     },
     "execution_count": 2,
     "metadata": {},
     "output_type": "execute_result"
    }
   ],
   "source": [
    "dgro_df = pd.read_csv(Grow_Data_Fy,index_col='FiscalYear')\n",
    "dgro_ps_df = pd.read_csv(Ps_Data_Fy,index_col='FiscalYear')\n",
    "\n",
    "dgro_s = pd.Series(dgro_df['CashForDividends'].abs())\n",
    "dgro_pc_s = round(dgro_s.pct_change() * 100, 2)\n",
    "dgro_ps_s = pd.Series(dgro_ps_df['PerShareDividends'])\n",
    "dgro_ps_pc_s = round(dgro_ps_s.pct_change() * 100, 2)\n",
    "\n",
    "div_dict = {'Dividends' : dgro_s, 'DivChange' : dgro_pc_s, 'DPS' : dgro_ps_s, 'DpsChange' : dgro_ps_pc_s}\n",
    "divgro_df = pd.DataFrame(div_dict)\n",
    "\n",
    "divgro_df"
   ],
   "metadata": {
    "collapsed": false,
    "pycharm": {
     "name": "#%%\n"
    }
   }
  },
  {
   "cell_type": "code",
   "execution_count": 3,
   "outputs": [
    {
     "name": "stdout",
     "output_type": "stream",
     "text": [
      "The 10 year Average Growth of Cash Dividends: 3.61% and Dividends Per Share: 8.76%\n",
      "The 10 year Average Growth of Cash Dividends: 1.85% and Dividends Per Share: 6.71%\n",
      "The 10 year Average Growth of Cash Dividends: 2.19% and Dividends Per Share: 5.75%\n"
     ]
    }
   ],
   "source": [
    "dg10_df = divgro_df[divgro_df.index > year10]\n",
    "dg_10 = round(dg10_df['DivChange'].mean(), 2)\n",
    "dps_10 = round(dg10_df['DpsChange'].mean(), 2)\n",
    "\n",
    "dg5_df = divgro_df[divgro_df.index > year5]\n",
    "dg_5 = round(dg5_df['DivChange'].mean(), 2)\n",
    "dps_5 = round(dg5_df['DpsChange'].mean(), 2)\n",
    "\n",
    "dg3_df = divgro_df[divgro_df.index > year3]\n",
    "dg_3 = round(dg3_df['DivChange'].mean(), 2)\n",
    "dps_3 = round(dg3_df['DpsChange'].mean(), 2)\n",
    "\n",
    "print(f'The 10 year Average Growth of Cash Dividends: {dg_10}% and Dividends Per Share: {dps_10}%')\n",
    "print(f'The 10 year Average Growth of Cash Dividends: {dg_5}% and Dividends Per Share: {dps_5}%')\n",
    "print(f'The 10 year Average Growth of Cash Dividends: {dg_3}% and Dividends Per Share: {dps_3}%')"
   ],
   "metadata": {
    "collapsed": false,
    "pycharm": {
     "name": "#%%\n"
    }
   }
  },
  {
   "cell_type": "code",
   "execution_count": 3,
   "outputs": [],
   "source": [],
   "metadata": {
    "collapsed": false,
    "pycharm": {
     "name": "#%%\n"
    }
   }
  }
 ],
 "metadata": {
  "kernelspec": {
   "display_name": "Python 3",
   "language": "python",
   "name": "python3"
  },
  "language_info": {
   "codemirror_mode": {
    "name": "ipython",
    "version": 2
   },
   "file_extension": ".py",
   "mimetype": "text/x-python",
   "name": "python",
   "nbconvert_exporter": "python",
   "pygments_lexer": "ipython2",
   "version": "2.7.6"
  }
 },
 "nbformat": 4,
 "nbformat_minor": 0
}