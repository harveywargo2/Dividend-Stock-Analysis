{
 "cells": [
  {
   "cell_type": "markdown",
   "source": [
    "# Analysis of Purchase Lots"
   ],
   "metadata": {
    "collapsed": false,
    "pycharm": {
     "name": "#%% md\n"
    }
   }
  },
  {
   "cell_type": "code",
   "execution_count": 1,
   "outputs": [],
   "source": [
    "import pandas as pd\n",
    "import datetime\n",
    "\n",
    "Lot_Data = 'Data_Lots-AAPL.csv'\n",
    "Dividend_Data_Cy = 'Data_Div_Yield_Cy-AAPL.csv'\n",
    "DivPay_Data_Cy = 'Data_Dividends_Pay_Fy-AAPL.csv'\n",
    "today = datetime.date.today()\n",
    "dividend = 1.00\n",
    "price = 229.03\n",
    "lot_year = 2016\n",
    "div_paid =[5.0352, 5.215, 6.21]\n"
   ],
   "metadata": {
    "collapsed": false,
    "pycharm": {
     "name": "#%%\n"
    }
   }
  },
  {
   "cell_type": "code",
   "execution_count": 2,
   "outputs": [
    {
     "data": {
      "text/plain": "            Dividend  RecordDate     PayDate DividendType Currency\nExDate                                                            \n2024-08-12    0.2500  2024-08-12  2024-08-15    Cash Div.      USD\n2024-05-10    0.2500  2024-05-13  2024-05-16    Cash Div.      USD\n2024-02-09    0.2400  2024-02-12  2024-02-15    Cash Div.      USD\n2023-11-10    0.2400  2023-11-13  2023-11-16    Cash Div.      USD\n2023-08-11    0.2400  2023-08-14  2023-08-17    Cash Div.      USD\n2023-05-12    0.2400  2023-05-15  2023-05-18    Cash Div.      USD\n2023-02-10    0.2300  2023-02-13  2023-02-16    Cash Div.      USD\n2022-11-04    0.2300  2022-11-07  2022-11-10    Cash Div.      USD\n2022-08-05    0.2300  2022-08-08  2022-08-11    Cash Div.      USD\n2022-05-06    0.2300  2022-05-09  2022-05-12    Cash Div.      USD\n2022-02-04    0.2200  2022-02-07  2022-02-10    Cash Div.      USD\n2021-11-05    0.2200  2021-11-08  2021-11-11    Cash Div.      USD\n2021-08-06    0.2200  2021-08-09  2021-08-12    Cash Div.      USD\n2021-05-07    0.2200  2021-05-10  2021-05-13    Cash Div.      USD\n2021-02-05    0.2050  2021-02-08  2021-02-11    Cash Div.      USD\n2020-11-06    0.2050  2020-11-09  2020-11-12    Cash Div.      USD\n2020-08-07    0.2050  2020-08-10  2020-08-13    Cash Div.      USD\n2020-05-08    0.2050  2020-05-11  2020-05-14    Cash Div.      USD\n2020-02-07    0.1925  2020-02-10  2020-02-13    Cash Div.      USD\n2019-11-07    0.1925  2019-11-11  2019-11-14    Cash Div.      USD\n2019-08-09    0.1925  2019-08-12  2019-08-15    Cash Div.      USD\n2019-05-10    0.1925  2019-05-13  2019-05-16    Cash Div.      USD\n2019-02-08    0.1825  2019-02-11  2019-02-14    Cash Div.      USD\n2018-11-08    0.1825  2018-11-12  2018-11-15    Cash Div.      USD\n2018-08-10    0.1825  2018-08-13  2018-08-16    Cash Div.      USD\n2018-05-11    0.1825  2018-05-14  2018-05-17    Cash Div.      USD\n2018-02-09    0.1575  2018-02-12  2018-02-15    Cash Div.      USD\n2017-11-10    0.1575  2017-11-13  2017-11-16    Cash Div.      USD\n2017-08-10    0.1575  2017-08-14  2017-08-17    Cash Div.      USD\n2017-05-11    0.1575  2017-05-15  2017-05-18    Cash Div.      USD\n2017-02-09    0.1425  2017-02-13  2017-02-16    Cash Div.      USD",
      "text/html": "<div>\n<style scoped>\n    .dataframe tbody tr th:only-of-type {\n        vertical-align: middle;\n    }\n\n    .dataframe tbody tr th {\n        vertical-align: top;\n    }\n\n    .dataframe thead th {\n        text-align: right;\n    }\n</style>\n<table border=\"1\" class=\"dataframe\">\n  <thead>\n    <tr style=\"text-align: right;\">\n      <th></th>\n      <th>Dividend</th>\n      <th>RecordDate</th>\n      <th>PayDate</th>\n      <th>DividendType</th>\n      <th>Currency</th>\n    </tr>\n    <tr>\n      <th>ExDate</th>\n      <th></th>\n      <th></th>\n      <th></th>\n      <th></th>\n      <th></th>\n    </tr>\n  </thead>\n  <tbody>\n    <tr>\n      <th>2024-08-12</th>\n      <td>0.2500</td>\n      <td>2024-08-12</td>\n      <td>2024-08-15</td>\n      <td>Cash Div.</td>\n      <td>USD</td>\n    </tr>\n    <tr>\n      <th>2024-05-10</th>\n      <td>0.2500</td>\n      <td>2024-05-13</td>\n      <td>2024-05-16</td>\n      <td>Cash Div.</td>\n      <td>USD</td>\n    </tr>\n    <tr>\n      <th>2024-02-09</th>\n      <td>0.2400</td>\n      <td>2024-02-12</td>\n      <td>2024-02-15</td>\n      <td>Cash Div.</td>\n      <td>USD</td>\n    </tr>\n    <tr>\n      <th>2023-11-10</th>\n      <td>0.2400</td>\n      <td>2023-11-13</td>\n      <td>2023-11-16</td>\n      <td>Cash Div.</td>\n      <td>USD</td>\n    </tr>\n    <tr>\n      <th>2023-08-11</th>\n      <td>0.2400</td>\n      <td>2023-08-14</td>\n      <td>2023-08-17</td>\n      <td>Cash Div.</td>\n      <td>USD</td>\n    </tr>\n    <tr>\n      <th>2023-05-12</th>\n      <td>0.2400</td>\n      <td>2023-05-15</td>\n      <td>2023-05-18</td>\n      <td>Cash Div.</td>\n      <td>USD</td>\n    </tr>\n    <tr>\n      <th>2023-02-10</th>\n      <td>0.2300</td>\n      <td>2023-02-13</td>\n      <td>2023-02-16</td>\n      <td>Cash Div.</td>\n      <td>USD</td>\n    </tr>\n    <tr>\n      <th>2022-11-04</th>\n      <td>0.2300</td>\n      <td>2022-11-07</td>\n      <td>2022-11-10</td>\n      <td>Cash Div.</td>\n      <td>USD</td>\n    </tr>\n    <tr>\n      <th>2022-08-05</th>\n      <td>0.2300</td>\n      <td>2022-08-08</td>\n      <td>2022-08-11</td>\n      <td>Cash Div.</td>\n      <td>USD</td>\n    </tr>\n    <tr>\n      <th>2022-05-06</th>\n      <td>0.2300</td>\n      <td>2022-05-09</td>\n      <td>2022-05-12</td>\n      <td>Cash Div.</td>\n      <td>USD</td>\n    </tr>\n    <tr>\n      <th>2022-02-04</th>\n      <td>0.2200</td>\n      <td>2022-02-07</td>\n      <td>2022-02-10</td>\n      <td>Cash Div.</td>\n      <td>USD</td>\n    </tr>\n    <tr>\n      <th>2021-11-05</th>\n      <td>0.2200</td>\n      <td>2021-11-08</td>\n      <td>2021-11-11</td>\n      <td>Cash Div.</td>\n      <td>USD</td>\n    </tr>\n    <tr>\n      <th>2021-08-06</th>\n      <td>0.2200</td>\n      <td>2021-08-09</td>\n      <td>2021-08-12</td>\n      <td>Cash Div.</td>\n      <td>USD</td>\n    </tr>\n    <tr>\n      <th>2021-05-07</th>\n      <td>0.2200</td>\n      <td>2021-05-10</td>\n      <td>2021-05-13</td>\n      <td>Cash Div.</td>\n      <td>USD</td>\n    </tr>\n    <tr>\n      <th>2021-02-05</th>\n      <td>0.2050</td>\n      <td>2021-02-08</td>\n      <td>2021-02-11</td>\n      <td>Cash Div.</td>\n      <td>USD</td>\n    </tr>\n    <tr>\n      <th>2020-11-06</th>\n      <td>0.2050</td>\n      <td>2020-11-09</td>\n      <td>2020-11-12</td>\n      <td>Cash Div.</td>\n      <td>USD</td>\n    </tr>\n    <tr>\n      <th>2020-08-07</th>\n      <td>0.2050</td>\n      <td>2020-08-10</td>\n      <td>2020-08-13</td>\n      <td>Cash Div.</td>\n      <td>USD</td>\n    </tr>\n    <tr>\n      <th>2020-05-08</th>\n      <td>0.2050</td>\n      <td>2020-05-11</td>\n      <td>2020-05-14</td>\n      <td>Cash Div.</td>\n      <td>USD</td>\n    </tr>\n    <tr>\n      <th>2020-02-07</th>\n      <td>0.1925</td>\n      <td>2020-02-10</td>\n      <td>2020-02-13</td>\n      <td>Cash Div.</td>\n      <td>USD</td>\n    </tr>\n    <tr>\n      <th>2019-11-07</th>\n      <td>0.1925</td>\n      <td>2019-11-11</td>\n      <td>2019-11-14</td>\n      <td>Cash Div.</td>\n      <td>USD</td>\n    </tr>\n    <tr>\n      <th>2019-08-09</th>\n      <td>0.1925</td>\n      <td>2019-08-12</td>\n      <td>2019-08-15</td>\n      <td>Cash Div.</td>\n      <td>USD</td>\n    </tr>\n    <tr>\n      <th>2019-05-10</th>\n      <td>0.1925</td>\n      <td>2019-05-13</td>\n      <td>2019-05-16</td>\n      <td>Cash Div.</td>\n      <td>USD</td>\n    </tr>\n    <tr>\n      <th>2019-02-08</th>\n      <td>0.1825</td>\n      <td>2019-02-11</td>\n      <td>2019-02-14</td>\n      <td>Cash Div.</td>\n      <td>USD</td>\n    </tr>\n    <tr>\n      <th>2018-11-08</th>\n      <td>0.1825</td>\n      <td>2018-11-12</td>\n      <td>2018-11-15</td>\n      <td>Cash Div.</td>\n      <td>USD</td>\n    </tr>\n    <tr>\n      <th>2018-08-10</th>\n      <td>0.1825</td>\n      <td>2018-08-13</td>\n      <td>2018-08-16</td>\n      <td>Cash Div.</td>\n      <td>USD</td>\n    </tr>\n    <tr>\n      <th>2018-05-11</th>\n      <td>0.1825</td>\n      <td>2018-05-14</td>\n      <td>2018-05-17</td>\n      <td>Cash Div.</td>\n      <td>USD</td>\n    </tr>\n    <tr>\n      <th>2018-02-09</th>\n      <td>0.1575</td>\n      <td>2018-02-12</td>\n      <td>2018-02-15</td>\n      <td>Cash Div.</td>\n      <td>USD</td>\n    </tr>\n    <tr>\n      <th>2017-11-10</th>\n      <td>0.1575</td>\n      <td>2017-11-13</td>\n      <td>2017-11-16</td>\n      <td>Cash Div.</td>\n      <td>USD</td>\n    </tr>\n    <tr>\n      <th>2017-08-10</th>\n      <td>0.1575</td>\n      <td>2017-08-14</td>\n      <td>2017-08-17</td>\n      <td>Cash Div.</td>\n      <td>USD</td>\n    </tr>\n    <tr>\n      <th>2017-05-11</th>\n      <td>0.1575</td>\n      <td>2017-05-15</td>\n      <td>2017-05-18</td>\n      <td>Cash Div.</td>\n      <td>USD</td>\n    </tr>\n    <tr>\n      <th>2017-02-09</th>\n      <td>0.1425</td>\n      <td>2017-02-13</td>\n      <td>2017-02-16</td>\n      <td>Cash Div.</td>\n      <td>USD</td>\n    </tr>\n  </tbody>\n</table>\n</div>"
     },
     "execution_count": 2,
     "metadata": {},
     "output_type": "execute_result"
    }
   ],
   "source": [
    "fwd_div_df = pd.read_csv(Dividend_Data_Cy, index_col='Date')\n",
    "lot_df = pd.read_csv(Lot_Data, index_col='Date')\n",
    "pay_df = pd.read_csv(DivPay_Data_Cy, index_col='ExDate')\n",
    "pay_df.index = pd.to_datetime(pay_df.index)\n",
    "pay_df = pay_df[pay_df.index.year > lot_year]\n",
    "\n",
    "fwd_div_df.index = pd.to_datetime(fwd_div_df.index)\n",
    "lot_df.index = pd.to_datetime(lot_df.index)\n",
    "\n",
    "pay_df\n",
    "\n"
   ],
   "metadata": {
    "collapsed": false,
    "pycharm": {
     "name": "#%%\n"
    }
   }
  },
  {
   "cell_type": "code",
   "execution_count": 3,
   "outputs": [],
   "source": [
    "join_df = lot_df.join(fwd_div_df)"
   ],
   "metadata": {
    "collapsed": false,
    "pycharm": {
     "name": "#%%\n"
    }
   }
  },
  {
   "cell_type": "code",
   "execution_count": 4,
   "outputs": [
    {
     "data": {
      "text/plain": "             Price  Cost/Share  FwdDiv  FwdDivYield  CurrentDividend  BuyYear  \\\nDate                                                                            \n2019-01-07  229.04       36.83    0.73     0.019740              1.0     2019   \n2018-11-27  229.04       43.37    0.73     0.016758              1.0     2018   \n2017-05-15  229.04       38.98    0.63     0.016183              1.0     2017   \n\n            CurrentYear  CurrentPrice  \nDate                                   \n2019-01-07         2024        229.03  \n2018-11-27         2024        229.03  \n2017-05-15         2024        229.03  ",
      "text/html": "<div>\n<style scoped>\n    .dataframe tbody tr th:only-of-type {\n        vertical-align: middle;\n    }\n\n    .dataframe tbody tr th {\n        vertical-align: top;\n    }\n\n    .dataframe thead th {\n        text-align: right;\n    }\n</style>\n<table border=\"1\" class=\"dataframe\">\n  <thead>\n    <tr style=\"text-align: right;\">\n      <th></th>\n      <th>Price</th>\n      <th>Cost/Share</th>\n      <th>FwdDiv</th>\n      <th>FwdDivYield</th>\n      <th>CurrentDividend</th>\n      <th>BuyYear</th>\n      <th>CurrentYear</th>\n      <th>CurrentPrice</th>\n    </tr>\n    <tr>\n      <th>Date</th>\n      <th></th>\n      <th></th>\n      <th></th>\n      <th></th>\n      <th></th>\n      <th></th>\n      <th></th>\n      <th></th>\n    </tr>\n  </thead>\n  <tbody>\n    <tr>\n      <th>2019-01-07</th>\n      <td>229.04</td>\n      <td>36.83</td>\n      <td>0.73</td>\n      <td>0.019740</td>\n      <td>1.0</td>\n      <td>2019</td>\n      <td>2024</td>\n      <td>229.03</td>\n    </tr>\n    <tr>\n      <th>2018-11-27</th>\n      <td>229.04</td>\n      <td>43.37</td>\n      <td>0.73</td>\n      <td>0.016758</td>\n      <td>1.0</td>\n      <td>2018</td>\n      <td>2024</td>\n      <td>229.03</td>\n    </tr>\n    <tr>\n      <th>2017-05-15</th>\n      <td>229.04</td>\n      <td>38.98</td>\n      <td>0.63</td>\n      <td>0.016183</td>\n      <td>1.0</td>\n      <td>2017</td>\n      <td>2024</td>\n      <td>229.03</td>\n    </tr>\n  </tbody>\n</table>\n</div>"
     },
     "execution_count": 4,
     "metadata": {},
     "output_type": "execute_result"
    }
   ],
   "source": [
    "record_df = join_df.drop(['SharePrice','Dividend'], axis=1)\n",
    "record_df['CurrentDividend'] = dividend\n",
    "record_df['BuyYear'] = record_df.index.year\n",
    "record_df['CurrentYear'] = today.year\n",
    "record_df['CurrentPrice'] = price\n",
    "\n",
    "record_df"
   ],
   "metadata": {
    "collapsed": false,
    "pycharm": {
     "name": "#%%\n"
    }
   }
  },
  {
   "cell_type": "code",
   "execution_count": 5,
   "outputs": [
    {
     "data": {
      "text/plain": "             Price  Cost/Share  FwdDiv  FwdDivYield  CurrentDividend  BuyYear  \\\nDate                                                                            \n2019-01-07  229.04       36.83    0.73     0.019740              1.0     2019   \n2018-11-27  229.04       43.37    0.73     0.016758              1.0     2018   \n2017-05-15  229.04       38.98    0.63     0.016183              1.0     2017   \n\n            CurrentYear  CurrentPrice  TotDiv  EndValue  End/Begin    Period  \\\nDate                                                                           \n2019-01-07         2024        229.03  5.0352  234.0652   6.355286  0.200000   \n2018-11-27         2024        229.03  5.2150  234.2450   5.401084  0.166667   \n2017-05-15         2024        229.03  6.2100  235.2400   6.034890  0.142857   \n\n             CAGR  \nDate               \n2019-01-07  44.75  \n2018-11-27  32.46  \n2017-05-15  29.28  ",
      "text/html": "<div>\n<style scoped>\n    .dataframe tbody tr th:only-of-type {\n        vertical-align: middle;\n    }\n\n    .dataframe tbody tr th {\n        vertical-align: top;\n    }\n\n    .dataframe thead th {\n        text-align: right;\n    }\n</style>\n<table border=\"1\" class=\"dataframe\">\n  <thead>\n    <tr style=\"text-align: right;\">\n      <th></th>\n      <th>Price</th>\n      <th>Cost/Share</th>\n      <th>FwdDiv</th>\n      <th>FwdDivYield</th>\n      <th>CurrentDividend</th>\n      <th>BuyYear</th>\n      <th>CurrentYear</th>\n      <th>CurrentPrice</th>\n      <th>TotDiv</th>\n      <th>EndValue</th>\n      <th>End/Begin</th>\n      <th>Period</th>\n      <th>CAGR</th>\n    </tr>\n    <tr>\n      <th>Date</th>\n      <th></th>\n      <th></th>\n      <th></th>\n      <th></th>\n      <th></th>\n      <th></th>\n      <th></th>\n      <th></th>\n      <th></th>\n      <th></th>\n      <th></th>\n      <th></th>\n      <th></th>\n    </tr>\n  </thead>\n  <tbody>\n    <tr>\n      <th>2019-01-07</th>\n      <td>229.04</td>\n      <td>36.83</td>\n      <td>0.73</td>\n      <td>0.019740</td>\n      <td>1.0</td>\n      <td>2019</td>\n      <td>2024</td>\n      <td>229.03</td>\n      <td>5.0352</td>\n      <td>234.0652</td>\n      <td>6.355286</td>\n      <td>0.200000</td>\n      <td>44.75</td>\n    </tr>\n    <tr>\n      <th>2018-11-27</th>\n      <td>229.04</td>\n      <td>43.37</td>\n      <td>0.73</td>\n      <td>0.016758</td>\n      <td>1.0</td>\n      <td>2018</td>\n      <td>2024</td>\n      <td>229.03</td>\n      <td>5.2150</td>\n      <td>234.2450</td>\n      <td>5.401084</td>\n      <td>0.166667</td>\n      <td>32.46</td>\n    </tr>\n    <tr>\n      <th>2017-05-15</th>\n      <td>229.04</td>\n      <td>38.98</td>\n      <td>0.63</td>\n      <td>0.016183</td>\n      <td>1.0</td>\n      <td>2017</td>\n      <td>2024</td>\n      <td>229.03</td>\n      <td>6.2100</td>\n      <td>235.2400</td>\n      <td>6.034890</td>\n      <td>0.142857</td>\n      <td>29.28</td>\n    </tr>\n  </tbody>\n</table>\n</div>"
     },
     "execution_count": 5,
     "metadata": {},
     "output_type": "execute_result"
    }
   ],
   "source": [
    "record_df['TotDiv'] = div_paid\n",
    "record_df['EndValue'] = record_df['CurrentPrice'] + record_df['TotDiv']\n",
    "record_df['End/Begin'] = record_df['EndValue'] / record_df['Cost/Share']\n",
    "record_df['Period'] = 1 / (record_df['CurrentYear'] - record_df['BuyYear'])\n",
    "record_df['CAGR'] = round(((record_df['End/Begin'] ** record_df['Period']) - 1) * 100, 2)\n",
    "\n",
    "record_df"
   ],
   "metadata": {
    "collapsed": false,
    "pycharm": {
     "name": "#%%\n"
    }
   }
  },
  {
   "cell_type": "code",
   "execution_count": 6,
   "outputs": [
    {
     "name": "stderr",
     "output_type": "stream",
     "text": [
      "/var/folders/j5/3jkv197574n0l3hvczkvmbw00000gn/T/ipykernel_91457/1063397913.py:2: SettingWithCopyWarning: \n",
      "A value is trying to be set on a copy of a slice from a DataFrame.\n",
      "Try using .loc[row_indexer,col_indexer] = value instead\n",
      "\n",
      "See the caveats in the documentation: https://pandas.pydata.org/pandas-docs/stable/user_guide/indexing.html#returning-a-view-versus-a-copy\n",
      "  yoc_df['YOC'] = round(yoc_df['CurrentDividend'] / yoc_df['Cost/Share'] * 100, 2)\n"
     ]
    },
    {
     "data": {
      "text/plain": "            Cost/Share  CurrentDividend   YOC\nDate                                         \n2019-01-07       36.83              1.0  2.72\n2018-11-27       43.37              1.0  2.31\n2017-05-15       38.98              1.0  2.57",
      "text/html": "<div>\n<style scoped>\n    .dataframe tbody tr th:only-of-type {\n        vertical-align: middle;\n    }\n\n    .dataframe tbody tr th {\n        vertical-align: top;\n    }\n\n    .dataframe thead th {\n        text-align: right;\n    }\n</style>\n<table border=\"1\" class=\"dataframe\">\n  <thead>\n    <tr style=\"text-align: right;\">\n      <th></th>\n      <th>Cost/Share</th>\n      <th>CurrentDividend</th>\n      <th>YOC</th>\n    </tr>\n    <tr>\n      <th>Date</th>\n      <th></th>\n      <th></th>\n      <th></th>\n    </tr>\n  </thead>\n  <tbody>\n    <tr>\n      <th>2019-01-07</th>\n      <td>36.83</td>\n      <td>1.0</td>\n      <td>2.72</td>\n    </tr>\n    <tr>\n      <th>2018-11-27</th>\n      <td>43.37</td>\n      <td>1.0</td>\n      <td>2.31</td>\n    </tr>\n    <tr>\n      <th>2017-05-15</th>\n      <td>38.98</td>\n      <td>1.0</td>\n      <td>2.57</td>\n    </tr>\n  </tbody>\n</table>\n</div>"
     },
     "execution_count": 6,
     "metadata": {},
     "output_type": "execute_result"
    }
   ],
   "source": [
    "yoc_df = record_df[['Cost/Share', 'CurrentDividend']]\n",
    "yoc_df['YOC'] = round(yoc_df['CurrentDividend'] / yoc_df['Cost/Share'] * 100, 2)\n",
    "\n",
    "yoc_df"
   ],
   "metadata": {
    "collapsed": false,
    "pycharm": {
     "name": "#%%\n"
    }
   }
  },
  {
   "cell_type": "code",
   "execution_count": 6,
   "outputs": [],
   "source": [],
   "metadata": {
    "collapsed": false,
    "pycharm": {
     "name": "#%%\n"
    }
   }
  }
 ],
 "metadata": {
  "kernelspec": {
   "display_name": "Python 3",
   "language": "python",
   "name": "python3"
  },
  "language_info": {
   "codemirror_mode": {
    "name": "ipython",
    "version": 2
   },
   "file_extension": ".py",
   "mimetype": "text/x-python",
   "name": "python",
   "nbconvert_exporter": "python",
   "pygments_lexer": "ipython2",
   "version": "2.7.6"
  }
 },
 "nbformat": 4,
 "nbformat_minor": 0
}