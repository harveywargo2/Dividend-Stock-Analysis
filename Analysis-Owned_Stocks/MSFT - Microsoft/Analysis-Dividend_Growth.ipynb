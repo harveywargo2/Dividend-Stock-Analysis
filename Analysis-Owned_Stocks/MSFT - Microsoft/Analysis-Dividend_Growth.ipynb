{
 "cells": [
  {
   "cell_type": "markdown",
   "source": [
    "# Analysis Dividend Growth"
   ],
   "metadata": {
    "collapsed": false,
    "pycharm": {
     "name": "#%% md\n"
    }
   }
  },
  {
   "cell_type": "code",
   "execution_count": 1,
   "outputs": [],
   "source": [
    "import pandas as pd\n",
    "import datetime\n",
    "\n",
    "Grow_Data_Fy = 'Data_Growth_Fy-MSFT.csv'\n",
    "Ps_Data_Fy = 'Data_Per_Share_Fy-MSFT.csv'\n",
    "today = datetime.date.today()\n",
    "year10 = today.year - 11\n",
    "year5 = today.year - 6\n",
    "year3 = today.year - 4\n"
   ],
   "metadata": {
    "collapsed": false,
    "pycharm": {
     "name": "#%%\n"
    }
   }
  },
  {
   "cell_type": "markdown",
   "source": [
    "# Dividend Cash Growth"
   ],
   "metadata": {
    "collapsed": false,
    "pycharm": {
     "name": "#%% md\n"
    }
   }
  },
  {
   "cell_type": "code",
   "execution_count": 2,
   "outputs": [
    {
     "data": {
      "text/plain": "            Dividends  DivChange   DPS  DpsChange\nFiscalYear                                       \n1985              0.0        NaN  0.00        NaN\n1986              0.0        NaN  0.00        NaN\n1987              0.0        NaN  0.00        NaN\n1988              0.0        NaN  0.00        NaN\n1989              0.0        NaN  0.00        NaN\n1990              0.0        NaN  0.00        NaN\n1991              0.0        NaN  0.00        NaN\n1992              0.0        NaN  0.00        NaN\n1993              0.0        NaN  0.00        NaN\n1994              0.0        NaN  0.00        NaN\n1995              0.0        NaN  0.00        NaN\n1996              0.0        NaN  0.00        NaN\n1997             15.0        inf  0.00        NaN\n1998             28.0      86.67  0.00        NaN\n1999             28.0       0.00  0.00        NaN\n2000             13.0     -53.57  0.00        NaN\n2001              0.0    -100.00  0.00        NaN\n2002              0.0        NaN  0.00        NaN\n2003            857.0        inf  0.08        inf\n2004           1729.0     101.75  0.16     100.00\n2005          36112.0    1988.61  0.32     100.00\n2006           3545.0     -90.18  0.34       6.25\n2007           3805.0       7.33  0.39      14.71\n2008           4015.0       5.52  0.43      10.26\n2009           4468.0      11.28  0.50      16.28\n2010           4578.0       2.46  0.52       4.00\n2011           5180.0      13.15  0.61      17.31\n2012           6385.0      23.26  0.76      24.59\n2013           7455.0      16.76  0.89      17.11\n2014           8879.0      19.10  1.07      20.22\n2015           9882.0      11.30  1.21      13.08\n2016          11006.0      11.37  1.39      14.88\n2017          11845.0       7.62  1.53      10.07\n2018          12699.0       7.21  1.65       7.84\n2019          13811.0       8.76  1.80       9.09\n2020          15137.0       9.60  1.99      10.56\n2021          16521.0       9.14  2.19      10.05\n2022          18135.0       9.77  2.42      10.50\n2023          19800.0       9.18  2.66       9.92\n2024          21771.0       9.95  2.93      10.15",
      "text/html": "<div>\n<style scoped>\n    .dataframe tbody tr th:only-of-type {\n        vertical-align: middle;\n    }\n\n    .dataframe tbody tr th {\n        vertical-align: top;\n    }\n\n    .dataframe thead th {\n        text-align: right;\n    }\n</style>\n<table border=\"1\" class=\"dataframe\">\n  <thead>\n    <tr style=\"text-align: right;\">\n      <th></th>\n      <th>Dividends</th>\n      <th>DivChange</th>\n      <th>DPS</th>\n      <th>DpsChange</th>\n    </tr>\n    <tr>\n      <th>FiscalYear</th>\n      <th></th>\n      <th></th>\n      <th></th>\n      <th></th>\n    </tr>\n  </thead>\n  <tbody>\n    <tr>\n      <th>1985</th>\n      <td>0.0</td>\n      <td>NaN</td>\n      <td>0.00</td>\n      <td>NaN</td>\n    </tr>\n    <tr>\n      <th>1986</th>\n      <td>0.0</td>\n      <td>NaN</td>\n      <td>0.00</td>\n      <td>NaN</td>\n    </tr>\n    <tr>\n      <th>1987</th>\n      <td>0.0</td>\n      <td>NaN</td>\n      <td>0.00</td>\n      <td>NaN</td>\n    </tr>\n    <tr>\n      <th>1988</th>\n      <td>0.0</td>\n      <td>NaN</td>\n      <td>0.00</td>\n      <td>NaN</td>\n    </tr>\n    <tr>\n      <th>1989</th>\n      <td>0.0</td>\n      <td>NaN</td>\n      <td>0.00</td>\n      <td>NaN</td>\n    </tr>\n    <tr>\n      <th>1990</th>\n      <td>0.0</td>\n      <td>NaN</td>\n      <td>0.00</td>\n      <td>NaN</td>\n    </tr>\n    <tr>\n      <th>1991</th>\n      <td>0.0</td>\n      <td>NaN</td>\n      <td>0.00</td>\n      <td>NaN</td>\n    </tr>\n    <tr>\n      <th>1992</th>\n      <td>0.0</td>\n      <td>NaN</td>\n      <td>0.00</td>\n      <td>NaN</td>\n    </tr>\n    <tr>\n      <th>1993</th>\n      <td>0.0</td>\n      <td>NaN</td>\n      <td>0.00</td>\n      <td>NaN</td>\n    </tr>\n    <tr>\n      <th>1994</th>\n      <td>0.0</td>\n      <td>NaN</td>\n      <td>0.00</td>\n      <td>NaN</td>\n    </tr>\n    <tr>\n      <th>1995</th>\n      <td>0.0</td>\n      <td>NaN</td>\n      <td>0.00</td>\n      <td>NaN</td>\n    </tr>\n    <tr>\n      <th>1996</th>\n      <td>0.0</td>\n      <td>NaN</td>\n      <td>0.00</td>\n      <td>NaN</td>\n    </tr>\n    <tr>\n      <th>1997</th>\n      <td>15.0</td>\n      <td>inf</td>\n      <td>0.00</td>\n      <td>NaN</td>\n    </tr>\n    <tr>\n      <th>1998</th>\n      <td>28.0</td>\n      <td>86.67</td>\n      <td>0.00</td>\n      <td>NaN</td>\n    </tr>\n    <tr>\n      <th>1999</th>\n      <td>28.0</td>\n      <td>0.00</td>\n      <td>0.00</td>\n      <td>NaN</td>\n    </tr>\n    <tr>\n      <th>2000</th>\n      <td>13.0</td>\n      <td>-53.57</td>\n      <td>0.00</td>\n      <td>NaN</td>\n    </tr>\n    <tr>\n      <th>2001</th>\n      <td>0.0</td>\n      <td>-100.00</td>\n      <td>0.00</td>\n      <td>NaN</td>\n    </tr>\n    <tr>\n      <th>2002</th>\n      <td>0.0</td>\n      <td>NaN</td>\n      <td>0.00</td>\n      <td>NaN</td>\n    </tr>\n    <tr>\n      <th>2003</th>\n      <td>857.0</td>\n      <td>inf</td>\n      <td>0.08</td>\n      <td>inf</td>\n    </tr>\n    <tr>\n      <th>2004</th>\n      <td>1729.0</td>\n      <td>101.75</td>\n      <td>0.16</td>\n      <td>100.00</td>\n    </tr>\n    <tr>\n      <th>2005</th>\n      <td>36112.0</td>\n      <td>1988.61</td>\n      <td>0.32</td>\n      <td>100.00</td>\n    </tr>\n    <tr>\n      <th>2006</th>\n      <td>3545.0</td>\n      <td>-90.18</td>\n      <td>0.34</td>\n      <td>6.25</td>\n    </tr>\n    <tr>\n      <th>2007</th>\n      <td>3805.0</td>\n      <td>7.33</td>\n      <td>0.39</td>\n      <td>14.71</td>\n    </tr>\n    <tr>\n      <th>2008</th>\n      <td>4015.0</td>\n      <td>5.52</td>\n      <td>0.43</td>\n      <td>10.26</td>\n    </tr>\n    <tr>\n      <th>2009</th>\n      <td>4468.0</td>\n      <td>11.28</td>\n      <td>0.50</td>\n      <td>16.28</td>\n    </tr>\n    <tr>\n      <th>2010</th>\n      <td>4578.0</td>\n      <td>2.46</td>\n      <td>0.52</td>\n      <td>4.00</td>\n    </tr>\n    <tr>\n      <th>2011</th>\n      <td>5180.0</td>\n      <td>13.15</td>\n      <td>0.61</td>\n      <td>17.31</td>\n    </tr>\n    <tr>\n      <th>2012</th>\n      <td>6385.0</td>\n      <td>23.26</td>\n      <td>0.76</td>\n      <td>24.59</td>\n    </tr>\n    <tr>\n      <th>2013</th>\n      <td>7455.0</td>\n      <td>16.76</td>\n      <td>0.89</td>\n      <td>17.11</td>\n    </tr>\n    <tr>\n      <th>2014</th>\n      <td>8879.0</td>\n      <td>19.10</td>\n      <td>1.07</td>\n      <td>20.22</td>\n    </tr>\n    <tr>\n      <th>2015</th>\n      <td>9882.0</td>\n      <td>11.30</td>\n      <td>1.21</td>\n      <td>13.08</td>\n    </tr>\n    <tr>\n      <th>2016</th>\n      <td>11006.0</td>\n      <td>11.37</td>\n      <td>1.39</td>\n      <td>14.88</td>\n    </tr>\n    <tr>\n      <th>2017</th>\n      <td>11845.0</td>\n      <td>7.62</td>\n      <td>1.53</td>\n      <td>10.07</td>\n    </tr>\n    <tr>\n      <th>2018</th>\n      <td>12699.0</td>\n      <td>7.21</td>\n      <td>1.65</td>\n      <td>7.84</td>\n    </tr>\n    <tr>\n      <th>2019</th>\n      <td>13811.0</td>\n      <td>8.76</td>\n      <td>1.80</td>\n      <td>9.09</td>\n    </tr>\n    <tr>\n      <th>2020</th>\n      <td>15137.0</td>\n      <td>9.60</td>\n      <td>1.99</td>\n      <td>10.56</td>\n    </tr>\n    <tr>\n      <th>2021</th>\n      <td>16521.0</td>\n      <td>9.14</td>\n      <td>2.19</td>\n      <td>10.05</td>\n    </tr>\n    <tr>\n      <th>2022</th>\n      <td>18135.0</td>\n      <td>9.77</td>\n      <td>2.42</td>\n      <td>10.50</td>\n    </tr>\n    <tr>\n      <th>2023</th>\n      <td>19800.0</td>\n      <td>9.18</td>\n      <td>2.66</td>\n      <td>9.92</td>\n    </tr>\n    <tr>\n      <th>2024</th>\n      <td>21771.0</td>\n      <td>9.95</td>\n      <td>2.93</td>\n      <td>10.15</td>\n    </tr>\n  </tbody>\n</table>\n</div>"
     },
     "execution_count": 2,
     "metadata": {},
     "output_type": "execute_result"
    }
   ],
   "source": [
    "dgro_df = pd.read_csv(Grow_Data_Fy,index_col='FiscalYear')\n",
    "dgro_ps_df = pd.read_csv(Ps_Data_Fy,index_col='FiscalYear')\n",
    "\n",
    "dgro_s = pd.Series(dgro_df['CashForDividends'].abs())\n",
    "dgro_pc_s = round(dgro_s.pct_change() * 100, 2)\n",
    "dgro_ps_s = pd.Series(dgro_ps_df['PerShareDividends'])\n",
    "dgro_ps_pc_s = round(dgro_ps_s.pct_change() * 100, 2)\n",
    "\n",
    "div_dict = {'Dividends' : dgro_s, 'DivChange' : dgro_pc_s, 'DPS' : dgro_ps_s, 'DpsChange' : dgro_ps_pc_s}\n",
    "divgro_df = pd.DataFrame(div_dict)\n",
    "\n",
    "divgro_df"
   ],
   "metadata": {
    "collapsed": false,
    "pycharm": {
     "name": "#%%\n"
    }
   }
  },
  {
   "cell_type": "code",
   "execution_count": 3,
   "outputs": [
    {
     "name": "stdout",
     "output_type": "stream",
     "text": [
      "The 10 year Average Growth of Cash Dividends: 10.27% and Dividends Per Share: 11.49%\n",
      "The 10 year Average Growth of Cash Dividends: 9.4% and Dividends Per Share: 10.04%\n",
      "The 10 year Average Growth of Cash Dividends: 9.51% and Dividends Per Share: 10.15%\n"
     ]
    }
   ],
   "source": [
    "dg10_df = divgro_df[divgro_df.index > year10]\n",
    "dg_10 = round(dg10_df['DivChange'].mean(), 2)\n",
    "dps_10 = round(dg10_df['DpsChange'].mean(), 2)\n",
    "\n",
    "dg5_df = divgro_df[divgro_df.index > year5]\n",
    "dg_5 = round(dg5_df['DivChange'].mean(), 2)\n",
    "dps_5 = round(dg5_df['DpsChange'].mean(), 2)\n",
    "\n",
    "dg3_df = divgro_df[divgro_df.index > year3]\n",
    "dg_3 = round(dg3_df['DivChange'].mean(), 2)\n",
    "dps_3 = round(dg3_df['DpsChange'].mean(), 2)\n",
    "\n",
    "print(f'The 10 year Average Growth of Cash Dividends: {dg_10}% and Dividends Per Share: {dps_10}%')\n",
    "print(f'The 10 year Average Growth of Cash Dividends: {dg_5}% and Dividends Per Share: {dps_5}%')\n",
    "print(f'The 10 year Average Growth of Cash Dividends: {dg_3}% and Dividends Per Share: {dps_3}%')"
   ],
   "metadata": {
    "collapsed": false,
    "pycharm": {
     "name": "#%%\n"
    }
   }
  },
  {
   "cell_type": "code",
   "execution_count": 3,
   "outputs": [],
   "source": [],
   "metadata": {
    "collapsed": false,
    "pycharm": {
     "name": "#%%\n"
    }
   }
  }
 ],
 "metadata": {
  "kernelspec": {
   "display_name": "Python 3",
   "language": "python",
   "name": "python3"
  },
  "language_info": {
   "codemirror_mode": {
    "name": "ipython",
    "version": 2
   },
   "file_extension": ".py",
   "mimetype": "text/x-python",
   "name": "python",
   "nbconvert_exporter": "python",
   "pygments_lexer": "ipython2",
   "version": "2.7.6"
  }
 },
 "nbformat": 4,
 "nbformat_minor": 0
}