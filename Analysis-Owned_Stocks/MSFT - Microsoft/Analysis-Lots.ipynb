{
 "cells": [
  {
   "cell_type": "markdown",
   "source": [
    "# Analysis of Purchase Lots"
   ],
   "metadata": {
    "collapsed": false,
    "pycharm": {
     "name": "#%% md\n"
    }
   }
  },
  {
   "cell_type": "code",
   "execution_count": 1,
   "outputs": [],
   "source": [
    "import pandas as pd\n",
    "import datetime\n",
    "\n",
    "Lot_Data = 'Data_Lots-MSFT.csv'\n",
    "Dividend_Data_Cy = 'Data_Div_Yield_Cy-MSFT.csv'\n",
    "DivPay_Data_Cy = 'Data_Dividends_Pay_Fy-MSFT.csv'\n",
    "today = datetime.date.today()\n",
    "dividend = 3.32\n",
    "price = 415.84\n",
    "lot_year = 2016\n",
    "div_paid = [5.19, 5.87, 7.79, 12.29, 16.83] # Enter Total Dividends\n"
   ],
   "metadata": {
    "collapsed": false,
    "pycharm": {
     "name": "#%%\n"
    }
   }
  },
  {
   "cell_type": "code",
   "execution_count": 2,
   "outputs": [
    {
     "data": {
      "text/plain": "            Dividend  RecordDate     PayDate DividendType Currency\nExDate                                                            \n2024-11-21      0.83  2024-11-21  2024-12-12    Cash Div.      USD\n2024-08-15      0.75  2024-08-15  2024-09-12    Cash Div.      USD\n2024-05-15      0.75  2024-05-16  2024-06-13    Cash Div.      USD\n2024-02-14      0.75  2024-02-15  2024-03-14    Cash Div.      USD\n2023-11-15      0.75  2023-11-16  2023-12-14    Cash Div.      USD\n2023-08-16      0.68  2023-08-17  2023-09-14    Cash Div.      USD\n2023-05-17      0.68  2023-05-18  2023-06-08    Cash Div.      USD\n2023-02-15      0.68  2023-02-16  2023-03-09    Cash Div.      USD\n2022-11-16      0.68  2022-11-17  2022-12-08    Cash Div.      USD\n2022-08-17      0.62  2022-08-18  2022-09-08    Cash Div.      USD\n2022-05-18      0.62  2022-05-19  2022-06-09    Cash Div.      USD\n2022-02-16      0.62  2022-02-17  2022-03-10    Cash Div.      USD\n2021-11-17      0.62  2021-11-18  2021-12-09    Cash Div.      USD\n2021-08-18      0.56  2021-08-19  2021-09-09    Cash Div.      USD\n2021-05-19      0.56  2021-05-20  2021-06-10    Cash Div.      USD\n2021-02-17      0.56  2021-02-18  2021-03-11    Cash Div.      USD\n2020-11-18      0.56  2020-11-19  2020-12-10    Cash Div.      USD\n2020-08-19      0.51  2020-08-20  2020-09-10    Cash Div.      USD\n2020-05-20      0.51  2020-05-21  2020-06-11    Cash Div.      USD\n2020-02-19      0.51  2020-02-20  2020-03-12    Cash Div.      USD\n2019-11-20      0.51  2019-11-21  2019-12-12    Cash Div.      USD\n2019-08-14      0.46  2019-08-15  2019-09-12    Cash Div.      USD\n2019-05-15      0.46  2019-05-16  2019-06-13    Cash Div.      USD\n2019-02-20      0.46  2019-02-21  2019-03-14    Cash Div.      USD\n2018-11-14      0.46  2018-11-15  2018-12-13    Cash Div.      USD\n2018-08-15      0.42  2018-08-16  2018-09-13    Cash Div.      USD\n2018-05-16      0.42  2018-05-17  2018-06-14    Cash Div.      USD\n2018-02-14      0.42  2018-02-15  2018-03-08    Cash Div.      USD\n2017-11-15      0.42  2017-11-16  2017-12-14    Cash Div.      USD\n2017-08-15      0.39  2017-08-17  2017-09-14    Cash Div.      USD\n2017-05-16      0.39  2017-05-18  2017-06-08    Cash Div.      USD\n2017-02-14      0.39  2017-02-16  2017-03-09    Cash Div.      USD",
      "text/html": "<div>\n<style scoped>\n    .dataframe tbody tr th:only-of-type {\n        vertical-align: middle;\n    }\n\n    .dataframe tbody tr th {\n        vertical-align: top;\n    }\n\n    .dataframe thead th {\n        text-align: right;\n    }\n</style>\n<table border=\"1\" class=\"dataframe\">\n  <thead>\n    <tr style=\"text-align: right;\">\n      <th></th>\n      <th>Dividend</th>\n      <th>RecordDate</th>\n      <th>PayDate</th>\n      <th>DividendType</th>\n      <th>Currency</th>\n    </tr>\n    <tr>\n      <th>ExDate</th>\n      <th></th>\n      <th></th>\n      <th></th>\n      <th></th>\n      <th></th>\n    </tr>\n  </thead>\n  <tbody>\n    <tr>\n      <th>2024-11-21</th>\n      <td>0.83</td>\n      <td>2024-11-21</td>\n      <td>2024-12-12</td>\n      <td>Cash Div.</td>\n      <td>USD</td>\n    </tr>\n    <tr>\n      <th>2024-08-15</th>\n      <td>0.75</td>\n      <td>2024-08-15</td>\n      <td>2024-09-12</td>\n      <td>Cash Div.</td>\n      <td>USD</td>\n    </tr>\n    <tr>\n      <th>2024-05-15</th>\n      <td>0.75</td>\n      <td>2024-05-16</td>\n      <td>2024-06-13</td>\n      <td>Cash Div.</td>\n      <td>USD</td>\n    </tr>\n    <tr>\n      <th>2024-02-14</th>\n      <td>0.75</td>\n      <td>2024-02-15</td>\n      <td>2024-03-14</td>\n      <td>Cash Div.</td>\n      <td>USD</td>\n    </tr>\n    <tr>\n      <th>2023-11-15</th>\n      <td>0.75</td>\n      <td>2023-11-16</td>\n      <td>2023-12-14</td>\n      <td>Cash Div.</td>\n      <td>USD</td>\n    </tr>\n    <tr>\n      <th>2023-08-16</th>\n      <td>0.68</td>\n      <td>2023-08-17</td>\n      <td>2023-09-14</td>\n      <td>Cash Div.</td>\n      <td>USD</td>\n    </tr>\n    <tr>\n      <th>2023-05-17</th>\n      <td>0.68</td>\n      <td>2023-05-18</td>\n      <td>2023-06-08</td>\n      <td>Cash Div.</td>\n      <td>USD</td>\n    </tr>\n    <tr>\n      <th>2023-02-15</th>\n      <td>0.68</td>\n      <td>2023-02-16</td>\n      <td>2023-03-09</td>\n      <td>Cash Div.</td>\n      <td>USD</td>\n    </tr>\n    <tr>\n      <th>2022-11-16</th>\n      <td>0.68</td>\n      <td>2022-11-17</td>\n      <td>2022-12-08</td>\n      <td>Cash Div.</td>\n      <td>USD</td>\n    </tr>\n    <tr>\n      <th>2022-08-17</th>\n      <td>0.62</td>\n      <td>2022-08-18</td>\n      <td>2022-09-08</td>\n      <td>Cash Div.</td>\n      <td>USD</td>\n    </tr>\n    <tr>\n      <th>2022-05-18</th>\n      <td>0.62</td>\n      <td>2022-05-19</td>\n      <td>2022-06-09</td>\n      <td>Cash Div.</td>\n      <td>USD</td>\n    </tr>\n    <tr>\n      <th>2022-02-16</th>\n      <td>0.62</td>\n      <td>2022-02-17</td>\n      <td>2022-03-10</td>\n      <td>Cash Div.</td>\n      <td>USD</td>\n    </tr>\n    <tr>\n      <th>2021-11-17</th>\n      <td>0.62</td>\n      <td>2021-11-18</td>\n      <td>2021-12-09</td>\n      <td>Cash Div.</td>\n      <td>USD</td>\n    </tr>\n    <tr>\n      <th>2021-08-18</th>\n      <td>0.56</td>\n      <td>2021-08-19</td>\n      <td>2021-09-09</td>\n      <td>Cash Div.</td>\n      <td>USD</td>\n    </tr>\n    <tr>\n      <th>2021-05-19</th>\n      <td>0.56</td>\n      <td>2021-05-20</td>\n      <td>2021-06-10</td>\n      <td>Cash Div.</td>\n      <td>USD</td>\n    </tr>\n    <tr>\n      <th>2021-02-17</th>\n      <td>0.56</td>\n      <td>2021-02-18</td>\n      <td>2021-03-11</td>\n      <td>Cash Div.</td>\n      <td>USD</td>\n    </tr>\n    <tr>\n      <th>2020-11-18</th>\n      <td>0.56</td>\n      <td>2020-11-19</td>\n      <td>2020-12-10</td>\n      <td>Cash Div.</td>\n      <td>USD</td>\n    </tr>\n    <tr>\n      <th>2020-08-19</th>\n      <td>0.51</td>\n      <td>2020-08-20</td>\n      <td>2020-09-10</td>\n      <td>Cash Div.</td>\n      <td>USD</td>\n    </tr>\n    <tr>\n      <th>2020-05-20</th>\n      <td>0.51</td>\n      <td>2020-05-21</td>\n      <td>2020-06-11</td>\n      <td>Cash Div.</td>\n      <td>USD</td>\n    </tr>\n    <tr>\n      <th>2020-02-19</th>\n      <td>0.51</td>\n      <td>2020-02-20</td>\n      <td>2020-03-12</td>\n      <td>Cash Div.</td>\n      <td>USD</td>\n    </tr>\n    <tr>\n      <th>2019-11-20</th>\n      <td>0.51</td>\n      <td>2019-11-21</td>\n      <td>2019-12-12</td>\n      <td>Cash Div.</td>\n      <td>USD</td>\n    </tr>\n    <tr>\n      <th>2019-08-14</th>\n      <td>0.46</td>\n      <td>2019-08-15</td>\n      <td>2019-09-12</td>\n      <td>Cash Div.</td>\n      <td>USD</td>\n    </tr>\n    <tr>\n      <th>2019-05-15</th>\n      <td>0.46</td>\n      <td>2019-05-16</td>\n      <td>2019-06-13</td>\n      <td>Cash Div.</td>\n      <td>USD</td>\n    </tr>\n    <tr>\n      <th>2019-02-20</th>\n      <td>0.46</td>\n      <td>2019-02-21</td>\n      <td>2019-03-14</td>\n      <td>Cash Div.</td>\n      <td>USD</td>\n    </tr>\n    <tr>\n      <th>2018-11-14</th>\n      <td>0.46</td>\n      <td>2018-11-15</td>\n      <td>2018-12-13</td>\n      <td>Cash Div.</td>\n      <td>USD</td>\n    </tr>\n    <tr>\n      <th>2018-08-15</th>\n      <td>0.42</td>\n      <td>2018-08-16</td>\n      <td>2018-09-13</td>\n      <td>Cash Div.</td>\n      <td>USD</td>\n    </tr>\n    <tr>\n      <th>2018-05-16</th>\n      <td>0.42</td>\n      <td>2018-05-17</td>\n      <td>2018-06-14</td>\n      <td>Cash Div.</td>\n      <td>USD</td>\n    </tr>\n    <tr>\n      <th>2018-02-14</th>\n      <td>0.42</td>\n      <td>2018-02-15</td>\n      <td>2018-03-08</td>\n      <td>Cash Div.</td>\n      <td>USD</td>\n    </tr>\n    <tr>\n      <th>2017-11-15</th>\n      <td>0.42</td>\n      <td>2017-11-16</td>\n      <td>2017-12-14</td>\n      <td>Cash Div.</td>\n      <td>USD</td>\n    </tr>\n    <tr>\n      <th>2017-08-15</th>\n      <td>0.39</td>\n      <td>2017-08-17</td>\n      <td>2017-09-14</td>\n      <td>Cash Div.</td>\n      <td>USD</td>\n    </tr>\n    <tr>\n      <th>2017-05-16</th>\n      <td>0.39</td>\n      <td>2017-05-18</td>\n      <td>2017-06-08</td>\n      <td>Cash Div.</td>\n      <td>USD</td>\n    </tr>\n    <tr>\n      <th>2017-02-14</th>\n      <td>0.39</td>\n      <td>2017-02-16</td>\n      <td>2017-03-09</td>\n      <td>Cash Div.</td>\n      <td>USD</td>\n    </tr>\n  </tbody>\n</table>\n</div>"
     },
     "execution_count": 2,
     "metadata": {},
     "output_type": "execute_result"
    }
   ],
   "source": [
    "fwd_div_df = pd.read_csv(Dividend_Data_Cy, index_col='Date')\n",
    "lot_df = pd.read_csv(Lot_Data, index_col='Date')\n",
    "pay_df = pd.read_csv(DivPay_Data_Cy, index_col='ExDate')\n",
    "pay_df.index = pd.to_datetime(pay_df.index)\n",
    "pay_df = pay_df[pay_df.index.year > lot_year]\n",
    "\n",
    "fwd_div_df.index = pd.to_datetime(fwd_div_df.index)\n",
    "lot_df.index = pd.to_datetime(lot_df.index)\n",
    "\n",
    "pay_df\n",
    "\n"
   ],
   "metadata": {
    "collapsed": false,
    "pycharm": {
     "name": "#%%\n"
    }
   }
  },
  {
   "cell_type": "code",
   "execution_count": 3,
   "outputs": [],
   "source": [
    "join_df = lot_df.join(fwd_div_df)"
   ],
   "metadata": {
    "collapsed": false,
    "pycharm": {
     "name": "#%%\n"
    }
   }
  },
  {
   "cell_type": "code",
   "execution_count": 4,
   "outputs": [
    {
     "data": {
      "text/plain": "             Price  Cost/Share  FwdDiv  FwdDivYield  CurrentDividend  BuyYear  \\\nDate                                                                            \n2023-10-04  415.84    318.1100    2.72     0.008528             3.32     2023   \n2022-12-22  415.84    239.7600    2.72     0.011419             3.32     2022   \n2022-05-09  415.84    266.6060    2.48     0.009373             3.32     2022   \n2020-03-26  415.84    151.6152    2.04     0.013068             3.32     2020   \n2017-10-18  415.84     77.7890    1.56     0.020101             3.32     2017   \n\n            CurrentYear  CurrentPrice  \nDate                                   \n2023-10-04         2024        415.84  \n2022-12-22         2024        415.84  \n2022-05-09         2024        415.84  \n2020-03-26         2024        415.84  \n2017-10-18         2024        415.84  ",
      "text/html": "<div>\n<style scoped>\n    .dataframe tbody tr th:only-of-type {\n        vertical-align: middle;\n    }\n\n    .dataframe tbody tr th {\n        vertical-align: top;\n    }\n\n    .dataframe thead th {\n        text-align: right;\n    }\n</style>\n<table border=\"1\" class=\"dataframe\">\n  <thead>\n    <tr style=\"text-align: right;\">\n      <th></th>\n      <th>Price</th>\n      <th>Cost/Share</th>\n      <th>FwdDiv</th>\n      <th>FwdDivYield</th>\n      <th>CurrentDividend</th>\n      <th>BuyYear</th>\n      <th>CurrentYear</th>\n      <th>CurrentPrice</th>\n    </tr>\n    <tr>\n      <th>Date</th>\n      <th></th>\n      <th></th>\n      <th></th>\n      <th></th>\n      <th></th>\n      <th></th>\n      <th></th>\n      <th></th>\n    </tr>\n  </thead>\n  <tbody>\n    <tr>\n      <th>2023-10-04</th>\n      <td>415.84</td>\n      <td>318.1100</td>\n      <td>2.72</td>\n      <td>0.008528</td>\n      <td>3.32</td>\n      <td>2023</td>\n      <td>2024</td>\n      <td>415.84</td>\n    </tr>\n    <tr>\n      <th>2022-12-22</th>\n      <td>415.84</td>\n      <td>239.7600</td>\n      <td>2.72</td>\n      <td>0.011419</td>\n      <td>3.32</td>\n      <td>2022</td>\n      <td>2024</td>\n      <td>415.84</td>\n    </tr>\n    <tr>\n      <th>2022-05-09</th>\n      <td>415.84</td>\n      <td>266.6060</td>\n      <td>2.48</td>\n      <td>0.009373</td>\n      <td>3.32</td>\n      <td>2022</td>\n      <td>2024</td>\n      <td>415.84</td>\n    </tr>\n    <tr>\n      <th>2020-03-26</th>\n      <td>415.84</td>\n      <td>151.6152</td>\n      <td>2.04</td>\n      <td>0.013068</td>\n      <td>3.32</td>\n      <td>2020</td>\n      <td>2024</td>\n      <td>415.84</td>\n    </tr>\n    <tr>\n      <th>2017-10-18</th>\n      <td>415.84</td>\n      <td>77.7890</td>\n      <td>1.56</td>\n      <td>0.020101</td>\n      <td>3.32</td>\n      <td>2017</td>\n      <td>2024</td>\n      <td>415.84</td>\n    </tr>\n  </tbody>\n</table>\n</div>"
     },
     "execution_count": 4,
     "metadata": {},
     "output_type": "execute_result"
    }
   ],
   "source": [
    "record_df = join_df.drop(['SharePrice','Dividend'], axis=1)\n",
    "record_df['CurrentDividend'] = dividend\n",
    "record_df['BuyYear'] = record_df.index.year\n",
    "record_df['CurrentYear'] = today.year\n",
    "record_df['CurrentPrice'] = price\n",
    "\n",
    "record_df"
   ],
   "metadata": {
    "collapsed": false,
    "pycharm": {
     "name": "#%%\n"
    }
   }
  },
  {
   "cell_type": "code",
   "execution_count": 5,
   "outputs": [
    {
     "data": {
      "text/plain": "             Price  Cost/Share  FwdDiv  FwdDivYield  CurrentDividend  BuyYear  \\\nDate                                                                            \n2023-10-04  415.84    318.1100    2.72     0.008528             3.32     2023   \n2022-12-22  415.84    239.7600    2.72     0.011419             3.32     2022   \n2022-05-09  415.84    266.6060    2.48     0.009373             3.32     2022   \n2020-03-26  415.84    151.6152    2.04     0.013068             3.32     2020   \n2017-10-18  415.84     77.7890    1.56     0.020101             3.32     2017   \n\n            CurrentYear  CurrentPrice  TotDiv  EndValue  End/Begin    Period  \\\nDate                                                                           \n2023-10-04         2024        415.84    5.19    421.03   1.323536  1.000000   \n2022-12-22         2024        415.84    5.87    421.71   1.758884  0.500000   \n2022-05-09         2024        415.84    7.79    423.63   1.588974  0.500000   \n2020-03-26         2024        415.84   12.29    428.13   2.823793  0.250000   \n2017-10-18         2024        415.84   16.83    432.67   5.562097  0.142857   \n\n             CAGR  \nDate               \n2023-10-04  32.35  \n2022-12-22  32.62  \n2022-05-09  26.05  \n2020-03-26  29.63  \n2017-10-18  27.78  ",
      "text/html": "<div>\n<style scoped>\n    .dataframe tbody tr th:only-of-type {\n        vertical-align: middle;\n    }\n\n    .dataframe tbody tr th {\n        vertical-align: top;\n    }\n\n    .dataframe thead th {\n        text-align: right;\n    }\n</style>\n<table border=\"1\" class=\"dataframe\">\n  <thead>\n    <tr style=\"text-align: right;\">\n      <th></th>\n      <th>Price</th>\n      <th>Cost/Share</th>\n      <th>FwdDiv</th>\n      <th>FwdDivYield</th>\n      <th>CurrentDividend</th>\n      <th>BuyYear</th>\n      <th>CurrentYear</th>\n      <th>CurrentPrice</th>\n      <th>TotDiv</th>\n      <th>EndValue</th>\n      <th>End/Begin</th>\n      <th>Period</th>\n      <th>CAGR</th>\n    </tr>\n    <tr>\n      <th>Date</th>\n      <th></th>\n      <th></th>\n      <th></th>\n      <th></th>\n      <th></th>\n      <th></th>\n      <th></th>\n      <th></th>\n      <th></th>\n      <th></th>\n      <th></th>\n      <th></th>\n      <th></th>\n    </tr>\n  </thead>\n  <tbody>\n    <tr>\n      <th>2023-10-04</th>\n      <td>415.84</td>\n      <td>318.1100</td>\n      <td>2.72</td>\n      <td>0.008528</td>\n      <td>3.32</td>\n      <td>2023</td>\n      <td>2024</td>\n      <td>415.84</td>\n      <td>5.19</td>\n      <td>421.03</td>\n      <td>1.323536</td>\n      <td>1.000000</td>\n      <td>32.35</td>\n    </tr>\n    <tr>\n      <th>2022-12-22</th>\n      <td>415.84</td>\n      <td>239.7600</td>\n      <td>2.72</td>\n      <td>0.011419</td>\n      <td>3.32</td>\n      <td>2022</td>\n      <td>2024</td>\n      <td>415.84</td>\n      <td>5.87</td>\n      <td>421.71</td>\n      <td>1.758884</td>\n      <td>0.500000</td>\n      <td>32.62</td>\n    </tr>\n    <tr>\n      <th>2022-05-09</th>\n      <td>415.84</td>\n      <td>266.6060</td>\n      <td>2.48</td>\n      <td>0.009373</td>\n      <td>3.32</td>\n      <td>2022</td>\n      <td>2024</td>\n      <td>415.84</td>\n      <td>7.79</td>\n      <td>423.63</td>\n      <td>1.588974</td>\n      <td>0.500000</td>\n      <td>26.05</td>\n    </tr>\n    <tr>\n      <th>2020-03-26</th>\n      <td>415.84</td>\n      <td>151.6152</td>\n      <td>2.04</td>\n      <td>0.013068</td>\n      <td>3.32</td>\n      <td>2020</td>\n      <td>2024</td>\n      <td>415.84</td>\n      <td>12.29</td>\n      <td>428.13</td>\n      <td>2.823793</td>\n      <td>0.250000</td>\n      <td>29.63</td>\n    </tr>\n    <tr>\n      <th>2017-10-18</th>\n      <td>415.84</td>\n      <td>77.7890</td>\n      <td>1.56</td>\n      <td>0.020101</td>\n      <td>3.32</td>\n      <td>2017</td>\n      <td>2024</td>\n      <td>415.84</td>\n      <td>16.83</td>\n      <td>432.67</td>\n      <td>5.562097</td>\n      <td>0.142857</td>\n      <td>27.78</td>\n    </tr>\n  </tbody>\n</table>\n</div>"
     },
     "execution_count": 5,
     "metadata": {},
     "output_type": "execute_result"
    }
   ],
   "source": [
    "record_df['TotDiv'] = div_paid\n",
    "record_df['EndValue'] = record_df['CurrentPrice'] + record_df['TotDiv']\n",
    "record_df['End/Begin'] = record_df['EndValue'] / record_df['Cost/Share']\n",
    "record_df['Period'] = 1 / (record_df['CurrentYear'] - record_df['BuyYear'])\n",
    "record_df['CAGR'] = round(((record_df['End/Begin'] ** record_df['Period']) - 1) * 100, 2)\n",
    "\n",
    "record_df"
   ],
   "metadata": {
    "collapsed": false,
    "pycharm": {
     "name": "#%%\n"
    }
   }
  },
  {
   "cell_type": "code",
   "execution_count": 6,
   "outputs": [
    {
     "name": "stderr",
     "output_type": "stream",
     "text": [
      "/var/folders/j5/3jkv197574n0l3hvczkvmbw00000gn/T/ipykernel_91918/1063397913.py:2: SettingWithCopyWarning: \n",
      "A value is trying to be set on a copy of a slice from a DataFrame.\n",
      "Try using .loc[row_indexer,col_indexer] = value instead\n",
      "\n",
      "See the caveats in the documentation: https://pandas.pydata.org/pandas-docs/stable/user_guide/indexing.html#returning-a-view-versus-a-copy\n",
      "  yoc_df['YOC'] = round(yoc_df['CurrentDividend'] / yoc_df['Cost/Share'] * 100, 2)\n"
     ]
    },
    {
     "data": {
      "text/plain": "            Cost/Share  CurrentDividend   YOC\nDate                                         \n2023-10-04    318.1100             3.32  1.04\n2022-12-22    239.7600             3.32  1.38\n2022-05-09    266.6060             3.32  1.25\n2020-03-26    151.6152             3.32  2.19\n2017-10-18     77.7890             3.32  4.27",
      "text/html": "<div>\n<style scoped>\n    .dataframe tbody tr th:only-of-type {\n        vertical-align: middle;\n    }\n\n    .dataframe tbody tr th {\n        vertical-align: top;\n    }\n\n    .dataframe thead th {\n        text-align: right;\n    }\n</style>\n<table border=\"1\" class=\"dataframe\">\n  <thead>\n    <tr style=\"text-align: right;\">\n      <th></th>\n      <th>Cost/Share</th>\n      <th>CurrentDividend</th>\n      <th>YOC</th>\n    </tr>\n    <tr>\n      <th>Date</th>\n      <th></th>\n      <th></th>\n      <th></th>\n    </tr>\n  </thead>\n  <tbody>\n    <tr>\n      <th>2023-10-04</th>\n      <td>318.1100</td>\n      <td>3.32</td>\n      <td>1.04</td>\n    </tr>\n    <tr>\n      <th>2022-12-22</th>\n      <td>239.7600</td>\n      <td>3.32</td>\n      <td>1.38</td>\n    </tr>\n    <tr>\n      <th>2022-05-09</th>\n      <td>266.6060</td>\n      <td>3.32</td>\n      <td>1.25</td>\n    </tr>\n    <tr>\n      <th>2020-03-26</th>\n      <td>151.6152</td>\n      <td>3.32</td>\n      <td>2.19</td>\n    </tr>\n    <tr>\n      <th>2017-10-18</th>\n      <td>77.7890</td>\n      <td>3.32</td>\n      <td>4.27</td>\n    </tr>\n  </tbody>\n</table>\n</div>"
     },
     "execution_count": 6,
     "metadata": {},
     "output_type": "execute_result"
    }
   ],
   "source": [
    "yoc_df = record_df[['Cost/Share', 'CurrentDividend']]\n",
    "yoc_df['YOC'] = round(yoc_df['CurrentDividend'] / yoc_df['Cost/Share'] * 100, 2)\n",
    "\n",
    "yoc_df"
   ],
   "metadata": {
    "collapsed": false,
    "pycharm": {
     "name": "#%%\n"
    }
   }
  },
  {
   "cell_type": "code",
   "execution_count": 6,
   "outputs": [],
   "source": [],
   "metadata": {
    "collapsed": false,
    "pycharm": {
     "name": "#%%\n"
    }
   }
  }
 ],
 "metadata": {
  "kernelspec": {
   "display_name": "Python 3",
   "language": "python",
   "name": "python3"
  },
  "language_info": {
   "codemirror_mode": {
    "name": "ipython",
    "version": 2
   },
   "file_extension": ".py",
   "mimetype": "text/x-python",
   "name": "python",
   "nbconvert_exporter": "python",
   "pygments_lexer": "ipython2",
   "version": "2.7.6"
  }
 },
 "nbformat": 4,
 "nbformat_minor": 0
}