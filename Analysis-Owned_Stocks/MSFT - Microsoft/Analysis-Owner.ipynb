{
 "cells": [
  {
   "cell_type": "markdown",
   "source": [
    "# Analysis of Owner Returns"
   ],
   "metadata": {
    "collapsed": false,
    "pycharm": {
     "name": "#%% md\n"
    }
   }
  },
  {
   "cell_type": "code",
   "execution_count": 1,
   "outputs": [],
   "source": [
    "import pandas as pd\n",
    "import datetime\n",
    "\n",
    "Owner_Data_Fy = 'Data_Owner_Fy-MSFT.csv'\n",
    "today = datetime.date.today()"
   ],
   "metadata": {
    "collapsed": false,
    "pycharm": {
     "name": "#%%\n"
    }
   }
  },
  {
   "cell_type": "markdown",
   "source": [
    "# WaterFall Analysis"
   ],
   "metadata": {
    "collapsed": false,
    "pycharm": {
     "name": "#%% md\n"
    }
   }
  },
  {
   "cell_type": "code",
   "execution_count": 2,
   "outputs": [
    {
     "data": {
      "text/plain": "             Revenue  FreeCashFlow  CashEquivalents  MarketSecurities  \\\nFiscalYear                                                              \n1985           140.4           0.0             18.9               0.0   \n1986           197.5           0.0            102.7               0.0   \n1987           345.9           0.0            132.5               0.0   \n1988           590.8           0.0            183.2               0.0   \n1989           803.5         133.1            192.4               0.0   \n1990          1183.4         120.2            246.3               0.0   \n1991          1843.4         293.5            417.2               0.0   \n1992          2758.7         590.4            791.4               0.0   \n1993          3753.0         838.0           1013.0               0.0   \n1994          4649.0        1315.0           1477.0               0.0   \n1995          5937.0        1495.0           1962.0               0.0   \n1996          8671.0        3225.0           2601.0               0.0   \n1997         11936.0        4190.0           3706.0               0.0   \n1998         15262.0        7587.0           3839.0               0.0   \n1999         19747.0       12554.0           4975.0           12261.0   \n2000         22956.0       10547.0           4846.0           18952.0   \n2001         25296.0       12319.0           3922.0           27678.0   \n2002         28365.0       13739.0           3016.0           35636.0   \n2003         32187.0       14906.0           6438.0           42610.0   \n2004         36835.0       13517.0          14304.0           46288.0   \n2005         39788.0       15793.0           4851.0           32900.0   \n2006         44282.0       12826.0           6714.0           27447.0   \n2007         51122.0       15532.0           6111.0           17300.0   \n2008         60420.0       18430.0          10339.0           13323.0   \n2009         58437.0       15918.0           6076.0           25371.0   \n2010         62484.0       22096.0           5505.0           31283.0   \n2011         69943.0       24639.0           9610.0           43162.0   \n2012         73723.0       29321.0           6938.0           56102.0   \n2013         77849.0       24576.0           3804.0           73218.0   \n2014         86833.0       27017.0           8669.0           77040.0   \n2015         93580.0       23724.0           5595.0           90931.0   \n2016         91154.0       24982.0           6510.0          106730.0   \n2017         96571.0       31378.0           7663.0          125318.0   \n2018        110360.0       32252.0          11946.0          121822.0   \n2019        125843.0       38260.0          11356.0          122463.0   \n2020        143015.0       45234.0          13576.0          122951.0   \n2021        168088.0       56118.0          14224.0          116032.0   \n2022        198270.0       65149.0          13931.0           90818.0   \n2023        211915.0       59475.0          34704.0           76552.0   \n2024        245122.0       74071.0          18315.0           57216.0   \n\n            TreasuryStock  CashForDividends  StockIssuance  StockRepurchase  \nFiscalYear                                                                   \n1985                  0.0               0.0            0.0              0.0  \n1986                  0.0               0.0            0.0              0.0  \n1987                  0.0               0.0            0.0              0.0  \n1988                  0.0               0.0            0.0              0.0  \n1989                  0.0               0.0            6.3              0.0  \n1990                  0.0               0.0          109.8            -46.7  \n1991                  0.0               0.0          179.7           -197.0  \n1992                  0.0               0.0          265.1           -135.0  \n1993                  0.0               0.0          436.0           -250.0  \n1994                  0.0               0.0          431.0           -348.0  \n1995                  0.0               0.0          332.0           -649.0  \n1996                  0.0               0.0          504.0          -1261.0  \n1997                  0.0             -15.0         1819.0          -3101.0  \n1998                  0.0             -28.0         1497.0          -2468.0  \n1999                  0.0             -28.0         2116.0          -2950.0  \n2000                  0.0             -13.0         2717.0          -4896.0  \n2001                  0.0               0.0         1620.0          -7441.0  \n2002                  0.0               0.0         1497.0          -6069.0  \n2003                  0.0            -857.0         2120.0          -6486.0  \n2004                  0.0           -1729.0         2748.0          -3383.0  \n2005                  0.0          -36112.0         3109.0          -8057.0  \n2006                  0.0           -3545.0         2101.0         -19207.0  \n2007                  0.0           -3805.0         6782.0         -27575.0  \n2008                  0.0           -4015.0         3494.0         -12533.0  \n2009                  0.0           -4468.0          579.0          -9353.0  \n2010                  0.0           -4578.0         2311.0         -11269.0  \n2011                  0.0           -5180.0         2422.0         -11555.0  \n2012                  0.0           -6385.0         1913.0          -5029.0  \n2013                  0.0           -7455.0          931.0          -5360.0  \n2014                  0.0           -8879.0          607.0          -7316.0  \n2015                  0.0           -9882.0          634.0         -14443.0  \n2016                  0.0          -11006.0          668.0         -15969.0  \n2017                  0.0          -11845.0          772.0         -11788.0  \n2018                  0.0          -12699.0         1002.0         -10721.0  \n2019                  0.0          -13811.0         1142.0         -19543.0  \n2020                  0.0          -15137.0         1343.0         -22968.0  \n2021                  0.0          -16521.0         1693.0         -27385.0  \n2022                  0.0          -18135.0         1841.0         -32696.0  \n2023                  0.0          -19800.0         1866.0         -22245.0  \n2024                  0.0          -21771.0         2002.0         -17254.0  ",
      "text/html": "<div>\n<style scoped>\n    .dataframe tbody tr th:only-of-type {\n        vertical-align: middle;\n    }\n\n    .dataframe tbody tr th {\n        vertical-align: top;\n    }\n\n    .dataframe thead th {\n        text-align: right;\n    }\n</style>\n<table border=\"1\" class=\"dataframe\">\n  <thead>\n    <tr style=\"text-align: right;\">\n      <th></th>\n      <th>Revenue</th>\n      <th>FreeCashFlow</th>\n      <th>CashEquivalents</th>\n      <th>MarketSecurities</th>\n      <th>TreasuryStock</th>\n      <th>CashForDividends</th>\n      <th>StockIssuance</th>\n      <th>StockRepurchase</th>\n    </tr>\n    <tr>\n      <th>FiscalYear</th>\n      <th></th>\n      <th></th>\n      <th></th>\n      <th></th>\n      <th></th>\n      <th></th>\n      <th></th>\n      <th></th>\n    </tr>\n  </thead>\n  <tbody>\n    <tr>\n      <th>1985</th>\n      <td>140.4</td>\n      <td>0.0</td>\n      <td>18.9</td>\n      <td>0.0</td>\n      <td>0.0</td>\n      <td>0.0</td>\n      <td>0.0</td>\n      <td>0.0</td>\n    </tr>\n    <tr>\n      <th>1986</th>\n      <td>197.5</td>\n      <td>0.0</td>\n      <td>102.7</td>\n      <td>0.0</td>\n      <td>0.0</td>\n      <td>0.0</td>\n      <td>0.0</td>\n      <td>0.0</td>\n    </tr>\n    <tr>\n      <th>1987</th>\n      <td>345.9</td>\n      <td>0.0</td>\n      <td>132.5</td>\n      <td>0.0</td>\n      <td>0.0</td>\n      <td>0.0</td>\n      <td>0.0</td>\n      <td>0.0</td>\n    </tr>\n    <tr>\n      <th>1988</th>\n      <td>590.8</td>\n      <td>0.0</td>\n      <td>183.2</td>\n      <td>0.0</td>\n      <td>0.0</td>\n      <td>0.0</td>\n      <td>0.0</td>\n      <td>0.0</td>\n    </tr>\n    <tr>\n      <th>1989</th>\n      <td>803.5</td>\n      <td>133.1</td>\n      <td>192.4</td>\n      <td>0.0</td>\n      <td>0.0</td>\n      <td>0.0</td>\n      <td>6.3</td>\n      <td>0.0</td>\n    </tr>\n    <tr>\n      <th>1990</th>\n      <td>1183.4</td>\n      <td>120.2</td>\n      <td>246.3</td>\n      <td>0.0</td>\n      <td>0.0</td>\n      <td>0.0</td>\n      <td>109.8</td>\n      <td>-46.7</td>\n    </tr>\n    <tr>\n      <th>1991</th>\n      <td>1843.4</td>\n      <td>293.5</td>\n      <td>417.2</td>\n      <td>0.0</td>\n      <td>0.0</td>\n      <td>0.0</td>\n      <td>179.7</td>\n      <td>-197.0</td>\n    </tr>\n    <tr>\n      <th>1992</th>\n      <td>2758.7</td>\n      <td>590.4</td>\n      <td>791.4</td>\n      <td>0.0</td>\n      <td>0.0</td>\n      <td>0.0</td>\n      <td>265.1</td>\n      <td>-135.0</td>\n    </tr>\n    <tr>\n      <th>1993</th>\n      <td>3753.0</td>\n      <td>838.0</td>\n      <td>1013.0</td>\n      <td>0.0</td>\n      <td>0.0</td>\n      <td>0.0</td>\n      <td>436.0</td>\n      <td>-250.0</td>\n    </tr>\n    <tr>\n      <th>1994</th>\n      <td>4649.0</td>\n      <td>1315.0</td>\n      <td>1477.0</td>\n      <td>0.0</td>\n      <td>0.0</td>\n      <td>0.0</td>\n      <td>431.0</td>\n      <td>-348.0</td>\n    </tr>\n    <tr>\n      <th>1995</th>\n      <td>5937.0</td>\n      <td>1495.0</td>\n      <td>1962.0</td>\n      <td>0.0</td>\n      <td>0.0</td>\n      <td>0.0</td>\n      <td>332.0</td>\n      <td>-649.0</td>\n    </tr>\n    <tr>\n      <th>1996</th>\n      <td>8671.0</td>\n      <td>3225.0</td>\n      <td>2601.0</td>\n      <td>0.0</td>\n      <td>0.0</td>\n      <td>0.0</td>\n      <td>504.0</td>\n      <td>-1261.0</td>\n    </tr>\n    <tr>\n      <th>1997</th>\n      <td>11936.0</td>\n      <td>4190.0</td>\n      <td>3706.0</td>\n      <td>0.0</td>\n      <td>0.0</td>\n      <td>-15.0</td>\n      <td>1819.0</td>\n      <td>-3101.0</td>\n    </tr>\n    <tr>\n      <th>1998</th>\n      <td>15262.0</td>\n      <td>7587.0</td>\n      <td>3839.0</td>\n      <td>0.0</td>\n      <td>0.0</td>\n      <td>-28.0</td>\n      <td>1497.0</td>\n      <td>-2468.0</td>\n    </tr>\n    <tr>\n      <th>1999</th>\n      <td>19747.0</td>\n      <td>12554.0</td>\n      <td>4975.0</td>\n      <td>12261.0</td>\n      <td>0.0</td>\n      <td>-28.0</td>\n      <td>2116.0</td>\n      <td>-2950.0</td>\n    </tr>\n    <tr>\n      <th>2000</th>\n      <td>22956.0</td>\n      <td>10547.0</td>\n      <td>4846.0</td>\n      <td>18952.0</td>\n      <td>0.0</td>\n      <td>-13.0</td>\n      <td>2717.0</td>\n      <td>-4896.0</td>\n    </tr>\n    <tr>\n      <th>2001</th>\n      <td>25296.0</td>\n      <td>12319.0</td>\n      <td>3922.0</td>\n      <td>27678.0</td>\n      <td>0.0</td>\n      <td>0.0</td>\n      <td>1620.0</td>\n      <td>-7441.0</td>\n    </tr>\n    <tr>\n      <th>2002</th>\n      <td>28365.0</td>\n      <td>13739.0</td>\n      <td>3016.0</td>\n      <td>35636.0</td>\n      <td>0.0</td>\n      <td>0.0</td>\n      <td>1497.0</td>\n      <td>-6069.0</td>\n    </tr>\n    <tr>\n      <th>2003</th>\n      <td>32187.0</td>\n      <td>14906.0</td>\n      <td>6438.0</td>\n      <td>42610.0</td>\n      <td>0.0</td>\n      <td>-857.0</td>\n      <td>2120.0</td>\n      <td>-6486.0</td>\n    </tr>\n    <tr>\n      <th>2004</th>\n      <td>36835.0</td>\n      <td>13517.0</td>\n      <td>14304.0</td>\n      <td>46288.0</td>\n      <td>0.0</td>\n      <td>-1729.0</td>\n      <td>2748.0</td>\n      <td>-3383.0</td>\n    </tr>\n    <tr>\n      <th>2005</th>\n      <td>39788.0</td>\n      <td>15793.0</td>\n      <td>4851.0</td>\n      <td>32900.0</td>\n      <td>0.0</td>\n      <td>-36112.0</td>\n      <td>3109.0</td>\n      <td>-8057.0</td>\n    </tr>\n    <tr>\n      <th>2006</th>\n      <td>44282.0</td>\n      <td>12826.0</td>\n      <td>6714.0</td>\n      <td>27447.0</td>\n      <td>0.0</td>\n      <td>-3545.0</td>\n      <td>2101.0</td>\n      <td>-19207.0</td>\n    </tr>\n    <tr>\n      <th>2007</th>\n      <td>51122.0</td>\n      <td>15532.0</td>\n      <td>6111.0</td>\n      <td>17300.0</td>\n      <td>0.0</td>\n      <td>-3805.0</td>\n      <td>6782.0</td>\n      <td>-27575.0</td>\n    </tr>\n    <tr>\n      <th>2008</th>\n      <td>60420.0</td>\n      <td>18430.0</td>\n      <td>10339.0</td>\n      <td>13323.0</td>\n      <td>0.0</td>\n      <td>-4015.0</td>\n      <td>3494.0</td>\n      <td>-12533.0</td>\n    </tr>\n    <tr>\n      <th>2009</th>\n      <td>58437.0</td>\n      <td>15918.0</td>\n      <td>6076.0</td>\n      <td>25371.0</td>\n      <td>0.0</td>\n      <td>-4468.0</td>\n      <td>579.0</td>\n      <td>-9353.0</td>\n    </tr>\n    <tr>\n      <th>2010</th>\n      <td>62484.0</td>\n      <td>22096.0</td>\n      <td>5505.0</td>\n      <td>31283.0</td>\n      <td>0.0</td>\n      <td>-4578.0</td>\n      <td>2311.0</td>\n      <td>-11269.0</td>\n    </tr>\n    <tr>\n      <th>2011</th>\n      <td>69943.0</td>\n      <td>24639.0</td>\n      <td>9610.0</td>\n      <td>43162.0</td>\n      <td>0.0</td>\n      <td>-5180.0</td>\n      <td>2422.0</td>\n      <td>-11555.0</td>\n    </tr>\n    <tr>\n      <th>2012</th>\n      <td>73723.0</td>\n      <td>29321.0</td>\n      <td>6938.0</td>\n      <td>56102.0</td>\n      <td>0.0</td>\n      <td>-6385.0</td>\n      <td>1913.0</td>\n      <td>-5029.0</td>\n    </tr>\n    <tr>\n      <th>2013</th>\n      <td>77849.0</td>\n      <td>24576.0</td>\n      <td>3804.0</td>\n      <td>73218.0</td>\n      <td>0.0</td>\n      <td>-7455.0</td>\n      <td>931.0</td>\n      <td>-5360.0</td>\n    </tr>\n    <tr>\n      <th>2014</th>\n      <td>86833.0</td>\n      <td>27017.0</td>\n      <td>8669.0</td>\n      <td>77040.0</td>\n      <td>0.0</td>\n      <td>-8879.0</td>\n      <td>607.0</td>\n      <td>-7316.0</td>\n    </tr>\n    <tr>\n      <th>2015</th>\n      <td>93580.0</td>\n      <td>23724.0</td>\n      <td>5595.0</td>\n      <td>90931.0</td>\n      <td>0.0</td>\n      <td>-9882.0</td>\n      <td>634.0</td>\n      <td>-14443.0</td>\n    </tr>\n    <tr>\n      <th>2016</th>\n      <td>91154.0</td>\n      <td>24982.0</td>\n      <td>6510.0</td>\n      <td>106730.0</td>\n      <td>0.0</td>\n      <td>-11006.0</td>\n      <td>668.0</td>\n      <td>-15969.0</td>\n    </tr>\n    <tr>\n      <th>2017</th>\n      <td>96571.0</td>\n      <td>31378.0</td>\n      <td>7663.0</td>\n      <td>125318.0</td>\n      <td>0.0</td>\n      <td>-11845.0</td>\n      <td>772.0</td>\n      <td>-11788.0</td>\n    </tr>\n    <tr>\n      <th>2018</th>\n      <td>110360.0</td>\n      <td>32252.0</td>\n      <td>11946.0</td>\n      <td>121822.0</td>\n      <td>0.0</td>\n      <td>-12699.0</td>\n      <td>1002.0</td>\n      <td>-10721.0</td>\n    </tr>\n    <tr>\n      <th>2019</th>\n      <td>125843.0</td>\n      <td>38260.0</td>\n      <td>11356.0</td>\n      <td>122463.0</td>\n      <td>0.0</td>\n      <td>-13811.0</td>\n      <td>1142.0</td>\n      <td>-19543.0</td>\n    </tr>\n    <tr>\n      <th>2020</th>\n      <td>143015.0</td>\n      <td>45234.0</td>\n      <td>13576.0</td>\n      <td>122951.0</td>\n      <td>0.0</td>\n      <td>-15137.0</td>\n      <td>1343.0</td>\n      <td>-22968.0</td>\n    </tr>\n    <tr>\n      <th>2021</th>\n      <td>168088.0</td>\n      <td>56118.0</td>\n      <td>14224.0</td>\n      <td>116032.0</td>\n      <td>0.0</td>\n      <td>-16521.0</td>\n      <td>1693.0</td>\n      <td>-27385.0</td>\n    </tr>\n    <tr>\n      <th>2022</th>\n      <td>198270.0</td>\n      <td>65149.0</td>\n      <td>13931.0</td>\n      <td>90818.0</td>\n      <td>0.0</td>\n      <td>-18135.0</td>\n      <td>1841.0</td>\n      <td>-32696.0</td>\n    </tr>\n    <tr>\n      <th>2023</th>\n      <td>211915.0</td>\n      <td>59475.0</td>\n      <td>34704.0</td>\n      <td>76552.0</td>\n      <td>0.0</td>\n      <td>-19800.0</td>\n      <td>1866.0</td>\n      <td>-22245.0</td>\n    </tr>\n    <tr>\n      <th>2024</th>\n      <td>245122.0</td>\n      <td>74071.0</td>\n      <td>18315.0</td>\n      <td>57216.0</td>\n      <td>0.0</td>\n      <td>-21771.0</td>\n      <td>2002.0</td>\n      <td>-17254.0</td>\n    </tr>\n  </tbody>\n</table>\n</div>"
     },
     "execution_count": 2,
     "metadata": {},
     "output_type": "execute_result"
    }
   ],
   "source": [
    "owner_df = pd.read_csv(Owner_Data_Fy,index_col='FiscalYear')\n",
    "\n",
    "owner_df"
   ],
   "metadata": {
    "collapsed": false,
    "pycharm": {
     "name": "#%%\n"
    }
   }
  },
  {
   "cell_type": "markdown",
   "source": [
    "# Owner Returns"
   ],
   "metadata": {
    "collapsed": false,
    "pycharm": {
     "name": "#%% md\n"
    }
   }
  },
  {
   "cell_type": "code",
   "execution_count": 3,
   "outputs": [
    {
     "name": "stderr",
     "output_type": "stream",
     "text": [
      "/var/folders/j5/3jkv197574n0l3hvczkvmbw00000gn/T/ipykernel_91937/683626880.py:2: SettingWithCopyWarning: \n",
      "A value is trying to be set on a copy of a slice from a DataFrame.\n",
      "Try using .loc[row_indexer,col_indexer] = value instead\n",
      "\n",
      "See the caveats in the documentation: https://pandas.pydata.org/pandas-docs/stable/user_guide/indexing.html#returning-a-view-versus-a-copy\n",
      "  or_df['CashForDividends'] = or_df['CashForDividends'].abs()\n",
      "/var/folders/j5/3jkv197574n0l3hvczkvmbw00000gn/T/ipykernel_91937/683626880.py:3: SettingWithCopyWarning: \n",
      "A value is trying to be set on a copy of a slice from a DataFrame.\n",
      "Try using .loc[row_indexer,col_indexer] = value instead\n",
      "\n",
      "See the caveats in the documentation: https://pandas.pydata.org/pandas-docs/stable/user_guide/indexing.html#returning-a-view-versus-a-copy\n",
      "  or_df['StockNet'] = or_df['StockIssuance'] + or_df['StockRepurchase']\n",
      "/var/folders/j5/3jkv197574n0l3hvczkvmbw00000gn/T/ipykernel_91937/683626880.py:4: SettingWithCopyWarning: \n",
      "A value is trying to be set on a copy of a slice from a DataFrame.\n",
      "Try using .loc[row_indexer,col_indexer] = value instead\n",
      "\n",
      "See the caveats in the documentation: https://pandas.pydata.org/pandas-docs/stable/user_guide/indexing.html#returning-a-view-versus-a-copy\n",
      "  or_df['OwnerReturn'] = or_df['CashForDividends'] - or_df['StockNet']\n"
     ]
    },
    {
     "data": {
      "text/plain": "             Revenue  FreeCashFlow  CashForDividends  StockNet  OwnerReturn  \\\nFiscalYear                                                                    \n1985           140.4           0.0               0.0       0.0          0.0   \n1986           197.5           0.0               0.0       0.0          0.0   \n1987           345.9           0.0               0.0       0.0          0.0   \n1988           590.8           0.0               0.0       0.0          0.0   \n1989           803.5         133.1               0.0       6.3         -6.3   \n1990          1183.4         120.2               0.0      63.1        -63.1   \n1991          1843.4         293.5               0.0     -17.3         17.3   \n1992          2758.7         590.4               0.0     130.1       -130.1   \n1993          3753.0         838.0               0.0     186.0       -186.0   \n1994          4649.0        1315.0               0.0      83.0        -83.0   \n1995          5937.0        1495.0               0.0    -317.0        317.0   \n1996          8671.0        3225.0               0.0    -757.0        757.0   \n1997         11936.0        4190.0              15.0   -1282.0       1297.0   \n1998         15262.0        7587.0              28.0    -971.0        999.0   \n1999         19747.0       12554.0              28.0    -834.0        862.0   \n2000         22956.0       10547.0              13.0   -2179.0       2192.0   \n2001         25296.0       12319.0               0.0   -5821.0       5821.0   \n2002         28365.0       13739.0               0.0   -4572.0       4572.0   \n2003         32187.0       14906.0             857.0   -4366.0       5223.0   \n2004         36835.0       13517.0            1729.0    -635.0       2364.0   \n2005         39788.0       15793.0           36112.0   -4948.0      41060.0   \n2006         44282.0       12826.0            3545.0  -17106.0      20651.0   \n2007         51122.0       15532.0            3805.0  -20793.0      24598.0   \n2008         60420.0       18430.0            4015.0   -9039.0      13054.0   \n2009         58437.0       15918.0            4468.0   -8774.0      13242.0   \n2010         62484.0       22096.0            4578.0   -8958.0      13536.0   \n2011         69943.0       24639.0            5180.0   -9133.0      14313.0   \n2012         73723.0       29321.0            6385.0   -3116.0       9501.0   \n2013         77849.0       24576.0            7455.0   -4429.0      11884.0   \n2014         86833.0       27017.0            8879.0   -6709.0      15588.0   \n2015         93580.0       23724.0            9882.0  -13809.0      23691.0   \n2016         91154.0       24982.0           11006.0  -15301.0      26307.0   \n2017         96571.0       31378.0           11845.0  -11016.0      22861.0   \n2018        110360.0       32252.0           12699.0   -9719.0      22418.0   \n2019        125843.0       38260.0           13811.0  -18401.0      32212.0   \n2020        143015.0       45234.0           15137.0  -21625.0      36762.0   \n2021        168088.0       56118.0           16521.0  -25692.0      42213.0   \n2022        198270.0       65149.0           18135.0  -30855.0      48990.0   \n2023        211915.0       59475.0           19800.0  -20379.0      40179.0   \n2024        245122.0       74071.0           21771.0  -15252.0      37023.0   \n\n            OwnerMargin  FcfCoverage  \nFiscalYear                            \n1985               0.00          NaN  \n1986               0.00          NaN  \n1987               0.00          NaN  \n1988               0.00          NaN  \n1989              -0.01        -0.05  \n1990              -0.05        -0.52  \n1991               0.01         0.06  \n1992              -0.05        -0.22  \n1993              -0.05        -0.22  \n1994              -0.02        -0.06  \n1995               0.05         0.21  \n1996               0.09         0.23  \n1997               0.11         0.31  \n1998               0.07         0.13  \n1999               0.04         0.07  \n2000               0.10         0.21  \n2001               0.23         0.47  \n2002               0.16         0.33  \n2003               0.16         0.35  \n2004               0.06         0.17  \n2005               1.03         2.60  \n2006               0.47         1.61  \n2007               0.48         1.58  \n2008               0.22         0.71  \n2009               0.23         0.83  \n2010               0.22         0.61  \n2011               0.20         0.58  \n2012               0.13         0.32  \n2013               0.15         0.48  \n2014               0.18         0.58  \n2015               0.25         1.00  \n2016               0.29         1.05  \n2017               0.24         0.73  \n2018               0.20         0.70  \n2019               0.26         0.84  \n2020               0.26         0.81  \n2021               0.25         0.75  \n2022               0.25         0.75  \n2023               0.19         0.68  \n2024               0.15         0.50  ",
      "text/html": "<div>\n<style scoped>\n    .dataframe tbody tr th:only-of-type {\n        vertical-align: middle;\n    }\n\n    .dataframe tbody tr th {\n        vertical-align: top;\n    }\n\n    .dataframe thead th {\n        text-align: right;\n    }\n</style>\n<table border=\"1\" class=\"dataframe\">\n  <thead>\n    <tr style=\"text-align: right;\">\n      <th></th>\n      <th>Revenue</th>\n      <th>FreeCashFlow</th>\n      <th>CashForDividends</th>\n      <th>StockNet</th>\n      <th>OwnerReturn</th>\n      <th>OwnerMargin</th>\n      <th>FcfCoverage</th>\n    </tr>\n    <tr>\n      <th>FiscalYear</th>\n      <th></th>\n      <th></th>\n      <th></th>\n      <th></th>\n      <th></th>\n      <th></th>\n      <th></th>\n    </tr>\n  </thead>\n  <tbody>\n    <tr>\n      <th>1985</th>\n      <td>140.4</td>\n      <td>0.0</td>\n      <td>0.0</td>\n      <td>0.0</td>\n      <td>0.0</td>\n      <td>0.00</td>\n      <td>NaN</td>\n    </tr>\n    <tr>\n      <th>1986</th>\n      <td>197.5</td>\n      <td>0.0</td>\n      <td>0.0</td>\n      <td>0.0</td>\n      <td>0.0</td>\n      <td>0.00</td>\n      <td>NaN</td>\n    </tr>\n    <tr>\n      <th>1987</th>\n      <td>345.9</td>\n      <td>0.0</td>\n      <td>0.0</td>\n      <td>0.0</td>\n      <td>0.0</td>\n      <td>0.00</td>\n      <td>NaN</td>\n    </tr>\n    <tr>\n      <th>1988</th>\n      <td>590.8</td>\n      <td>0.0</td>\n      <td>0.0</td>\n      <td>0.0</td>\n      <td>0.0</td>\n      <td>0.00</td>\n      <td>NaN</td>\n    </tr>\n    <tr>\n      <th>1989</th>\n      <td>803.5</td>\n      <td>133.1</td>\n      <td>0.0</td>\n      <td>6.3</td>\n      <td>-6.3</td>\n      <td>-0.01</td>\n      <td>-0.05</td>\n    </tr>\n    <tr>\n      <th>1990</th>\n      <td>1183.4</td>\n      <td>120.2</td>\n      <td>0.0</td>\n      <td>63.1</td>\n      <td>-63.1</td>\n      <td>-0.05</td>\n      <td>-0.52</td>\n    </tr>\n    <tr>\n      <th>1991</th>\n      <td>1843.4</td>\n      <td>293.5</td>\n      <td>0.0</td>\n      <td>-17.3</td>\n      <td>17.3</td>\n      <td>0.01</td>\n      <td>0.06</td>\n    </tr>\n    <tr>\n      <th>1992</th>\n      <td>2758.7</td>\n      <td>590.4</td>\n      <td>0.0</td>\n      <td>130.1</td>\n      <td>-130.1</td>\n      <td>-0.05</td>\n      <td>-0.22</td>\n    </tr>\n    <tr>\n      <th>1993</th>\n      <td>3753.0</td>\n      <td>838.0</td>\n      <td>0.0</td>\n      <td>186.0</td>\n      <td>-186.0</td>\n      <td>-0.05</td>\n      <td>-0.22</td>\n    </tr>\n    <tr>\n      <th>1994</th>\n      <td>4649.0</td>\n      <td>1315.0</td>\n      <td>0.0</td>\n      <td>83.0</td>\n      <td>-83.0</td>\n      <td>-0.02</td>\n      <td>-0.06</td>\n    </tr>\n    <tr>\n      <th>1995</th>\n      <td>5937.0</td>\n      <td>1495.0</td>\n      <td>0.0</td>\n      <td>-317.0</td>\n      <td>317.0</td>\n      <td>0.05</td>\n      <td>0.21</td>\n    </tr>\n    <tr>\n      <th>1996</th>\n      <td>8671.0</td>\n      <td>3225.0</td>\n      <td>0.0</td>\n      <td>-757.0</td>\n      <td>757.0</td>\n      <td>0.09</td>\n      <td>0.23</td>\n    </tr>\n    <tr>\n      <th>1997</th>\n      <td>11936.0</td>\n      <td>4190.0</td>\n      <td>15.0</td>\n      <td>-1282.0</td>\n      <td>1297.0</td>\n      <td>0.11</td>\n      <td>0.31</td>\n    </tr>\n    <tr>\n      <th>1998</th>\n      <td>15262.0</td>\n      <td>7587.0</td>\n      <td>28.0</td>\n      <td>-971.0</td>\n      <td>999.0</td>\n      <td>0.07</td>\n      <td>0.13</td>\n    </tr>\n    <tr>\n      <th>1999</th>\n      <td>19747.0</td>\n      <td>12554.0</td>\n      <td>28.0</td>\n      <td>-834.0</td>\n      <td>862.0</td>\n      <td>0.04</td>\n      <td>0.07</td>\n    </tr>\n    <tr>\n      <th>2000</th>\n      <td>22956.0</td>\n      <td>10547.0</td>\n      <td>13.0</td>\n      <td>-2179.0</td>\n      <td>2192.0</td>\n      <td>0.10</td>\n      <td>0.21</td>\n    </tr>\n    <tr>\n      <th>2001</th>\n      <td>25296.0</td>\n      <td>12319.0</td>\n      <td>0.0</td>\n      <td>-5821.0</td>\n      <td>5821.0</td>\n      <td>0.23</td>\n      <td>0.47</td>\n    </tr>\n    <tr>\n      <th>2002</th>\n      <td>28365.0</td>\n      <td>13739.0</td>\n      <td>0.0</td>\n      <td>-4572.0</td>\n      <td>4572.0</td>\n      <td>0.16</td>\n      <td>0.33</td>\n    </tr>\n    <tr>\n      <th>2003</th>\n      <td>32187.0</td>\n      <td>14906.0</td>\n      <td>857.0</td>\n      <td>-4366.0</td>\n      <td>5223.0</td>\n      <td>0.16</td>\n      <td>0.35</td>\n    </tr>\n    <tr>\n      <th>2004</th>\n      <td>36835.0</td>\n      <td>13517.0</td>\n      <td>1729.0</td>\n      <td>-635.0</td>\n      <td>2364.0</td>\n      <td>0.06</td>\n      <td>0.17</td>\n    </tr>\n    <tr>\n      <th>2005</th>\n      <td>39788.0</td>\n      <td>15793.0</td>\n      <td>36112.0</td>\n      <td>-4948.0</td>\n      <td>41060.0</td>\n      <td>1.03</td>\n      <td>2.60</td>\n    </tr>\n    <tr>\n      <th>2006</th>\n      <td>44282.0</td>\n      <td>12826.0</td>\n      <td>3545.0</td>\n      <td>-17106.0</td>\n      <td>20651.0</td>\n      <td>0.47</td>\n      <td>1.61</td>\n    </tr>\n    <tr>\n      <th>2007</th>\n      <td>51122.0</td>\n      <td>15532.0</td>\n      <td>3805.0</td>\n      <td>-20793.0</td>\n      <td>24598.0</td>\n      <td>0.48</td>\n      <td>1.58</td>\n    </tr>\n    <tr>\n      <th>2008</th>\n      <td>60420.0</td>\n      <td>18430.0</td>\n      <td>4015.0</td>\n      <td>-9039.0</td>\n      <td>13054.0</td>\n      <td>0.22</td>\n      <td>0.71</td>\n    </tr>\n    <tr>\n      <th>2009</th>\n      <td>58437.0</td>\n      <td>15918.0</td>\n      <td>4468.0</td>\n      <td>-8774.0</td>\n      <td>13242.0</td>\n      <td>0.23</td>\n      <td>0.83</td>\n    </tr>\n    <tr>\n      <th>2010</th>\n      <td>62484.0</td>\n      <td>22096.0</td>\n      <td>4578.0</td>\n      <td>-8958.0</td>\n      <td>13536.0</td>\n      <td>0.22</td>\n      <td>0.61</td>\n    </tr>\n    <tr>\n      <th>2011</th>\n      <td>69943.0</td>\n      <td>24639.0</td>\n      <td>5180.0</td>\n      <td>-9133.0</td>\n      <td>14313.0</td>\n      <td>0.20</td>\n      <td>0.58</td>\n    </tr>\n    <tr>\n      <th>2012</th>\n      <td>73723.0</td>\n      <td>29321.0</td>\n      <td>6385.0</td>\n      <td>-3116.0</td>\n      <td>9501.0</td>\n      <td>0.13</td>\n      <td>0.32</td>\n    </tr>\n    <tr>\n      <th>2013</th>\n      <td>77849.0</td>\n      <td>24576.0</td>\n      <td>7455.0</td>\n      <td>-4429.0</td>\n      <td>11884.0</td>\n      <td>0.15</td>\n      <td>0.48</td>\n    </tr>\n    <tr>\n      <th>2014</th>\n      <td>86833.0</td>\n      <td>27017.0</td>\n      <td>8879.0</td>\n      <td>-6709.0</td>\n      <td>15588.0</td>\n      <td>0.18</td>\n      <td>0.58</td>\n    </tr>\n    <tr>\n      <th>2015</th>\n      <td>93580.0</td>\n      <td>23724.0</td>\n      <td>9882.0</td>\n      <td>-13809.0</td>\n      <td>23691.0</td>\n      <td>0.25</td>\n      <td>1.00</td>\n    </tr>\n    <tr>\n      <th>2016</th>\n      <td>91154.0</td>\n      <td>24982.0</td>\n      <td>11006.0</td>\n      <td>-15301.0</td>\n      <td>26307.0</td>\n      <td>0.29</td>\n      <td>1.05</td>\n    </tr>\n    <tr>\n      <th>2017</th>\n      <td>96571.0</td>\n      <td>31378.0</td>\n      <td>11845.0</td>\n      <td>-11016.0</td>\n      <td>22861.0</td>\n      <td>0.24</td>\n      <td>0.73</td>\n    </tr>\n    <tr>\n      <th>2018</th>\n      <td>110360.0</td>\n      <td>32252.0</td>\n      <td>12699.0</td>\n      <td>-9719.0</td>\n      <td>22418.0</td>\n      <td>0.20</td>\n      <td>0.70</td>\n    </tr>\n    <tr>\n      <th>2019</th>\n      <td>125843.0</td>\n      <td>38260.0</td>\n      <td>13811.0</td>\n      <td>-18401.0</td>\n      <td>32212.0</td>\n      <td>0.26</td>\n      <td>0.84</td>\n    </tr>\n    <tr>\n      <th>2020</th>\n      <td>143015.0</td>\n      <td>45234.0</td>\n      <td>15137.0</td>\n      <td>-21625.0</td>\n      <td>36762.0</td>\n      <td>0.26</td>\n      <td>0.81</td>\n    </tr>\n    <tr>\n      <th>2021</th>\n      <td>168088.0</td>\n      <td>56118.0</td>\n      <td>16521.0</td>\n      <td>-25692.0</td>\n      <td>42213.0</td>\n      <td>0.25</td>\n      <td>0.75</td>\n    </tr>\n    <tr>\n      <th>2022</th>\n      <td>198270.0</td>\n      <td>65149.0</td>\n      <td>18135.0</td>\n      <td>-30855.0</td>\n      <td>48990.0</td>\n      <td>0.25</td>\n      <td>0.75</td>\n    </tr>\n    <tr>\n      <th>2023</th>\n      <td>211915.0</td>\n      <td>59475.0</td>\n      <td>19800.0</td>\n      <td>-20379.0</td>\n      <td>40179.0</td>\n      <td>0.19</td>\n      <td>0.68</td>\n    </tr>\n    <tr>\n      <th>2024</th>\n      <td>245122.0</td>\n      <td>74071.0</td>\n      <td>21771.0</td>\n      <td>-15252.0</td>\n      <td>37023.0</td>\n      <td>0.15</td>\n      <td>0.50</td>\n    </tr>\n  </tbody>\n</table>\n</div>"
     },
     "execution_count": 3,
     "metadata": {},
     "output_type": "execute_result"
    }
   ],
   "source": [
    "or_df = owner_df[['Revenue', 'FreeCashFlow', 'CashForDividends', 'StockIssuance', 'StockRepurchase']]\n",
    "or_df['CashForDividends'] = or_df['CashForDividends'].abs()\n",
    "or_df['StockNet'] = or_df['StockIssuance'] + or_df['StockRepurchase']\n",
    "or_df['OwnerReturn'] = or_df['CashForDividends'] - or_df['StockNet']\n",
    "or_df = or_df.drop('StockIssuance', axis=1)\n",
    "or_df = or_df.drop('StockRepurchase', axis=1)\n",
    "or_df['OwnerMargin'] = round(or_df['OwnerReturn'] / or_df['Revenue'], 2)\n",
    "or_df['FcfCoverage'] = round(or_df['OwnerReturn'] / or_df['FreeCashFlow'] , 2)\n",
    "\n",
    "or_df"
   ],
   "metadata": {
    "collapsed": false,
    "pycharm": {
     "name": "#%%\n"
    }
   }
  },
  {
   "cell_type": "code",
   "execution_count": 3,
   "outputs": [],
   "source": [],
   "metadata": {
    "collapsed": false,
    "pycharm": {
     "name": "#%%\n"
    }
   }
  }
 ],
 "metadata": {
  "kernelspec": {
   "display_name": "Python 3",
   "language": "python",
   "name": "python3"
  },
  "language_info": {
   "codemirror_mode": {
    "name": "ipython",
    "version": 2
   },
   "file_extension": ".py",
   "mimetype": "text/x-python",
   "name": "python",
   "nbconvert_exporter": "python",
   "pygments_lexer": "ipython2",
   "version": "2.7.6"
  }
 },
 "nbformat": 4,
 "nbformat_minor": 0
}