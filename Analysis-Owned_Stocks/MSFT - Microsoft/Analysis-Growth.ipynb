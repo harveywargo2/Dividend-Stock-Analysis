{
 "cells": [
  {
   "cell_type": "markdown",
   "source": [
    "# Analysis Growth"
   ],
   "metadata": {
    "collapsed": false,
    "pycharm": {
     "name": "#%% md\n"
    }
   }
  },
  {
   "cell_type": "code",
   "execution_count": 1,
   "outputs": [],
   "source": [
    "import pandas as pd\n",
    "import datetime\n",
    "\n",
    "Grow_Data_Fy = 'Data_Growth_Fy-MSFT.csv'\n",
    "today = datetime.date.today()\n",
    "year10 = today.year - 11\n",
    "year5 = today.year - 6\n",
    "year3 = today.year - 4"
   ],
   "metadata": {
    "collapsed": false,
    "pycharm": {
     "name": "#%%\n"
    }
   }
  },
  {
   "cell_type": "markdown",
   "source": [
    "# Waterfall Analysis"
   ],
   "metadata": {
    "collapsed": false,
    "pycharm": {
     "name": "#%% md\n"
    }
   }
  },
  {
   "cell_type": "code",
   "execution_count": 2,
   "outputs": [
    {
     "data": {
      "text/plain": "             Revenue  CashEquivalents  MarketSecurities  SharesOutBasic  \\\nFiscalYear                                                                \n1985           140.4             18.9               0.0        7117.929   \n1986           197.5            102.7               0.0        7342.400   \n1987           345.9            132.5               0.0        7190.000   \n1988           590.8            183.2               0.0        6195.000   \n1989           803.5            192.4               0.0        6820.000   \n1990          1183.4            246.3               0.0        7977.143   \n1991          1843.4            417.2               0.0        8412.727   \n1992          2758.7            791.4               0.0        8851.250   \n1993          3753.0           1013.0               0.0        9530.000   \n1994          4649.0           1477.0               0.0        9760.000   \n1995          5937.0           1962.0               0.0       10032.000   \n1996          8671.0           2601.0               0.0        9340.426   \n1997         11936.0           3706.0               0.0        9552.778   \n1998         15262.0           3839.0               0.0        9728.000   \n1999         19747.0           4975.0           12261.0       10056.000   \n2000         22956.0           4846.0           18952.0       10334.000   \n2001         25296.0           3922.0           27678.0       10682.000   \n2002         28365.0           3016.0           35636.0       10811.000   \n2003         32187.0           6438.0           42610.0       10723.000   \n2004         36835.0          14304.0           46288.0       10803.000   \n2005         39788.0           4851.0           32900.0       10839.000   \n2006         44282.0           6714.0           27447.0       10438.000   \n2007         51122.0           6111.0           17300.0        9742.000   \n2008         60420.0          10339.0           13323.0        9328.000   \n2009         58437.0           6076.0           25371.0        8945.000   \n2010         62484.0           5505.0           31283.0        8813.000   \n2011         69943.0           9610.0           43162.0        8490.000   \n2012         73723.0           6938.0           56102.0        8396.000   \n2013         77849.0           3804.0           73218.0        8375.000   \n2014         86833.0           8669.0           77040.0        8299.000   \n2015         93580.0           5595.0           90931.0        8177.000   \n2016         91154.0           6510.0          106730.0        7925.000   \n2017         96571.0           7663.0          125318.0        7746.000   \n2018        110360.0          11946.0          121822.0        7700.000   \n2019        125843.0          11356.0          122463.0        7673.000   \n2020        143015.0          13576.0          122951.0        7610.000   \n2021        168088.0          14224.0          116032.0        7547.000   \n2022        198270.0          13931.0           90818.0        7496.000   \n2023        211915.0          34704.0           76552.0        7446.000   \n2024        245122.0          18315.0           57216.0        7431.000   \n\n            SharesOutDiluted  CashForDividends      Cash  \nFiscalYear                                                \n1985                7117.929               0.0      18.9  \n1986                7342.400               0.0     102.7  \n1987                7190.000               0.0     132.5  \n1988                6195.000               0.0     183.2  \n1989                6820.000               0.0     192.4  \n1990                7977.143               0.0     246.3  \n1991                8412.727               0.0     417.2  \n1992                8851.250               0.0     791.4  \n1993                9530.000               0.0    1013.0  \n1994                9760.000               0.0    1477.0  \n1995               10032.000               0.0    1962.0  \n1996               10209.302               0.0    2601.0  \n1997               10421.212             -15.0    3706.0  \n1998               10724.000             -28.0    3839.0  \n1999               10964.000             -28.0   17236.0  \n2000               11067.059             -13.0   23798.0  \n2001               11148.000               0.0   31600.0  \n2002               11106.000               0.0   38652.0  \n2003               10882.000            -857.0   49048.0  \n2004               10894.000           -1729.0   60592.0  \n2005               10906.000          -36112.0   37751.0  \n2006               10531.000           -3545.0   34161.0  \n2007                9886.000           -3805.0   23411.0  \n2008                9470.000           -4015.0   23662.0  \n2009                8996.000           -4468.0   31447.0  \n2010                8927.000           -4578.0   36788.0  \n2011                8593.000           -5180.0   52772.0  \n2012                8506.000           -6385.0   63040.0  \n2013                8470.000           -7455.0   77022.0  \n2014                8399.000           -8879.0   85709.0  \n2015                8254.000           -9882.0   96526.0  \n2016                8013.000          -11006.0  113240.0  \n2017                7832.000          -11845.0  132981.0  \n2018                7794.000          -12699.0  133768.0  \n2019                7753.000          -13811.0  133819.0  \n2020                7683.000          -15137.0  136527.0  \n2021                7608.000          -16521.0  130256.0  \n2022                7540.000          -18135.0  104749.0  \n2023                7472.000          -19800.0  111256.0  \n2024                7469.000          -21771.0   75531.0  ",
      "text/html": "<div>\n<style scoped>\n    .dataframe tbody tr th:only-of-type {\n        vertical-align: middle;\n    }\n\n    .dataframe tbody tr th {\n        vertical-align: top;\n    }\n\n    .dataframe thead th {\n        text-align: right;\n    }\n</style>\n<table border=\"1\" class=\"dataframe\">\n  <thead>\n    <tr style=\"text-align: right;\">\n      <th></th>\n      <th>Revenue</th>\n      <th>CashEquivalents</th>\n      <th>MarketSecurities</th>\n      <th>SharesOutBasic</th>\n      <th>SharesOutDiluted</th>\n      <th>CashForDividends</th>\n      <th>Cash</th>\n    </tr>\n    <tr>\n      <th>FiscalYear</th>\n      <th></th>\n      <th></th>\n      <th></th>\n      <th></th>\n      <th></th>\n      <th></th>\n      <th></th>\n    </tr>\n  </thead>\n  <tbody>\n    <tr>\n      <th>1985</th>\n      <td>140.4</td>\n      <td>18.9</td>\n      <td>0.0</td>\n      <td>7117.929</td>\n      <td>7117.929</td>\n      <td>0.0</td>\n      <td>18.9</td>\n    </tr>\n    <tr>\n      <th>1986</th>\n      <td>197.5</td>\n      <td>102.7</td>\n      <td>0.0</td>\n      <td>7342.400</td>\n      <td>7342.400</td>\n      <td>0.0</td>\n      <td>102.7</td>\n    </tr>\n    <tr>\n      <th>1987</th>\n      <td>345.9</td>\n      <td>132.5</td>\n      <td>0.0</td>\n      <td>7190.000</td>\n      <td>7190.000</td>\n      <td>0.0</td>\n      <td>132.5</td>\n    </tr>\n    <tr>\n      <th>1988</th>\n      <td>590.8</td>\n      <td>183.2</td>\n      <td>0.0</td>\n      <td>6195.000</td>\n      <td>6195.000</td>\n      <td>0.0</td>\n      <td>183.2</td>\n    </tr>\n    <tr>\n      <th>1989</th>\n      <td>803.5</td>\n      <td>192.4</td>\n      <td>0.0</td>\n      <td>6820.000</td>\n      <td>6820.000</td>\n      <td>0.0</td>\n      <td>192.4</td>\n    </tr>\n    <tr>\n      <th>1990</th>\n      <td>1183.4</td>\n      <td>246.3</td>\n      <td>0.0</td>\n      <td>7977.143</td>\n      <td>7977.143</td>\n      <td>0.0</td>\n      <td>246.3</td>\n    </tr>\n    <tr>\n      <th>1991</th>\n      <td>1843.4</td>\n      <td>417.2</td>\n      <td>0.0</td>\n      <td>8412.727</td>\n      <td>8412.727</td>\n      <td>0.0</td>\n      <td>417.2</td>\n    </tr>\n    <tr>\n      <th>1992</th>\n      <td>2758.7</td>\n      <td>791.4</td>\n      <td>0.0</td>\n      <td>8851.250</td>\n      <td>8851.250</td>\n      <td>0.0</td>\n      <td>791.4</td>\n    </tr>\n    <tr>\n      <th>1993</th>\n      <td>3753.0</td>\n      <td>1013.0</td>\n      <td>0.0</td>\n      <td>9530.000</td>\n      <td>9530.000</td>\n      <td>0.0</td>\n      <td>1013.0</td>\n    </tr>\n    <tr>\n      <th>1994</th>\n      <td>4649.0</td>\n      <td>1477.0</td>\n      <td>0.0</td>\n      <td>9760.000</td>\n      <td>9760.000</td>\n      <td>0.0</td>\n      <td>1477.0</td>\n    </tr>\n    <tr>\n      <th>1995</th>\n      <td>5937.0</td>\n      <td>1962.0</td>\n      <td>0.0</td>\n      <td>10032.000</td>\n      <td>10032.000</td>\n      <td>0.0</td>\n      <td>1962.0</td>\n    </tr>\n    <tr>\n      <th>1996</th>\n      <td>8671.0</td>\n      <td>2601.0</td>\n      <td>0.0</td>\n      <td>9340.426</td>\n      <td>10209.302</td>\n      <td>0.0</td>\n      <td>2601.0</td>\n    </tr>\n    <tr>\n      <th>1997</th>\n      <td>11936.0</td>\n      <td>3706.0</td>\n      <td>0.0</td>\n      <td>9552.778</td>\n      <td>10421.212</td>\n      <td>-15.0</td>\n      <td>3706.0</td>\n    </tr>\n    <tr>\n      <th>1998</th>\n      <td>15262.0</td>\n      <td>3839.0</td>\n      <td>0.0</td>\n      <td>9728.000</td>\n      <td>10724.000</td>\n      <td>-28.0</td>\n      <td>3839.0</td>\n    </tr>\n    <tr>\n      <th>1999</th>\n      <td>19747.0</td>\n      <td>4975.0</td>\n      <td>12261.0</td>\n      <td>10056.000</td>\n      <td>10964.000</td>\n      <td>-28.0</td>\n      <td>17236.0</td>\n    </tr>\n    <tr>\n      <th>2000</th>\n      <td>22956.0</td>\n      <td>4846.0</td>\n      <td>18952.0</td>\n      <td>10334.000</td>\n      <td>11067.059</td>\n      <td>-13.0</td>\n      <td>23798.0</td>\n    </tr>\n    <tr>\n      <th>2001</th>\n      <td>25296.0</td>\n      <td>3922.0</td>\n      <td>27678.0</td>\n      <td>10682.000</td>\n      <td>11148.000</td>\n      <td>0.0</td>\n      <td>31600.0</td>\n    </tr>\n    <tr>\n      <th>2002</th>\n      <td>28365.0</td>\n      <td>3016.0</td>\n      <td>35636.0</td>\n      <td>10811.000</td>\n      <td>11106.000</td>\n      <td>0.0</td>\n      <td>38652.0</td>\n    </tr>\n    <tr>\n      <th>2003</th>\n      <td>32187.0</td>\n      <td>6438.0</td>\n      <td>42610.0</td>\n      <td>10723.000</td>\n      <td>10882.000</td>\n      <td>-857.0</td>\n      <td>49048.0</td>\n    </tr>\n    <tr>\n      <th>2004</th>\n      <td>36835.0</td>\n      <td>14304.0</td>\n      <td>46288.0</td>\n      <td>10803.000</td>\n      <td>10894.000</td>\n      <td>-1729.0</td>\n      <td>60592.0</td>\n    </tr>\n    <tr>\n      <th>2005</th>\n      <td>39788.0</td>\n      <td>4851.0</td>\n      <td>32900.0</td>\n      <td>10839.000</td>\n      <td>10906.000</td>\n      <td>-36112.0</td>\n      <td>37751.0</td>\n    </tr>\n    <tr>\n      <th>2006</th>\n      <td>44282.0</td>\n      <td>6714.0</td>\n      <td>27447.0</td>\n      <td>10438.000</td>\n      <td>10531.000</td>\n      <td>-3545.0</td>\n      <td>34161.0</td>\n    </tr>\n    <tr>\n      <th>2007</th>\n      <td>51122.0</td>\n      <td>6111.0</td>\n      <td>17300.0</td>\n      <td>9742.000</td>\n      <td>9886.000</td>\n      <td>-3805.0</td>\n      <td>23411.0</td>\n    </tr>\n    <tr>\n      <th>2008</th>\n      <td>60420.0</td>\n      <td>10339.0</td>\n      <td>13323.0</td>\n      <td>9328.000</td>\n      <td>9470.000</td>\n      <td>-4015.0</td>\n      <td>23662.0</td>\n    </tr>\n    <tr>\n      <th>2009</th>\n      <td>58437.0</td>\n      <td>6076.0</td>\n      <td>25371.0</td>\n      <td>8945.000</td>\n      <td>8996.000</td>\n      <td>-4468.0</td>\n      <td>31447.0</td>\n    </tr>\n    <tr>\n      <th>2010</th>\n      <td>62484.0</td>\n      <td>5505.0</td>\n      <td>31283.0</td>\n      <td>8813.000</td>\n      <td>8927.000</td>\n      <td>-4578.0</td>\n      <td>36788.0</td>\n    </tr>\n    <tr>\n      <th>2011</th>\n      <td>69943.0</td>\n      <td>9610.0</td>\n      <td>43162.0</td>\n      <td>8490.000</td>\n      <td>8593.000</td>\n      <td>-5180.0</td>\n      <td>52772.0</td>\n    </tr>\n    <tr>\n      <th>2012</th>\n      <td>73723.0</td>\n      <td>6938.0</td>\n      <td>56102.0</td>\n      <td>8396.000</td>\n      <td>8506.000</td>\n      <td>-6385.0</td>\n      <td>63040.0</td>\n    </tr>\n    <tr>\n      <th>2013</th>\n      <td>77849.0</td>\n      <td>3804.0</td>\n      <td>73218.0</td>\n      <td>8375.000</td>\n      <td>8470.000</td>\n      <td>-7455.0</td>\n      <td>77022.0</td>\n    </tr>\n    <tr>\n      <th>2014</th>\n      <td>86833.0</td>\n      <td>8669.0</td>\n      <td>77040.0</td>\n      <td>8299.000</td>\n      <td>8399.000</td>\n      <td>-8879.0</td>\n      <td>85709.0</td>\n    </tr>\n    <tr>\n      <th>2015</th>\n      <td>93580.0</td>\n      <td>5595.0</td>\n      <td>90931.0</td>\n      <td>8177.000</td>\n      <td>8254.000</td>\n      <td>-9882.0</td>\n      <td>96526.0</td>\n    </tr>\n    <tr>\n      <th>2016</th>\n      <td>91154.0</td>\n      <td>6510.0</td>\n      <td>106730.0</td>\n      <td>7925.000</td>\n      <td>8013.000</td>\n      <td>-11006.0</td>\n      <td>113240.0</td>\n    </tr>\n    <tr>\n      <th>2017</th>\n      <td>96571.0</td>\n      <td>7663.0</td>\n      <td>125318.0</td>\n      <td>7746.000</td>\n      <td>7832.000</td>\n      <td>-11845.0</td>\n      <td>132981.0</td>\n    </tr>\n    <tr>\n      <th>2018</th>\n      <td>110360.0</td>\n      <td>11946.0</td>\n      <td>121822.0</td>\n      <td>7700.000</td>\n      <td>7794.000</td>\n      <td>-12699.0</td>\n      <td>133768.0</td>\n    </tr>\n    <tr>\n      <th>2019</th>\n      <td>125843.0</td>\n      <td>11356.0</td>\n      <td>122463.0</td>\n      <td>7673.000</td>\n      <td>7753.000</td>\n      <td>-13811.0</td>\n      <td>133819.0</td>\n    </tr>\n    <tr>\n      <th>2020</th>\n      <td>143015.0</td>\n      <td>13576.0</td>\n      <td>122951.0</td>\n      <td>7610.000</td>\n      <td>7683.000</td>\n      <td>-15137.0</td>\n      <td>136527.0</td>\n    </tr>\n    <tr>\n      <th>2021</th>\n      <td>168088.0</td>\n      <td>14224.0</td>\n      <td>116032.0</td>\n      <td>7547.000</td>\n      <td>7608.000</td>\n      <td>-16521.0</td>\n      <td>130256.0</td>\n    </tr>\n    <tr>\n      <th>2022</th>\n      <td>198270.0</td>\n      <td>13931.0</td>\n      <td>90818.0</td>\n      <td>7496.000</td>\n      <td>7540.000</td>\n      <td>-18135.0</td>\n      <td>104749.0</td>\n    </tr>\n    <tr>\n      <th>2023</th>\n      <td>211915.0</td>\n      <td>34704.0</td>\n      <td>76552.0</td>\n      <td>7446.000</td>\n      <td>7472.000</td>\n      <td>-19800.0</td>\n      <td>111256.0</td>\n    </tr>\n    <tr>\n      <th>2024</th>\n      <td>245122.0</td>\n      <td>18315.0</td>\n      <td>57216.0</td>\n      <td>7431.000</td>\n      <td>7469.000</td>\n      <td>-21771.0</td>\n      <td>75531.0</td>\n    </tr>\n  </tbody>\n</table>\n</div>"
     },
     "execution_count": 2,
     "metadata": {},
     "output_type": "execute_result"
    }
   ],
   "source": [
    "grow_df = pd.read_csv(Grow_Data_Fy,index_col='FiscalYear')\n",
    "grow_df['Cash'] = grow_df['CashEquivalents'] + grow_df['MarketSecurities']\n",
    "grow_df"
   ],
   "metadata": {
    "collapsed": false,
    "pycharm": {
     "name": "#%%\n"
    }
   }
  },
  {
   "cell_type": "code",
   "execution_count": 3,
   "outputs": [
    {
     "name": "stdout",
     "output_type": "stream",
     "text": [
      "Ten Year Average Revenue Growth: 11.15%\n",
      "Five Year Average Revenue Growth: 14.29%\n",
      "Three Year Average Revenue Growth: 14.51%\n"
     ]
    },
    {
     "data": {
      "text/plain": "             Revenue  PercentChange\nFiscalYear                         \n1985           140.4            NaN\n1986           197.5          40.67\n1987           345.9          75.14\n1988           590.8          70.80\n1989           803.5          36.00\n1990          1183.4          47.28\n1991          1843.4          55.77\n1992          2758.7          49.65\n1993          3753.0          36.04\n1994          4649.0          23.87\n1995          5937.0          27.70\n1996          8671.0          46.05\n1997         11936.0          37.65\n1998         15262.0          27.87\n1999         19747.0          29.39\n2000         22956.0          16.25\n2001         25296.0          10.19\n2002         28365.0          12.13\n2003         32187.0          13.47\n2004         36835.0          14.44\n2005         39788.0           8.02\n2006         44282.0          11.29\n2007         51122.0          15.45\n2008         60420.0          18.19\n2009         58437.0          -3.28\n2010         62484.0           6.93\n2011         69943.0          11.94\n2012         73723.0           5.40\n2013         77849.0           5.60\n2014         86833.0          11.54\n2015         93580.0           7.77\n2016         91154.0          -2.59\n2017         96571.0           5.94\n2018        110360.0          14.28\n2019        125843.0          14.03\n2020        143015.0          13.65\n2021        168088.0          17.53\n2022        198270.0          17.96\n2023        211915.0           6.88\n2024        245122.0          15.67",
      "text/html": "<div>\n<style scoped>\n    .dataframe tbody tr th:only-of-type {\n        vertical-align: middle;\n    }\n\n    .dataframe tbody tr th {\n        vertical-align: top;\n    }\n\n    .dataframe thead th {\n        text-align: right;\n    }\n</style>\n<table border=\"1\" class=\"dataframe\">\n  <thead>\n    <tr style=\"text-align: right;\">\n      <th></th>\n      <th>Revenue</th>\n      <th>PercentChange</th>\n    </tr>\n    <tr>\n      <th>FiscalYear</th>\n      <th></th>\n      <th></th>\n    </tr>\n  </thead>\n  <tbody>\n    <tr>\n      <th>1985</th>\n      <td>140.4</td>\n      <td>NaN</td>\n    </tr>\n    <tr>\n      <th>1986</th>\n      <td>197.5</td>\n      <td>40.67</td>\n    </tr>\n    <tr>\n      <th>1987</th>\n      <td>345.9</td>\n      <td>75.14</td>\n    </tr>\n    <tr>\n      <th>1988</th>\n      <td>590.8</td>\n      <td>70.80</td>\n    </tr>\n    <tr>\n      <th>1989</th>\n      <td>803.5</td>\n      <td>36.00</td>\n    </tr>\n    <tr>\n      <th>1990</th>\n      <td>1183.4</td>\n      <td>47.28</td>\n    </tr>\n    <tr>\n      <th>1991</th>\n      <td>1843.4</td>\n      <td>55.77</td>\n    </tr>\n    <tr>\n      <th>1992</th>\n      <td>2758.7</td>\n      <td>49.65</td>\n    </tr>\n    <tr>\n      <th>1993</th>\n      <td>3753.0</td>\n      <td>36.04</td>\n    </tr>\n    <tr>\n      <th>1994</th>\n      <td>4649.0</td>\n      <td>23.87</td>\n    </tr>\n    <tr>\n      <th>1995</th>\n      <td>5937.0</td>\n      <td>27.70</td>\n    </tr>\n    <tr>\n      <th>1996</th>\n      <td>8671.0</td>\n      <td>46.05</td>\n    </tr>\n    <tr>\n      <th>1997</th>\n      <td>11936.0</td>\n      <td>37.65</td>\n    </tr>\n    <tr>\n      <th>1998</th>\n      <td>15262.0</td>\n      <td>27.87</td>\n    </tr>\n    <tr>\n      <th>1999</th>\n      <td>19747.0</td>\n      <td>29.39</td>\n    </tr>\n    <tr>\n      <th>2000</th>\n      <td>22956.0</td>\n      <td>16.25</td>\n    </tr>\n    <tr>\n      <th>2001</th>\n      <td>25296.0</td>\n      <td>10.19</td>\n    </tr>\n    <tr>\n      <th>2002</th>\n      <td>28365.0</td>\n      <td>12.13</td>\n    </tr>\n    <tr>\n      <th>2003</th>\n      <td>32187.0</td>\n      <td>13.47</td>\n    </tr>\n    <tr>\n      <th>2004</th>\n      <td>36835.0</td>\n      <td>14.44</td>\n    </tr>\n    <tr>\n      <th>2005</th>\n      <td>39788.0</td>\n      <td>8.02</td>\n    </tr>\n    <tr>\n      <th>2006</th>\n      <td>44282.0</td>\n      <td>11.29</td>\n    </tr>\n    <tr>\n      <th>2007</th>\n      <td>51122.0</td>\n      <td>15.45</td>\n    </tr>\n    <tr>\n      <th>2008</th>\n      <td>60420.0</td>\n      <td>18.19</td>\n    </tr>\n    <tr>\n      <th>2009</th>\n      <td>58437.0</td>\n      <td>-3.28</td>\n    </tr>\n    <tr>\n      <th>2010</th>\n      <td>62484.0</td>\n      <td>6.93</td>\n    </tr>\n    <tr>\n      <th>2011</th>\n      <td>69943.0</td>\n      <td>11.94</td>\n    </tr>\n    <tr>\n      <th>2012</th>\n      <td>73723.0</td>\n      <td>5.40</td>\n    </tr>\n    <tr>\n      <th>2013</th>\n      <td>77849.0</td>\n      <td>5.60</td>\n    </tr>\n    <tr>\n      <th>2014</th>\n      <td>86833.0</td>\n      <td>11.54</td>\n    </tr>\n    <tr>\n      <th>2015</th>\n      <td>93580.0</td>\n      <td>7.77</td>\n    </tr>\n    <tr>\n      <th>2016</th>\n      <td>91154.0</td>\n      <td>-2.59</td>\n    </tr>\n    <tr>\n      <th>2017</th>\n      <td>96571.0</td>\n      <td>5.94</td>\n    </tr>\n    <tr>\n      <th>2018</th>\n      <td>110360.0</td>\n      <td>14.28</td>\n    </tr>\n    <tr>\n      <th>2019</th>\n      <td>125843.0</td>\n      <td>14.03</td>\n    </tr>\n    <tr>\n      <th>2020</th>\n      <td>143015.0</td>\n      <td>13.65</td>\n    </tr>\n    <tr>\n      <th>2021</th>\n      <td>168088.0</td>\n      <td>17.53</td>\n    </tr>\n    <tr>\n      <th>2022</th>\n      <td>198270.0</td>\n      <td>17.96</td>\n    </tr>\n    <tr>\n      <th>2023</th>\n      <td>211915.0</td>\n      <td>6.88</td>\n    </tr>\n    <tr>\n      <th>2024</th>\n      <td>245122.0</td>\n      <td>15.67</td>\n    </tr>\n  </tbody>\n</table>\n</div>"
     },
     "execution_count": 3,
     "metadata": {},
     "output_type": "execute_result"
    }
   ],
   "source": [
    "rev_s = pd.Series(grow_df['Revenue'])\n",
    "rev_pc_s = round(rev_s.pct_change() * 100, 2)\n",
    "rev_dict = {'Revenue' : rev_s, 'PercentChange' : rev_pc_s}\n",
    "\n",
    "rev_df = pd.DataFrame(rev_dict)\n",
    "rev_df_10 = rev_df[rev_df.index > year10]\n",
    "rev_df_5 = rev_df[rev_df.index > year5]\n",
    "rev_df_3 = rev_df[rev_df.index > year3]\n",
    "\n",
    "rev_mn_10 = round(rev_df_10['PercentChange'].mean(), 2)\n",
    "rev_mn_5 = round(rev_df_5['PercentChange'].mean(), 2)\n",
    "rev_mn_3 = round(rev_df_3['PercentChange'].mean(), 2)\n",
    "\n",
    "\n",
    "print(f'Ten Year Average Revenue Growth: {rev_mn_10}%')\n",
    "print(f'Five Year Average Revenue Growth: {rev_mn_5}%')\n",
    "print(f'Three Year Average Revenue Growth: {rev_mn_3}%')\n",
    "\n",
    "\n",
    "rev_df"
   ],
   "metadata": {
    "collapsed": false,
    "pycharm": {
     "name": "#%%\n"
    }
   }
  },
  {
   "cell_type": "markdown",
   "source": [
    "# Cash On Hand Growth"
   ],
   "metadata": {
    "collapsed": false,
    "pycharm": {
     "name": "#%% md\n"
    }
   }
  },
  {
   "cell_type": "code",
   "execution_count": 4,
   "outputs": [
    {
     "data": {
      "text/plain": "                Cash  PercentChange\nFiscalYear                         \n1985            18.9            NaN\n1986           102.7         443.39\n1987           132.5          29.02\n1988           183.2          38.26\n1989           192.4           5.02\n1990           246.3          28.01\n1991           417.2          69.39\n1992           791.4          89.69\n1993          1013.0          28.00\n1994          1477.0          45.80\n1995          1962.0          32.84\n1996          2601.0          32.57\n1997          3706.0          42.48\n1998          3839.0           3.59\n1999         17236.0         348.97\n2000         23798.0          38.07\n2001         31600.0          32.78\n2002         38652.0          22.32\n2003         49048.0          26.90\n2004         60592.0          23.54\n2005         37751.0         -37.70\n2006         34161.0          -9.51\n2007         23411.0         -31.47\n2008         23662.0           1.07\n2009         31447.0          32.90\n2010         36788.0          16.98\n2011         52772.0          43.45\n2012         63040.0          19.46\n2013         77022.0          22.18\n2014         85709.0          11.28\n2015         96526.0          12.62\n2016        113240.0          17.32\n2017        132981.0          17.43\n2018        133768.0           0.59\n2019        133819.0           0.04\n2020        136527.0           2.02\n2021        130256.0          -4.59\n2022        104749.0         -19.58\n2023        111256.0           6.21\n2024         75531.0         -32.11",
      "text/html": "<div>\n<style scoped>\n    .dataframe tbody tr th:only-of-type {\n        vertical-align: middle;\n    }\n\n    .dataframe tbody tr th {\n        vertical-align: top;\n    }\n\n    .dataframe thead th {\n        text-align: right;\n    }\n</style>\n<table border=\"1\" class=\"dataframe\">\n  <thead>\n    <tr style=\"text-align: right;\">\n      <th></th>\n      <th>Cash</th>\n      <th>PercentChange</th>\n    </tr>\n    <tr>\n      <th>FiscalYear</th>\n      <th></th>\n      <th></th>\n    </tr>\n  </thead>\n  <tbody>\n    <tr>\n      <th>1985</th>\n      <td>18.9</td>\n      <td>NaN</td>\n    </tr>\n    <tr>\n      <th>1986</th>\n      <td>102.7</td>\n      <td>443.39</td>\n    </tr>\n    <tr>\n      <th>1987</th>\n      <td>132.5</td>\n      <td>29.02</td>\n    </tr>\n    <tr>\n      <th>1988</th>\n      <td>183.2</td>\n      <td>38.26</td>\n    </tr>\n    <tr>\n      <th>1989</th>\n      <td>192.4</td>\n      <td>5.02</td>\n    </tr>\n    <tr>\n      <th>1990</th>\n      <td>246.3</td>\n      <td>28.01</td>\n    </tr>\n    <tr>\n      <th>1991</th>\n      <td>417.2</td>\n      <td>69.39</td>\n    </tr>\n    <tr>\n      <th>1992</th>\n      <td>791.4</td>\n      <td>89.69</td>\n    </tr>\n    <tr>\n      <th>1993</th>\n      <td>1013.0</td>\n      <td>28.00</td>\n    </tr>\n    <tr>\n      <th>1994</th>\n      <td>1477.0</td>\n      <td>45.80</td>\n    </tr>\n    <tr>\n      <th>1995</th>\n      <td>1962.0</td>\n      <td>32.84</td>\n    </tr>\n    <tr>\n      <th>1996</th>\n      <td>2601.0</td>\n      <td>32.57</td>\n    </tr>\n    <tr>\n      <th>1997</th>\n      <td>3706.0</td>\n      <td>42.48</td>\n    </tr>\n    <tr>\n      <th>1998</th>\n      <td>3839.0</td>\n      <td>3.59</td>\n    </tr>\n    <tr>\n      <th>1999</th>\n      <td>17236.0</td>\n      <td>348.97</td>\n    </tr>\n    <tr>\n      <th>2000</th>\n      <td>23798.0</td>\n      <td>38.07</td>\n    </tr>\n    <tr>\n      <th>2001</th>\n      <td>31600.0</td>\n      <td>32.78</td>\n    </tr>\n    <tr>\n      <th>2002</th>\n      <td>38652.0</td>\n      <td>22.32</td>\n    </tr>\n    <tr>\n      <th>2003</th>\n      <td>49048.0</td>\n      <td>26.90</td>\n    </tr>\n    <tr>\n      <th>2004</th>\n      <td>60592.0</td>\n      <td>23.54</td>\n    </tr>\n    <tr>\n      <th>2005</th>\n      <td>37751.0</td>\n      <td>-37.70</td>\n    </tr>\n    <tr>\n      <th>2006</th>\n      <td>34161.0</td>\n      <td>-9.51</td>\n    </tr>\n    <tr>\n      <th>2007</th>\n      <td>23411.0</td>\n      <td>-31.47</td>\n    </tr>\n    <tr>\n      <th>2008</th>\n      <td>23662.0</td>\n      <td>1.07</td>\n    </tr>\n    <tr>\n      <th>2009</th>\n      <td>31447.0</td>\n      <td>32.90</td>\n    </tr>\n    <tr>\n      <th>2010</th>\n      <td>36788.0</td>\n      <td>16.98</td>\n    </tr>\n    <tr>\n      <th>2011</th>\n      <td>52772.0</td>\n      <td>43.45</td>\n    </tr>\n    <tr>\n      <th>2012</th>\n      <td>63040.0</td>\n      <td>19.46</td>\n    </tr>\n    <tr>\n      <th>2013</th>\n      <td>77022.0</td>\n      <td>22.18</td>\n    </tr>\n    <tr>\n      <th>2014</th>\n      <td>85709.0</td>\n      <td>11.28</td>\n    </tr>\n    <tr>\n      <th>2015</th>\n      <td>96526.0</td>\n      <td>12.62</td>\n    </tr>\n    <tr>\n      <th>2016</th>\n      <td>113240.0</td>\n      <td>17.32</td>\n    </tr>\n    <tr>\n      <th>2017</th>\n      <td>132981.0</td>\n      <td>17.43</td>\n    </tr>\n    <tr>\n      <th>2018</th>\n      <td>133768.0</td>\n      <td>0.59</td>\n    </tr>\n    <tr>\n      <th>2019</th>\n      <td>133819.0</td>\n      <td>0.04</td>\n    </tr>\n    <tr>\n      <th>2020</th>\n      <td>136527.0</td>\n      <td>2.02</td>\n    </tr>\n    <tr>\n      <th>2021</th>\n      <td>130256.0</td>\n      <td>-4.59</td>\n    </tr>\n    <tr>\n      <th>2022</th>\n      <td>104749.0</td>\n      <td>-19.58</td>\n    </tr>\n    <tr>\n      <th>2023</th>\n      <td>111256.0</td>\n      <td>6.21</td>\n    </tr>\n    <tr>\n      <th>2024</th>\n      <td>75531.0</td>\n      <td>-32.11</td>\n    </tr>\n  </tbody>\n</table>\n</div>"
     },
     "execution_count": 4,
     "metadata": {},
     "output_type": "execute_result"
    }
   ],
   "source": [
    "cash_s = pd.Series(grow_df['Cash'])\n",
    "cash_pc_s = round(cash_s.pct_change() * 100, 2)\n",
    "cash_dict = {'Cash' : cash_s, 'PercentChange' : cash_pc_s}\n",
    "\n",
    "cash_df = pd.DataFrame(cash_dict)\n",
    "\n",
    "cash_df"
   ],
   "metadata": {
    "collapsed": false,
    "pycharm": {
     "name": "#%%\n"
    }
   }
  },
  {
   "cell_type": "markdown",
   "source": [
    "# Shares Outstanding"
   ],
   "metadata": {
    "collapsed": false,
    "pycharm": {
     "name": "#%% md\n"
    }
   }
  },
  {
   "cell_type": "code",
   "execution_count": 5,
   "outputs": [
    {
     "name": "stdout",
     "output_type": "stream",
     "text": [
      "Ten YearAverage Share Growth: -1.13%\n",
      "Five Year Average Share Growth: -0.71%\n",
      "Three Year Average Share Growth: -0.7%\n"
     ]
    },
    {
     "data": {
      "text/plain": "            SharesOutDiluted  PercentChange\nFiscalYear                                 \n1985                7117.929            NaN\n1986                7342.400           3.15\n1987                7190.000          -2.08\n1988                6195.000         -13.84\n1989                6820.000          10.09\n1990                7977.143          16.97\n1991                8412.727           5.46\n1992                8851.250           5.21\n1993                9530.000           7.67\n1994                9760.000           2.41\n1995               10032.000           2.79\n1996               10209.302           1.77\n1997               10421.212           2.08\n1998               10724.000           2.91\n1999               10964.000           2.24\n2000               11067.059           0.94\n2001               11148.000           0.73\n2002               11106.000          -0.38\n2003               10882.000          -2.02\n2004               10894.000           0.11\n2005               10906.000           0.11\n2006               10531.000          -3.44\n2007                9886.000          -6.12\n2008                9470.000          -4.21\n2009                8996.000          -5.01\n2010                8927.000          -0.77\n2011                8593.000          -3.74\n2012                8506.000          -1.01\n2013                8470.000          -0.42\n2014                8399.000          -0.84\n2015                8254.000          -1.73\n2016                8013.000          -2.92\n2017                7832.000          -2.26\n2018                7794.000          -0.49\n2019                7753.000          -0.53\n2020                7683.000          -0.90\n2021                7608.000          -0.98\n2022                7540.000          -0.89\n2023                7472.000          -0.90\n2024                7469.000          -0.04",
      "text/html": "<div>\n<style scoped>\n    .dataframe tbody tr th:only-of-type {\n        vertical-align: middle;\n    }\n\n    .dataframe tbody tr th {\n        vertical-align: top;\n    }\n\n    .dataframe thead th {\n        text-align: right;\n    }\n</style>\n<table border=\"1\" class=\"dataframe\">\n  <thead>\n    <tr style=\"text-align: right;\">\n      <th></th>\n      <th>SharesOutDiluted</th>\n      <th>PercentChange</th>\n    </tr>\n    <tr>\n      <th>FiscalYear</th>\n      <th></th>\n      <th></th>\n    </tr>\n  </thead>\n  <tbody>\n    <tr>\n      <th>1985</th>\n      <td>7117.929</td>\n      <td>NaN</td>\n    </tr>\n    <tr>\n      <th>1986</th>\n      <td>7342.400</td>\n      <td>3.15</td>\n    </tr>\n    <tr>\n      <th>1987</th>\n      <td>7190.000</td>\n      <td>-2.08</td>\n    </tr>\n    <tr>\n      <th>1988</th>\n      <td>6195.000</td>\n      <td>-13.84</td>\n    </tr>\n    <tr>\n      <th>1989</th>\n      <td>6820.000</td>\n      <td>10.09</td>\n    </tr>\n    <tr>\n      <th>1990</th>\n      <td>7977.143</td>\n      <td>16.97</td>\n    </tr>\n    <tr>\n      <th>1991</th>\n      <td>8412.727</td>\n      <td>5.46</td>\n    </tr>\n    <tr>\n      <th>1992</th>\n      <td>8851.250</td>\n      <td>5.21</td>\n    </tr>\n    <tr>\n      <th>1993</th>\n      <td>9530.000</td>\n      <td>7.67</td>\n    </tr>\n    <tr>\n      <th>1994</th>\n      <td>9760.000</td>\n      <td>2.41</td>\n    </tr>\n    <tr>\n      <th>1995</th>\n      <td>10032.000</td>\n      <td>2.79</td>\n    </tr>\n    <tr>\n      <th>1996</th>\n      <td>10209.302</td>\n      <td>1.77</td>\n    </tr>\n    <tr>\n      <th>1997</th>\n      <td>10421.212</td>\n      <td>2.08</td>\n    </tr>\n    <tr>\n      <th>1998</th>\n      <td>10724.000</td>\n      <td>2.91</td>\n    </tr>\n    <tr>\n      <th>1999</th>\n      <td>10964.000</td>\n      <td>2.24</td>\n    </tr>\n    <tr>\n      <th>2000</th>\n      <td>11067.059</td>\n      <td>0.94</td>\n    </tr>\n    <tr>\n      <th>2001</th>\n      <td>11148.000</td>\n      <td>0.73</td>\n    </tr>\n    <tr>\n      <th>2002</th>\n      <td>11106.000</td>\n      <td>-0.38</td>\n    </tr>\n    <tr>\n      <th>2003</th>\n      <td>10882.000</td>\n      <td>-2.02</td>\n    </tr>\n    <tr>\n      <th>2004</th>\n      <td>10894.000</td>\n      <td>0.11</td>\n    </tr>\n    <tr>\n      <th>2005</th>\n      <td>10906.000</td>\n      <td>0.11</td>\n    </tr>\n    <tr>\n      <th>2006</th>\n      <td>10531.000</td>\n      <td>-3.44</td>\n    </tr>\n    <tr>\n      <th>2007</th>\n      <td>9886.000</td>\n      <td>-6.12</td>\n    </tr>\n    <tr>\n      <th>2008</th>\n      <td>9470.000</td>\n      <td>-4.21</td>\n    </tr>\n    <tr>\n      <th>2009</th>\n      <td>8996.000</td>\n      <td>-5.01</td>\n    </tr>\n    <tr>\n      <th>2010</th>\n      <td>8927.000</td>\n      <td>-0.77</td>\n    </tr>\n    <tr>\n      <th>2011</th>\n      <td>8593.000</td>\n      <td>-3.74</td>\n    </tr>\n    <tr>\n      <th>2012</th>\n      <td>8506.000</td>\n      <td>-1.01</td>\n    </tr>\n    <tr>\n      <th>2013</th>\n      <td>8470.000</td>\n      <td>-0.42</td>\n    </tr>\n    <tr>\n      <th>2014</th>\n      <td>8399.000</td>\n      <td>-0.84</td>\n    </tr>\n    <tr>\n      <th>2015</th>\n      <td>8254.000</td>\n      <td>-1.73</td>\n    </tr>\n    <tr>\n      <th>2016</th>\n      <td>8013.000</td>\n      <td>-2.92</td>\n    </tr>\n    <tr>\n      <th>2017</th>\n      <td>7832.000</td>\n      <td>-2.26</td>\n    </tr>\n    <tr>\n      <th>2018</th>\n      <td>7794.000</td>\n      <td>-0.49</td>\n    </tr>\n    <tr>\n      <th>2019</th>\n      <td>7753.000</td>\n      <td>-0.53</td>\n    </tr>\n    <tr>\n      <th>2020</th>\n      <td>7683.000</td>\n      <td>-0.90</td>\n    </tr>\n    <tr>\n      <th>2021</th>\n      <td>7608.000</td>\n      <td>-0.98</td>\n    </tr>\n    <tr>\n      <th>2022</th>\n      <td>7540.000</td>\n      <td>-0.89</td>\n    </tr>\n    <tr>\n      <th>2023</th>\n      <td>7472.000</td>\n      <td>-0.90</td>\n    </tr>\n    <tr>\n      <th>2024</th>\n      <td>7469.000</td>\n      <td>-0.04</td>\n    </tr>\n  </tbody>\n</table>\n</div>"
     },
     "execution_count": 5,
     "metadata": {},
     "output_type": "execute_result"
    }
   ],
   "source": [
    "share_s = pd.Series(grow_df['SharesOutDiluted'])\n",
    "share_pc_s = round(share_s.pct_change() * 100, 2)\n",
    "share_dict = {'SharesOutDiluted' : share_s, 'PercentChange' : share_pc_s}\n",
    "\n",
    "share_df = pd.DataFrame(share_dict)\n",
    "\n",
    "share_df_10 = share_df[share_df.index > year10]\n",
    "share_df_5 = share_df[share_df.index > year5]\n",
    "share_df_3 = share_df[share_df.index > year3]\n",
    "\n",
    "share_mn_10 = round(share_df_10['PercentChange'].mean(), 2)\n",
    "share_mn_5 = round(share_df_5['PercentChange'].mean(), 2)\n",
    "share_mn_3 = round(share_df_3['PercentChange'].mean(), 2)\n",
    "\n",
    "print(f'Ten YearAverage Share Growth: {share_mn_10}%')\n",
    "print(f'Five Year Average Share Growth: {share_mn_5}%')\n",
    "print(f'Three Year Average Share Growth: {share_mn_3}%')\n",
    "\n",
    "share_df"
   ],
   "metadata": {
    "collapsed": false,
    "pycharm": {
     "name": "#%%\n"
    }
   }
  },
  {
   "cell_type": "markdown",
   "source": [
    "# Dividend Growth"
   ],
   "metadata": {
    "collapsed": false,
    "pycharm": {
     "name": "#%% md\n"
    }
   }
  },
  {
   "cell_type": "code",
   "execution_count": 6,
   "outputs": [
    {
     "name": "stdout",
     "output_type": "stream",
     "text": [
      "Ten YearAverage Dividend Growth: 10.27%\n",
      "Five Year Average Dividend Growth: 9.4%\n",
      "Three Year Average Dividend Growth: 9.51%\n"
     ]
    },
    {
     "data": {
      "text/plain": "            CashForDividends  PercentChange\nFiscalYear                                 \n1985                     0.0            NaN\n1986                     0.0            NaN\n1987                     0.0            NaN\n1988                     0.0            NaN\n1989                     0.0            NaN\n1990                     0.0            NaN\n1991                     0.0            NaN\n1992                     0.0            NaN\n1993                     0.0            NaN\n1994                     0.0            NaN\n1995                     0.0            NaN\n1996                     0.0            NaN\n1997                    15.0            inf\n1998                    28.0          86.67\n1999                    28.0           0.00\n2000                    13.0         -53.57\n2001                     0.0        -100.00\n2002                     0.0            NaN\n2003                   857.0            inf\n2004                  1729.0         101.75\n2005                 36112.0        1988.61\n2006                  3545.0         -90.18\n2007                  3805.0           7.33\n2008                  4015.0           5.52\n2009                  4468.0          11.28\n2010                  4578.0           2.46\n2011                  5180.0          13.15\n2012                  6385.0          23.26\n2013                  7455.0          16.76\n2014                  8879.0          19.10\n2015                  9882.0          11.30\n2016                 11006.0          11.37\n2017                 11845.0           7.62\n2018                 12699.0           7.21\n2019                 13811.0           8.76\n2020                 15137.0           9.60\n2021                 16521.0           9.14\n2022                 18135.0           9.77\n2023                 19800.0           9.18\n2024                 21771.0           9.95",
      "text/html": "<div>\n<style scoped>\n    .dataframe tbody tr th:only-of-type {\n        vertical-align: middle;\n    }\n\n    .dataframe tbody tr th {\n        vertical-align: top;\n    }\n\n    .dataframe thead th {\n        text-align: right;\n    }\n</style>\n<table border=\"1\" class=\"dataframe\">\n  <thead>\n    <tr style=\"text-align: right;\">\n      <th></th>\n      <th>CashForDividends</th>\n      <th>PercentChange</th>\n    </tr>\n    <tr>\n      <th>FiscalYear</th>\n      <th></th>\n      <th></th>\n    </tr>\n  </thead>\n  <tbody>\n    <tr>\n      <th>1985</th>\n      <td>0.0</td>\n      <td>NaN</td>\n    </tr>\n    <tr>\n      <th>1986</th>\n      <td>0.0</td>\n      <td>NaN</td>\n    </tr>\n    <tr>\n      <th>1987</th>\n      <td>0.0</td>\n      <td>NaN</td>\n    </tr>\n    <tr>\n      <th>1988</th>\n      <td>0.0</td>\n      <td>NaN</td>\n    </tr>\n    <tr>\n      <th>1989</th>\n      <td>0.0</td>\n      <td>NaN</td>\n    </tr>\n    <tr>\n      <th>1990</th>\n      <td>0.0</td>\n      <td>NaN</td>\n    </tr>\n    <tr>\n      <th>1991</th>\n      <td>0.0</td>\n      <td>NaN</td>\n    </tr>\n    <tr>\n      <th>1992</th>\n      <td>0.0</td>\n      <td>NaN</td>\n    </tr>\n    <tr>\n      <th>1993</th>\n      <td>0.0</td>\n      <td>NaN</td>\n    </tr>\n    <tr>\n      <th>1994</th>\n      <td>0.0</td>\n      <td>NaN</td>\n    </tr>\n    <tr>\n      <th>1995</th>\n      <td>0.0</td>\n      <td>NaN</td>\n    </tr>\n    <tr>\n      <th>1996</th>\n      <td>0.0</td>\n      <td>NaN</td>\n    </tr>\n    <tr>\n      <th>1997</th>\n      <td>15.0</td>\n      <td>inf</td>\n    </tr>\n    <tr>\n      <th>1998</th>\n      <td>28.0</td>\n      <td>86.67</td>\n    </tr>\n    <tr>\n      <th>1999</th>\n      <td>28.0</td>\n      <td>0.00</td>\n    </tr>\n    <tr>\n      <th>2000</th>\n      <td>13.0</td>\n      <td>-53.57</td>\n    </tr>\n    <tr>\n      <th>2001</th>\n      <td>0.0</td>\n      <td>-100.00</td>\n    </tr>\n    <tr>\n      <th>2002</th>\n      <td>0.0</td>\n      <td>NaN</td>\n    </tr>\n    <tr>\n      <th>2003</th>\n      <td>857.0</td>\n      <td>inf</td>\n    </tr>\n    <tr>\n      <th>2004</th>\n      <td>1729.0</td>\n      <td>101.75</td>\n    </tr>\n    <tr>\n      <th>2005</th>\n      <td>36112.0</td>\n      <td>1988.61</td>\n    </tr>\n    <tr>\n      <th>2006</th>\n      <td>3545.0</td>\n      <td>-90.18</td>\n    </tr>\n    <tr>\n      <th>2007</th>\n      <td>3805.0</td>\n      <td>7.33</td>\n    </tr>\n    <tr>\n      <th>2008</th>\n      <td>4015.0</td>\n      <td>5.52</td>\n    </tr>\n    <tr>\n      <th>2009</th>\n      <td>4468.0</td>\n      <td>11.28</td>\n    </tr>\n    <tr>\n      <th>2010</th>\n      <td>4578.0</td>\n      <td>2.46</td>\n    </tr>\n    <tr>\n      <th>2011</th>\n      <td>5180.0</td>\n      <td>13.15</td>\n    </tr>\n    <tr>\n      <th>2012</th>\n      <td>6385.0</td>\n      <td>23.26</td>\n    </tr>\n    <tr>\n      <th>2013</th>\n      <td>7455.0</td>\n      <td>16.76</td>\n    </tr>\n    <tr>\n      <th>2014</th>\n      <td>8879.0</td>\n      <td>19.10</td>\n    </tr>\n    <tr>\n      <th>2015</th>\n      <td>9882.0</td>\n      <td>11.30</td>\n    </tr>\n    <tr>\n      <th>2016</th>\n      <td>11006.0</td>\n      <td>11.37</td>\n    </tr>\n    <tr>\n      <th>2017</th>\n      <td>11845.0</td>\n      <td>7.62</td>\n    </tr>\n    <tr>\n      <th>2018</th>\n      <td>12699.0</td>\n      <td>7.21</td>\n    </tr>\n    <tr>\n      <th>2019</th>\n      <td>13811.0</td>\n      <td>8.76</td>\n    </tr>\n    <tr>\n      <th>2020</th>\n      <td>15137.0</td>\n      <td>9.60</td>\n    </tr>\n    <tr>\n      <th>2021</th>\n      <td>16521.0</td>\n      <td>9.14</td>\n    </tr>\n    <tr>\n      <th>2022</th>\n      <td>18135.0</td>\n      <td>9.77</td>\n    </tr>\n    <tr>\n      <th>2023</th>\n      <td>19800.0</td>\n      <td>9.18</td>\n    </tr>\n    <tr>\n      <th>2024</th>\n      <td>21771.0</td>\n      <td>9.95</td>\n    </tr>\n  </tbody>\n</table>\n</div>"
     },
     "execution_count": 6,
     "metadata": {},
     "output_type": "execute_result"
    }
   ],
   "source": [
    "div_s = pd.Series(grow_df['CashForDividends'].abs())\n",
    "div_pc_s = round(div_s.pct_change() * 100, 2)\n",
    "div_dict = {'CashForDividends' : div_s, 'PercentChange' : div_pc_s}\n",
    "\n",
    "div_df = pd.DataFrame(div_dict)\n",
    "\n",
    "div_df_10 = div_df[div_df.index > year10]\n",
    "div_df_5 = div_df[div_df.index > year5]\n",
    "div_df_3 = div_df[div_df.index > year3]\n",
    "\n",
    "div_mn_10 = round(div_df_10['PercentChange'].mean(), 2)\n",
    "div_mn_5 = round(div_df_5['PercentChange'].mean(), 2)\n",
    "div_mn_3 = round(div_df_3['PercentChange'].mean(), 2)\n",
    "\n",
    "print(f'Ten YearAverage Dividend Growth: {div_mn_10}%')\n",
    "print(f'Five Year Average Dividend Growth: {div_mn_5}%')\n",
    "print(f'Three Year Average Dividend Growth: {div_mn_3}%')\n",
    "\n",
    "div_df"
   ],
   "metadata": {
    "collapsed": false,
    "pycharm": {
     "name": "#%%\n"
    }
   }
  },
  {
   "cell_type": "code",
   "execution_count": 6,
   "outputs": [],
   "source": [],
   "metadata": {
    "collapsed": false,
    "pycharm": {
     "name": "#%%\n"
    }
   }
  }
 ],
 "metadata": {
  "kernelspec": {
   "display_name": "Python 3",
   "language": "python",
   "name": "python3"
  },
  "language_info": {
   "codemirror_mode": {
    "name": "ipython",
    "version": 2
   },
   "file_extension": ".py",
   "mimetype": "text/x-python",
   "name": "python",
   "nbconvert_exporter": "python",
   "pygments_lexer": "ipython2",
   "version": "2.7.6"
  }
 },
 "nbformat": 4,
 "nbformat_minor": 0
}