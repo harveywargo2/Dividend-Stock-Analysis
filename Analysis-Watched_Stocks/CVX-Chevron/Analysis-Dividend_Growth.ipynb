{
 "cells": [
  {
   "cell_type": "markdown",
   "source": [
    "# Analysis Dividend Growth"
   ],
   "metadata": {
    "collapsed": false,
    "pycharm": {
     "name": "#%% md\n"
    }
   }
  },
  {
   "cell_type": "code",
   "execution_count": 1,
   "outputs": [],
   "source": [
    "import pandas as pd\n",
    "import datetime\n",
    "\n",
    "Grow_Data_Fy = 'Data_Growth_Fy-CVX.csv'\n",
    "Ps_Data_Fy = 'Data_Per_Share_Fy-CVX.csv'\n",
    "today = datetime.date.today()\n",
    "year10 = today.year - 11\n",
    "year5 = today.year - 6\n",
    "year3 = today.year - 4\n"
   ],
   "metadata": {
    "collapsed": false,
    "pycharm": {
     "name": "#%%\n"
    }
   }
  },
  {
   "cell_type": "markdown",
   "source": [
    "# Dividend Cash Growth"
   ],
   "metadata": {
    "collapsed": false,
    "pycharm": {
     "name": "#%% md\n"
    }
   }
  },
  {
   "cell_type": "code",
   "execution_count": 2,
   "outputs": [
    {
     "data": {
      "text/plain": "            Dividends  DivChange    DPS  DpsChange\nFiscalYear                                        \n1992           1115.0        NaN  0.825        NaN\n1993           1139.0       2.15  0.875       6.06\n1994           1206.0       5.88  0.925       5.71\n1995           1255.0       4.06  0.963       4.11\n1996           1358.0       8.21  1.040       8.00\n1997           1493.0       9.94  1.140       9.62\n1998           1596.0       6.90  1.220       7.02\n1999           2672.0      67.42  1.240       1.64\n2000           2789.0       4.38  1.300       4.84\n2001           2858.0       2.47  1.325       1.92\n2002           2991.0       4.65  1.400       5.66\n2003           3070.0       2.64  1.430       2.14\n2004           3277.0       6.74  1.530       6.99\n2005           3876.0      18.28  1.750      14.38\n2006           4396.0      13.42  2.010      14.86\n2007           4791.0       8.99  2.260      12.44\n2008           5162.0       7.74  2.530      11.95\n2009           5302.0       2.71  2.660       5.14\n2010           5669.0       6.92  2.840       6.77\n2011           6136.0       8.24  3.090       8.80\n2012           6844.0      11.54  3.510      13.59\n2013           7474.0       9.21  3.900      11.11\n2014           7928.0       6.07  4.210       7.95\n2015           7992.0       0.81  4.280       1.66\n2016           8032.0       0.50  4.290       0.23\n2017           8132.0       1.25  4.320       0.70\n2018           8502.0       4.55  4.480       3.70\n2019           8959.0       5.38  4.760       6.25\n2020           9651.0       7.72  5.160       8.40\n2021          10179.0       5.47  5.310       2.91\n2022          10968.0       7.75  5.680       6.97\n2023          11336.0       3.36  6.040       6.34",
      "text/html": "<div>\n<style scoped>\n    .dataframe tbody tr th:only-of-type {\n        vertical-align: middle;\n    }\n\n    .dataframe tbody tr th {\n        vertical-align: top;\n    }\n\n    .dataframe thead th {\n        text-align: right;\n    }\n</style>\n<table border=\"1\" class=\"dataframe\">\n  <thead>\n    <tr style=\"text-align: right;\">\n      <th></th>\n      <th>Dividends</th>\n      <th>DivChange</th>\n      <th>DPS</th>\n      <th>DpsChange</th>\n    </tr>\n    <tr>\n      <th>FiscalYear</th>\n      <th></th>\n      <th></th>\n      <th></th>\n      <th></th>\n    </tr>\n  </thead>\n  <tbody>\n    <tr>\n      <th>1992</th>\n      <td>1115.0</td>\n      <td>NaN</td>\n      <td>0.825</td>\n      <td>NaN</td>\n    </tr>\n    <tr>\n      <th>1993</th>\n      <td>1139.0</td>\n      <td>2.15</td>\n      <td>0.875</td>\n      <td>6.06</td>\n    </tr>\n    <tr>\n      <th>1994</th>\n      <td>1206.0</td>\n      <td>5.88</td>\n      <td>0.925</td>\n      <td>5.71</td>\n    </tr>\n    <tr>\n      <th>1995</th>\n      <td>1255.0</td>\n      <td>4.06</td>\n      <td>0.963</td>\n      <td>4.11</td>\n    </tr>\n    <tr>\n      <th>1996</th>\n      <td>1358.0</td>\n      <td>8.21</td>\n      <td>1.040</td>\n      <td>8.00</td>\n    </tr>\n    <tr>\n      <th>1997</th>\n      <td>1493.0</td>\n      <td>9.94</td>\n      <td>1.140</td>\n      <td>9.62</td>\n    </tr>\n    <tr>\n      <th>1998</th>\n      <td>1596.0</td>\n      <td>6.90</td>\n      <td>1.220</td>\n      <td>7.02</td>\n    </tr>\n    <tr>\n      <th>1999</th>\n      <td>2672.0</td>\n      <td>67.42</td>\n      <td>1.240</td>\n      <td>1.64</td>\n    </tr>\n    <tr>\n      <th>2000</th>\n      <td>2789.0</td>\n      <td>4.38</td>\n      <td>1.300</td>\n      <td>4.84</td>\n    </tr>\n    <tr>\n      <th>2001</th>\n      <td>2858.0</td>\n      <td>2.47</td>\n      <td>1.325</td>\n      <td>1.92</td>\n    </tr>\n    <tr>\n      <th>2002</th>\n      <td>2991.0</td>\n      <td>4.65</td>\n      <td>1.400</td>\n      <td>5.66</td>\n    </tr>\n    <tr>\n      <th>2003</th>\n      <td>3070.0</td>\n      <td>2.64</td>\n      <td>1.430</td>\n      <td>2.14</td>\n    </tr>\n    <tr>\n      <th>2004</th>\n      <td>3277.0</td>\n      <td>6.74</td>\n      <td>1.530</td>\n      <td>6.99</td>\n    </tr>\n    <tr>\n      <th>2005</th>\n      <td>3876.0</td>\n      <td>18.28</td>\n      <td>1.750</td>\n      <td>14.38</td>\n    </tr>\n    <tr>\n      <th>2006</th>\n      <td>4396.0</td>\n      <td>13.42</td>\n      <td>2.010</td>\n      <td>14.86</td>\n    </tr>\n    <tr>\n      <th>2007</th>\n      <td>4791.0</td>\n      <td>8.99</td>\n      <td>2.260</td>\n      <td>12.44</td>\n    </tr>\n    <tr>\n      <th>2008</th>\n      <td>5162.0</td>\n      <td>7.74</td>\n      <td>2.530</td>\n      <td>11.95</td>\n    </tr>\n    <tr>\n      <th>2009</th>\n      <td>5302.0</td>\n      <td>2.71</td>\n      <td>2.660</td>\n      <td>5.14</td>\n    </tr>\n    <tr>\n      <th>2010</th>\n      <td>5669.0</td>\n      <td>6.92</td>\n      <td>2.840</td>\n      <td>6.77</td>\n    </tr>\n    <tr>\n      <th>2011</th>\n      <td>6136.0</td>\n      <td>8.24</td>\n      <td>3.090</td>\n      <td>8.80</td>\n    </tr>\n    <tr>\n      <th>2012</th>\n      <td>6844.0</td>\n      <td>11.54</td>\n      <td>3.510</td>\n      <td>13.59</td>\n    </tr>\n    <tr>\n      <th>2013</th>\n      <td>7474.0</td>\n      <td>9.21</td>\n      <td>3.900</td>\n      <td>11.11</td>\n    </tr>\n    <tr>\n      <th>2014</th>\n      <td>7928.0</td>\n      <td>6.07</td>\n      <td>4.210</td>\n      <td>7.95</td>\n    </tr>\n    <tr>\n      <th>2015</th>\n      <td>7992.0</td>\n      <td>0.81</td>\n      <td>4.280</td>\n      <td>1.66</td>\n    </tr>\n    <tr>\n      <th>2016</th>\n      <td>8032.0</td>\n      <td>0.50</td>\n      <td>4.290</td>\n      <td>0.23</td>\n    </tr>\n    <tr>\n      <th>2017</th>\n      <td>8132.0</td>\n      <td>1.25</td>\n      <td>4.320</td>\n      <td>0.70</td>\n    </tr>\n    <tr>\n      <th>2018</th>\n      <td>8502.0</td>\n      <td>4.55</td>\n      <td>4.480</td>\n      <td>3.70</td>\n    </tr>\n    <tr>\n      <th>2019</th>\n      <td>8959.0</td>\n      <td>5.38</td>\n      <td>4.760</td>\n      <td>6.25</td>\n    </tr>\n    <tr>\n      <th>2020</th>\n      <td>9651.0</td>\n      <td>7.72</td>\n      <td>5.160</td>\n      <td>8.40</td>\n    </tr>\n    <tr>\n      <th>2021</th>\n      <td>10179.0</td>\n      <td>5.47</td>\n      <td>5.310</td>\n      <td>2.91</td>\n    </tr>\n    <tr>\n      <th>2022</th>\n      <td>10968.0</td>\n      <td>7.75</td>\n      <td>5.680</td>\n      <td>6.97</td>\n    </tr>\n    <tr>\n      <th>2023</th>\n      <td>11336.0</td>\n      <td>3.36</td>\n      <td>6.040</td>\n      <td>6.34</td>\n    </tr>\n  </tbody>\n</table>\n</div>"
     },
     "execution_count": 2,
     "metadata": {},
     "output_type": "execute_result"
    }
   ],
   "source": [
    "dgro_df = pd.read_csv(Grow_Data_Fy,index_col='FiscalYear')\n",
    "dgro_ps_df = pd.read_csv(Ps_Data_Fy,index_col='FiscalYear')\n",
    "\n",
    "dgro_s = pd.Series(dgro_df['CashForDividends'].abs())\n",
    "dgro_pc_s = round(dgro_s.pct_change() * 100, 2)\n",
    "dgro_ps_s = pd.Series(dgro_ps_df['PerShareDividends'])\n",
    "dgro_ps_pc_s = round(dgro_ps_s.pct_change() * 100, 2)\n",
    "\n",
    "div_dict = {'Dividends' : dgro_s, 'DivChange' : dgro_pc_s, 'DPS' : dgro_ps_s, 'DpsChange' : dgro_ps_pc_s}\n",
    "divgro_df = pd.DataFrame(div_dict)\n",
    "\n",
    "divgro_df"
   ],
   "metadata": {
    "collapsed": false,
    "pycharm": {
     "name": "#%%\n"
    }
   }
  },
  {
   "cell_type": "code",
   "execution_count": 3,
   "outputs": [
    {
     "name": "stdout",
     "output_type": "stream",
     "text": [
      "The 10 year Average Growth of Cash Dividends: 4.29% and Dividends Per Share: 4.51%\n",
      "The 10 year Average Growth of Cash Dividends: 5.94% and Dividends Per Share: 6.17%\n",
      "The 10 year Average Growth of Cash Dividends: 5.53% and Dividends Per Share: 5.41%\n"
     ]
    }
   ],
   "source": [
    "dg10_df = divgro_df[divgro_df.index > year10]\n",
    "dg_10 = round(dg10_df['DivChange'].mean(), 2)\n",
    "dps_10 = round(dg10_df['DpsChange'].mean(), 2)\n",
    "\n",
    "dg5_df = divgro_df[divgro_df.index > year5]\n",
    "dg_5 = round(dg5_df['DivChange'].mean(), 2)\n",
    "dps_5 = round(dg5_df['DpsChange'].mean(), 2)\n",
    "\n",
    "dg3_df = divgro_df[divgro_df.index > year3]\n",
    "dg_3 = round(dg3_df['DivChange'].mean(), 2)\n",
    "dps_3 = round(dg3_df['DpsChange'].mean(), 2)\n",
    "\n",
    "print(f'The 10 year Average Growth of Cash Dividends: {dg_10}% and Dividends Per Share: {dps_10}%')\n",
    "print(f'The 10 year Average Growth of Cash Dividends: {dg_5}% and Dividends Per Share: {dps_5}%')\n",
    "print(f'The 10 year Average Growth of Cash Dividends: {dg_3}% and Dividends Per Share: {dps_3}%')"
   ],
   "metadata": {
    "collapsed": false,
    "pycharm": {
     "name": "#%%\n"
    }
   }
  },
  {
   "cell_type": "code",
   "execution_count": 3,
   "outputs": [],
   "source": [],
   "metadata": {
    "collapsed": false,
    "pycharm": {
     "name": "#%%\n"
    }
   }
  }
 ],
 "metadata": {
  "kernelspec": {
   "display_name": "Python 3",
   "language": "python",
   "name": "python3"
  },
  "language_info": {
   "codemirror_mode": {
    "name": "ipython",
    "version": 2
   },
   "file_extension": ".py",
   "mimetype": "text/x-python",
   "name": "python",
   "nbconvert_exporter": "python",
   "pygments_lexer": "ipython2",
   "version": "2.7.6"
  }
 },
 "nbformat": 4,
 "nbformat_minor": 0
}