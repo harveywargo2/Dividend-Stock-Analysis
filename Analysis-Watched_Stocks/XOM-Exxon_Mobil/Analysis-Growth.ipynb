{
 "cells": [
  {
   "cell_type": "markdown",
   "source": [
    "# Analysis Growth"
   ],
   "metadata": {
    "collapsed": false,
    "pycharm": {
     "name": "#%% md\n"
    }
   }
  },
  {
   "cell_type": "code",
   "execution_count": 1,
   "outputs": [],
   "source": [
    "import pandas as pd\n",
    "import datetime\n",
    "\n",
    "Grow_Data_Fy = 'Data_Growth_Fy-XOM.csv'\n",
    "today = datetime.date.today()\n",
    "year10 = today.year - 11\n",
    "year5 = today.year - 6\n",
    "year3 = today.year - 4"
   ],
   "metadata": {
    "collapsed": false,
    "pycharm": {
     "name": "#%%\n"
    }
   }
  },
  {
   "cell_type": "markdown",
   "source": [
    "# Waterfall Analysis"
   ],
   "metadata": {
    "collapsed": false,
    "pycharm": {
     "name": "#%% md\n"
    }
   }
  },
  {
   "cell_type": "code",
   "execution_count": 2,
   "outputs": [
    {
     "data": {
      "text/plain": "             Revenue  CashEquivalents  MarketSecurities  SharesOutBasic  \\\nFiscalYear                                                                \n1984         90854.0           3290.0               0.0        6503.529   \n1985         86673.0           2474.0               0.0        6012.346   \n1986         69888.0           3816.0               0.0        5763.441   \n1987         76416.0           2531.0               0.0        5627.907   \n1988         79557.0           2409.0               0.0        5313.131   \n1989         86656.0           1865.0               0.0        5124.088   \n1990        105519.0           1332.0               0.0        4989.697   \n1991        102847.0           1496.0               0.0        4963.677   \n1992        103160.0            898.0               0.0        4983.280   \n1993         97825.0            983.0               0.0        4957.238   \n1994         99683.0           1157.0               0.0        4970.909   \n1995        107893.0           1508.0               0.0        4996.139   \n1996        116728.0           2951.0               0.0        4972.093   \n1997        176552.0           4047.0               0.0        4966.667   \n1998        165627.0           2386.0              50.0        4885.572   \n1999        182529.0           1688.0              73.0        6907.018   \n2000        231846.0           7080.0               0.0        6949.020   \n2001        212785.0           6547.0               0.0        6869.955   \n2002        204506.0           7229.0               0.0        6781.065   \n2003        246738.0          10626.0               0.0        6638.889   \n2004        298035.0          18531.0               0.0        6478.261   \n2005        370680.0          28671.0               0.0        6272.569   \n2006        377635.0          28244.0               0.0        5913.174   \n2007        395651.0          33981.0             519.0        5557.000   \n2008        466278.0          31437.0             570.0        5194.000   \n2009        303443.0          10693.0             169.0        4832.000   \n2010        370125.0           7825.0               0.0        4885.000   \n2011        467029.0          12664.0               0.0        4870.000   \n2012        451509.0           9582.0               0.0        4628.000   \n2013        420836.0           4644.0               0.0        4419.000   \n2014        394105.0           4616.0               0.0        4282.000   \n2015        239854.0           3705.0               0.0        4196.000   \n2016        200628.0           3657.0               0.0        4177.000   \n2017        237162.0           3177.0               0.0        4256.000   \n2018        279332.0           3042.0               0.0        4270.000   \n2019        255583.0           3089.0               0.0        4270.000   \n2020        178574.0           4364.0               0.0        4271.000   \n2021        276692.0           6802.0               0.0        4275.000   \n2022        398675.0          29640.0               0.0        4205.000   \n2023        334697.0          31539.0               0.0        4052.000   \n\n            SharesOutDiluted  CashForDividends     Cash  \nFiscalYear                                               \n1984                6503.529               0.0   3290.0  \n1985                6012.346               0.0   2474.0  \n1986                5763.441               0.0   3816.0  \n1987                5627.907               0.0   2531.0  \n1988                5313.131               0.0   2409.0  \n1989                5124.088           -3170.0   1865.0  \n1990                4989.697           -3397.0   1332.0  \n1991                4963.677           -3645.0   1496.0  \n1992                4983.280           -3832.0    898.0  \n1993                4980.957           -3879.0    983.0  \n1994                5039.370           -4079.0   1157.0  \n1995                4996.139           -4047.0   1508.0  \n1996                5040.201           -4193.0   2951.0  \n1997                5029.536           -6177.0   4047.0  \n1998                4934.673           -6230.0   2436.0  \n1999                6999.111           -6091.0   1761.0  \n2000                7031.746           -6374.0   7080.0  \n2001                6932.127           -6448.0   6547.0  \n2002                6821.429           -6386.0   7229.0  \n2003                6659.443           -6945.0  10626.0  \n2004                6511.568           -7111.0  18531.0  \n2005                6327.496           -7478.0  28671.0  \n2006                5966.767           -7867.0  28244.0  \n2007                5593.664           -7621.0  34500.0  \n2008                5221.709           -8058.0  32007.0  \n2009                4848.000           -8023.0  10862.0  \n2010                4897.106           -8498.0   7825.0  \n2011                4870.000           -9020.0  12664.0  \n2012                4628.000          -10092.0   9582.0  \n2013                4419.000          -10875.0   4644.0  \n2014                4282.000          -11568.0   4616.0  \n2015                4196.000          -12090.0   3705.0  \n2016                4177.000          -12453.0   3657.0  \n2017                4256.000          -13001.0   3177.0  \n2018                4270.000          -13798.0   3042.0  \n2019                4270.000          -14652.0   3089.0  \n2020                4271.000          -14865.0   4364.0  \n2021                4275.000          -14924.0   6802.0  \n2022                4205.000          -14939.0  29640.0  \n2023                4052.000          -14941.0  31539.0  ",
      "text/html": "<div>\n<style scoped>\n    .dataframe tbody tr th:only-of-type {\n        vertical-align: middle;\n    }\n\n    .dataframe tbody tr th {\n        vertical-align: top;\n    }\n\n    .dataframe thead th {\n        text-align: right;\n    }\n</style>\n<table border=\"1\" class=\"dataframe\">\n  <thead>\n    <tr style=\"text-align: right;\">\n      <th></th>\n      <th>Revenue</th>\n      <th>CashEquivalents</th>\n      <th>MarketSecurities</th>\n      <th>SharesOutBasic</th>\n      <th>SharesOutDiluted</th>\n      <th>CashForDividends</th>\n      <th>Cash</th>\n    </tr>\n    <tr>\n      <th>FiscalYear</th>\n      <th></th>\n      <th></th>\n      <th></th>\n      <th></th>\n      <th></th>\n      <th></th>\n      <th></th>\n    </tr>\n  </thead>\n  <tbody>\n    <tr>\n      <th>1984</th>\n      <td>90854.0</td>\n      <td>3290.0</td>\n      <td>0.0</td>\n      <td>6503.529</td>\n      <td>6503.529</td>\n      <td>0.0</td>\n      <td>3290.0</td>\n    </tr>\n    <tr>\n      <th>1985</th>\n      <td>86673.0</td>\n      <td>2474.0</td>\n      <td>0.0</td>\n      <td>6012.346</td>\n      <td>6012.346</td>\n      <td>0.0</td>\n      <td>2474.0</td>\n    </tr>\n    <tr>\n      <th>1986</th>\n      <td>69888.0</td>\n      <td>3816.0</td>\n      <td>0.0</td>\n      <td>5763.441</td>\n      <td>5763.441</td>\n      <td>0.0</td>\n      <td>3816.0</td>\n    </tr>\n    <tr>\n      <th>1987</th>\n      <td>76416.0</td>\n      <td>2531.0</td>\n      <td>0.0</td>\n      <td>5627.907</td>\n      <td>5627.907</td>\n      <td>0.0</td>\n      <td>2531.0</td>\n    </tr>\n    <tr>\n      <th>1988</th>\n      <td>79557.0</td>\n      <td>2409.0</td>\n      <td>0.0</td>\n      <td>5313.131</td>\n      <td>5313.131</td>\n      <td>0.0</td>\n      <td>2409.0</td>\n    </tr>\n    <tr>\n      <th>1989</th>\n      <td>86656.0</td>\n      <td>1865.0</td>\n      <td>0.0</td>\n      <td>5124.088</td>\n      <td>5124.088</td>\n      <td>-3170.0</td>\n      <td>1865.0</td>\n    </tr>\n    <tr>\n      <th>1990</th>\n      <td>105519.0</td>\n      <td>1332.0</td>\n      <td>0.0</td>\n      <td>4989.697</td>\n      <td>4989.697</td>\n      <td>-3397.0</td>\n      <td>1332.0</td>\n    </tr>\n    <tr>\n      <th>1991</th>\n      <td>102847.0</td>\n      <td>1496.0</td>\n      <td>0.0</td>\n      <td>4963.677</td>\n      <td>4963.677</td>\n      <td>-3645.0</td>\n      <td>1496.0</td>\n    </tr>\n    <tr>\n      <th>1992</th>\n      <td>103160.0</td>\n      <td>898.0</td>\n      <td>0.0</td>\n      <td>4983.280</td>\n      <td>4983.280</td>\n      <td>-3832.0</td>\n      <td>898.0</td>\n    </tr>\n    <tr>\n      <th>1993</th>\n      <td>97825.0</td>\n      <td>983.0</td>\n      <td>0.0</td>\n      <td>4957.238</td>\n      <td>4980.957</td>\n      <td>-3879.0</td>\n      <td>983.0</td>\n    </tr>\n    <tr>\n      <th>1994</th>\n      <td>99683.0</td>\n      <td>1157.0</td>\n      <td>0.0</td>\n      <td>4970.909</td>\n      <td>5039.370</td>\n      <td>-4079.0</td>\n      <td>1157.0</td>\n    </tr>\n    <tr>\n      <th>1995</th>\n      <td>107893.0</td>\n      <td>1508.0</td>\n      <td>0.0</td>\n      <td>4996.139</td>\n      <td>4996.139</td>\n      <td>-4047.0</td>\n      <td>1508.0</td>\n    </tr>\n    <tr>\n      <th>1996</th>\n      <td>116728.0</td>\n      <td>2951.0</td>\n      <td>0.0</td>\n      <td>4972.093</td>\n      <td>5040.201</td>\n      <td>-4193.0</td>\n      <td>2951.0</td>\n    </tr>\n    <tr>\n      <th>1997</th>\n      <td>176552.0</td>\n      <td>4047.0</td>\n      <td>0.0</td>\n      <td>4966.667</td>\n      <td>5029.536</td>\n      <td>-6177.0</td>\n      <td>4047.0</td>\n    </tr>\n    <tr>\n      <th>1998</th>\n      <td>165627.0</td>\n      <td>2386.0</td>\n      <td>50.0</td>\n      <td>4885.572</td>\n      <td>4934.673</td>\n      <td>-6230.0</td>\n      <td>2436.0</td>\n    </tr>\n    <tr>\n      <th>1999</th>\n      <td>182529.0</td>\n      <td>1688.0</td>\n      <td>73.0</td>\n      <td>6907.018</td>\n      <td>6999.111</td>\n      <td>-6091.0</td>\n      <td>1761.0</td>\n    </tr>\n    <tr>\n      <th>2000</th>\n      <td>231846.0</td>\n      <td>7080.0</td>\n      <td>0.0</td>\n      <td>6949.020</td>\n      <td>7031.746</td>\n      <td>-6374.0</td>\n      <td>7080.0</td>\n    </tr>\n    <tr>\n      <th>2001</th>\n      <td>212785.0</td>\n      <td>6547.0</td>\n      <td>0.0</td>\n      <td>6869.955</td>\n      <td>6932.127</td>\n      <td>-6448.0</td>\n      <td>6547.0</td>\n    </tr>\n    <tr>\n      <th>2002</th>\n      <td>204506.0</td>\n      <td>7229.0</td>\n      <td>0.0</td>\n      <td>6781.065</td>\n      <td>6821.429</td>\n      <td>-6386.0</td>\n      <td>7229.0</td>\n    </tr>\n    <tr>\n      <th>2003</th>\n      <td>246738.0</td>\n      <td>10626.0</td>\n      <td>0.0</td>\n      <td>6638.889</td>\n      <td>6659.443</td>\n      <td>-6945.0</td>\n      <td>10626.0</td>\n    </tr>\n    <tr>\n      <th>2004</th>\n      <td>298035.0</td>\n      <td>18531.0</td>\n      <td>0.0</td>\n      <td>6478.261</td>\n      <td>6511.568</td>\n      <td>-7111.0</td>\n      <td>18531.0</td>\n    </tr>\n    <tr>\n      <th>2005</th>\n      <td>370680.0</td>\n      <td>28671.0</td>\n      <td>0.0</td>\n      <td>6272.569</td>\n      <td>6327.496</td>\n      <td>-7478.0</td>\n      <td>28671.0</td>\n    </tr>\n    <tr>\n      <th>2006</th>\n      <td>377635.0</td>\n      <td>28244.0</td>\n      <td>0.0</td>\n      <td>5913.174</td>\n      <td>5966.767</td>\n      <td>-7867.0</td>\n      <td>28244.0</td>\n    </tr>\n    <tr>\n      <th>2007</th>\n      <td>395651.0</td>\n      <td>33981.0</td>\n      <td>519.0</td>\n      <td>5557.000</td>\n      <td>5593.664</td>\n      <td>-7621.0</td>\n      <td>34500.0</td>\n    </tr>\n    <tr>\n      <th>2008</th>\n      <td>466278.0</td>\n      <td>31437.0</td>\n      <td>570.0</td>\n      <td>5194.000</td>\n      <td>5221.709</td>\n      <td>-8058.0</td>\n      <td>32007.0</td>\n    </tr>\n    <tr>\n      <th>2009</th>\n      <td>303443.0</td>\n      <td>10693.0</td>\n      <td>169.0</td>\n      <td>4832.000</td>\n      <td>4848.000</td>\n      <td>-8023.0</td>\n      <td>10862.0</td>\n    </tr>\n    <tr>\n      <th>2010</th>\n      <td>370125.0</td>\n      <td>7825.0</td>\n      <td>0.0</td>\n      <td>4885.000</td>\n      <td>4897.106</td>\n      <td>-8498.0</td>\n      <td>7825.0</td>\n    </tr>\n    <tr>\n      <th>2011</th>\n      <td>467029.0</td>\n      <td>12664.0</td>\n      <td>0.0</td>\n      <td>4870.000</td>\n      <td>4870.000</td>\n      <td>-9020.0</td>\n      <td>12664.0</td>\n    </tr>\n    <tr>\n      <th>2012</th>\n      <td>451509.0</td>\n      <td>9582.0</td>\n      <td>0.0</td>\n      <td>4628.000</td>\n      <td>4628.000</td>\n      <td>-10092.0</td>\n      <td>9582.0</td>\n    </tr>\n    <tr>\n      <th>2013</th>\n      <td>420836.0</td>\n      <td>4644.0</td>\n      <td>0.0</td>\n      <td>4419.000</td>\n      <td>4419.000</td>\n      <td>-10875.0</td>\n      <td>4644.0</td>\n    </tr>\n    <tr>\n      <th>2014</th>\n      <td>394105.0</td>\n      <td>4616.0</td>\n      <td>0.0</td>\n      <td>4282.000</td>\n      <td>4282.000</td>\n      <td>-11568.0</td>\n      <td>4616.0</td>\n    </tr>\n    <tr>\n      <th>2015</th>\n      <td>239854.0</td>\n      <td>3705.0</td>\n      <td>0.0</td>\n      <td>4196.000</td>\n      <td>4196.000</td>\n      <td>-12090.0</td>\n      <td>3705.0</td>\n    </tr>\n    <tr>\n      <th>2016</th>\n      <td>200628.0</td>\n      <td>3657.0</td>\n      <td>0.0</td>\n      <td>4177.000</td>\n      <td>4177.000</td>\n      <td>-12453.0</td>\n      <td>3657.0</td>\n    </tr>\n    <tr>\n      <th>2017</th>\n      <td>237162.0</td>\n      <td>3177.0</td>\n      <td>0.0</td>\n      <td>4256.000</td>\n      <td>4256.000</td>\n      <td>-13001.0</td>\n      <td>3177.0</td>\n    </tr>\n    <tr>\n      <th>2018</th>\n      <td>279332.0</td>\n      <td>3042.0</td>\n      <td>0.0</td>\n      <td>4270.000</td>\n      <td>4270.000</td>\n      <td>-13798.0</td>\n      <td>3042.0</td>\n    </tr>\n    <tr>\n      <th>2019</th>\n      <td>255583.0</td>\n      <td>3089.0</td>\n      <td>0.0</td>\n      <td>4270.000</td>\n      <td>4270.000</td>\n      <td>-14652.0</td>\n      <td>3089.0</td>\n    </tr>\n    <tr>\n      <th>2020</th>\n      <td>178574.0</td>\n      <td>4364.0</td>\n      <td>0.0</td>\n      <td>4271.000</td>\n      <td>4271.000</td>\n      <td>-14865.0</td>\n      <td>4364.0</td>\n    </tr>\n    <tr>\n      <th>2021</th>\n      <td>276692.0</td>\n      <td>6802.0</td>\n      <td>0.0</td>\n      <td>4275.000</td>\n      <td>4275.000</td>\n      <td>-14924.0</td>\n      <td>6802.0</td>\n    </tr>\n    <tr>\n      <th>2022</th>\n      <td>398675.0</td>\n      <td>29640.0</td>\n      <td>0.0</td>\n      <td>4205.000</td>\n      <td>4205.000</td>\n      <td>-14939.0</td>\n      <td>29640.0</td>\n    </tr>\n    <tr>\n      <th>2023</th>\n      <td>334697.0</td>\n      <td>31539.0</td>\n      <td>0.0</td>\n      <td>4052.000</td>\n      <td>4052.000</td>\n      <td>-14941.0</td>\n      <td>31539.0</td>\n    </tr>\n  </tbody>\n</table>\n</div>"
     },
     "execution_count": 2,
     "metadata": {},
     "output_type": "execute_result"
    }
   ],
   "source": [
    "grow_df = pd.read_csv(Grow_Data_Fy,index_col='FiscalYear')\n",
    "grow_df['Cash'] = grow_df['CashEquivalents'] + grow_df['MarketSecurities']\n",
    "grow_df"
   ],
   "metadata": {
    "collapsed": false,
    "pycharm": {
     "name": "#%%\n"
    }
   }
  },
  {
   "cell_type": "code",
   "execution_count": 3,
   "outputs": [
    {
     "name": "stdout",
     "output_type": "stream",
     "text": [
      "Ten Year Average Revenue Growth: 1.85%\n",
      "Five Year Average Revenue Growth: 8.87%\n",
      "Three Year Average Revenue Growth: 27.66%\n"
     ]
    },
    {
     "data": {
      "text/plain": "             Revenue  PercentChange\nFiscalYear                         \n1984         90854.0            NaN\n1985         86673.0          -4.60\n1986         69888.0         -19.37\n1987         76416.0           9.34\n1988         79557.0           4.11\n1989         86656.0           8.92\n1990        105519.0          21.77\n1991        102847.0          -2.53\n1992        103160.0           0.30\n1993         97825.0          -5.17\n1994         99683.0           1.90\n1995        107893.0           8.24\n1996        116728.0           8.19\n1997        176552.0          51.25\n1998        165627.0          -6.19\n1999        182529.0          10.20\n2000        231846.0          27.02\n2001        212785.0          -8.22\n2002        204506.0          -3.89\n2003        246738.0          20.65\n2004        298035.0          20.79\n2005        370680.0          24.37\n2006        377635.0           1.88\n2007        395651.0           4.77\n2008        466278.0          17.85\n2009        303443.0         -34.92\n2010        370125.0          21.98\n2011        467029.0          26.18\n2012        451509.0          -3.32\n2013        420836.0          -6.79\n2014        394105.0          -6.35\n2015        239854.0         -39.14\n2016        200628.0         -16.35\n2017        237162.0          18.21\n2018        279332.0          17.78\n2019        255583.0          -8.50\n2020        178574.0         -30.13\n2021        276692.0          54.95\n2022        398675.0          44.09\n2023        334697.0         -16.05",
      "text/html": "<div>\n<style scoped>\n    .dataframe tbody tr th:only-of-type {\n        vertical-align: middle;\n    }\n\n    .dataframe tbody tr th {\n        vertical-align: top;\n    }\n\n    .dataframe thead th {\n        text-align: right;\n    }\n</style>\n<table border=\"1\" class=\"dataframe\">\n  <thead>\n    <tr style=\"text-align: right;\">\n      <th></th>\n      <th>Revenue</th>\n      <th>PercentChange</th>\n    </tr>\n    <tr>\n      <th>FiscalYear</th>\n      <th></th>\n      <th></th>\n    </tr>\n  </thead>\n  <tbody>\n    <tr>\n      <th>1984</th>\n      <td>90854.0</td>\n      <td>NaN</td>\n    </tr>\n    <tr>\n      <th>1985</th>\n      <td>86673.0</td>\n      <td>-4.60</td>\n    </tr>\n    <tr>\n      <th>1986</th>\n      <td>69888.0</td>\n      <td>-19.37</td>\n    </tr>\n    <tr>\n      <th>1987</th>\n      <td>76416.0</td>\n      <td>9.34</td>\n    </tr>\n    <tr>\n      <th>1988</th>\n      <td>79557.0</td>\n      <td>4.11</td>\n    </tr>\n    <tr>\n      <th>1989</th>\n      <td>86656.0</td>\n      <td>8.92</td>\n    </tr>\n    <tr>\n      <th>1990</th>\n      <td>105519.0</td>\n      <td>21.77</td>\n    </tr>\n    <tr>\n      <th>1991</th>\n      <td>102847.0</td>\n      <td>-2.53</td>\n    </tr>\n    <tr>\n      <th>1992</th>\n      <td>103160.0</td>\n      <td>0.30</td>\n    </tr>\n    <tr>\n      <th>1993</th>\n      <td>97825.0</td>\n      <td>-5.17</td>\n    </tr>\n    <tr>\n      <th>1994</th>\n      <td>99683.0</td>\n      <td>1.90</td>\n    </tr>\n    <tr>\n      <th>1995</th>\n      <td>107893.0</td>\n      <td>8.24</td>\n    </tr>\n    <tr>\n      <th>1996</th>\n      <td>116728.0</td>\n      <td>8.19</td>\n    </tr>\n    <tr>\n      <th>1997</th>\n      <td>176552.0</td>\n      <td>51.25</td>\n    </tr>\n    <tr>\n      <th>1998</th>\n      <td>165627.0</td>\n      <td>-6.19</td>\n    </tr>\n    <tr>\n      <th>1999</th>\n      <td>182529.0</td>\n      <td>10.20</td>\n    </tr>\n    <tr>\n      <th>2000</th>\n      <td>231846.0</td>\n      <td>27.02</td>\n    </tr>\n    <tr>\n      <th>2001</th>\n      <td>212785.0</td>\n      <td>-8.22</td>\n    </tr>\n    <tr>\n      <th>2002</th>\n      <td>204506.0</td>\n      <td>-3.89</td>\n    </tr>\n    <tr>\n      <th>2003</th>\n      <td>246738.0</td>\n      <td>20.65</td>\n    </tr>\n    <tr>\n      <th>2004</th>\n      <td>298035.0</td>\n      <td>20.79</td>\n    </tr>\n    <tr>\n      <th>2005</th>\n      <td>370680.0</td>\n      <td>24.37</td>\n    </tr>\n    <tr>\n      <th>2006</th>\n      <td>377635.0</td>\n      <td>1.88</td>\n    </tr>\n    <tr>\n      <th>2007</th>\n      <td>395651.0</td>\n      <td>4.77</td>\n    </tr>\n    <tr>\n      <th>2008</th>\n      <td>466278.0</td>\n      <td>17.85</td>\n    </tr>\n    <tr>\n      <th>2009</th>\n      <td>303443.0</td>\n      <td>-34.92</td>\n    </tr>\n    <tr>\n      <th>2010</th>\n      <td>370125.0</td>\n      <td>21.98</td>\n    </tr>\n    <tr>\n      <th>2011</th>\n      <td>467029.0</td>\n      <td>26.18</td>\n    </tr>\n    <tr>\n      <th>2012</th>\n      <td>451509.0</td>\n      <td>-3.32</td>\n    </tr>\n    <tr>\n      <th>2013</th>\n      <td>420836.0</td>\n      <td>-6.79</td>\n    </tr>\n    <tr>\n      <th>2014</th>\n      <td>394105.0</td>\n      <td>-6.35</td>\n    </tr>\n    <tr>\n      <th>2015</th>\n      <td>239854.0</td>\n      <td>-39.14</td>\n    </tr>\n    <tr>\n      <th>2016</th>\n      <td>200628.0</td>\n      <td>-16.35</td>\n    </tr>\n    <tr>\n      <th>2017</th>\n      <td>237162.0</td>\n      <td>18.21</td>\n    </tr>\n    <tr>\n      <th>2018</th>\n      <td>279332.0</td>\n      <td>17.78</td>\n    </tr>\n    <tr>\n      <th>2019</th>\n      <td>255583.0</td>\n      <td>-8.50</td>\n    </tr>\n    <tr>\n      <th>2020</th>\n      <td>178574.0</td>\n      <td>-30.13</td>\n    </tr>\n    <tr>\n      <th>2021</th>\n      <td>276692.0</td>\n      <td>54.95</td>\n    </tr>\n    <tr>\n      <th>2022</th>\n      <td>398675.0</td>\n      <td>44.09</td>\n    </tr>\n    <tr>\n      <th>2023</th>\n      <td>334697.0</td>\n      <td>-16.05</td>\n    </tr>\n  </tbody>\n</table>\n</div>"
     },
     "execution_count": 3,
     "metadata": {},
     "output_type": "execute_result"
    }
   ],
   "source": [
    "rev_s = pd.Series(grow_df['Revenue'])\n",
    "rev_pc_s = round(rev_s.pct_change() * 100, 2)\n",
    "rev_dict = {'Revenue' : rev_s, 'PercentChange' : rev_pc_s}\n",
    "\n",
    "rev_df = pd.DataFrame(rev_dict)\n",
    "rev_df_10 = rev_df[rev_df.index > year10]\n",
    "rev_df_5 = rev_df[rev_df.index > year5]\n",
    "rev_df_3 = rev_df[rev_df.index > year3]\n",
    "\n",
    "rev_mn_10 = round(rev_df_10['PercentChange'].mean(), 2)\n",
    "rev_mn_5 = round(rev_df_5['PercentChange'].mean(), 2)\n",
    "rev_mn_3 = round(rev_df_3['PercentChange'].mean(), 2)\n",
    "\n",
    "\n",
    "print(f'Ten Year Average Revenue Growth: {rev_mn_10}%')\n",
    "print(f'Five Year Average Revenue Growth: {rev_mn_5}%')\n",
    "print(f'Three Year Average Revenue Growth: {rev_mn_3}%')\n",
    "\n",
    "\n",
    "rev_df"
   ],
   "metadata": {
    "collapsed": false,
    "pycharm": {
     "name": "#%%\n"
    }
   }
  },
  {
   "cell_type": "markdown",
   "source": [
    "# Cash On Hand Growth"
   ],
   "metadata": {
    "collapsed": false,
    "pycharm": {
     "name": "#%% md\n"
    }
   }
  },
  {
   "cell_type": "code",
   "execution_count": 4,
   "outputs": [
    {
     "data": {
      "text/plain": "               Cash  PercentChange\nFiscalYear                        \n1984         3290.0            NaN\n1985         2474.0         -24.80\n1986         3816.0          54.24\n1987         2531.0         -33.67\n1988         2409.0          -4.82\n1989         1865.0         -22.58\n1990         1332.0         -28.58\n1991         1496.0          12.31\n1992          898.0         -39.97\n1993          983.0           9.47\n1994         1157.0          17.70\n1995         1508.0          30.34\n1996         2951.0          95.69\n1997         4047.0          37.14\n1998         2436.0         -39.81\n1999         1761.0         -27.71\n2000         7080.0         302.04\n2001         6547.0          -7.53\n2002         7229.0          10.42\n2003        10626.0          46.99\n2004        18531.0          74.39\n2005        28671.0          54.72\n2006        28244.0          -1.49\n2007        34500.0          22.15\n2008        32007.0          -7.23\n2009        10862.0         -66.06\n2010         7825.0         -27.96\n2011        12664.0          61.84\n2012         9582.0         -24.34\n2013         4644.0         -51.53\n2014         4616.0          -0.60\n2015         3705.0         -19.74\n2016         3657.0          -1.30\n2017         3177.0         -13.13\n2018         3042.0          -4.25\n2019         3089.0           1.55\n2020         4364.0          41.28\n2021         6802.0          55.87\n2022        29640.0         335.75\n2023        31539.0           6.41",
      "text/html": "<div>\n<style scoped>\n    .dataframe tbody tr th:only-of-type {\n        vertical-align: middle;\n    }\n\n    .dataframe tbody tr th {\n        vertical-align: top;\n    }\n\n    .dataframe thead th {\n        text-align: right;\n    }\n</style>\n<table border=\"1\" class=\"dataframe\">\n  <thead>\n    <tr style=\"text-align: right;\">\n      <th></th>\n      <th>Cash</th>\n      <th>PercentChange</th>\n    </tr>\n    <tr>\n      <th>FiscalYear</th>\n      <th></th>\n      <th></th>\n    </tr>\n  </thead>\n  <tbody>\n    <tr>\n      <th>1984</th>\n      <td>3290.0</td>\n      <td>NaN</td>\n    </tr>\n    <tr>\n      <th>1985</th>\n      <td>2474.0</td>\n      <td>-24.80</td>\n    </tr>\n    <tr>\n      <th>1986</th>\n      <td>3816.0</td>\n      <td>54.24</td>\n    </tr>\n    <tr>\n      <th>1987</th>\n      <td>2531.0</td>\n      <td>-33.67</td>\n    </tr>\n    <tr>\n      <th>1988</th>\n      <td>2409.0</td>\n      <td>-4.82</td>\n    </tr>\n    <tr>\n      <th>1989</th>\n      <td>1865.0</td>\n      <td>-22.58</td>\n    </tr>\n    <tr>\n      <th>1990</th>\n      <td>1332.0</td>\n      <td>-28.58</td>\n    </tr>\n    <tr>\n      <th>1991</th>\n      <td>1496.0</td>\n      <td>12.31</td>\n    </tr>\n    <tr>\n      <th>1992</th>\n      <td>898.0</td>\n      <td>-39.97</td>\n    </tr>\n    <tr>\n      <th>1993</th>\n      <td>983.0</td>\n      <td>9.47</td>\n    </tr>\n    <tr>\n      <th>1994</th>\n      <td>1157.0</td>\n      <td>17.70</td>\n    </tr>\n    <tr>\n      <th>1995</th>\n      <td>1508.0</td>\n      <td>30.34</td>\n    </tr>\n    <tr>\n      <th>1996</th>\n      <td>2951.0</td>\n      <td>95.69</td>\n    </tr>\n    <tr>\n      <th>1997</th>\n      <td>4047.0</td>\n      <td>37.14</td>\n    </tr>\n    <tr>\n      <th>1998</th>\n      <td>2436.0</td>\n      <td>-39.81</td>\n    </tr>\n    <tr>\n      <th>1999</th>\n      <td>1761.0</td>\n      <td>-27.71</td>\n    </tr>\n    <tr>\n      <th>2000</th>\n      <td>7080.0</td>\n      <td>302.04</td>\n    </tr>\n    <tr>\n      <th>2001</th>\n      <td>6547.0</td>\n      <td>-7.53</td>\n    </tr>\n    <tr>\n      <th>2002</th>\n      <td>7229.0</td>\n      <td>10.42</td>\n    </tr>\n    <tr>\n      <th>2003</th>\n      <td>10626.0</td>\n      <td>46.99</td>\n    </tr>\n    <tr>\n      <th>2004</th>\n      <td>18531.0</td>\n      <td>74.39</td>\n    </tr>\n    <tr>\n      <th>2005</th>\n      <td>28671.0</td>\n      <td>54.72</td>\n    </tr>\n    <tr>\n      <th>2006</th>\n      <td>28244.0</td>\n      <td>-1.49</td>\n    </tr>\n    <tr>\n      <th>2007</th>\n      <td>34500.0</td>\n      <td>22.15</td>\n    </tr>\n    <tr>\n      <th>2008</th>\n      <td>32007.0</td>\n      <td>-7.23</td>\n    </tr>\n    <tr>\n      <th>2009</th>\n      <td>10862.0</td>\n      <td>-66.06</td>\n    </tr>\n    <tr>\n      <th>2010</th>\n      <td>7825.0</td>\n      <td>-27.96</td>\n    </tr>\n    <tr>\n      <th>2011</th>\n      <td>12664.0</td>\n      <td>61.84</td>\n    </tr>\n    <tr>\n      <th>2012</th>\n      <td>9582.0</td>\n      <td>-24.34</td>\n    </tr>\n    <tr>\n      <th>2013</th>\n      <td>4644.0</td>\n      <td>-51.53</td>\n    </tr>\n    <tr>\n      <th>2014</th>\n      <td>4616.0</td>\n      <td>-0.60</td>\n    </tr>\n    <tr>\n      <th>2015</th>\n      <td>3705.0</td>\n      <td>-19.74</td>\n    </tr>\n    <tr>\n      <th>2016</th>\n      <td>3657.0</td>\n      <td>-1.30</td>\n    </tr>\n    <tr>\n      <th>2017</th>\n      <td>3177.0</td>\n      <td>-13.13</td>\n    </tr>\n    <tr>\n      <th>2018</th>\n      <td>3042.0</td>\n      <td>-4.25</td>\n    </tr>\n    <tr>\n      <th>2019</th>\n      <td>3089.0</td>\n      <td>1.55</td>\n    </tr>\n    <tr>\n      <th>2020</th>\n      <td>4364.0</td>\n      <td>41.28</td>\n    </tr>\n    <tr>\n      <th>2021</th>\n      <td>6802.0</td>\n      <td>55.87</td>\n    </tr>\n    <tr>\n      <th>2022</th>\n      <td>29640.0</td>\n      <td>335.75</td>\n    </tr>\n    <tr>\n      <th>2023</th>\n      <td>31539.0</td>\n      <td>6.41</td>\n    </tr>\n  </tbody>\n</table>\n</div>"
     },
     "execution_count": 4,
     "metadata": {},
     "output_type": "execute_result"
    }
   ],
   "source": [
    "cash_s = pd.Series(grow_df['Cash'])\n",
    "cash_pc_s = round(cash_s.pct_change() * 100, 2)\n",
    "cash_dict = {'Cash' : cash_s, 'PercentChange' : cash_pc_s}\n",
    "\n",
    "cash_df = pd.DataFrame(cash_dict)\n",
    "\n",
    "cash_df"
   ],
   "metadata": {
    "collapsed": false,
    "pycharm": {
     "name": "#%%\n"
    }
   }
  },
  {
   "cell_type": "markdown",
   "source": [
    "# Shares Outstanding"
   ],
   "metadata": {
    "collapsed": false,
    "pycharm": {
     "name": "#%% md\n"
    }
   }
  },
  {
   "cell_type": "code",
   "execution_count": 5,
   "outputs": [
    {
     "name": "stdout",
     "output_type": "stream",
     "text": [
      "Ten YearAverage Share Growth: -0.85%\n",
      "Five Year Average Share Growth: -1.03%\n",
      "Three Year Average Share Growth: -1.73%\n"
     ]
    },
    {
     "data": {
      "text/plain": "            SharesOutDiluted  PercentChange\nFiscalYear                                 \n1984                6503.529            NaN\n1985                6012.346          -7.55\n1986                5763.441          -4.14\n1987                5627.907          -2.35\n1988                5313.131          -5.59\n1989                5124.088          -3.56\n1990                4989.697          -2.62\n1991                4963.677          -0.52\n1992                4983.280           0.39\n1993                4980.957          -0.05\n1994                5039.370           1.17\n1995                4996.139          -0.86\n1996                5040.201           0.88\n1997                5029.536          -0.21\n1998                4934.673          -1.89\n1999                6999.111          41.84\n2000                7031.746           0.47\n2001                6932.127          -1.42\n2002                6821.429          -1.60\n2003                6659.443          -2.37\n2004                6511.568          -2.22\n2005                6327.496          -2.83\n2006                5966.767          -5.70\n2007                5593.664          -6.25\n2008                5221.709          -6.65\n2009                4848.000          -7.16\n2010                4897.106           1.01\n2011                4870.000          -0.55\n2012                4628.000          -4.97\n2013                4419.000          -4.52\n2014                4282.000          -3.10\n2015                4196.000          -2.01\n2016                4177.000          -0.45\n2017                4256.000           1.89\n2018                4270.000           0.33\n2019                4270.000           0.00\n2020                4271.000           0.02\n2021                4275.000           0.09\n2022                4205.000          -1.64\n2023                4052.000          -3.64",
      "text/html": "<div>\n<style scoped>\n    .dataframe tbody tr th:only-of-type {\n        vertical-align: middle;\n    }\n\n    .dataframe tbody tr th {\n        vertical-align: top;\n    }\n\n    .dataframe thead th {\n        text-align: right;\n    }\n</style>\n<table border=\"1\" class=\"dataframe\">\n  <thead>\n    <tr style=\"text-align: right;\">\n      <th></th>\n      <th>SharesOutDiluted</th>\n      <th>PercentChange</th>\n    </tr>\n    <tr>\n      <th>FiscalYear</th>\n      <th></th>\n      <th></th>\n    </tr>\n  </thead>\n  <tbody>\n    <tr>\n      <th>1984</th>\n      <td>6503.529</td>\n      <td>NaN</td>\n    </tr>\n    <tr>\n      <th>1985</th>\n      <td>6012.346</td>\n      <td>-7.55</td>\n    </tr>\n    <tr>\n      <th>1986</th>\n      <td>5763.441</td>\n      <td>-4.14</td>\n    </tr>\n    <tr>\n      <th>1987</th>\n      <td>5627.907</td>\n      <td>-2.35</td>\n    </tr>\n    <tr>\n      <th>1988</th>\n      <td>5313.131</td>\n      <td>-5.59</td>\n    </tr>\n    <tr>\n      <th>1989</th>\n      <td>5124.088</td>\n      <td>-3.56</td>\n    </tr>\n    <tr>\n      <th>1990</th>\n      <td>4989.697</td>\n      <td>-2.62</td>\n    </tr>\n    <tr>\n      <th>1991</th>\n      <td>4963.677</td>\n      <td>-0.52</td>\n    </tr>\n    <tr>\n      <th>1992</th>\n      <td>4983.280</td>\n      <td>0.39</td>\n    </tr>\n    <tr>\n      <th>1993</th>\n      <td>4980.957</td>\n      <td>-0.05</td>\n    </tr>\n    <tr>\n      <th>1994</th>\n      <td>5039.370</td>\n      <td>1.17</td>\n    </tr>\n    <tr>\n      <th>1995</th>\n      <td>4996.139</td>\n      <td>-0.86</td>\n    </tr>\n    <tr>\n      <th>1996</th>\n      <td>5040.201</td>\n      <td>0.88</td>\n    </tr>\n    <tr>\n      <th>1997</th>\n      <td>5029.536</td>\n      <td>-0.21</td>\n    </tr>\n    <tr>\n      <th>1998</th>\n      <td>4934.673</td>\n      <td>-1.89</td>\n    </tr>\n    <tr>\n      <th>1999</th>\n      <td>6999.111</td>\n      <td>41.84</td>\n    </tr>\n    <tr>\n      <th>2000</th>\n      <td>7031.746</td>\n      <td>0.47</td>\n    </tr>\n    <tr>\n      <th>2001</th>\n      <td>6932.127</td>\n      <td>-1.42</td>\n    </tr>\n    <tr>\n      <th>2002</th>\n      <td>6821.429</td>\n      <td>-1.60</td>\n    </tr>\n    <tr>\n      <th>2003</th>\n      <td>6659.443</td>\n      <td>-2.37</td>\n    </tr>\n    <tr>\n      <th>2004</th>\n      <td>6511.568</td>\n      <td>-2.22</td>\n    </tr>\n    <tr>\n      <th>2005</th>\n      <td>6327.496</td>\n      <td>-2.83</td>\n    </tr>\n    <tr>\n      <th>2006</th>\n      <td>5966.767</td>\n      <td>-5.70</td>\n    </tr>\n    <tr>\n      <th>2007</th>\n      <td>5593.664</td>\n      <td>-6.25</td>\n    </tr>\n    <tr>\n      <th>2008</th>\n      <td>5221.709</td>\n      <td>-6.65</td>\n    </tr>\n    <tr>\n      <th>2009</th>\n      <td>4848.000</td>\n      <td>-7.16</td>\n    </tr>\n    <tr>\n      <th>2010</th>\n      <td>4897.106</td>\n      <td>1.01</td>\n    </tr>\n    <tr>\n      <th>2011</th>\n      <td>4870.000</td>\n      <td>-0.55</td>\n    </tr>\n    <tr>\n      <th>2012</th>\n      <td>4628.000</td>\n      <td>-4.97</td>\n    </tr>\n    <tr>\n      <th>2013</th>\n      <td>4419.000</td>\n      <td>-4.52</td>\n    </tr>\n    <tr>\n      <th>2014</th>\n      <td>4282.000</td>\n      <td>-3.10</td>\n    </tr>\n    <tr>\n      <th>2015</th>\n      <td>4196.000</td>\n      <td>-2.01</td>\n    </tr>\n    <tr>\n      <th>2016</th>\n      <td>4177.000</td>\n      <td>-0.45</td>\n    </tr>\n    <tr>\n      <th>2017</th>\n      <td>4256.000</td>\n      <td>1.89</td>\n    </tr>\n    <tr>\n      <th>2018</th>\n      <td>4270.000</td>\n      <td>0.33</td>\n    </tr>\n    <tr>\n      <th>2019</th>\n      <td>4270.000</td>\n      <td>0.00</td>\n    </tr>\n    <tr>\n      <th>2020</th>\n      <td>4271.000</td>\n      <td>0.02</td>\n    </tr>\n    <tr>\n      <th>2021</th>\n      <td>4275.000</td>\n      <td>0.09</td>\n    </tr>\n    <tr>\n      <th>2022</th>\n      <td>4205.000</td>\n      <td>-1.64</td>\n    </tr>\n    <tr>\n      <th>2023</th>\n      <td>4052.000</td>\n      <td>-3.64</td>\n    </tr>\n  </tbody>\n</table>\n</div>"
     },
     "execution_count": 5,
     "metadata": {},
     "output_type": "execute_result"
    }
   ],
   "source": [
    "share_s = pd.Series(grow_df['SharesOutDiluted'])\n",
    "share_pc_s = round(share_s.pct_change() * 100, 2)\n",
    "share_dict = {'SharesOutDiluted' : share_s, 'PercentChange' : share_pc_s}\n",
    "\n",
    "share_df = pd.DataFrame(share_dict)\n",
    "\n",
    "share_df_10 = share_df[share_df.index > year10]\n",
    "share_df_5 = share_df[share_df.index > year5]\n",
    "share_df_3 = share_df[share_df.index > year3]\n",
    "\n",
    "share_mn_10 = round(share_df_10['PercentChange'].mean(), 2)\n",
    "share_mn_5 = round(share_df_5['PercentChange'].mean(), 2)\n",
    "share_mn_3 = round(share_df_3['PercentChange'].mean(), 2)\n",
    "\n",
    "print(f'Ten YearAverage Share Growth: {share_mn_10}%')\n",
    "print(f'Five Year Average Share Growth: {share_mn_5}%')\n",
    "print(f'Three Year Average Share Growth: {share_mn_3}%')\n",
    "\n",
    "share_df"
   ],
   "metadata": {
    "collapsed": false,
    "pycharm": {
     "name": "#%%\n"
    }
   }
  },
  {
   "cell_type": "markdown",
   "source": [
    "# Dividend Growth"
   ],
   "metadata": {
    "collapsed": false,
    "pycharm": {
     "name": "#%% md\n"
    }
   }
  },
  {
   "cell_type": "code",
   "execution_count": 6,
   "outputs": [
    {
     "name": "stdout",
     "output_type": "stream",
     "text": [
      "Ten YearAverage Dividend Growth: 3.26%\n",
      "Five Year Average Dividend Growth: 1.63%\n",
      "Three Year Average Dividend Growth: 0.17%\n"
     ]
    },
    {
     "data": {
      "text/plain": "            CashForDividends  PercentChange\nFiscalYear                                 \n1984                     0.0            NaN\n1985                     0.0            NaN\n1986                     0.0            NaN\n1987                     0.0            NaN\n1988                     0.0            NaN\n1989                  3170.0            inf\n1990                  3397.0           7.16\n1991                  3645.0           7.30\n1992                  3832.0           5.13\n1993                  3879.0           1.23\n1994                  4079.0           5.16\n1995                  4047.0          -0.78\n1996                  4193.0           3.61\n1997                  6177.0          47.32\n1998                  6230.0           0.86\n1999                  6091.0          -2.23\n2000                  6374.0           4.65\n2001                  6448.0           1.16\n2002                  6386.0          -0.96\n2003                  6945.0           8.75\n2004                  7111.0           2.39\n2005                  7478.0           5.16\n2006                  7867.0           5.20\n2007                  7621.0          -3.13\n2008                  8058.0           5.73\n2009                  8023.0          -0.43\n2010                  8498.0           5.92\n2011                  9020.0           6.14\n2012                 10092.0          11.88\n2013                 10875.0           7.76\n2014                 11568.0           6.37\n2015                 12090.0           4.51\n2016                 12453.0           3.00\n2017                 13001.0           4.40\n2018                 13798.0           6.13\n2019                 14652.0           6.19\n2020                 14865.0           1.45\n2021                 14924.0           0.40\n2022                 14939.0           0.10\n2023                 14941.0           0.01",
      "text/html": "<div>\n<style scoped>\n    .dataframe tbody tr th:only-of-type {\n        vertical-align: middle;\n    }\n\n    .dataframe tbody tr th {\n        vertical-align: top;\n    }\n\n    .dataframe thead th {\n        text-align: right;\n    }\n</style>\n<table border=\"1\" class=\"dataframe\">\n  <thead>\n    <tr style=\"text-align: right;\">\n      <th></th>\n      <th>CashForDividends</th>\n      <th>PercentChange</th>\n    </tr>\n    <tr>\n      <th>FiscalYear</th>\n      <th></th>\n      <th></th>\n    </tr>\n  </thead>\n  <tbody>\n    <tr>\n      <th>1984</th>\n      <td>0.0</td>\n      <td>NaN</td>\n    </tr>\n    <tr>\n      <th>1985</th>\n      <td>0.0</td>\n      <td>NaN</td>\n    </tr>\n    <tr>\n      <th>1986</th>\n      <td>0.0</td>\n      <td>NaN</td>\n    </tr>\n    <tr>\n      <th>1987</th>\n      <td>0.0</td>\n      <td>NaN</td>\n    </tr>\n    <tr>\n      <th>1988</th>\n      <td>0.0</td>\n      <td>NaN</td>\n    </tr>\n    <tr>\n      <th>1989</th>\n      <td>3170.0</td>\n      <td>inf</td>\n    </tr>\n    <tr>\n      <th>1990</th>\n      <td>3397.0</td>\n      <td>7.16</td>\n    </tr>\n    <tr>\n      <th>1991</th>\n      <td>3645.0</td>\n      <td>7.30</td>\n    </tr>\n    <tr>\n      <th>1992</th>\n      <td>3832.0</td>\n      <td>5.13</td>\n    </tr>\n    <tr>\n      <th>1993</th>\n      <td>3879.0</td>\n      <td>1.23</td>\n    </tr>\n    <tr>\n      <th>1994</th>\n      <td>4079.0</td>\n      <td>5.16</td>\n    </tr>\n    <tr>\n      <th>1995</th>\n      <td>4047.0</td>\n      <td>-0.78</td>\n    </tr>\n    <tr>\n      <th>1996</th>\n      <td>4193.0</td>\n      <td>3.61</td>\n    </tr>\n    <tr>\n      <th>1997</th>\n      <td>6177.0</td>\n      <td>47.32</td>\n    </tr>\n    <tr>\n      <th>1998</th>\n      <td>6230.0</td>\n      <td>0.86</td>\n    </tr>\n    <tr>\n      <th>1999</th>\n      <td>6091.0</td>\n      <td>-2.23</td>\n    </tr>\n    <tr>\n      <th>2000</th>\n      <td>6374.0</td>\n      <td>4.65</td>\n    </tr>\n    <tr>\n      <th>2001</th>\n      <td>6448.0</td>\n      <td>1.16</td>\n    </tr>\n    <tr>\n      <th>2002</th>\n      <td>6386.0</td>\n      <td>-0.96</td>\n    </tr>\n    <tr>\n      <th>2003</th>\n      <td>6945.0</td>\n      <td>8.75</td>\n    </tr>\n    <tr>\n      <th>2004</th>\n      <td>7111.0</td>\n      <td>2.39</td>\n    </tr>\n    <tr>\n      <th>2005</th>\n      <td>7478.0</td>\n      <td>5.16</td>\n    </tr>\n    <tr>\n      <th>2006</th>\n      <td>7867.0</td>\n      <td>5.20</td>\n    </tr>\n    <tr>\n      <th>2007</th>\n      <td>7621.0</td>\n      <td>-3.13</td>\n    </tr>\n    <tr>\n      <th>2008</th>\n      <td>8058.0</td>\n      <td>5.73</td>\n    </tr>\n    <tr>\n      <th>2009</th>\n      <td>8023.0</td>\n      <td>-0.43</td>\n    </tr>\n    <tr>\n      <th>2010</th>\n      <td>8498.0</td>\n      <td>5.92</td>\n    </tr>\n    <tr>\n      <th>2011</th>\n      <td>9020.0</td>\n      <td>6.14</td>\n    </tr>\n    <tr>\n      <th>2012</th>\n      <td>10092.0</td>\n      <td>11.88</td>\n    </tr>\n    <tr>\n      <th>2013</th>\n      <td>10875.0</td>\n      <td>7.76</td>\n    </tr>\n    <tr>\n      <th>2014</th>\n      <td>11568.0</td>\n      <td>6.37</td>\n    </tr>\n    <tr>\n      <th>2015</th>\n      <td>12090.0</td>\n      <td>4.51</td>\n    </tr>\n    <tr>\n      <th>2016</th>\n      <td>12453.0</td>\n      <td>3.00</td>\n    </tr>\n    <tr>\n      <th>2017</th>\n      <td>13001.0</td>\n      <td>4.40</td>\n    </tr>\n    <tr>\n      <th>2018</th>\n      <td>13798.0</td>\n      <td>6.13</td>\n    </tr>\n    <tr>\n      <th>2019</th>\n      <td>14652.0</td>\n      <td>6.19</td>\n    </tr>\n    <tr>\n      <th>2020</th>\n      <td>14865.0</td>\n      <td>1.45</td>\n    </tr>\n    <tr>\n      <th>2021</th>\n      <td>14924.0</td>\n      <td>0.40</td>\n    </tr>\n    <tr>\n      <th>2022</th>\n      <td>14939.0</td>\n      <td>0.10</td>\n    </tr>\n    <tr>\n      <th>2023</th>\n      <td>14941.0</td>\n      <td>0.01</td>\n    </tr>\n  </tbody>\n</table>\n</div>"
     },
     "execution_count": 6,
     "metadata": {},
     "output_type": "execute_result"
    }
   ],
   "source": [
    "div_s = pd.Series(grow_df['CashForDividends'].abs())\n",
    "div_pc_s = round(div_s.pct_change() * 100, 2)\n",
    "div_dict = {'CashForDividends' : div_s, 'PercentChange' : div_pc_s}\n",
    "\n",
    "div_df = pd.DataFrame(div_dict)\n",
    "\n",
    "div_df_10 = div_df[div_df.index > year10]\n",
    "div_df_5 = div_df[div_df.index > year5]\n",
    "div_df_3 = div_df[div_df.index > year3]\n",
    "\n",
    "div_mn_10 = round(div_df_10['PercentChange'].mean(), 2)\n",
    "div_mn_5 = round(div_df_5['PercentChange'].mean(), 2)\n",
    "div_mn_3 = round(div_df_3['PercentChange'].mean(), 2)\n",
    "\n",
    "print(f'Ten YearAverage Dividend Growth: {div_mn_10}%')\n",
    "print(f'Five Year Average Dividend Growth: {div_mn_5}%')\n",
    "print(f'Three Year Average Dividend Growth: {div_mn_3}%')\n",
    "\n",
    "div_df"
   ],
   "metadata": {
    "collapsed": false,
    "pycharm": {
     "name": "#%%\n"
    }
   }
  },
  {
   "cell_type": "code",
   "execution_count": 6,
   "outputs": [],
   "source": [],
   "metadata": {
    "collapsed": false,
    "pycharm": {
     "name": "#%%\n"
    }
   }
  }
 ],
 "metadata": {
  "kernelspec": {
   "display_name": "Python 3",
   "language": "python",
   "name": "python3"
  },
  "language_info": {
   "codemirror_mode": {
    "name": "ipython",
    "version": 2
   },
   "file_extension": ".py",
   "mimetype": "text/x-python",
   "name": "python",
   "nbconvert_exporter": "python",
   "pygments_lexer": "ipython2",
   "version": "2.7.6"
  }
 },
 "nbformat": 4,
 "nbformat_minor": 0
}