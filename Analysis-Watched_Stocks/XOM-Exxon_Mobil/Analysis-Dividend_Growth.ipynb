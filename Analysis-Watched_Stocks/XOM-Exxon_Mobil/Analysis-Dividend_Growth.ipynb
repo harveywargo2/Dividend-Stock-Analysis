{
 "cells": [
  {
   "cell_type": "markdown",
   "source": [
    "# Analysis Dividend Growth"
   ],
   "metadata": {
    "collapsed": false,
    "pycharm": {
     "name": "#%% md\n"
    }
   }
  },
  {
   "cell_type": "code",
   "execution_count": 1,
   "outputs": [],
   "source": [
    "import pandas as pd\n",
    "import datetime\n",
    "\n",
    "Grow_Data_Fy = 'Data_Growth_Fy-XOM.csv'\n",
    "Ps_Data_Fy = 'Data_Per_Share_Fy-XOM.csv'\n",
    "today = datetime.date.today()\n",
    "year10 = today.year - 11\n",
    "year5 = today.year - 6\n",
    "year3 = today.year - 4\n"
   ],
   "metadata": {
    "collapsed": false,
    "pycharm": {
     "name": "#%%\n"
    }
   }
  },
  {
   "cell_type": "markdown",
   "source": [
    "# Dividend Cash Growth"
   ],
   "metadata": {
    "collapsed": false,
    "pycharm": {
     "name": "#%% md\n"
    }
   }
  },
  {
   "cell_type": "code",
   "execution_count": 2,
   "outputs": [
    {
     "data": {
      "text/plain": "            Dividends  DivChange    DPS  DpsChange\nFiscalYear                                        \n1984              0.0        NaN  0.000        NaN\n1985              0.0        NaN  0.000        NaN\n1986              0.0        NaN  0.450        inf\n1987              0.0        NaN  0.475       5.56\n1988              0.0        NaN  0.538      13.26\n1989           3170.0        inf  0.575       6.88\n1990           3397.0       7.16  0.618       7.48\n1991           3645.0       7.30  0.670       8.41\n1992           3832.0       5.13  0.708       5.67\n1993           3879.0       1.23  0.720       1.69\n1994           4079.0       5.16  0.728       1.11\n1995           4047.0      -0.78  0.750       3.02\n1996           4193.0       3.61  0.780       4.00\n1997           6177.0      47.32  0.813       4.23\n1998           6230.0       0.86  0.820       0.86\n1999           6091.0      -2.23  0.835       1.83\n2000           6374.0       4.65  0.880       5.39\n2001           6448.0       1.16  1.130      28.41\n2002           6386.0      -0.96  0.920     -18.58\n2003           6945.0       8.75  0.980       6.52\n2004           7111.0       2.39  1.060       8.16\n2005           7478.0       5.16  1.140       7.55\n2006           7867.0       5.20  1.280      12.28\n2007           7621.0      -3.13  1.370       7.03\n2008           8058.0       5.73  1.550      13.14\n2009           8023.0      -0.43  1.660       7.10\n2010           8498.0       5.92  1.740       4.82\n2011           9020.0       6.14  1.850       6.32\n2012          10092.0      11.88  2.180      17.84\n2013          10875.0       7.76  2.460      12.84\n2014          11568.0       6.37  2.700       9.76\n2015          12090.0       4.51  2.880       6.67\n2016          12453.0       3.00  2.980       3.47\n2017          13001.0       4.40  3.060       2.68\n2018          13798.0       6.13  3.230       5.56\n2019          14652.0       6.19  3.430       6.19\n2020          14865.0       1.45  3.480       1.46\n2021          14924.0       0.40  3.490       0.29\n2022          14939.0       0.10  3.550       1.72\n2023          14941.0       0.01  3.680       3.66",
      "text/html": "<div>\n<style scoped>\n    .dataframe tbody tr th:only-of-type {\n        vertical-align: middle;\n    }\n\n    .dataframe tbody tr th {\n        vertical-align: top;\n    }\n\n    .dataframe thead th {\n        text-align: right;\n    }\n</style>\n<table border=\"1\" class=\"dataframe\">\n  <thead>\n    <tr style=\"text-align: right;\">\n      <th></th>\n      <th>Dividends</th>\n      <th>DivChange</th>\n      <th>DPS</th>\n      <th>DpsChange</th>\n    </tr>\n    <tr>\n      <th>FiscalYear</th>\n      <th></th>\n      <th></th>\n      <th></th>\n      <th></th>\n    </tr>\n  </thead>\n  <tbody>\n    <tr>\n      <th>1984</th>\n      <td>0.0</td>\n      <td>NaN</td>\n      <td>0.000</td>\n      <td>NaN</td>\n    </tr>\n    <tr>\n      <th>1985</th>\n      <td>0.0</td>\n      <td>NaN</td>\n      <td>0.000</td>\n      <td>NaN</td>\n    </tr>\n    <tr>\n      <th>1986</th>\n      <td>0.0</td>\n      <td>NaN</td>\n      <td>0.450</td>\n      <td>inf</td>\n    </tr>\n    <tr>\n      <th>1987</th>\n      <td>0.0</td>\n      <td>NaN</td>\n      <td>0.475</td>\n      <td>5.56</td>\n    </tr>\n    <tr>\n      <th>1988</th>\n      <td>0.0</td>\n      <td>NaN</td>\n      <td>0.538</td>\n      <td>13.26</td>\n    </tr>\n    <tr>\n      <th>1989</th>\n      <td>3170.0</td>\n      <td>inf</td>\n      <td>0.575</td>\n      <td>6.88</td>\n    </tr>\n    <tr>\n      <th>1990</th>\n      <td>3397.0</td>\n      <td>7.16</td>\n      <td>0.618</td>\n      <td>7.48</td>\n    </tr>\n    <tr>\n      <th>1991</th>\n      <td>3645.0</td>\n      <td>7.30</td>\n      <td>0.670</td>\n      <td>8.41</td>\n    </tr>\n    <tr>\n      <th>1992</th>\n      <td>3832.0</td>\n      <td>5.13</td>\n      <td>0.708</td>\n      <td>5.67</td>\n    </tr>\n    <tr>\n      <th>1993</th>\n      <td>3879.0</td>\n      <td>1.23</td>\n      <td>0.720</td>\n      <td>1.69</td>\n    </tr>\n    <tr>\n      <th>1994</th>\n      <td>4079.0</td>\n      <td>5.16</td>\n      <td>0.728</td>\n      <td>1.11</td>\n    </tr>\n    <tr>\n      <th>1995</th>\n      <td>4047.0</td>\n      <td>-0.78</td>\n      <td>0.750</td>\n      <td>3.02</td>\n    </tr>\n    <tr>\n      <th>1996</th>\n      <td>4193.0</td>\n      <td>3.61</td>\n      <td>0.780</td>\n      <td>4.00</td>\n    </tr>\n    <tr>\n      <th>1997</th>\n      <td>6177.0</td>\n      <td>47.32</td>\n      <td>0.813</td>\n      <td>4.23</td>\n    </tr>\n    <tr>\n      <th>1998</th>\n      <td>6230.0</td>\n      <td>0.86</td>\n      <td>0.820</td>\n      <td>0.86</td>\n    </tr>\n    <tr>\n      <th>1999</th>\n      <td>6091.0</td>\n      <td>-2.23</td>\n      <td>0.835</td>\n      <td>1.83</td>\n    </tr>\n    <tr>\n      <th>2000</th>\n      <td>6374.0</td>\n      <td>4.65</td>\n      <td>0.880</td>\n      <td>5.39</td>\n    </tr>\n    <tr>\n      <th>2001</th>\n      <td>6448.0</td>\n      <td>1.16</td>\n      <td>1.130</td>\n      <td>28.41</td>\n    </tr>\n    <tr>\n      <th>2002</th>\n      <td>6386.0</td>\n      <td>-0.96</td>\n      <td>0.920</td>\n      <td>-18.58</td>\n    </tr>\n    <tr>\n      <th>2003</th>\n      <td>6945.0</td>\n      <td>8.75</td>\n      <td>0.980</td>\n      <td>6.52</td>\n    </tr>\n    <tr>\n      <th>2004</th>\n      <td>7111.0</td>\n      <td>2.39</td>\n      <td>1.060</td>\n      <td>8.16</td>\n    </tr>\n    <tr>\n      <th>2005</th>\n      <td>7478.0</td>\n      <td>5.16</td>\n      <td>1.140</td>\n      <td>7.55</td>\n    </tr>\n    <tr>\n      <th>2006</th>\n      <td>7867.0</td>\n      <td>5.20</td>\n      <td>1.280</td>\n      <td>12.28</td>\n    </tr>\n    <tr>\n      <th>2007</th>\n      <td>7621.0</td>\n      <td>-3.13</td>\n      <td>1.370</td>\n      <td>7.03</td>\n    </tr>\n    <tr>\n      <th>2008</th>\n      <td>8058.0</td>\n      <td>5.73</td>\n      <td>1.550</td>\n      <td>13.14</td>\n    </tr>\n    <tr>\n      <th>2009</th>\n      <td>8023.0</td>\n      <td>-0.43</td>\n      <td>1.660</td>\n      <td>7.10</td>\n    </tr>\n    <tr>\n      <th>2010</th>\n      <td>8498.0</td>\n      <td>5.92</td>\n      <td>1.740</td>\n      <td>4.82</td>\n    </tr>\n    <tr>\n      <th>2011</th>\n      <td>9020.0</td>\n      <td>6.14</td>\n      <td>1.850</td>\n      <td>6.32</td>\n    </tr>\n    <tr>\n      <th>2012</th>\n      <td>10092.0</td>\n      <td>11.88</td>\n      <td>2.180</td>\n      <td>17.84</td>\n    </tr>\n    <tr>\n      <th>2013</th>\n      <td>10875.0</td>\n      <td>7.76</td>\n      <td>2.460</td>\n      <td>12.84</td>\n    </tr>\n    <tr>\n      <th>2014</th>\n      <td>11568.0</td>\n      <td>6.37</td>\n      <td>2.700</td>\n      <td>9.76</td>\n    </tr>\n    <tr>\n      <th>2015</th>\n      <td>12090.0</td>\n      <td>4.51</td>\n      <td>2.880</td>\n      <td>6.67</td>\n    </tr>\n    <tr>\n      <th>2016</th>\n      <td>12453.0</td>\n      <td>3.00</td>\n      <td>2.980</td>\n      <td>3.47</td>\n    </tr>\n    <tr>\n      <th>2017</th>\n      <td>13001.0</td>\n      <td>4.40</td>\n      <td>3.060</td>\n      <td>2.68</td>\n    </tr>\n    <tr>\n      <th>2018</th>\n      <td>13798.0</td>\n      <td>6.13</td>\n      <td>3.230</td>\n      <td>5.56</td>\n    </tr>\n    <tr>\n      <th>2019</th>\n      <td>14652.0</td>\n      <td>6.19</td>\n      <td>3.430</td>\n      <td>6.19</td>\n    </tr>\n    <tr>\n      <th>2020</th>\n      <td>14865.0</td>\n      <td>1.45</td>\n      <td>3.480</td>\n      <td>1.46</td>\n    </tr>\n    <tr>\n      <th>2021</th>\n      <td>14924.0</td>\n      <td>0.40</td>\n      <td>3.490</td>\n      <td>0.29</td>\n    </tr>\n    <tr>\n      <th>2022</th>\n      <td>14939.0</td>\n      <td>0.10</td>\n      <td>3.550</td>\n      <td>1.72</td>\n    </tr>\n    <tr>\n      <th>2023</th>\n      <td>14941.0</td>\n      <td>0.01</td>\n      <td>3.680</td>\n      <td>3.66</td>\n    </tr>\n  </tbody>\n</table>\n</div>"
     },
     "execution_count": 2,
     "metadata": {},
     "output_type": "execute_result"
    }
   ],
   "source": [
    "dgro_df = pd.read_csv(Grow_Data_Fy,index_col='FiscalYear')\n",
    "dgro_ps_df = pd.read_csv(Ps_Data_Fy,index_col='FiscalYear')\n",
    "\n",
    "dgro_s = pd.Series(dgro_df['CashForDividends'].abs())\n",
    "dgro_pc_s = round(dgro_s.pct_change() * 100, 2)\n",
    "dgro_ps_s = pd.Series(dgro_ps_df['PerShareDividends'])\n",
    "dgro_ps_pc_s = round(dgro_ps_s.pct_change() * 100, 2)\n",
    "\n",
    "div_dict = {'Dividends' : dgro_s, 'DivChange' : dgro_pc_s, 'DPS' : dgro_ps_s, 'DpsChange' : dgro_ps_pc_s}\n",
    "divgro_df = pd.DataFrame(div_dict)\n",
    "\n",
    "divgro_df"
   ],
   "metadata": {
    "collapsed": false,
    "pycharm": {
     "name": "#%%\n"
    }
   }
  },
  {
   "cell_type": "code",
   "execution_count": 3,
   "outputs": [
    {
     "name": "stdout",
     "output_type": "stream",
     "text": [
      "The 10 year Average Growth of Cash Dividends: 3.26% and Dividends Per Share: 4.15%\n",
      "The 10 year Average Growth of Cash Dividends: 1.63% and Dividends Per Share: 2.66%\n",
      "The 10 year Average Growth of Cash Dividends: 0.17% and Dividends Per Share: 1.89%\n"
     ]
    }
   ],
   "source": [
    "dg10_df = divgro_df[divgro_df.index > year10]\n",
    "dg_10 = round(dg10_df['DivChange'].mean(), 2)\n",
    "dps_10 = round(dg10_df['DpsChange'].mean(), 2)\n",
    "\n",
    "dg5_df = divgro_df[divgro_df.index > year5]\n",
    "dg_5 = round(dg5_df['DivChange'].mean(), 2)\n",
    "dps_5 = round(dg5_df['DpsChange'].mean(), 2)\n",
    "\n",
    "dg3_df = divgro_df[divgro_df.index > year3]\n",
    "dg_3 = round(dg3_df['DivChange'].mean(), 2)\n",
    "dps_3 = round(dg3_df['DpsChange'].mean(), 2)\n",
    "\n",
    "print(f'The 10 year Average Growth of Cash Dividends: {dg_10}% and Dividends Per Share: {dps_10}%')\n",
    "print(f'The 10 year Average Growth of Cash Dividends: {dg_5}% and Dividends Per Share: {dps_5}%')\n",
    "print(f'The 10 year Average Growth of Cash Dividends: {dg_3}% and Dividends Per Share: {dps_3}%')"
   ],
   "metadata": {
    "collapsed": false,
    "pycharm": {
     "name": "#%%\n"
    }
   }
  },
  {
   "cell_type": "code",
   "execution_count": 3,
   "outputs": [],
   "source": [],
   "metadata": {
    "collapsed": false,
    "pycharm": {
     "name": "#%%\n"
    }
   }
  }
 ],
 "metadata": {
  "kernelspec": {
   "display_name": "Python 3",
   "language": "python",
   "name": "python3"
  },
  "language_info": {
   "codemirror_mode": {
    "name": "ipython",
    "version": 2
   },
   "file_extension": ".py",
   "mimetype": "text/x-python",
   "name": "python",
   "nbconvert_exporter": "python",
   "pygments_lexer": "ipython2",
   "version": "2.7.6"
  }
 },
 "nbformat": 4,
 "nbformat_minor": 0
}